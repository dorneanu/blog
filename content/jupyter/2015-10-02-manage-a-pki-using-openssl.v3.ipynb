{
 "metadata": {
  "kernelspec": {
   "display_name": "Python 3",
   "language": "python",
   "name": "python3"
  },
  "language_info": {
   "codemirror_mode": {
    "name": "ipython",
    "version": 3
   },
   "file_extension": ".py",
   "mimetype": "text/x-python",
   "name": "python",
   "nbconvert_exporter": "python",
   "pygments_lexer": "ipython3",
   "version": "3.5.0"
  },
  "name": ""
 },
 "nbformat": 3,
 "nbformat_minor": 0,
 "worksheets": [
  {
   "cells": [
    {
     "cell_type": "markdown",
     "metadata": {
      "code_folding": [
       2
      ]
     },
     "source": [
      "In the previous X.509 related [post](http://blog.dornea.nu/2015/05/24/validating-and-pinning-x509-certificates/) I've had a look at the internals of a X.509 certficate. This time I want to setup my own [PKI](https://en.wikipedia.org/wiki/Public_key_infrastructure) using some *open source* software. This post is a preparation for setting up a VPN using *OpenVPN*. \n",
      "\n",
      "Before implementing the PKI let's have a look what a PKI should definitely include (make sure you have a look at the [Wikipedia entry](https://en.wikipedia.org/wiki/Public_key_infrastructure)):\n",
      "\n",
      "* certificate authority (**CA**)\n",
      "    + has a public and a private key\n",
      "    + used to digitally sign *certificates*\n",
      "* registration authority (**RA**)\n",
      "    + verify identify of users requesting information from the CA\n",
      "* certificate management system\n",
      "    + probably the most important component\n",
      "    \n",
      "## Revision\n",
      "\n",
      "<table class=\"equalDevide\" cellpadding=\"0\" cellspacing=\"0\" width=\"100%\" border=\"0\">\n",
      "  <tr>\n",
      "    <th><b>Date</b></th>\n",
      "    <th><b>Description</b></th>\n",
      "  </tr>\n",
      "  <tr>\n",
      "    <td>2015-10-02</td>\n",
      "    <td>First release</td>\n",
      "  </tr>\n",
      "  <tr>\n",
      "    <td>2015-11-17</td>\n",
      "    <td>Added creation of VPN-CA and related certificates.</td>\n",
      "  </tr>\n",
      "</table>\n",
      "\n",
      "## CA types\n",
      "\n",
      "There are several [types](https://pki-tutorial.readthedocs.org/en/latest/#ca-types) of **CA**s:\n",
      "\n",
      "* root CA\n",
      "    + the *root* of the PKI hierarchy\n",
      "    + issues *CA certificates*\n",
      "* intermediate CA\n",
      "    + the CA right below the *root* CA\n",
      "    + issues *CA certificates*\n",
      "* signing CA \n",
      "    + CA at the bottom of the PKI hierarchy\n",
      "    + issues only *user certificates*\n",
      "\n",
      "## Certificates types\n",
      "\n",
      "There are several [types of certificates](https://pki-tutorial.readthedocs.org/en/latest/#certificate-types) used in real-world:\n",
      "\n",
      "* root certificate\n",
      "    + *self-signed* certificate at the root of the PKI hierarchy \n",
      "    + has to be kept *secret*\n",
      "* CA certificate\n",
      "    + used to sign other certificates and CRLs\n",
      "* user certificate\n",
      "    + end-user certificate issues for one purpose: code signing, mail protection etc.\n",
      "    + user certificates can **not** sign other certificates\n",
      "\n",
      "\n",
      "## PKI hierarchy\n",
      "\n",
      "In most modern companies you'll find a **3-tier** PKI hierarchy. \n",
      "\n"
     ]
    },
    {
     "cell_type": "code",
     "collapsed": false,
     "input": [
      "%%blockdiag\n",
      "# <!-- collapse=True -->\n",
      "blockdiag {\u2194\n",
      "\n",
      "  // Define class (list of attributes)\n",
      "  class emphasis [color = pink, style = dashed];\n",
      "  class blackline [color = black, style = dotted];\n",
      "  class blue [color = lightblue];\n",
      "\n",
      "  Root_CA [class = \"emphasis\", label = \"Root CA\"];\n",
      "  Intermediate_CA1 [class = \"blue\", label = \"Intermediate CA\"];\n",
      "  Intermediate_CA2 [class = \"blue\", label = \"Intermediate CA\"];\n",
      "  Intermediate_CA3 [class = \"blue\", label = \" ... \"];\n",
      "  Signing_CA1 [label = \"Signing CA\"];\n",
      "  Signing_CA1_0 [label = \" ... \"];\n",
      "  \n",
      "  Signing_CA2 [label = \"Signing CA\"];\n",
      "  Signing_CA2_0 [label = \" ... \"];\n",
      "  \n",
      "  Signing_CA3 [label = \"Signing CA\"];\n",
      "  Signing_CA3_0 [label = \" ... \"];\n",
      "\n",
      "  Root_CA -> Intermediate_CA1;\n",
      "  Root_CA -> Intermediate_CA2 [class = \"blackline\"];\n",
      "  Root_CA -> Intermediate_CA3 [class = \"blackline\"];\n",
      "  Intermediate_CA1 -> Signing_CA1;\n",
      "  Intermediate_CA1 -> Signing_CA1_0 [class = \"blackline\"];\n",
      "\n",
      "  Intermediate_CA2 -> Signing_CA2 [class = \"blackline\"];\n",
      "  Intermediate_CA2 -> Signing_CA2_0 [class = \"blackline\"];\n",
      "\n",
      "  Intermediate_CA3 -> Signing_CA3 [class = \"blackline\"];\n",
      "  Intermediate_CA3 -> Signing_CA3_0 [class = \"blackline\"];\n",
      "}"
     ],
     "language": "python",
     "metadata": {
      "code_folding": [
       2
      ]
     },
     "outputs": [
      {
       "metadata": {},
       "output_type": "display_data",
       "png": "[encoded data removed]"
      }
     ],
     "prompt_number": 170
    },
    {
     "cell_type": "markdown",
     "metadata": {},
     "source": [
      "For my purposes I'll be using only a **2-tier** hierarchy as shown below:"
     ]
    },
    {
     "cell_type": "code",
     "collapsed": false,
     "input": [
      "%%blockdiag\n",
      "# <!-- collapse=True -->\n",
      "blockdiag {\n",
      "  // Define orientation\n",
      "  orientation = portrait;\n",
      "\n",
      "  // Define class (list of attributes)\n",
      "  class emphasis [color = pink, style = dashed];\n",
      "  class blackline [color = black, style = dotted];\n",
      "  class blue [color = lightblue];\n",
      "\n",
      "  Root_CA [class = \"emphasis\", label = \"Root CA\"];\n",
      "  Signing_CA1 [label = \"Signing CA\"];\n",
      "  Signing_CA2 [label = \"Signing CA\"];\n",
      "  Signing_CA3 [label = \"Signing CA\"];\n",
      "\n",
      "  Root_CA -> Signing_CA1;\n",
      "  Root_CA -> Signing_CA2;\n",
      "  Root_CA -> Signing_CA3;\n",
      "}"
     ],
     "language": "python",
     "metadata": {
      "code_folding": []
     },
     "outputs": [
      {
       "metadata": {},
       "output_type": "display_data",
       "png": "[encoded data removed]"
      }
     ],
     "prompt_number": 5
    },
    {
     "cell_type": "markdown",
     "metadata": {
      "code_folding": [
       1
      ]
     },
     "source": [
      "The level of security is increased because you separate the root CA from the issuing CAs. The root CA is mostly offline so the private key to sign the certificates should be thus protected from compromise. If one of the *issuing CAs* is being compromised, you can *revoke* the certificate issued for that specific CA and create another one using the *root CA*. You can also have multiple issuing CAs distributed geographically and with different security levels. This increases *flexibility* and *scalability*. \n",
      "\n",
      "> Also checkout this [awesome article](http://blogs.technet.com/b/askds/archive/2009/09/01/designing-and-implementing-a-pki-part-i-design-and-planning.aspx) for further details.\n",
      "\n",
      "### dornea.nu PKI hierarchy\n",
      "\n",
      "And now let's make this whole hierarchy more personalized:\n",
      "\n"
     ]
    },
    {
     "cell_type": "code",
     "collapsed": false,
     "input": [
      "%%blockdiag\n",
      "# <!-- collapse=True -->\n",
      "blockdiag {\n",
      "  // Define orientation\n",
      "  orientation = portrait;\n",
      "\n",
      "  // Define class (list of attributes)\n",
      "  class emphasis [color = pink, style = dashed];\n",
      "  class blackline [color = black, style = dotted];\n",
      "  class blue [color = lightblue];\n",
      "  class inactive [color = lightgrey];\n",
      "\n",
      "  Root_CA [class = \"emphasis\", label = \"dornea.nu root CA\"];\n",
      "  Signing_CA2 [label = \"dev.dornea.nu CA\"];\n",
      "  Signing_CA3 [label = \"vpn.dornea.nu CA\"];\n",
      "  TLS_Server_CA [label = \"TLS Server Cert\", shape = flowchart.terminator, style = dotted];\n",
      "  TLS_Client_CA [label = \"TLS Client Cert\", shape = flowchart.terminator, style = dotted];\n",
      "  VPN_Server_CA [class = inactive, label = \"VPN Server Cert\", shape = flowchart.terminator, style = dotted];\n",
      "  VPN_Client_CA [class = inactive, label = \"VPN Client Cert\", shape = flowchart.terminator, style = dotted];\n",
      "\n",
      "  Root_CA -> Signing_CA2 [label = \"issues\"];\n",
      "  Root_CA -> Signing_CA3;\n",
      "\n",
      "  Signing_CA2 -> TLS_Server_CA [label = \"issues\"];\n",
      "  Signing_CA2 -> TLS_Client_CA;\n",
      "    \n",
      "  Signing_CA3 -> VPN_Server_CA [label = \"issues\"];\n",
      "  Signing_CA3 -> VPN_Client_CA;\n",
      "}"
     ],
     "language": "python",
     "metadata": {
      "code_folding": []
     },
     "outputs": [
      {
       "metadata": {},
       "output_type": "display_data",
       "png": "[encoded data removed]"
      }
     ],
     "prompt_number": 13
    },
    {
     "cell_type": "markdown",
     "metadata": {
      "code_folding": []
     },
     "source": [
      "We'll have a **root CA** bound to the domain `dornea.nu` followed by 2 intermediate CAs: **dev.dornea.nu CA** and **vpn.dornea.nu CA**. The CAs will be used to issue certificates to *users* and *networks*.\n",
      "\n",
      "The **TLS Server CA** will be used by a web server like Apache or Nginx to server content over a SSL/TLS connection. The server will only accept connection from clients with a valid **TLS Client CA** which has been signed (and generated) from **dev.dornea.nu CA**. \n",
      "\n",
      "The **vpn.dornea.nu CA** will then issue certificates for a **VPN Server CA** and a **VPN Client CA**. \n",
      "\n",
      "> In this post the creation of the *VPN Server CA* and *VPN Client CA* will be ommitted. I'll cover this in a related post. "
     ]
    },
    {
     "cell_type": "markdown",
     "metadata": {
      "code_folding": []
     },
     "source": [
      "## OpenSSL\n",
      "\n",
      "[OpenSSL](https://www.openssl.org) is probably the most known cryptography software and SSL/TLS toolkit. Let's have look how things are done using OpenSSL. First of all I'll setup a directory structure to represent each of the PKI component in a clean way."
     ]
    },
    {
     "cell_type": "code",
     "collapsed": false,
     "input": [
      "%%bash\u2194\n"
     ],
     "language": "python",
     "metadata": {
      "code_folding": [
       0
      ]
     },
     "outputs": [],
     "prompt_number": 1
    },
    {
     "cell_type": "markdown",
     "metadata": {},
     "source": [
      "Initialize and create cert database:"
     ]
    },
    {
     "cell_type": "code",
     "collapsed": true,
     "input": [
      "%%bash\n",
      "cd /tmp/pki\n",
      "touch ca/root-ca/db/root-ca.db\n",
      "touch ca/root-ca/db/root-ca.db.attr\n",
      "echo 01 > ca/root-ca/db/root-ca.crt.srl\n",
      "echo 01 > ca/root-ca/db/root-ca.crl.srl"
     ],
     "language": "python",
     "metadata": {},
     "outputs": [],
     "prompt_number": 2
    },
    {
     "cell_type": "code",
     "collapsed": false,
     "input": [
      "%%bash\n",
      "tree /tmp/pki"
     ],
     "language": "python",
     "metadata": {},
     "outputs": [
      {
       "output_type": "stream",
       "stream": "stdout",
       "text": [
        "/tmp/pki\n",
        "\u2514\u2500\u2500 ca\n",
        "    \u251c\u2500\u2500 conf\n",
        "    \u2514\u2500\u2500 root-ca\n",
        "        \u251c\u2500\u2500 certs\n",
        "        \u251c\u2500\u2500 crl\n",
        "        \u251c\u2500\u2500 db\n",
        "        \u2502\u00a0\u00a0 \u251c\u2500\u2500 root-ca.crl.srl\n",
        "        \u2502\u00a0\u00a0 \u251c\u2500\u2500 root-ca.crt.srl\n",
        "        \u2502\u00a0\u00a0 \u251c\u2500\u2500 root-ca.db\n",
        "        \u2502\u00a0\u00a0 \u2514\u2500\u2500 root-ca.db.attr\n",
        "        \u2514\u2500\u2500 private\n",
        "\n",
        "7 directories, 4 files\n"
       ]
      }
     ],
     "prompt_number": 3
    },
    {
     "cell_type": "markdown",
     "metadata": {
      "code_folding": [
       2
      ]
     },
     "source": [
      "In order to create the certificates I'll keep track of every CA using OpenSSL **configuration files**. \n",
      "\n",
      "\n",
      "\n",
      "### Sub-commands\n",
      "\n",
      "Below there is an overview of the most used *subcommands* in openssl:\n",
      "\n",
      "<table class=\"equalDevide\" cellpadding=\"0\" cellspacing=\"0\" width=\"100%\" border=\"0\">\n",
      "  <tr>\n",
      "    <th class=\"tg-yw4l\">Subcommand</th>\n",
      "    <th class=\"tg-yw4l\">Description</th>\n",
      "    <th>Details</th>\n",
      "  </tr>\n",
      "  <tr>\n",
      "    <td class=\"tg-yw4l\">req</td>\n",
      "    <td class=\"tg-yw4l\">PKCS#10 X.509 Certificate Signing Request (CSR) Management</td>\n",
      "    <td>The req command primarily creates and processes certificate requests in PKCS#10 format. It can additionally create self signed certificates for use as root CAs for example.</td>\n",
      "  </tr>\n",
      "  <tr>\n",
      "    <td class=\"tg-yw4l\">ca</td>\n",
      "    <td class=\"tg-yw4l\">Certificate Authority (CA) Management</td>\n",
      "    <td>It can be used to sign certificate requests in a variety of forms and generate CRLs it also maintains a text database of issued certificates and their status.</td>\n",
      "  </tr>\n",
      "  <tr>\n",
      "    <td class=\"tg-yw4l\">pkcs12</td>\n",
      "    <td class=\"tg-yw4l\">PKCS#12 Data Management</td>\n",
      "    <td>The pkcs12 command allows PKCS#12 files (sometimes referred to as PFX files) to be created and parsed. PKCS#12 files are used by several programs including Netscape, MSIE and MS Outlook.</td>\n",
      "  </tr>\n",
      "  <tr>\n",
      "    <td class=\"tg-yw4l\">x509</td>\n",
      "    <td class=\"tg-yw4l\">X.509 Certificate Data Management</td>\n",
      "    <td>It can be used to display certificate information, convert certificates to various forms, sign certificate requests like a \"mini CA\" or edit certificate trust settings.</td>\n",
      "  </tr>\n",
      "</table>"
     ]
    },
    {
     "cell_type": "heading",
     "level": 3,
     "metadata": {
      "code_folding": [
       0
      ]
     },
     "source": [
      "Create dornea.nu root CA"
     ]
    },
    {
     "cell_type": "code",
     "collapsed": false,
     "input": [
      "%%blockdiag\n",
      "# <!-- collapse=True -->\n",
      "blockdiag {\n",
      "  // Define orientation\n",
      "  orientation = portrait;\n",
      "\n",
      "  // Define class (list of attributes)\n",
      "  class emphasis [color = pink, style = dashed];\n",
      "  class blackline [color = black, style = dotted];\n",
      "  class blue [color = lightblue];\n",
      "  class active [color = lightgreen];\n",
      "  class inactive [color = lightgrey];  \n",
      "\n",
      "  Root_CA [class = active, label = \"dornea.nu root CA\"];\n",
      "  Signing_CA2 [label = \"dev.dornea.nu CA\"];\n",
      "  Signing_CA3 [class = inactive, label = \"vpn.dornea.nu CA\"];\n",
      "  TLS_Server_CA [label = \"TLS Server Cert\", shape = flowchart.terminator, style = dotted];\n",
      "  TLS_Client_CA [label = \"TLS Client Cert\", shape = flowchart.terminator, style = dotted];\n",
      "  VPN_Server_CA [class = inactive, label = \"VPN Server Cert\", shape = flowchart.terminator, style = dotted];\n",
      "  VPN_Client_CA [class = inactive, label = \"VPN Client Cert\", shape = flowchart.terminator, style = dotted];\n",
      "\n",
      "  Root_CA -> Signing_CA2;\n",
      "  Root_CA -> Signing_CA3;\n",
      "\n",
      "  Signing_CA2 -> TLS_Server_CA;\n",
      "  Signing_CA2 -> TLS_Client_CA;\n",
      "    \n",
      "  Signing_CA3 -> VPN_Server_CA;\n",
      "  Signing_CA3 -> VPN_Client_CA;\n",
      "}"
     ],
     "language": "python",
     "metadata": {
      "code_folding": []
     },
     "outputs": [
      {
       "metadata": {},
       "output_type": "display_data",
       "png": "[encoded data removed]"
      }
     ],
     "prompt_number": 14
    },
    {
     "cell_type": "markdown",
     "metadata": {
      "code_folding": [
       2
      ]
     },
     "source": [
      "The configuration file can be shown here:"
     ]
    },
    {
     "cell_type": "code",
     "collapsed": false,
     "input": [
      "%%writefile /tmp/pki/ca/conf/root-ca.conf\n",
      "# <!-- collapse=True -->\n",
      "\n",
      "# dornea.nu Root CA\n",
      "# Adapted from https://pki-tutorial.readthedocs.org/en/latest/expert/root-ca.conf.html\n",
      "\n",
      "[ default ]\n",
      "ca                      = root-ca               # CA name\n",
      "dir                     = .                     # Top dir\n",
      "base_url                = http://pki.dornea.nu  # CA base URL\n",
      "aia_url                 = $base_url/$ca.cer     # CA certificate URL\n",
      "crl_url                 = $base_url/$ca.crl     # CRL distribution point\n",
      "name_opt                = multiline,-esc_msb,utf8 # Display UTF-8 characters\n",
      "openssl_conf            = openssl_init          # Library config section\n",
      "\n",
      "# CA certificate request\n",
      "\n",
      "[ req ]\n",
      "default_bits            = 4096                  # RSA key size\n",
      "encrypt_key             = yes                   # Protect private key\n",
      "default_md              = sha2                  # MD to use\n",
      "utf8                    = yes                   # Input is UTF-8\n",
      "string_mask             = utf8only              # Emit UTF-8 strings\n",
      "prompt                  = no                    # Don't prompt for DN\n",
      "distinguished_name      = ca_dn                 # DN section\n",
      "req_extensions          = ca_reqext             # Desired extensions\n",
      "\n",
      "[ ca_dn ]\n",
      "countryName             = \"NU\"\n",
      "organizationName        = \"dornea.nu\"\n",
      "organizationalUnitName  = \"dornea.nu Root CA\"\n",
      "commonName              = \"dornea.nu Root CA\"\n",
      "\n",
      "[ ca_reqext ]\n",
      "keyUsage                = critical,keyCertSign,cRLSign\n",
      "basicConstraints        = critical,CA:true\n",
      "subjectKeyIdentifier    = hash\n",
      "\n",
      "# CA operational settings\n",
      "\n",
      "[ ca ]\n",
      "default_ca              = root_ca               # The default CA section\n",
      "\n",
      "[ root_ca ]\n",
      "certificate             = $dir/ca/$ca/$ca.crt       # The CA cert\n",
      "private_key             = $dir/ca/$ca/private/$ca.key # CA private key\n",
      "new_certs_dir           = $dir/ca/$ca           # Certificate archive\n",
      "serial                  = $dir/ca/$ca/db/$ca.crt.srl # Serial number file\n",
      "crlnumber               = $dir/ca/$ca/db/$ca.crl.srl # CRL number file\n",
      "database                = $dir/ca/$ca/db/$ca.db # Index file\n",
      "unique_subject          = no                    # Require unique subject\n",
      "default_days            = 3652                  # How long to certify for\n",
      "default_md              = sha1                  # MD to use\n",
      "policy                  = match_pol             # Default naming policy\n",
      "email_in_dn             = no                    # Add email to cert DN\n",
      "preserve                = no                    # Keep passed DN ordering\n",
      "name_opt                = $name_opt             # Subject DN display options\n",
      "cert_opt                = ca_default            # Certificate display options\n",
      "copy_extensions         = none                  # Copy extensions from CSR\n",
      "x509_extensions         = signing_ca_ext        # Default cert extensions\n",
      "default_crl_days        = 30                    # How long before next CRL\n",
      "crl_extensions          = crl_ext               # CRL extensions\n",
      "\n",
      "[ match_pol ]\n",
      "countryName             = match\n",
      "stateOrProvinceName     = optional\n",
      "localityName            = optional\n",
      "organizationName        = match\n",
      "organizationalUnitName  = optional\n",
      "commonName              = supplied\n",
      "\n",
      "[ any_pol ]\n",
      "domainComponent         = optional\n",
      "countryName             = optional\n",
      "stateOrProvinceName     = optional\n",
      "localityName            = optional\n",
      "organizationName        = optional\n",
      "organizationalUnitName  = optional\n",
      "commonName              = optional\n",
      "emailAddress            = optional\n",
      "\n",
      "# Extensions\n",
      "\n",
      "[ root_ca_ext ]\n",
      "keyUsage                = critical,keyCertSign,cRLSign\n",
      "basicConstraints        = critical,CA:true\n",
      "subjectKeyIdentifier    = hash\n",
      "authorityKeyIdentifier  = keyid:always\n",
      "\n",
      "[ signing_ca_ext ]\n",
      "keyUsage                = critical,keyCertSign,cRLSign\n",
      "basicConstraints        = critical,CA:true,pathlen:0\n",
      "subjectKeyIdentifier    = hash\n",
      "authorityKeyIdentifier  = keyid:always\n",
      "authorityInfoAccess     = @issuer_info\n",
      "crlDistributionPoints   = @crl_info\n",
      "\n",
      "[ crl_ext ]\n",
      "authorityKeyIdentifier  = keyid:always\n",
      "authorityInfoAccess     = @issuer_info\n",
      "\n",
      "[ issuer_info ]\n",
      "caIssuers;URI.0         = $aia_url\n",
      "\n",
      "[ crl_info ]\n",
      "URI.0                   = $crl_url\n",
      "\n",
      "# Policy OIDs\n",
      "\n",
      "[ openssl_init ]\n",
      "oid_section             = additional_oids\n",
      "\n",
      "[ additional_oids ]\n"
     ],
     "language": "python",
     "metadata": {
      "code_folding": []
     },
     "outputs": [
      {
       "output_type": "stream",
       "stream": "stdout",
       "text": [
        "Writing /tmp/pki/ca/conf/root-ca.conf\n"
       ]
      }
     ],
     "prompt_number": 4
    },
    {
     "cell_type": "markdown",
     "metadata": {
      "code_folding": []
     },
     "source": [
      "Now let's create the **CA request**. The configuration for the creation of the **CSR** if found in the *configuration* file in the section `[req]`:\n",
      "\n",
      "~~~.bash\n",
      "$ cd /tmp/pki\n",
      "$ openssl req -new \\\n",
      "            -config ca/conf/root-ca.conf \\\n",
      "            -out ca/root-ca/root-ca.csr \\\n",
      "            -keyout ca/root-ca/private/root-ca.key\n",
      "            \n",
      "Generating a 4096 bit RSA private key\n",
      ".......................................++\n",
      "............................++\n",
      "writing new private key to 'ca/root-ca/private/root-ca.key'\n",
      "Enter PEM pass phrase:\n",
      "Verifying - Enter PEM pass phrase:\n",
      "-----\n",
      "~~~"
     ]
    },
    {
     "cell_type": "markdown",
     "metadata": {
      "code_folding": [
       0
      ]
     },
     "source": [
      "Now create the **CA certificate** (will be valid for 10 years):\n",
      "\n",
      "~~~.bash\n",
      "$ cd /tmp/pki\n",
      "$ openssl ca -selfsign \\\n",
      "           -config ca/conf/root-ca.conf \\\n",
      "           -in ca/root-ca/root-ca.csr \\\n",
      "           -out ca/root-ca/root-ca.crt \\\n",
      "           -extensions root_ca_ext \\\n",
      "           -days 3650\n",
      "           \n",
      "Using configuration from ca/conf/root-ca.conf\n",
      "Enter pass phrase for ./ca/root-ca/private/root-ca.key:\n",
      "Check that the request matches the signature\n",
      "Signature ok\n",
      "Certificate Details:\n",
      "        Serial Number: 1 (0x1)\n",
      "        Validity\n",
      "            Not Before: Sep 28 17:37:10 2015 GMT\n",
      "            Not After : Sep 25 17:37:10 2025 GMT\n",
      "        Subject:\n",
      "            countryName               = NU\n",
      "            organizationName          = dornea.nu\n",
      "            organizationalUnitName    = dornea.nu Root CA\n",
      "            commonName                = dornea.nu Root CA\n",
      "        X509v3 extensions:\n",
      "            X509v3 Key Usage: critical\n",
      "                Certificate Sign, CRL Sign\n",
      "            X509v3 Basic Constraints: critical\n",
      "                CA:TRUE\n",
      "            X509v3 Subject Key Identifier: \n",
      "                72:39:A1:56:5E:9D:09:ED:8D:DE:31:9E:80:9B:C4:5D:62:3B:64:66\n",
      "            X509v3 Authority Key Identifier: \n",
      "                keyid:72:39:A1:56:5E:9D:09:ED:8D:DE:31:9E:80:9B:C4:5D:62:3B:64:66\n",
      "\n",
      "Certificate is to be certified until Sep 25 17:37:10 2025 GMT (3650 days)\n",
      "Sign the certificate? [y/n]:Y\n",
      "\n",
      "\n",
      "1 out of 1 certificate requests certified, commit? [y/n]y\n",
      "Write out database with 1 new entries\n",
      "Data Base Updated\n",
      "          \n",
      "~~~\n",
      "\n",
      "Now you can check the **status** of the previously generated certificate (serial number = **1**):\n",
      "\n",
      "~~~.bash\n",
      "$ openssl -config ca/conf/root-ca.conf -status 01\n",
      "Using configuration from ca/conf/root-ca.conf\n",
      "01=Valid (V)\n",
      "~~~"
     ]
    },
    {
     "cell_type": "heading",
     "level": 3,
     "metadata": {},
     "source": [
      "Create dev.dornea.nu CA"
     ]
    },
    {
     "cell_type": "code",
     "collapsed": false,
     "input": [
      "%%blockdiag\n",
      "# <!-- collapse=True -->\n",
      "blockdiag {\n",
      "  // Define orientation\n",
      "  orientation = portrait;\n",
      "\n",
      "  // Define class (list of attributes)\n",
      "  class emphasis [color = pink, style = dashed];\n",
      "  class blackline [color = black, style = dotted];\n",
      "  class blue [color = lightblue];\n",
      "  class active [color = lightgreen];\n",
      "  class inactive [color = lightgrey];    \n",
      "\n",
      "  Root_CA [label = \"dornea.nu root CA\"];\n",
      "  Signing_CA2 [class = active, label = \"dev.dornea.nu CA\"];\n",
      "  Signing_CA3 [label = \"vpn.dornea.nu CA\"];\n",
      "  TLS_Server_CA [label = \"TLS Server Cert\", shape = flowchart.terminator, style = dotted];\n",
      "  TLS_Client_CA [label = \"TLS Client Cert\", shape = flowchart.terminator, style = dotted];\n",
      "  VPN_Server_CA [class = inactive, label = \"VPN Server Cert\", shape = flowchart.terminator, style = dotted];\n",
      "  VPN_Client_CA [class = inactive, label = \"VPN Client Cert\", shape = flowchart.terminator, style = dotted];\n",
      "\n",
      "  Root_CA -> Signing_CA2;\n",
      "  Root_CA -> Signing_CA3;\n",
      "\n",
      "  Signing_CA2 -> TLS_Server_CA;\n",
      "  Signing_CA2 -> TLS_Client_CA;\n",
      "    \n",
      "  Signing_CA3 -> VPN_Server_CA;\n",
      "  Signing_CA3 -> VPN_Client_CA;\n",
      "}"
     ],
     "language": "python",
     "metadata": {
      "code_folding": []
     },
     "outputs": [
      {
       "metadata": {},
       "output_type": "display_data",
       "png": "[encoded data removed]"
      }
     ],
     "prompt_number": 15
    },
    {
     "cell_type": "markdown",
     "metadata": {
      "code_folding": []
     },
     "source": [
      "Create the directories:"
     ]
    },
    {
     "cell_type": "code",
     "collapsed": true,
     "input": [
      "%%bash\u2194\n"
     ],
     "language": "python",
     "metadata": {
      "code_folding": [
       0
      ]
     },
     "outputs": [],
     "prompt_number": 5
    },
    {
     "cell_type": "markdown",
     "metadata": {},
     "source": [
      "Initialize the database:"
     ]
    },
    {
     "cell_type": "code",
     "collapsed": true,
     "input": [
      "%%bash\n",
      "cd /tmp/pki\n",
      "touch ca/dev-ca/db/dev-ca.db\n",
      "touch ca/dev-ca/db/dev-ca.db.attr\n",
      "echo 01 > ca/dev-ca/db/dev-ca.crt.srl\n",
      "echo 01 > ca/dev-ca/db/dev-ca.crl.srl"
     ],
     "language": "python",
     "metadata": {},
     "outputs": [],
     "prompt_number": 6
    },
    {
     "cell_type": "markdown",
     "metadata": {},
     "source": [
      "Configure the CA:"
     ]
    },
    {
     "cell_type": "code",
     "collapsed": false,
     "input": [
      "%%writefile /tmp/pki/ca/conf/dev-ca.conf\n",
      "# <!-- collapse=True -->\n",
      "\n",
      "# dev.dornea.nu CA\n",
      "# Adapated from https://pki-tutorial.readthedocs.org/en/latest/advanced/tls-ca.conf.html\n",
      "\n",
      "[ default ]\n",
      "ca                      = dev-ca                # CA name\n",
      "dir                     = .                     # Top dir\n",
      "base_url                = http://dev.dornea.nu/ca    # CA base URL\n",
      "aia_url                 = $base_url/$ca.cer     # CA certificate URL\n",
      "crl_url                 = $base_url/$ca.crl     # CRL distribution point\n",
      "name_opt                = multiline,-esc_msb,utf8 # Display UTF-8 characters\n",
      "\n",
      "# CA certificate request\n",
      "\n",
      "[ req ]\n",
      "default_bits            = 4096                  # RSA key size\n",
      "encrypt_key             = yes                   # Protect private key\n",
      "default_md              = sha2                  # MD to use\n",
      "utf8                    = yes                   # Input is UTF-8\n",
      "string_mask             = utf8only              # Emit UTF-8 strings\n",
      "prompt                  = no                    # Don't prompt for DN\n",
      "distinguished_name      = ca_dn                 # DN section\n",
      "req_extensions          = ca_reqext             # Desired extensions\n",
      "\n",
      "[ ca_dn ]\n",
      "countryName             = \"NU\"\n",
      "organizationName        = \"dornea.nu\"\n",
      "organizationalUnitName  = \"dornea.nu Root CA\"\n",
      "commonName              = \"dev.dornea.nu CA\"\n",
      "\n",
      "[ ca_reqext ]\n",
      "keyUsage                = critical,keyCertSign,cRLSign\n",
      "basicConstraints        = critical,CA:true,pathlen:0\n",
      "subjectKeyIdentifier    = hash\n",
      "\n",
      "# CA operational settings\n",
      "\n",
      "[ ca ]\n",
      "default_ca              = dev_ca                # The default CA section\n",
      "\n",
      "[ dev_ca ]\n",
      "certificate             = $dir/ca/$ca/$ca.crt       # The CA cert\n",
      "private_key             = $dir/ca/$ca/private/$ca.key # CA private key\n",
      "new_certs_dir           = $dir/ca/$ca           # Certificate archive\n",
      "serial                  = $dir/ca/$ca/db/$ca.crt.srl # Serial number file\n",
      "crlnumber               = $dir/ca/$ca/db/$ca.crl.srl # CRL number file\n",
      "database                = $dir/ca/$ca/db/$ca.db # Index file\n",
      "unique_subject          = no                    # Require unique subject\n",
      "default_days            = 365                   # How long to certify for\n",
      "default_md              = sha256                # MD to use\n",
      "policy                  = match_pol             # Default naming policy\n",
      "email_in_dn             = no                    # Add email to cert DN\n",
      "preserve                = no                    # Keep passed DN ordering\n",
      "name_opt                = $name_opt             # Subject DN display options\n",
      "cert_opt                = ca_default            # Certificate display options\n",
      "copy_extensions         = copy                  # Copy extensions from CSR\n",
      "x509_extensions         = server_ext            # Default cert extensions\n",
      "default_crl_days        = 1                     # How long before next CRL\n",
      "crl_extensions          = crl_ext               # CRL extensions\n",
      "\n",
      "[ match_pol ]\n",
      "countryName             = match                 # Must match 'NO'\n",
      "stateOrProvinceName     = optional              # Included if present\n",
      "localityName            = optional              # Included if present\n",
      "organizationName        = match                 # Must match 'Green AS'\n",
      "organizationalUnitName  = optional              # Included if present\n",
      "commonName              = supplied              # Must be present\n",
      "\n",
      "[ extern_pol ]\n",
      "countryName             = supplied              # Must be present\n",
      "stateOrProvinceName     = optional              # Included if present\n",
      "localityName            = optional              # Included if present\n",
      "organizationName        = supplied              # Must be present\n",
      "organizationalUnitName  = optional              # Included if present\n",
      "commonName              = supplied              # Must be present\n",
      "\n",
      "[ any_pol ]\n",
      "domainComponent         = optional\n",
      "countryName             = optional\n",
      "stateOrProvinceName     = optional\n",
      "localityName            = optional\n",
      "organizationName        = optional\n",
      "organizationalUnitName  = optional\n",
      "commonName              = optional\n",
      "emailAddress            = optional\n",
      "\n",
      "# Extensions\n",
      "\n",
      "[ server_ext ]\n",
      "keyUsage                = critical,digitalSignature,keyEncipherment\n",
      "basicConstraints        = CA:false\n",
      "extendedKeyUsage        = serverAuth,clientAuth\n",
      "subjectKeyIdentifier    = hash\n",
      "authorityKeyIdentifier  = keyid:always\n",
      "authorityInfoAccess     = @issuer_info\n",
      "crlDistributionPoints   = @crl_info\n",
      "\n",
      "[ client_ext ]\n",
      "keyUsage                = critical,digitalSignature\n",
      "basicConstraints        = CA:false\n",
      "extendedKeyUsage        = clientAuth\n",
      "subjectKeyIdentifier    = hash\n",
      "authorityKeyIdentifier  = keyid:always\n",
      "authorityInfoAccess     = @issuer_info\n",
      "crlDistributionPoints   = @crl_info\n",
      "\n",
      "[ crl_ext ]\n",
      "authorityKeyIdentifier  = keyid:always\n",
      "authorityInfoAccess     = @issuer_info\n",
      "\n",
      "[ issuer_info ]\n",
      "caIssuers;URI.0         = $aia_url\n",
      "\n",
      "[ crl_info ]\n",
      "URI.0                   = $crl_url\n"
     ],
     "language": "python",
     "metadata": {
      "code_folding": []
     },
     "outputs": [
      {
       "output_type": "stream",
       "stream": "stdout",
       "text": [
        "Writing /tmp/pki/ca/conf/dev-ca.conf\n"
       ]
      }
     ],
     "prompt_number": 7
    },
    {
     "cell_type": "markdown",
     "metadata": {
      "code_folding": []
     },
     "source": [
      "Create **CA signing request** (CSR):\n",
      "    \n",
      "~~~.bash\n",
      "$ cd /tmp/pki\n",
      "$ openssl req -new \\\n",
      "            -config ca/conf/dev-ca.conf \\\n",
      "            -out ca/dev-ca/dev-ca.csr \\\n",
      "            -keyout ca/dev-ca/private/dev-ca.key\n",
      "            \n",
      "Generating a 4096 bit RSA private key\n",
      ".............++\n",
      "..........................................................................++\n",
      "writing new private key to 'ca/dev-ca/private/dev-ca.key'\n",
      "Enter PEM pass phrase:\n",
      "Verifying - Enter PEM pass phrase:\n",
      "-----\n",
      "\n",
      "~~~"
     ]
    },
    {
     "cell_type": "markdown",
     "metadata": {},
     "source": [
      "Now we use the **root CA** to create the **dev-ca** certificate:\n",
      "\n",
      "~~~.bash\n",
      "$ cd /tmp/pki\n",
      "$ openssl ca -config ca/conf/root-ca.conf \\\n",
      "           -in ca/dev-ca/dev-ca.csr \\       \n",
      "           -out ca/dev-ca/dev-ca.crt \\\n",
      "           -extensions signing_ca_ext\n",
      "           \n",
      "Using configuration from ca/conf/root-ca.conf\n",
      "Enter pass phrase for ./ca/root-ca/private/root-ca.key:\n",
      "Check that the request matches the signature\n",
      "Signature ok\n",
      "Certificate Details:\n",
      "        Serial Number: 2 (0x2)\n",
      "        Validity\n",
      "            Not Before: Sep 28 18:13:56 2015 GMT\n",
      "            Not After : Sep 27 18:13:56 2025 GMT\n",
      "        Subject:\n",
      "            countryName               = NU\n",
      "            organizationName          = dornea.nu\n",
      "            organizationalUnitName    = dornea.nu Root CA\n",
      "            commonName                = dev.dornea.nu CA\n",
      "        X509v3 extensions:\n",
      "            X509v3 Key Usage: critical\n",
      "                Certificate Sign, CRL Sign\n",
      "            X509v3 Basic Constraints: critical\n",
      "                CA:TRUE, pathlen:0\n",
      "            X509v3 Subject Key Identifier: \n",
      "                1A:42:33:7A:18:93:91:5F:B1:92:AA:37:39:76:31:92:3D:A6:2C:68\n",
      "            X509v3 Authority Key Identifier: \n",
      "                keyid:B1:56:7C:FB:69:C7:77:CE:6C:7D:BA:CF:C7:7D:0C:6A:24:AF:8A:A1\n",
      "\n",
      "            Authority Information Access: \n",
      "                CA Issuers - URI:http://pki.dornea.nu/root-ca.cer\n",
      "\n",
      "            X509v3 CRL Distribution Points: \n",
      "\n",
      "                Full Name:\n",
      "                  URI:http://pki.dornea.nu/root-ca.crl\n",
      "\n",
      "Certificate is to be certified until Sep 27 18:13:56 2025 GMT (3652 days)\n",
      "Sign the certificate? [y/n]:y\n",
      "\n",
      "\n",
      "1 out of 1 certificate requests certified, commit? [y/n]y\n",
      "Write out database with 1 new entries\n",
      "Data Base Updated\n",
      "\n",
      "~~~"
     ]
    },
    {
     "cell_type": "heading",
     "level": 3,
     "metadata": {},
     "source": [
      "Create vpn.dornea.nu CA"
     ]
    },
    {
     "cell_type": "code",
     "collapsed": false,
     "input": [
      "%%blockdiag\n",
      "# <!-- collapse=True -->\n",
      "blockdiag {\n",
      "  // Define orientation\n",
      "  orientation = portrait;\n",
      "\n",
      "  // Define class (list of attributes)\n",
      "  class emphasis [color = pink, style = dashed];\n",
      "  class blackline [color = black, style = dotted];\n",
      "  class blue [color = lightblue];\n",
      "  class active [color = lightgreen];\n",
      "  class inactive [color = lightgrey]; \n",
      "\n",
      "  Root_CA [label = \"dornea.nu root CA\"];\n",
      "  Signing_CA2 [label = \"dev.dornea.nu CA\"];\n",
      "  Signing_CA3 [class = active, label = \"vpn.dornea.nu CA\"];\n",
      "  TLS_Server_CA [label = \"TLS Server Cert\", shape = flowchart.terminator, style = dotted];\n",
      "  TLS_Client_CA [label = \"TLS Client Cert\", shape = flowchart.terminator, style = dotted];\n",
      "  VPN_Server_CA [class = inactive, label = \"VPN Server Cert\", shape = flowchart.terminator, style = dotted];\n",
      "  VPN_Client_CA [class = inactive, label = \"VPN Client Cert\", shape = flowchart.terminator, style = dotted];\n",
      "\n",
      "  Root_CA -> Signing_CA2;\n",
      "  Root_CA -> Signing_CA3;\n",
      "\n",
      "  Signing_CA2 -> TLS_Server_CA;\n",
      "  Signing_CA2 -> TLS_Client_CA;\n",
      "    \n",
      "  Signing_CA3 -> VPN_Server_CA;\n",
      "  Signing_CA3 -> VPN_Client_CA;\n",
      "}"
     ],
     "language": "python",
     "metadata": {
      "code_folding": []
     },
     "outputs": [
      {
       "metadata": {},
       "output_type": "display_data",
       "png": "[encoded data removed]"
      }
     ],
     "prompt_number": 4
    },
    {
     "cell_type": "markdown",
     "metadata": {
      "code_folding": [
       2
      ]
     },
     "source": [
      "Create the directories:"
     ]
    },
    {
     "cell_type": "code",
     "collapsed": true,
     "input": [
      "%%bash\n",
      "cd /tmp/pki\n",
      "mkdir -p ca/vpn-ca/ ca/vpn-ca/private ca/vpn-ca/db ca/vpn-ca/certs"
     ],
     "language": "python",
     "metadata": {},
     "outputs": [],
     "prompt_number": 8
    },
    {
     "cell_type": "markdown",
     "metadata": {},
     "source": [
      "Initialize the database:"
     ]
    },
    {
     "cell_type": "code",
     "collapsed": true,
     "input": [
      "%%bash\n",
      "cd /tmp/pki\n",
      "touch ca/vpn-ca/db/vpn-ca.db\n",
      "touch ca/vpn-ca/db/vpn-ca.db.attr\n",
      "echo 01 > ca/vpn-ca/db/vpn-ca.crt.srl\n",
      "echo 01 > ca/vpn-ca/db/vpn-ca.crl.srl"
     ],
     "language": "python",
     "metadata": {
      "code_folding": []
     },
     "outputs": [],
     "prompt_number": 9
    },
    {
     "cell_type": "markdown",
     "metadata": {},
     "source": [
      "Configure CA:"
     ]
    },
    {
     "cell_type": "code",
     "collapsed": false,
     "input": [
      "%%writefile /tmp/pki/ca/conf/vpn-ca.conf\n",
      "# <!-- collapse=True -->\n",
      "\n",
      "# vpn.dornea.nu CA\n",
      "# Adapated from https://pki-tutorial.readthedocs.org/en/latest/advanced/tls-ca.conf.html\n",
      "\n",
      "[ default ]\n",
      "ca                      = vpn-ca                # CA name\n",
      "dir                     = .                     # Top dir\n",
      "base_url                = http://vpn.dornea.nu/ca    # CA base URL\n",
      "aia_url                 = $base_url/$ca.cer     # CA certificate URL\n",
      "crl_url                 = $base_url/$ca.crl     # CRL distribution point\n",
      "name_opt                = multiline,-esc_msb,utf8 # Display UTF-8 characters\n",
      "\n",
      "# CA certificate request\n",
      "\n",
      "[ req ]\n",
      "default_bits            = 4096                  # RSA key size\n",
      "encrypt_key             = yes                   # Protect private key\n",
      "default_md              = sha2                  # MD to use\n",
      "utf8                    = yes                   # Input is UTF-8\n",
      "string_mask             = utf8only              # Emit UTF-8 strings\n",
      "prompt                  = no                    # Don't prompt for DN\n",
      "distinguished_name      = ca_dn                 # DN section\n",
      "req_extensions          = ca_reqext             # Desired extensions\n",
      "\n",
      "[ ca_dn ]\n",
      "countryName             = \"NU\"\n",
      "organizationName        = \"dornea.nu\"\n",
      "organizationalUnitName  = \"dornea.nu Root CA\"\n",
      "commonName              = \"vpn.dornea.nu CA\"\n",
      "\n",
      "[ ca_reqext ]\n",
      "keyUsage                = critical,keyCertSign,cRLSign\n",
      "basicConstraints        = critical,CA:true,pathlen:0\n",
      "subjectKeyIdentifier    = hash\n",
      "\n",
      "# CA operational settings\n",
      "\n",
      "[ ca ]\n",
      "default_ca              = vpn_ca                # The default CA section\n",
      "\n",
      "[ vpn_ca ]\n",
      "certificate             = $dir/ca/$ca/$ca.crt       # The CA cert\n",
      "private_key             = $dir/ca/$ca/private/$ca.key # CA private key\n",
      "new_certs_dir           = $dir/ca/$ca           # Certificate archive\n",
      "serial                  = $dir/ca/$ca/db/$ca.crt.srl # Serial number file\n",
      "crlnumber               = $dir/ca/$ca/db/$ca.crl.srl # CRL number file\n",
      "database                = $dir/ca/$ca/db/$ca.db # Index file\n",
      "unique_subject          = no                    # Require unique subject\n",
      "default_days            = 365                   # How long to certify for\n",
      "default_md              = sha1                  # MD to use\n",
      "policy                  = match_pol             # Default naming policy\n",
      "email_in_dn             = no                    # Add email to cert DN\n",
      "preserve                = no                    # Keep passed DN ordering\n",
      "name_opt                = $name_opt             # Subject DN display options\n",
      "cert_opt                = ca_default            # Certificate display options\n",
      "copy_extensions         = copy                  # Copy extensions from CSR\n",
      "x509_extensions         = server_ext            # Default cert extensions\n",
      "default_crl_days        = 1                     # How long before next CRL\n",
      "crl_extensions          = crl_ext               # CRL extensions\n",
      "\n",
      "[ match_pol ]\n",
      "countryName             = match                 # Must match 'NO'\n",
      "stateOrProvinceName     = optional              # Included if present\n",
      "localityName            = optional              # Included if present\n",
      "organizationName        = match                 # Must match 'Green AS'\n",
      "organizationalUnitName  = optional              # Included if present\n",
      "commonName              = supplied              # Must be present\n",
      "\n",
      "[ extern_pol ]\n",
      "countryName             = supplied              # Must be present\n",
      "stateOrProvinceName     = optional              # Included if present\n",
      "localityName            = optional              # Included if present\n",
      "organizationName        = supplied              # Must be present\n",
      "organizationalUnitName  = optional              # Included if present\n",
      "commonName              = supplied              # Must be present\n",
      "\n",
      "[ any_pol ]\n",
      "domainComponent         = optional\n",
      "countryName             = optional\n",
      "stateOrProvinceName     = optional\n",
      "localityName            = optional\n",
      "organizationName        = optional\n",
      "organizationalUnitName  = optional\n",
      "commonName              = optional\n",
      "emailAddress            = optional\n",
      "\n",
      "# Extensions\n",
      "\n",
      "[ server_ext ]\n",
      "keyUsage                = critical,digitalSignature,keyEncipherment\n",
      "basicConstraints        = CA:false\n",
      "extendedKeyUsage        = serverAuth,clientAuth\n",
      "subjectKeyIdentifier    = hash\n",
      "authorityKeyIdentifier  = keyid:always\n",
      "authorityInfoAccess     = @issuer_info\n",
      "crlDistributionPoints   = @crl_info\n",
      "\n",
      "[ client_ext ]\n",
      "keyUsage                = critical,digitalSignature\n",
      "basicConstraints        = CA:false\n",
      "extendedKeyUsage        = clientAuth\n",
      "subjectKeyIdentifier    = hash\n",
      "authorityKeyIdentifier  = keyid:always\n",
      "authorityInfoAccess     = @issuer_info\n",
      "crlDistributionPoints   = @crl_info\n",
      "\n",
      "[ crl_ext ]\n",
      "authorityKeyIdentifier  = keyid:always\n",
      "authorityInfoAccess     = @issuer_info\n",
      "\n",
      "[ issuer_info ]\n",
      "caIssuers;URI.0         = $aia_url\n",
      "\n",
      "[ crl_info ]\n",
      "URI.0                   = $crl_url\n"
     ],
     "language": "python",
     "metadata": {
      "code_folding": []
     },
     "outputs": [
      {
       "output_type": "stream",
       "stream": "stdout",
       "text": [
        "Overwriting /tmp/pki/ca/conf/vpn-ca.conf\n"
       ]
      }
     ],
     "prompt_number": 18
    },
    {
     "cell_type": "markdown",
     "metadata": {
      "code_folding": [
       2
      ]
     },
     "source": [
      "Create **CA signing request** (CSR):\n",
      "\n",
      "~~~.bash\n",
      "$ cd /tmp/pki\n",
      "$ openssl req -new \\\n",
      "            -config ca/conf/vpn-ca.conf \\\n",
      "            -out ca/vpn-ca/vpn-ca.csr \\\n",
      "            -keyout ca/vpn-ca/private/vpn-ca.key\n",
      "            \n",
      "Generating a 4096 bit RSA private key\n",
      "...........................................++\n",
      ".......++\n",
      "writing new private key to 'ca/vpn-ca/private/vpn-ca.key'\n",
      "Enter PEM pass phrase:\n",
      "Verifying - Enter PEM pass phrase:\n",
      "-----\n",
      "\n",
      "~~~"
     ]
    },
    {
     "cell_type": "markdown",
     "metadata": {
      "code_folding": []
     },
     "source": [
      "Now we use the **root CA** to create the **vpn-ca** certificate:\n",
      "\n",
      "~~~.bash\n",
      "$ cd /tmp/pki\n",
      "$ openssl ca -config ca/conf/root-ca.conf \\\n",
      "           -in ca/vpn-ca/vpn-ca.csr \\       \n",
      "           -out ca/vpn-ca/vpn-ca.crt \\\n",
      "           -extensions signing_ca_ext\n",
      "           \n",
      "Using configuration from ca/conf/root-ca.conf\n",
      "Enter pass phrase for ./ca/root-ca/private/root-ca.key:\n",
      "Check that the request matches the signature\n",
      "Signature ok\n",
      "Certificate Details:\n",
      "        Serial Number: 3 (0x3)\n",
      "        Validity\n",
      "            Not Before: Sep 29 18:28:45 2015 GMT\n",
      "            Not After : Sep 28 18:28:45 2025 GMT\n",
      "        Subject:\n",
      "            countryName               = NU\n",
      "            organizationName          = dornea.nu\n",
      "            organizationalUnitName    = dornea.nu Root CA\n",
      "            commonName                = vpn.dornea.nu CA\n",
      "        X509v3 extensions:\n",
      "            X509v3 Key Usage: critical\n",
      "                Certificate Sign, CRL Sign\n",
      "            X509v3 Basic Constraints: critical\n",
      "                CA:TRUE, pathlen:0\n",
      "            X509v3 Subject Key Identifier: \n",
      "                52:53:49:45:12:D4:7B:A3:B7:8D:E0:14:00:81:4E:30:BC:A0:19:69\n",
      "            X509v3 Authority Key Identifier: \n",
      "                keyid:F4:3B:44:1F:6D:02:26:06:C1:16:B9:1F:84:FC:41:48:5B:F6:0D:77\n",
      "\n",
      "            Authority Information Access: \n",
      "                CA Issuers - URI:http://pki.dornea.nu/root-ca.cer\n",
      "\n",
      "            X509v3 CRL Distribution Points: \n",
      "\n",
      "                Full Name:\n",
      "                  URI:http://pki.dornea.nu/root-ca.crl\n",
      "\n",
      "Certificate is to be certified until Sep 28 18:28:45 2025 GMT (3652 days)\n",
      "Sign the certificate? [y/n]:y\n",
      "\n",
      "\n",
      "1 out of 1 certificate requests certified, commit? [y/n]y\n",
      "Write out database with 1 new entries\n",
      "Data Base Updated\n",
      "           \n",
      "~~~"
     ]
    },
    {
     "cell_type": "heading",
     "level": 2,
     "metadata": {
      "code_folding": [
       0
      ]
     },
     "source": [
      "Create dev-ca CA chain"
     ]
    },
    {
     "cell_type": "code",
     "collapsed": false,
     "input": [
      "%%bash\n",
      "cd /tmp/pki\n",
      "cat ca/dev-ca/dev-ca.crt ca/root-ca/root-ca.crt > ca/dev-ca/dev-ca-chain.pem"
     ],
     "language": "python",
     "metadata": {},
     "outputs": [],
     "prompt_number": 6
    },
    {
     "cell_type": "heading",
     "level": 2,
     "metadata": {},
     "source": [
      "Create vpn-ca CA chain"
     ]
    },
    {
     "cell_type": "code",
     "collapsed": true,
     "input": [
      "%%bash\n",
      "cd /tmp/pki\n",
      "cat ca/vpn-ca/vpn-ca.crt ca/root-ca/root-ca.crt > ca/vpn-ca/vpn-ca-chain.pem"
     ],
     "language": "python",
     "metadata": {},
     "outputs": [],
     "prompt_number": 7
    },
    {
     "cell_type": "markdown",
     "metadata": {},
     "source": [
      "# Issue dev-CA certificates\n",
      "\n",
      "We'll now create the **TLS** *server* and *client* certificates.\n",
      "\n",
      "## Create TLS server certificate"
     ]
    },
    {
     "cell_type": "code",
     "collapsed": false,
     "input": [
      "%%blockdiag\n",
      "# <!-- collapse=True -->\n",
      "blockdiag {\n",
      "  // Define orientation\n",
      "  orientation = portrait;\n",
      "\n",
      "  // Define class (list of attributes)\n",
      "  class emphasis [color = pink, style = dashed];\n",
      "  class blackline [color = black, style = dotted];\n",
      "  class blue [color = lightblue];\n",
      "  class active [color = lightgreen];\n",
      "  class inactive [color = lightgrey]; \n",
      "\n",
      "  Root_CA [label = \"dornea.nu root CA\"];\n",
      "  Signing_CA2 [label = \"dev.dornea.nu CA\"];\n",
      "  Signing_CA3 [label = \"vpn.dornea.nu CA\"];\n",
      "  TLS_Server_CA [class = active, label = \"TLS Server Cert\", shape = flowchart.terminator, style = dotted];\n",
      "  TLS_Client_CA [label = \"TLS Client Cert\", shape = flowchart.terminator, style = dotted];\n",
      "  VPN_Server_CA [class = inactive, label = \"VPN Server Cert\", shape = flowchart.terminator, style = dotted];\n",
      "  VPN_Client_CA [class = inactive, label = \"VPN Client Cert\", shape = flowchart.terminator, style = dotted];\n",
      "    \n",
      "  dev_dornea_nu [class = active, label = \"DNS: dev.dornea.nu\\nDNS: dev2.dornea.nu\\nIP: 10.10.10.1\\nIP: 10.20.20.1\"];\n",
      "\n",
      "  Root_CA -> Signing_CA2;\n",
      "  Root_CA -> Signing_CA3;\n",
      "\n",
      "  Signing_CA2 -> TLS_Server_CA;\n",
      "  Signing_CA2 -> TLS_Client_CA;\n",
      "    \n",
      "  Signing_CA3 -> VPN_Server_CA;\n",
      "  Signing_CA3 -> VPN_Client_CA;\n",
      "    \n",
      "  TLS_Server_CA -> dev_dornea_nu;\n",
      "}"
     ],
     "language": "python",
     "metadata": {
      "code_folding": []
     },
     "outputs": [
      {
       "metadata": {},
       "output_type": "display_data",
       "png": "[encoded data removed]"
      }
     ],
     "prompt_number": 16
    },
    {
     "cell_type": "markdown",
     "metadata": {
      "code_folding": []
     },
     "source": [
      "We will specify **multiple domains** with one certificate by using **SANs** (Subject Alternatve Name). Those are a *X.509* V3 extension to allow a SSL certificate to specify multiple names that the certificate should match. They can contain:\n",
      "\n",
      "* mail addresses\n",
      "* IP addresses\n",
      "* DNS names\n",
      "* etc.\n",
      "\n",
      "Let's have a look at the config file:"
     ]
    },
    {
     "cell_type": "code",
     "collapsed": false,
     "input": [
      "%%writefile /tmp/pki/ca/conf/vpn-server-cert.conf\n",
      "# <!-- collapse=True -->\n",
      "\n",
      "# # Code-signing certificate request for the VPN server\n",
      "# Adapted from https://pki-tutorial.readthedocs.org/en/latest/advanced/server.conf.html\n",
      "\n",
      "[ default ]\n",
      "SAN                     = DNS:dev.dornea.nu    # Default value / [S]ubject[A]lt[N]ame\n",
      "\n",
      "[ req ]\n",
      "default_bits            = 4096                  # RSA key size\n",
      "encrypt_key             = no                    # Protect private key\n",
      "default_md              = sha2                  # MD to use\n",
      "utf8                    = yes                   # Input is UTF-8\n",
      "string_mask             = utf8only              # Emit UTF-8 strings\n",
      "prompt                  = yes                   # Prompt for DN\n",
      "distinguished_name      = server_dn             # DN template\n",
      "req_extensions          = server_reqext         # Desired extensions\n",
      "\n",
      "[ server_dn ]\n",
      "countryName             = \"1. Country Name (2 letters) (eg, US)       \"\n",
      "countryName_max         = 2\n",
      "stateOrProvinceName     = \"2. State or Province Name   (eg, region)   \"\n",
      "localityName            = \"3. Locality Name            (eg, city)     \"\n",
      "organizationName        = \"4. Organization Name        (eg, company)  \"\n",
      "organizationalUnitName  = \"5. Organizational Unit Name (eg, section)  \"\n",
      "commonName              = \"6. Common Name              (eg, FQDN)     \"\n",
      "commonName_max          = 64\n",
      "\n",
      "[ server_reqext ]\n",
      "keyUsage                = critical,digitalSignature,keyEncipherment\n",
      "extendedKeyUsage        = serverAuth,clientAuth\n",
      "subjectKeyIdentifier    = hash\n",
      "subjectAltName          = @alt_names\n",
      "\n",
      "[alt_names]\n",
      "DNS.1 = dev.dornea.nu\n",
      "DNS.2 = dev2.dornea.nu\n",
      "IP.1 = 10.10.10.1\n",
      "IP.2 = 10.20.20.1"
     ],
     "language": "python",
     "metadata": {
      "code_folding": []
     },
     "outputs": [
      {
       "output_type": "stream",
       "stream": "stdout",
       "text": [
        "Overwriting /tmp/pki/ca/conf/dev-server-ca.conf\n"
       ]
      }
     ],
     "prompt_number": 118
    },
    {
     "cell_type": "markdown",
     "metadata": {
      "code_folding": [
       0
      ]
     },
     "source": [
      "Create directories:"
     ]
    },
    {
     "cell_type": "code",
     "collapsed": true,
     "input": [
      "%%bash\n",
      "cd /tmp/pki\n",
      "mkdir -p ca/dev-server-ca/ ca/dev-server-ca/private ca/dev-server-ca/db ca/dev-server-ca/certs"
     ],
     "language": "python",
     "metadata": {},
     "outputs": [],
     "prompt_number": 117
    },
    {
     "cell_type": "markdown",
     "metadata": {
      "code_folding": []
     },
     "source": [
      "Create a private key and CSR for the TLS server certificate:\n",
      "\n",
      "~~~.bash\n",
      "$ cd /tmp/pki\n",
      "$ openssl req -new \\\n",
      "            -config ca/conf/dev-server-ca.conf \\\n",
      "            -out ca/dev-server-ca/certs/dev.dornea.nu.csr \\\n",
      "            -keyout ca/dev-server-ca/certs/dev.dornea.nu.key\n",
      "            \n",
      "Generating a 4096 bit RSA private key\n",
      "......................................................................................................................................................++\n",
      "...........................................++\n",
      "writing new private key to 'ca/dev-server-ca/private/dev-server-ca.key'\n",
      "-----\n",
      "You are about to be asked to enter information that will be incorporated\n",
      "into your certificate request.\n",
      "What you are about to enter is what is called a Distinguished Name or a DN.\n",
      "There are quite a few fields but you can leave some blank\n",
      "For some fields there will be a default value,\n",
      "If you enter '.', the field will be left blank.\n",
      "-----\n",
      "1. Country Name (2 letters) (eg, US)        []:DE\n",
      "2. State or Province Name   (eg, region)    []:Berlin\n",
      "3. Locality Name            (eg, city)      []:Berlin\n",
      "4. Organization Name        (eg, company)   []:dornea.nu\n",
      "5. Organizational Unit Name (eg, section)   []:dev.dornea.nu\n",
      "6. Common Name              (eg, FQDN)      []:dev.dornea.nu\n",
      "~~~"
     ]
    },
    {
     "cell_type": "markdown",
     "metadata": {
      "code_folding": []
     },
     "source": [
      "Now use the **dev-ca** certificate to issue the TLS server certificate:\n",
      "\n",
      "~~~.bash\n",
      "$ cd /tmp/pki\n",
      "$ openssl ca -config ca/conf/dev-ca.conf \\\n",
      "            -in ca/dev-server-ca/certs/dev.dornea.nu.csr \\\n",
      "            -out ca/dev-server-ca/certs/dev.dornea.nu.crt \\\n",
      "            -extensions server_ext\n",
      "~~~\n",
      "\n",
      "Now we create a **PKCS#12 bundle** including the private key, the certificate and the CA chain. \n",
      "\n",
      "> PKCS#12 defines an archive file format to store crypto stuff inside a *single* file. It is usually used to store a\n",
      "> *private key* along with the *X.509 certificate*. The PKCS#12 file may be *encrypted* and *signed*.\n",
      "\n",
      "~~~.bash\n",
      "$ cd /tmp/pki\n",
      "$ openssl pkcs12 -export \\\n",
      "                -name \"dev.dornea.nu (Developer)\" \\\n",
      "                -caname \"dev.dornea.nu CA\" \\\n",
      "                -caname \"dornea.nu root CA\" \\\n",
      "                -inkey certs/green.no.key \\\n",
      "                -in ca/dev-server-ca/certs/dev.dornea.nu.crt \\\n",
      "                -certfile ca/dev-server-ca/dev-ca-chain.pem \\\n",
      "                -out ca/dev-server-ca/certs/dev.dornea.nu.p12\n",
      "Enter Export Password:\n",
      "Verifying - Enter Export Password:\n",
      "~~~\n",
      "\n",
      "### Verify PKCS#12 bundle\n",
      "\n",
      "You can now verify the bundle:\n",
      "\n",
      "~~~.bash\n",
      "$ openssl pkcs12 -in ca/dev-server-ca/certs/dev.dornea.nu.p12 -info | egrep -e \"issuer\" -e \"subject\"\n",
      "Enter Import Password:\n",
      "MAC Iteration 2048\n",
      "MAC verified OK\n",
      "PKCS7 Encrypted data: pbeWithSHA1And40BitRC2-CBC, Iteration 2048\n",
      "Certificate bag\n",
      "Certificate bag\n",
      "Certificate bag\n",
      "PKCS7 Data\n",
      "Shrouded Keybag: pbeWithSHA1And3-KeyTripleDES-CBC, Iteration 2048\n",
      "subject=/C=NU/ST=Germany/L=Berlin/O=dornea.nu/OU=dev dornea.nu/CN=dev.dornea.nu\n",
      "issuer=/C=NU/O=dornea.nu/OU=dornea.nu Root CA/CN=dev.dornea.nu CA\n",
      "subject=/C=NU/O=dornea.nu/OU=dornea.nu Root CA/CN=dev.dornea.nu CA\n",
      "issuer=/C=NU/O=dornea.nu/OU=dornea.nu Root CA/CN=dornea.nu Root CA\n",
      "Enter PEM pass phrase:\n",
      "subject=/C=NU/O=dornea.nu/OU=dornea.nu Root CA/CN=dornea.nu Root CA\n",
      "issuer=/C=NU/O=dornea.nu/OU=dornea.nu Root CA/CN=dornea.nu Root CA\n",
      "~~~"
     ]
    },
    {
     "cell_type": "heading",
     "level": 2,
     "metadata": {
      "code_folding": [
       0
      ]
     },
     "source": [
      "Create TLS client certificate"
     ]
    },
    {
     "cell_type": "code",
     "collapsed": false,
     "input": [
      "%%blockdiag\n",
      "# <!-- collapse=True -->\n",
      "blockdiag {\n",
      "  // Define orientation\n",
      "  orientation = portrait;\n",
      "\n",
      "  // Define class (list of attributes)\n",
      "  class emphasis [color = pink, style = dashed];\n",
      "  class blackline [color = black, style = dotted];\n",
      "  class blue [color = lightblue];\n",
      "  class active [color = lightgreen];\n",
      "  class inactive [color = lightgrey]; \n",
      "\n",
      "  Root_CA [label = \"dornea.nu root CA\"];\n",
      "  Signing_CA2 [label = \"dev.dornea.nu CA\"];\n",
      "  Signing_CA3 [label = \"vpn.dornea.nu CA\"];\n",
      "  TLS_Server_CA [label = \"TLS Server Cert\", shape = flowchart.terminator, style = dotted];\n",
      "  TLS_Client_CA [class = active, label = \"TLS Client Cert\", shape = flowchart.terminator, style = dotted];\n",
      "  VPN_Server_CA [class = inactive, label = \"VPN Server Cert\", shape = flowchart.terminator, style = dotted];\n",
      "  VPN_Client_CA [class = inactive, label = \"VPN Client Cert\", shape = flowchart.terminator, style = dotted];\n",
      "    \n",
      "  dev_client_victor [class = active, label = \"CN: Victor Dorneanu\\n\"];\n",
      "\n",
      "  Root_CA -> Signing_CA2;\n",
      "  Root_CA -> Signing_CA3;\n",
      "\n",
      "  Signing_CA2 -> TLS_Server_CA;\n",
      "  Signing_CA2 -> TLS_Client_CA;\n",
      "    \n",
      "  Signing_CA3 -> VPN_Server_CA;\n",
      "  Signing_CA3 -> VPN_Client_CA;\n",
      "    \n",
      "  TLS_Client_CA -> dev_client_victor;\n",
      "}"
     ],
     "language": "python",
     "metadata": {
      "code_folding": []
     },
     "outputs": [
      {
       "metadata": {},
       "output_type": "display_data",
       "png": "[encoded data removed]"
      }
     ],
     "prompt_number": 17
    },
    {
     "cell_type": "markdown",
     "metadata": {
      "code_folding": [
       0
      ]
     },
     "source": [
      "Create directories:"
     ]
    },
    {
     "cell_type": "code",
     "collapsed": true,
     "input": [
      "%%bash\n",
      "cd /tmp/pki\n",
      "mkdir -p ca/dev-client-ca/ ca/dev-client-ca/ ca/dev-client-ca/db ca/dev-client-ca/certs"
     ],
     "language": "python",
     "metadata": {},
     "outputs": [],
     "prompt_number": 135
    },
    {
     "cell_type": "markdown",
     "metadata": {},
     "source": [
      "Create config:"
     ]
    },
    {
     "cell_type": "code",
     "collapsed": false,
     "input": [
      "%%writefile /tmp/pki/ca/conf/dev-client-ca.conf\u2194\n"
     ],
     "language": "python",
     "metadata": {
      "code_folding": [
       0
      ]
     },
     "outputs": [
      {
       "output_type": "stream",
       "stream": "stdout",
       "text": [
        "Overwriting /tmp/pki/ca/conf/dev-client-ca.conf\n"
       ]
      }
     ],
     "prompt_number": 136
    },
    {
     "cell_type": "markdown",
     "metadata": {
      "collapsed": true
     },
     "source": [
      "Now I'll create a new CSR for the user **victor**:\n",
      "\n",
      "~~~.bash\n",
      "$ openssl req -new \\\n",
      "            -config ca/conf/dev-client-ca.conf \\\n",
      "            -out ca/dev-client-ca/certs/victor.csr \\\n",
      "            -keyout ca/dev-client-ca/certs/victor.key\n",
      "Generating a 4096 bit RSA private key\n",
      ".......................................................................................++\n",
      "..........................................................................................................................................................................................++\n",
      "writing new private key to 'ca/dev-client-ca/certs/victor.key'\n",
      "Enter PEM pass phrase:\n",
      "Verifying - Enter PEM pass phrase:\n",
      "-----\n",
      "You are about to be asked to enter information that will be incorporated\n",
      "into your certificate request.\n",
      "What you are about to enter is what is called a Distinguished Name or a DN.\n",
      "There are quite a few fields but you can leave some blank\n",
      "For some fields there will be a default value,\n",
      "If you enter '.', the field will be left blank.\n",
      "-----\n",
      "1. Country Name (2 letters) (eg, US)        []:NU\n",
      "2. State or Province Name   (eg, region)    []:Germany\n",
      "3. Locality Name            (eg, city)      []:Berlin\n",
      "4. Organization Name        (eg, company)   []:dornea.nu\n",
      "5. Organizational Unit Name (eg, section)   []:dev dornea.nu\n",
      "6. Common Name              (eg, full name) []:Victor Dorneanu\n",
      "7. Email Address            (eg, name@fqdn) []:blabla@dornea.nu\n",
      "~~~\n",
      "\n",
      "Now create the TLS client certificate:\n",
      "\n",
      "~~~.bash\n",
      "$ openssl ca -config ca/conf/dev-ca.conf \\\n",
      "            -in ca/dev-client-ca/certs/victor.csr \\\n",
      "            -out ca/dev-client-ca/certs/victor.crt \\\n",
      "            -extensions client_ext\n",
      "            \n",
      "Using configuration from ca/conf/dev-ca.conf\n",
      "Enter pass phrase for ./ca/dev-ca/private/dev-ca.key:\n",
      "Check that the request matches the signature\n",
      "Signature ok\n",
      "Certificate Details:\n",
      "        Serial Number: 3 (0x3)\n",
      "        Validity\n",
      "            Not Before: Sep 30 19:01:14 2015 GMT\n",
      "            Not After : Sep 29 19:01:14 2016 GMT\n",
      "        Subject:\n",
      "            countryName               = NU\n",
      "            stateOrProvinceName       = Germany\n",
      "            localityName              = Berlin\n",
      "            organizationName          = dornea.nu\n",
      "            organizationalUnitName    = dev dornea.nu\n",
      "            commonName                = Victor Dorneanu\n",
      "        X509v3 extensions:\n",
      "            X509v3 Key Usage: critical\n",
      "                Digital Signature\n",
      "            X509v3 Basic Constraints: \n",
      "                CA:FALSE\n",
      "            X509v3 Extended Key Usage: \n",
      "                TLS Web Client Authentication\n",
      "            X509v3 Subject Key Identifier: \n",
      "                21:E4:47:97:E8:90:39:B5:8C:8A:5B:DD:24:78:23:A9:17:DB:97:9E\n",
      "            X509v3 Authority Key Identifier: \n",
      "                keyid:C5:7E:17:39:6F:CE:D2:40:B8:7E:B8:5D:0E:41:04:75:BB:0D:2B:98\n",
      "\n",
      "            Authority Information Access: \n",
      "                CA Issuers - URI:http://dev.dornea.nu/ca/dev-ca.cer\n",
      "\n",
      "            X509v3 CRL Distribution Points: \n",
      "\n",
      "                Full Name:\n",
      "                  URI:http://dev.dornea.nu/ca/dev-ca.crl\n",
      "\n",
      "            X509v3 Subject Alternative Name: \n",
      "                email:blabla@dornea.nu\n",
      "Certificate is to be certified until Sep 29 19:01:14 2016 GMT (365 days)\n",
      "Sign the certificate? [y/n]:y\n",
      "\n",
      "\n",
      "1 out of 1 certificate requests certified, commit? [y/n]y\n",
      "Write out database with 1 new entries\n",
      "Data Base Updated\n",
      "\n",
      "~~~"
     ]
    },
    {
     "cell_type": "markdown",
     "metadata": {
      "code_folding": []
     },
     "source": [
      "### Create PKCS#12 bundle\n",
      "\n",
      "~~~.bash\n",
      "$ openssl pkcs12 -export \\\n",
      "                 -name \"dev.dornea.nu (Developer)\" \\\n",
      "                 -caname \"dev.dornea.nu CA\" \\\n",
      "                 -caname \"dornea.nu Root CA\" \\\n",
      "                 -inkey ca/dev-client-ca/certs/victor.key \\ \n",
      "                 -in ca/dev-client-ca/certs/victor.crt \\ \n",
      "                 -certfile ca/dev-ca/dev-ca-chain.pem \\ \n",
      "                 -out ca/dev-client-ca/certs/victor.p12        \n",
      "Enter pass phrase for ca/dev-client-ca/certs/victor.key:\n",
      "Enter Export Password:\n",
      "Verifying - Enter Export Password:\n",
      "~~~\n",
      "\n",
      "Now *verify* the bundle:\n",
      "\n",
      "~~~.bash\n",
      "$ openssl pkcs12 -in ca/dev-client-ca/certs/victor.p12 -info | egrep -e \"issuer\" -e \"subject\"\n",
      "Enter Import Password:\n",
      "MAC Iteration 2048\n",
      "MAC verified OK\n",
      "PKCS7 Encrypted data: pbeWithSHA1And40BitRC2-CBC, Iteration 2048\n",
      "Certificate bag\n",
      "Certificate bag\n",
      "Certificate bag\n",
      "PKCS7 Data\n",
      "Shrouded Keybag: pbeWithSHA1And3-KeyTripleDES-CBC, Iteration 2048\n",
      "subject=/C=NU/ST=Germany/L=Berlin/O=dornea.nu/OU=dev dornea.nu/CN=Victor Dorneanu\n",
      "issuer=/C=NU/O=dornea.nu/OU=dornea.nu Root CA/CN=dev.dornea.nu CA\n",
      "subject=/C=NU/O=dornea.nu/OU=dornea.nu Root CA/CN=dev.dornea.nu CA\n",
      "issuer=/C=NU/O=dornea.nu/OU=dornea.nu Root CA/CN=dornea.nu Root CA\n",
      "Enter PEM pass phrase:\n",
      "Verifying - Enter PEM pass phrase:\n",
      "subject=/C=NU/O=dornea.nu/OU=dornea.nu Root CA/CN=dornea.nu Root CA\n",
      "issuer=/C=NU/O=dornea.nu/OU=dornea.nu Root CA/CN=dornea.nu Root CA\n",
      "\n",
      "~~~"
     ]
    },
    {
     "cell_type": "markdown",
     "metadata": {},
     "source": [
      "# Issue vpn-CA certificates\n",
      "\n",
      "We'll now create **VPN** *server* and *client* certificates.\n",
      "\n",
      "## Create VPN server certificate\n"
     ]
    },
    {
     "cell_type": "code",
     "collapsed": false,
     "input": [
      "%%blockdiag\n",
      "# <!-- collapse=True -->\n",
      "blockdiag {\u2194\n",
      "\n",
      "  // Define class (list of attributes)\n",
      "  class emphasis [color = pink, style = dashed];\n",
      "  class blackline [color = black, style = dotted];\n",
      "  class blue [color = lightblue];\n",
      "  class active [color = lightgreen];\n",
      "  class inactive [color = lightgrey]; \n",
      "\n",
      "  Root_CA [label = \"dornea.nu root CA\"];\n",
      "  Signing_CA2 [label = \"dev.dornea.nu CA\"];\n",
      "  Signing_CA3 [label = \"vpn.dornea.nu CA\"];\n",
      "  TLS_Server_CA [label = \"TLS Server Cert\", shape = flowchart.terminator, style = dotted];\n",
      "  TLS_Client_CA [label = \"TLS Client Cert\", shape = flowchart.terminator, style = dotted];\n",
      "  VPN_Server_CA [class = active, label = \"VPN Server Cert\", shape = flowchart.terminator, style = dotted];\n",
      "  VPN_Client_CA [label = \"VPN Client Cert\", shape = flowchart.terminator, style = dotted];\n",
      "    \n",
      "\n",
      "  Root_CA -> Signing_CA2;\n",
      "  Root_CA -> Signing_CA3;\n",
      "\n",
      "  Signing_CA2 -> TLS_Server_CA;\n",
      "  Signing_CA2 -> TLS_Client_CA;\n",
      "    \n",
      "  Signing_CA3 -> VPN_Server_CA;\n",
      "  Signing_CA3 -> VPN_Client_CA;\n",
      "}"
     ],
     "language": "python",
     "metadata": {
      "code_folding": [
       2
      ]
     },
     "outputs": [
      {
       "metadata": {},
       "output_type": "display_data",
       "png": "[encoded data removed]"
      }
     ],
     "prompt_number": 8
    },
    {
     "cell_type": "code",
     "collapsed": true,
     "input": [
      "%%bash\n",
      "cd /tmp/pki\n",
      "mkdir -p ca/vpn-ca/certs/vpn-server"
     ],
     "language": "python",
     "metadata": {},
     "outputs": [],
     "prompt_number": 9
    },
    {
     "cell_type": "code",
     "collapsed": false,
     "input": [
      "%%writefile /tmp/pki/ca/conf/vpn-server-cert.conf\n",
      "# <!-- collapse=True -->\n",
      "\n",
      "# dev.dornea.nu server certificate\n",
      "# Adapted from https://pki-tutorial.readthedocs.org/en/latest/advanced/codesign.conf.html\n",
      "\n",
      "[ req ]\n",
      "default_bits            = 4096                    # RSA key size\n",
      "encrypt_key             = yes                     # Protect private key\n",
      "default_md              = sha2                    # MD to use\n",
      "utf8                    = yes                     # Input is UTF-8\n",
      "string_mask             = utf8only                # Emit UTF-8 strings\n",
      "prompt                  = yes                     # Prompt for DN\n",
      "distinguished_name      = vpn_server_dn           # DN template\n",
      "req_extensions          = vpn_server_reqext       # Desired extensions\n",
      "\n",
      "[ vpn_server_dn ]\n",
      "countryName             = \"1. Country Name (2 letters) (eg, US)       \"\n",
      "countryName_max         = 2\n",
      "stateOrProvinceName     = \"2. State or Province Name   (eg, region)   \"\n",
      "localityName            = \"3. Locality Name            (eg, city)     \"\n",
      "organizationName        = \"4. Organization Name        (eg, company)  \"\n",
      "organizationalUnitName  = \"5. Organizational Unit Name (eg, section)  \"\n",
      "commonName              = \"6. Common Name              (eg, full name)\"\n",
      "commonName_max          = 64\n",
      "\n",
      "[ vpn_server_reqext ]\n",
      "keyUsage                = critical,digitalSignature\n",
      "extendedKeyUsage        = critical,codeSigning\n",
      "subjectKeyIdentifier    = hash"
     ],
     "language": "python",
     "metadata": {},
     "outputs": [
      {
       "output_type": "stream",
       "stream": "stdout",
       "text": [
        "Overwriting /tmp/pki/ca/conf/vpn-server-cert.conf\n"
       ]
      }
     ],
     "prompt_number": 10
    },
    {
     "cell_type": "markdown",
     "metadata": {},
     "source": [
      "### Create CSR\n",
      "\n",
      "And now create the **CSR** (Code Signing Request):\n",
      "    \n",
      "```.bash\n",
      "$ openssl req -new \\\n",
      "            -config ca/conf/vpn-server-cert.conf \\\n",
      "            -out ca/vpn-ca/certs/vpn-server/raspberry_pi.csr \\\n",
      "            -keyout ca/vpn-ca/certs/vpn-server/raspberry_pi.key\n",
      "            \n",
      "Generating a 4096 bit RSA private key\n",
      "............................................................................................................................................................++\n",
      ".....................................++\n",
      "writing new private key to 'ca/vpn-ca/certs/vpn-server/raspberry_pi.key'\n",
      "Enter PEM pass phrase:\n",
      "Verifying - Enter PEM pass phrase:\n",
      "Verify failure\n",
      "Enter PEM pass phrase:\n",
      "Verifying - Enter PEM pass phrase:\n",
      "-----\n",
      "You are about to be asked to enter information that will be incorporated\n",
      "into your certificate request.\n",
      "What you are about to enter is what is called a Distinguished Name or a DN.\n",
      "There are quite a few fields but you can leave some blank\n",
      "For some fields there will be a default value,\n",
      "If you enter '.', the field will be left blank.\n",
      "-----\n",
      "1. Country Name (2 letters) (eg, US)        []:NU\n",
      "2. State or Province Name   (eg, region)    []:/dev/null\n",
      "3. Locality Name            (eg, city)      []:/dev/random\n",
      "4. Organization Name        (eg, company)   []:dornea.nu\n",
      "5. Organizational Unit Name (eg, section)   []:VPN\n",
      "6. Common Name              (eg, full name) []:vpn.dornea.nu\n",
      "\n",
      "```\n",
      "\n",
      "\n",
      "### Sign certificate \n",
      "\n",
      "Now use the **VPN-CA** to issue the **CRT** (Code Signing Certificate):\n",
      "\n",
      "```.bash\n",
      "$ openssl ca -config ca/conf/vpn-ca.conf \\                                                               1 \u21b5\n",
      "                -in ca/vpn-ca/certs/vpn-server/raspberry_pi.csr \\\n",
      "                -out ca/vpn-ca/certs/vpn-server/raspberry_pi.crt \\\n",
      "                -extensions server_ext\n",
      "                \n",
      "Using configuration from ca/conf/vpn-ca.conf\n",
      "Enter pass phrase for ./ca/vpn-ca/private/vpn-ca.key:\n",
      "Check that the request matches the signature\n",
      "Signature ok\n",
      "Certificate Details:\n",
      "        Serial Number: 1 (0x1)\n",
      "        Validity\n",
      "            Not Before: Nov  9 19:39:48 2015 GMT\n",
      "            Not After : Nov  8 19:39:48 2016 GMT\n",
      "        Subject:\n",
      "            countryName               = NU\n",
      "            stateOrProvinceName       = /dev/null\n",
      "            localityName              = /dev/random\n",
      "            organizationName          = dornea.nu\n",
      "            organizationalUnitName    = VPN\n",
      "            commonName                = vpn.dornea.nu\n",
      "        X509v3 extensions:\n",
      "            X509v3 Key Usage: critical\n",
      "                Digital Signature, Key Encipherment\n",
      "            X509v3 Basic Constraints: \n",
      "                CA:FALSE\n",
      "            X509v3 Extended Key Usage: \n",
      "                TLS Web Server Authentication, TLS Web Client Authentication\n",
      "            X509v3 Subject Key Identifier: \n",
      "                80:CA:5B:3C:C7:8A:E4:76:FF:4B:DC:5D:17:F9:99:07:27:69:76:60\n",
      "            X509v3 Authority Key Identifier: \n",
      "                keyid:E2:DB:62:AB:F4:5D:56:17:65:B2:FA:66:55:C9:04:1D:1C:9B:10:A3\n",
      "\n",
      "            Authority Information Access: \n",
      "                CA Issuers - URI:http://vpn.dornea.nu/ca/vpn-ca.cer\n",
      "\n",
      "            X509v3 CRL Distribution Points: \n",
      "\n",
      "                Full Name:\n",
      "                  URI:http://vpn.dornea.nu/ca/vpn-ca.crl\n",
      "\n",
      "Certificate is to be certified until Nov  8 19:39:48 2016 GMT (365 days)\n",
      "Sign the certificate? [y/n]:y\n",
      "\n",
      "\n",
      "1 out of 1 certificate requests certified, commit? [y/n]y\n",
      "Write out database with 1 new entries\n",
      "Data Base Updated\n",
      "\n",
      "```\n",
      "\n",
      "### Create PKCS12 bundle\n",
      "\n",
      "Now bundle the **root** CA, **VPN** ca and the VPN **server** cert into one file:\n",
      "\n",
      "\n",
      "```.bash\n",
      "$ openssl pkcs12 -export \\                                                    \n",
      "    -name \"VPN Server (Raspberry Pi)\" \\\n",
      "    -caname \"vpn.dornea.nu CA\" \\\n",
      "    -caname \"dornea.nu Root CA\" \\\n",
      "    -inkey ca/vpn-ca/certs/vpn-server/raspberry_pi.key \\\n",
      "    -in ca/vpn-ca/certs/vpn-server/raspberry_pi.crt \\\n",
      "    -certfile ca/vpn-ca/vpn-ca-chain.pem \\ \n",
      "    -out ca/vpn-ca/certs/vpn-server/raspberry_pi.p12\n",
      "    \n",
      "Enter pass phrase for ca/vpn-ca/certs/vpn-server/raspberry_pi.key:\n",
      "Enter Export Password:\n",
      "Verifying - Enter Export Password:\n",
      "```"
     ]
    },
    {
     "cell_type": "heading",
     "level": 2,
     "metadata": {},
     "source": [
      "Create VPN client certificate"
     ]
    },
    {
     "cell_type": "code",
     "collapsed": false,
     "input": [
      "%%blockdiag\n",
      "# <!-- collapse=True -->\n",
      "blockdiag {\n",
      "  // Define orientation\n",
      "  orientation = portrait;\n",
      "\n",
      "  // Define class (list of attributes)\n",
      "  class emphasis [color = pink, style = dashed];\n",
      "  class blackline [color = black, style = dotted];\n",
      "  class blue [color = lightblue];\n",
      "  class active [color = lightgreen];\n",
      "  class inactive [color = lightgrey]; \n",
      "\n",
      "  Root_CA [label = \"dornea.nu root CA\"];\n",
      "  Signing_CA2 [label = \"dev.dornea.nu CA\"];\n",
      "  Signing_CA3 [label = \"vpn.dornea.nu CA\"];\n",
      "  TLS_Server_CA [label = \"TLS Server Cert\", shape = flowchart.terminator, style = dotted];\n",
      "  TLS_Client_CA [label = \"TLS Client Cert\", shape = flowchart.terminator, style = dotted];\n",
      "  VPN_Server_CA [label = \"VPN Server Cert\", shape = flowchart.terminator, style = dotted];\n",
      "  VPN_Client_CA [class = active, label = \"VPN Client Cert\", shape = flowchart.terminator, style = dotted];\n",
      "    \n",
      "\n",
      "  Root_CA -> Signing_CA2;\n",
      "  Root_CA -> Signing_CA3;\n",
      "\n",
      "  Signing_CA2 -> TLS_Server_CA;\n",
      "  Signing_CA2 -> TLS_Client_CA;\n",
      "    \n",
      "  Signing_CA3 -> VPN_Server_CA;\n",
      "  Signing_CA3 -> VPN_Client_CA;\n",
      "}"
     ],
     "language": "python",
     "metadata": {},
     "outputs": [
      {
       "metadata": {},
       "output_type": "display_data",
       "png": "[encoded data removed]"
      }
     ],
     "prompt_number": 12
    },
    {
     "cell_type": "code",
     "collapsed": true,
     "input": [
      "%%bash\n",
      "cd /tmp/pki\n",
      "mkdir -p ca/vpn-ca/certs/vpn-client"
     ],
     "language": "python",
     "metadata": {},
     "outputs": [],
     "prompt_number": 13
    },
    {
     "cell_type": "code",
     "collapsed": false,
     "input": [
      "%%writefile /tmp/pki/ca/conf/vpn-client-cert.conf\n",
      "# <!-- collapse=True -->\n",
      "\n",
      "# VPN client certificate\n",
      "# Adapted from https://pki-tutorial.readthedocs.org/en/latest/advanced/client.conf.html\n",
      "\n",
      "[ req ]\n",
      "default_bits            = 4096                  # RSA key size\n",
      "encrypt_key             = yes                   # Protect private key\n",
      "default_md              = sha2                  # MD to use\n",
      "utf8                    = yes                   # Input is UTF-8\n",
      "string_mask             = utf8only              # Emit UTF-8 strings\n",
      "prompt                  = yes                   # Prompt for DN\n",
      "distinguished_name      = client_dn             # DN template\n",
      "req_extensions          = client_reqext         # Desired extensions\n",
      "\n",
      "[ client_dn ]\n",
      "countryName             = \"1. Country Name (2 letters) (eg, US)       \"\n",
      "countryName_max         = 2\n",
      "stateOrProvinceName     = \"2. State or Province Name   (eg, region)   \"\n",
      "localityName            = \"3. Locality Name            (eg, city)     \"\n",
      "organizationName        = \"4. Organization Name        (eg, company)  \"\n",
      "organizationalUnitName  = \"5. Organizational Unit Name (eg, section)  \"\n",
      "commonName              = \"6. Common Name              (eg, full name)\"\n",
      "commonName_max          = 64\n",
      "emailAddress            = \"7. Email Address            (eg, name@fqdn)\"\n",
      "emailAddress_max        = 40\n",
      "\n",
      "[ client_reqext ]\n",
      "keyUsage                = critical,digitalSignature\n",
      "extendedKeyUsage        = clientAuth\n",
      "subjectKeyIdentifier    = hash\n",
      "subjectAltName          = email:move"
     ],
     "language": "python",
     "metadata": {},
     "outputs": [
      {
       "output_type": "stream",
       "stream": "stdout",
       "text": [
        "Overwriting /tmp/pki/ca/conf/vpn-client-cert.conf\n"
       ]
      }
     ],
     "prompt_number": 14
    },
    {
     "cell_type": "markdown",
     "metadata": {},
     "source": [
      "### Create CSR\n",
      "\n",
      "Now create the **CSR** for the user **victor**:\n",
      "\n",
      "```.bash\n",
      "$ openssl req -new \\                      \n",
      "            -config ca/conf/vpn-client-cert.conf \\               \n",
      "            -out ca/vpn-ca/certs/vpn-client/victor.csr \\      \n",
      "            -keyout ca/vpn-ca/certs/vpn-client/victor.key    \n",
      "            \n",
      "Generating a 4096 bit RSA private key\n",
      "...............................................................++\n",
      "................................................................................++\n",
      "writing new private key to 'ca/vpn-ca/certs/vpn-client/victor.key'\n",
      "Enter PEM pass phrase:\n",
      "Verifying - Enter PEM pass phrase:\n",
      "-----\n",
      "You are about to be asked to enter information that will be incorporated\n",
      "into your certificate request.\n",
      "What you are about to enter is what is called a Distinguished Name or a DN.\n",
      "There are quite a few fields but you can leave some blank\n",
      "For some fields there will be a default value,\n",
      "If you enter '.', the field will be left blank.\n",
      "-----\n",
      "1. Country Name (2 letters) (eg, US)        []:NU\n",
      "2. State or Province Name   (eg, region)    []:/dev/null\n",
      "3. Locality Name            (eg, city)      []:/dev/random\n",
      "4. Organization Name        (eg, company)   []:dornea.nu\n",
      "5. Organizational Unit Name (eg, section)   []:vpn.dornea.nu\n",
      "6. Common Name              (eg, full name) []:Victor Dorneanu\n",
      "7. Email Address            (eg, name@fqdn) []:bla@nsa.gov\n",
      "\n",
      "```\n",
      "\n",
      "### Sign the CSR\n",
      "\n",
      "Sign the **CSR** using **VPN-CA**:\n",
      "\n",
      "\n",
      "```.bash\n",
      "$ openssl ca -config ca/conf/vpn-ca.conf \\\n",
      "                -in ca/vpn-ca/certs/vpn-client/victor.csr \\      \n",
      "                -out ca/vpn-ca/certs/vpn-client/victor.crt \\      \n",
      "                -extensions client_ext              \n",
      "                \n",
      "Using configuration from ca/conf/vpn-ca.conf\n",
      "Enter pass phrase for ./ca/vpn-ca/private/vpn-ca.key:\n",
      "Check that the request matches the signature\n",
      "Signature ok\n",
      "Certificate Details:\n",
      "        Serial Number: 2 (0x2)\n",
      "        Validity\n",
      "            Not Before: Nov  9 19:49:16 2015 GMT\n",
      "            Not After : Nov  8 19:49:16 2016 GMT\n",
      "        Subject:\n",
      "            countryName               = NU\n",
      "            stateOrProvinceName       = /dev/null\n",
      "            localityName              = /dev/random\n",
      "            organizationName          = dornea.nu\n",
      "            organizationalUnitName    = vpn.dornea.nu\n",
      "            commonName                = Victor Dorneanu\n",
      "        X509v3 extensions:\n",
      "            X509v3 Key Usage: critical\n",
      "                Digital Signature\n",
      "            X509v3 Basic Constraints: \n",
      "                CA:FALSE\n",
      "            X509v3 Extended Key Usage: \n",
      "                TLS Web Client Authentication\n",
      "            X509v3 Subject Key Identifier: \n",
      "                12:3F:57:DF:1D:DB:73:BC:E0:A0:97:18:0D:B9:6C:C9:FF:53:8E:1B\n",
      "            X509v3 Authority Key Identifier: \n",
      "                keyid:E2:DB:62:AB:F4:5D:56:17:65:B2:FA:66:55:C9:04:1D:1C:9B:10:A3\n",
      "\n",
      "            Authority Information Access: \n",
      "                CA Issuers - URI:http://vpn.dornea.nu/ca/vpn-ca.cer\n",
      "\n",
      "            X509v3 CRL Distribution Points: \n",
      "\n",
      "                Full Name:\n",
      "                  URI:http://vpn.dornea.nu/ca/vpn-ca.crl\n",
      "\n",
      "            X509v3 Subject Alternative Name: \n",
      "                email:bla@nsa.gov\n",
      "Certificate is to be certified until Nov  8 19:49:16 2016 GMT (365 days)\n",
      "Sign the certificate? [y/n]:y\n",
      "\n",
      "\n",
      "1 out of 1 certificate requests certified, commit? [y/n]y\n",
      "Write out database with 1 new entries\n",
      "Data Base Updated\n",
      "\n",
      "```\n",
      "\n",
      "### Create PKCS#12 bundle\n",
      "\n",
      "Bundle the **root CA**, **VPN CA ** and the VPN **client** cert into a single file:\n",
      "\n",
      "```.bash\n",
      "$ openssl pkcs12 -export \\\n",
      "    -name \"VPN Client (Victor)\" \\      \n",
      "    -caname \"vpn.dornea.nu CA\" \\\n",
      "    -caname \"dornea.nu Root CA\" \\\n",
      "    -inkey ca/vpn-ca/certs/vpn-client/victor.key \\ \n",
      "    -in ca/vpn-ca/certs/vpn-client/victor.crt \\      \n",
      "    -certfile ca/vpn-ca/vpn-ca-chain.pem \\\n",
      "    -out ca/vpn-ca/certs/vpn-client/victor.p12      \n",
      "    \n",
      "Enter pass phrase for ca/vpn-ca/certs/vpn-client/victor.key:\n",
      "Enter Export Password:\n",
      "Verifying - Enter Export Password:\n",
      "\n",
      "```"
     ]
    },
    {
     "cell_type": "markdown",
     "metadata": {
      "code_folding": [
       2
      ]
     },
     "source": [
      "## References\n",
      "\n",
      "* https://pki-tutorial.readthedocs.org/en/latest/advanced/index.html\n",
      "* http://serverfault.com/questions/306345/certification-authority-root-certificate-expiry-and-renewal\n",
      "* http://www.flatmtn.com/article/setting-openssl-create-certificates\n",
      "* https://www.debian-administration.org/article/284/Creating_and_Using_a_self_signed__SSL_Certificates_in_debian\n",
      "* http://gatwards.org/techblog/creating-and-signing-ssl-certs"
     ]
    }
   ],
   "metadata": {}
  }
 ]
}