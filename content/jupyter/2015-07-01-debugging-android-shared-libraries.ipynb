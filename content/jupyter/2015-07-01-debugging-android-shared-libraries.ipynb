{
 "metadata": {
  "kernelspec": {
   "display_name": "Python 3",
   "language": "python",
   "name": "python3"
  },
  "language_info": {
   "codemirror_mode": {
    "name": "ipython",
    "version": 3
   },
   "file_extension": ".py",
   "mimetype": "text/x-python",
   "name": "python",
   "nbconvert_exporter": "python",
   "pygments_lexer": "ipython3",
   "version": "3.4.3"
  },
  "name": ""
 },
 "nbformat": 3,
 "nbformat_minor": 0,
 "worksheets": [
  {
   "cells": [
    {
     "cell_type": "markdown",
     "metadata": {},
     "source": [
      "Since I haven't done this before, I thought I could share some experiences with you. All this began during some APK analysis which was heavily using [JNI](https://en.wikipedia.org/wiki/Java_Native_Interface)s. In my particular case *Java Native Interfaces* were used to call functions inside libraries written in C/C++. At that time I was quite unfamiliar with JNIs and how they actually work. Besides that I haven't debugged any native applications/libraries on Android before. So this was the perfect opportunity to have a closer look at [Android NDK](https://developer.android.com/tools/sdk/ndk/index.html) and its debugging features."
     ]
    },
    {
     "cell_type": "heading",
     "level": 2,
     "metadata": {},
     "source": [
      "Create Eclipse project"
     ]
    },
    {
     "cell_type": "markdown",
     "metadata": {},
     "source": [
      "In this post I'll first create and build a *simple* Android project that includes native code using the **JNI**. As a main source I have used this extraordinary [Android JNI tutorial](http://blog.edwards-research.com/2012/04/tutorial-android-jni/) which I highly appreciate. Following the instructions described in the post, I have managed to successfully create an empty Android project (File -> New -> Project -> Android Application Project) for my purposes."
     ]
    },
    {
     "cell_type": "code",
     "collapsed": false,
     "input": [
      "%%bash\n",
      "tree -L 1"
     ],
     "language": "python",
     "metadata": {},
     "outputs": [
      {
       "output_type": "stream",
       "stream": "stdout",
       "text": [
        ".\n",
        "\u251c\u2500\u2500 AndroidManifest.xml\n",
        "\u251c\u2500\u2500 assets\n",
        "\u251c\u2500\u2500 build.xml\n",
        "\u251c\u2500\u2500 ic_launcher-web.png\n",
        "\u251c\u2500\u2500 jni\n",
        "\u251c\u2500\u2500 res\n",
        "\u2514\u2500\u2500 src\n",
        "\n",
        "4 directories, 3 files\n"
       ]
      }
     ],
     "prompt_number": 28
    },
    {
     "cell_type": "markdown",
     "metadata": {},
     "source": [
      "And in `src` we have following **classes**:"
     ]
    },
    {
     "cell_type": "code",
     "collapsed": false,
     "input": [
      "%ls -lR src/com/example/jni_debug_demo"
     ],
     "language": "python",
     "metadata": {},
     "outputs": [
      {
       "output_type": "stream",
       "stream": "stdout",
       "text": [
        "src/com/example/jni_debug_demo:\r\n",
        "total 8\r\n",
        "-rw-r--r-- 1 victor users 1183 Jun 30 16:44 MainActivity.java\r\n",
        "-rw-r--r-- 1 victor users  471 Jun 30 16:44 SquaredWrapper.java\r\n"
       ]
      }
     ],
     "prompt_number": 29
    },
    {
     "cell_type": "heading",
     "level": 2,
     "metadata": {},
     "source": [
      "Create Android project"
     ]
    },
    {
     "cell_type": "markdown",
     "metadata": {},
     "source": [
      "In order to be able to build the APK, you'll have to create a new Android project:"
     ]
    },
    {
     "cell_type": "code",
     "collapsed": false,
     "input": [
      "%%bash\n",
      "/home/victor/work/android-sdk/tools/android update project --target android-19 -p ."
     ],
     "language": "python",
     "metadata": {},
     "outputs": [
      {
       "output_type": "stream",
       "stream": "stdout",
       "text": [
        "Updated and renamed default.properties to project.properties\n",
        "Updated local.properties\n",
        "Added file ./proguard-project.txt\n"
       ]
      }
     ],
     "prompt_number": 30
    },
    {
     "cell_type": "markdown",
     "metadata": {},
     "source": [
      "Now you should be able to **build** the project and also generate the **APK**:"
     ]
    },
    {
     "cell_type": "code",
     "collapsed": false,
     "input": [
      "%%bash\n",
      "ant clean release | grep BUILD"
     ],
     "language": "python",
     "metadata": {},
     "outputs": [
      {
       "output_type": "stream",
       "stream": "stdout",
       "text": [
        "BUILD SUCCESSFUL\n"
       ]
      }
     ],
     "prompt_number": 31
    },
    {
     "cell_type": "heading",
     "level": 2,
     "metadata": {},
     "source": [
      "Add JNI functionalities"
     ]
    },
    {
     "cell_type": "markdown",
     "metadata": {},
     "source": [
      "Now that we have the base Android project, let's add some **JNI** functionalities to the project. To compile the shared library (using gcc/g++) we'll need a valid C **header** which can be computed from *SquaredWrapper* (class used in previously mentioned tutorial)."
     ]
    },
    {
     "cell_type": "heading",
     "level": 3,
     "metadata": {},
     "source": [
      "C header"
     ]
    },
    {
     "cell_type": "markdown",
     "metadata": {},
     "source": [
      "The compiled classes are now in \"`./bin/classes`\". Let's generate the **header** files for `SquaredWrapper`:"
     ]
    },
    {
     "cell_type": "code",
     "collapsed": false,
     "input": [
      "%%bash\n",
      "javah -jni -classpath ~/work/android-sdk/platforms/android-19/android.jar:./bin/classes -o square.h com.example.jni_debug_demo.SquaredWrapper\n",
      "cat square.h"
     ],
     "language": "python",
     "metadata": {
      "scrolled": true
     },
     "outputs": [
      {
       "output_type": "stream",
       "stream": "stdout",
       "text": [
        "/* DO NOT EDIT THIS FILE - it is machine generated */\n",
        "#include <jni.h>\n",
        "/* Header for class com_example_jni_debug_demo_SquaredWrapper */\n",
        "\n",
        "#ifndef _Included_com_example_jni_debug_demo_SquaredWrapper\n",
        "#define _Included_com_example_jni_debug_demo_SquaredWrapper\n",
        "#ifdef __cplusplus\n",
        "extern \"C\" {\n",
        "#endif\n",
        "/*\n",
        " * Class:     com_example_jni_debug_demo_SquaredWrapper\n",
        " * Method:    squared\n",
        " * Signature: (I)I\n",
        " */\n",
        "JNIEXPORT jint JNICALL Java_com_example_jni_1debug_1demo_SquaredWrapper_squared\n",
        "  (JNIEnv *, jclass, jint);\n",
        "\n",
        "#ifdef __cplusplus\n",
        "}\n",
        "#endif\n",
        "#endif\n"
       ]
      }
     ],
     "prompt_number": 37
    },
    {
     "cell_type": "markdown",
     "metadata": {},
     "source": [
      "So there is a function **Java_com_example_jni_1debug_1demo_SquaredWrapper_squared** (pay attention to the naming convention) which has 3 arguments. I won't discuss this further and I'll simple copy the file into a new folder `jni` inside the project:"
     ]
    },
    {
     "cell_type": "code",
     "collapsed": false,
     "input": [
      "%%bash\n",
      "mkdir jni\n",
      "mv square.h jni/"
     ],
     "language": "python",
     "metadata": {},
     "outputs": [],
     "prompt_number": 38
    },
    {
     "cell_type": "heading",
     "level": 3,
     "metadata": {},
     "source": [
      "C source"
     ]
    },
    {
     "cell_type": "markdown",
     "metadata": {},
     "source": [
      "Now that we have the **function definition** and the prototype generated by `javah` we can easily implement the **C source** as follows:"
     ]
    },
    {
     "cell_type": "code",
     "collapsed": false,
     "input": [
      "%cat jni/square.c"
     ],
     "language": "python",
     "metadata": {},
     "outputs": [
      {
       "output_type": "stream",
       "stream": "stdout",
       "text": [
        "#include \"square.h\"\r\n",
        " \r\n",
        "JNIEXPORT jint JNICALL Java_com_example_jni_1debug_1demo_SquaredWrapper_squared (JNIEnv * je, jclass jc, jint base)\r\n",
        "{\r\n",
        "    return (base*base);\r\n",
        "}\r\n"
       ]
      }
     ],
     "prompt_number": 39
    },
    {
     "cell_type": "markdown",
     "metadata": {},
     "source": [
      "So nothing special about it. Due to the introductory aspect of this post I'll try to keep things simple. You can of course go further and implement more complex functions. "
     ]
    },
    {
     "cell_type": "heading",
     "level": 3,
     "metadata": {},
     "source": [
      "Build the library"
     ]
    },
    {
     "cell_type": "markdown",
     "metadata": {},
     "source": [
      "Create a **Makefile** for all the Android build tools. "
     ]
    },
    {
     "cell_type": "code",
     "collapsed": false,
     "input": [
      "%cat jni/Android.mk"
     ],
     "language": "python",
     "metadata": {},
     "outputs": [
      {
       "output_type": "stream",
       "stream": "stdout",
       "text": [
        "LOCAL_PATH := $(call my-dir)\r\n",
        " \r\n",
        "include $(CLEAR_VARS)\r\n",
        "\r\n",
        "LOCAL_LDLIBS := -llog\r\n",
        "\r\n",
        "LOCAL_MODULE    := squared\r\n",
        "LOCAL_SRC_FILES := square.c\r\n",
        " \r\n",
        "include $(BUILD_SHARED_LIBRARY)\r\n"
       ]
      }
     ],
     "prompt_number": 40
    },
    {
     "cell_type": "markdown",
     "metadata": {},
     "source": [
      "And now **build** the library (remember to set the *NDK_DEBUG* flag otherwise you won't be able to debug your native code):"
     ]
    },
    {
     "cell_type": "code",
     "collapsed": false,
     "input": [
      "%%bash\n",
      "NDK_DEBUG=1 /home/victor/work/android-ndk-r10e/ndk-build \n",
      "readelf -h libs/armeabi/libsquared.so"
     ],
     "language": "python",
     "metadata": {},
     "outputs": [
      {
       "output_type": "stream",
       "stream": "stdout",
       "text": [
        "Android NDK: WARNING: APP_PLATFORM android-19 is larger than android:minSdkVersion 16 in ./AndroidManifest.xml    \n",
        "[armeabi] Gdbserver      : [arm-linux-androideabi-4.8] libs/armeabi/gdbserver\n",
        "[armeabi] Gdbsetup       : libs/armeabi/gdb.setup\n",
        "[armeabi] Compile thumb  : squared <= square.c\n",
        "[armeabi] SharedLibrary  : libsquared.so\n",
        "[armeabi] Install        : libsquared.so => libs/armeabi/libsquared.so\n",
        "ELF Header:\n",
        "  Magic:   7f 45 4c 46 01 01 01 00 00 00 00 00 00 00 00 00 \n",
        "  Class:                             ELF32\n",
        "  Data:                              2's complement, little endian\n",
        "  Version:                           1 (current)\n",
        "  OS/ABI:                            UNIX - System V\n",
        "  ABI Version:                       0\n",
        "  Type:                              DYN (Shared object file)\n",
        "  Machine:                           ARM\n",
        "  Version:                           0x1\n",
        "  Entry point address:               0x0\n",
        "  Start of program headers:          52 (bytes into file)\n",
        "  Start of section headers:          12564 (bytes into file)\n",
        "  Flags:                             0x5000000, Version5 EABI\n",
        "  Size of this header:               52 (bytes)\n",
        "  Size of program headers:           32 (bytes)\n",
        "  Number of program headers:         8\n",
        "  Size of section headers:           40 (bytes)\n",
        "  Number of section headers:         21\n",
        "  Section header string table index: 20\n"
       ]
      }
     ],
     "prompt_number": 41
    },
    {
     "cell_type": "heading",
     "level": 2,
     "metadata": {},
     "source": [
      "Call the library"
     ]
    },
    {
     "cell_type": "markdown",
     "metadata": {},
     "source": [
      "In `MainActivity` some static routines of the class `SquaredWrapper` are being called:\n",
      "\n",
      "```.java\n",
      "public class MainActivity extends Activity {\n",
      "    private EditText etInput;\n",
      "    private TextView txtTo2;\n",
      "    private TextView txtTo4;\n",
      "\n",
      "\t@Override\n",
      "\tprotected void onCreate(Bundle savedInstanceState) {\n",
      "\t\tsuper.onCreate(savedInstanceState);\n",
      "\t\tsetContentView(R.layout.activity_main);\n",
      "\t\t\n",
      "\t\t// Define Input EditText, TextViews\n",
      "        etInput = (EditText) findViewById(R.id.etInput);\n",
      "        txtTo2 =  (TextView) findViewById(R.id.resTo2);\n",
      "        txtTo4 =  (TextView) findViewById(R.id.resTo4);\n",
      "\t\t\n",
      "\t\tint b = 3;\n",
      "        int a = SquaredWrapper.to4(b);\n",
      "        Log.i(\"JNIDemo\", String.format(\"%d->%d\", b,a));\n",
      "\t}\n",
      "\t\n",
      "\tpublic void cbCalculate(View view) {\n",
      "        int in = 0;\n",
      "        try{\n",
      "            in = Integer.valueOf( etInput.getText().toString() );\n",
      "        } catch(NumberFormatException e) { \n",
      "        \treturn ; \n",
      "        }\n",
      "         \n",
      "        txtTo2.setText(String.format(\"%d\", SquaredWrapper.squared(in)));\n",
      "        txtTo4.setText(String.format(\"%d\", SquaredWrapper.to4(in)));\n",
      "    }\n",
      "}\n",
      "```"
     ]
    },
    {
     "cell_type": "markdown",
     "metadata": {},
     "source": [
      "Build the project again:"
     ]
    },
    {
     "cell_type": "code",
     "collapsed": false,
     "input": [
      "%%bash\n",
      "ant clean release | grep -e \"^BUILD\""
     ],
     "language": "python",
     "metadata": {},
     "outputs": [
      {
       "output_type": "stream",
       "stream": "stdout",
       "text": [
        "BUILD SUCCESSFUL\n"
       ]
      }
     ],
     "prompt_number": 42
    },
    {
     "cell_type": "heading",
     "level": 2,
     "metadata": {},
     "source": [
      "Run the demo application"
     ]
    },
    {
     "cell_type": "markdown",
     "metadata": {},
     "source": [
      "First let's build the APK with **debug** enabled and sign it using a debug key:"
     ]
    },
    {
     "cell_type": "code",
     "collapsed": false,
     "input": [
      "%%bash\n",
      "ant clean debug | grep -e \"^BUILD\""
     ],
     "language": "python",
     "metadata": {},
     "outputs": [
      {
       "output_type": "stream",
       "stream": "stdout",
       "text": [
        "BUILD SUCCESSFUL\n"
       ]
      }
     ],
     "prompt_number": 43
    },
    {
     "cell_type": "markdown",
     "metadata": {},
     "source": [
      "Now you can **install** `./bin/MainActivity-debug.apk` on your Android device (whether virtual or real)"
     ]
    },
    {
     "cell_type": "code",
     "collapsed": false,
     "input": [
      "%%bash\n",
      "/home/victor/work/android-sdk/platform-tools/adb devices"
     ],
     "language": "python",
     "metadata": {},
     "outputs": [
      {
       "output_type": "stream",
       "stream": "stdout",
       "text": [
        "List of devices attached \n",
        "0123456789ABCDEF\tdevice\n",
        "\n"
       ]
      }
     ],
     "prompt_number": 44
    },
    {
     "cell_type": "code",
     "collapsed": false,
     "input": [
      "%%bash\n",
      "adb install ./bin/MainActivity-debug.apk 2> /dev/null"
     ],
     "language": "python",
     "metadata": {},
     "outputs": [
      {
       "output_type": "stream",
       "stream": "stdout",
       "text": [
        "WARNING: linker: libvc1dec_sa.ca7.so has text relocations. This is wasting memory and is a security risk. Please fix.\r\n",
        "WARNING: linker: libvc1dec_sa.ca7.so has text relocations. This is wasting memory and is a security risk. Please fix.\r\n",
        "\tpkg: /data/local/tmp/MainActivity-debug.apk\r\n",
        "Success\r\n"
       ]
      }
     ],
     "prompt_number": 47
    },
    {
     "cell_type": "code",
     "collapsed": false,
     "input": [
      "%%bash \n",
      "adb shell am start -n com.example.jni_debug_demo/com.example.jni_debug_demo.MainActivity"
     ],
     "language": "python",
     "metadata": {},
     "outputs": [
      {
       "output_type": "stream",
       "stream": "stdout",
       "text": [
        "WARNING: linker: libvc1dec_sa.ca7.so has text relocations. This is wasting memory and is a security risk. Please fix.\r\n",
        "WARNING: linker: libvc1dec_sa.ca7.so has text relocations. This is wasting memory and is a security risk. Please fix.\r\n",
        "Starting: Intent { cmp=com.example.jni_debug_demo/.MainActivity }\r\n"
       ]
      }
     ],
     "prompt_number": 91
    },
    {
     "cell_type": "markdown",
     "metadata": {},
     "source": [
      "![JNI Debug Demo Application](http://dl.dornea.nu/img/2015/android-solib/a74f0e9adca736086c2834fb63c793ad.png)\n",
      "\n",
      "Greping for the **logcat messages** shows:\n",
      "\n",
      "```.shell\n",
      "$ adb logcat -s JNIDemo\n",
      "--------- beginning of /dev/log/system\n",
      "--------- beginning of /dev/log/main\n",
      "I/JNIDemo ( 5524): 3->81\n",
      "I/JNIDemo ( 5524): 3->81\n",
      "I/JNIDemo ( 5524): 3->81\n",
      "^C\n",
      "```"
     ]
    },
    {
     "cell_type": "heading",
     "level": 2,
     "metadata": {},
     "source": [
      "Debug the application"
     ]
    },
    {
     "cell_type": "markdown",
     "metadata": {},
     "source": [
      "For the next steps a **rooted** device is *required*. Besides that you should install the *Android NDK* if you haven't done this yet. "
     ]
    },
    {
     "cell_type": "heading",
     "level": 3,
     "metadata": {},
     "source": [
      "Remount /system as rw"
     ]
    },
    {
     "cell_type": "markdown",
     "metadata": {},
     "source": [
      "First you'll have to *mount* `/system` with read-write rights:"
     ]
    },
    {
     "cell_type": "code",
     "collapsed": false,
     "input": [
      "%%bash\n",
      "adb shell mount | grep -e \"system\""
     ],
     "language": "python",
     "metadata": {},
     "outputs": [
      {
       "output_type": "stream",
       "stream": "stdout",
       "text": [
        "/emmc@android /system ext4 ro,seclabel,noatime,noauto_da_alloc,commit=1,data=ordered 0 0\r\n"
       ]
      }
     ],
     "prompt_number": 103
    },
    {
     "cell_type": "code",
     "collapsed": false,
     "input": [
      "%%bash\n",
      "adb shell \"su -c 'mount -o rw,remount /system'\""
     ],
     "language": "python",
     "metadata": {},
     "outputs": [],
     "prompt_number": 49
    },
    {
     "cell_type": "code",
     "collapsed": false,
     "input": [
      "%%bash\n",
      "adb shell mount | grep -e \"system\""
     ],
     "language": "python",
     "metadata": {},
     "outputs": [
      {
       "output_type": "stream",
       "stream": "stdout",
       "text": [
        "/emmc@android /system ext4 rw,seclabel,relatime,noauto_da_alloc,commit=1,data=ordered 0 0\r\n"
       ]
      }
     ],
     "prompt_number": 50
    },
    {
     "cell_type": "heading",
     "level": 3,
     "metadata": {},
     "source": [
      "Copy gdbserver to device"
     ]
    },
    {
     "cell_type": "markdown",
     "metadata": {},
     "source": [
      "Now you'll have to copy the **gdbserver** from the Android NDK into `/system/bin`:"
     ]
    },
    {
     "cell_type": "code",
     "collapsed": false,
     "input": [
      "%%bash\n",
      "find /home/victor/work/android-ndk-r10e/ -type f -name \"gdbserver\""
     ],
     "language": "python",
     "metadata": {},
     "outputs": [
      {
       "output_type": "stream",
       "stream": "stdout",
       "text": [
        "/home/victor/work/android-ndk-r10e/prebuilt/android-mips/gdbserver/gdbserver\n",
        "/home/victor/work/android-ndk-r10e/prebuilt/android-x86_64/gdbserver/gdbserver\n",
        "/home/victor/work/android-ndk-r10e/prebuilt/android-arm64/gdbserver/gdbserver\n",
        "/home/victor/work/android-ndk-r10e/prebuilt/android-x86/gdbserver/gdbserver\n",
        "/home/victor/work/android-ndk-r10e/prebuilt/android-mips64/gdbserver/gdbserver\n",
        "/home/victor/work/android-ndk-r10e/prebuilt/android-arm/gdbserver/gdbserver\n"
       ]
      }
     ],
     "prompt_number": 100
    },
    {
     "cell_type": "code",
     "collapsed": false,
     "input": [
      "%%bash\n",
      "adb shell cat /proc/cpuinfo | grep -e \"Processor\""
     ],
     "language": "python",
     "metadata": {},
     "outputs": [
      {
       "output_type": "stream",
       "stream": "stdout",
       "text": [
        "Processor\t: ARMv7 Processor rev 3 (v7l)\r\n"
       ]
      }
     ],
     "prompt_number": 107
    },
    {
     "cell_type": "code",
     "collapsed": false,
     "input": [
      "%%bash\n",
      "adb push /home/victor/work/android-ndk-r10e/prebuilt/android-arm/gdbserver/gdbserver /mnt/sdcard/tmp 2> /dev/null\n",
      "adb shell \"su -c 'cp /mnt/sdcard/tmp/gdbserver /system/bin/'\""
     ],
     "language": "python",
     "metadata": {},
     "outputs": [],
     "prompt_number": 52
    },
    {
     "cell_type": "heading",
     "level": 3,
     "metadata": {},
     "source": [
      "Copy ARM libraries to your client"
     ]
    },
    {
     "cell_type": "markdown",
     "metadata": {},
     "source": [
      "In order to be able to find debug information/symbols you'll need  all ARM libraries all your device/emulator to be copied to your PC. `gdb` will need them later on."
     ]
    },
    {
     "cell_type": "code",
     "collapsed": false,
     "input": [
      "%%bash\n",
      "mkdir system_lib\n",
      "cd system_lib\n",
      "adb pull /system/lib 2> /dev/null"
     ],
     "language": "python",
     "metadata": {},
     "outputs": [],
     "prompt_number": 12
    },
    {
     "cell_type": "heading",
     "level": 3,
     "metadata": {},
     "source": [
      "Run the application"
     ]
    },
    {
     "cell_type": "code",
     "collapsed": false,
     "input": [
      "%%bash\n",
      "adb shell am start -n com.example.jni_debug_demo/com.example.jni_debug_demo.MainActivity"
     ],
     "language": "python",
     "metadata": {
      "scrolled": true
     },
     "outputs": [
      {
       "output_type": "stream",
       "stream": "stdout",
       "text": [
        "WARNING: linker: libvc1dec_sa.ca7.so has text relocations. This is wasting memory and is a security risk. Please fix.\r\n",
        "WARNING: linker: libvc1dec_sa.ca7.so has text relocations. This is wasting memory and is a security risk. Please fix.\r\n",
        "Starting: Intent { cmp=com.example.jni_debug_demo/.MainActivity }\r\n"
       ]
      }
     ],
     "prompt_number": 4
    },
    {
     "cell_type": "code",
     "collapsed": false,
     "input": [
      "%%bash\n",
      "adb shell ps | grep jni_debug_demo"
     ],
     "language": "python",
     "metadata": {},
     "outputs": [
      {
       "output_type": "stream",
       "stream": "stdout",
       "text": [
        "u0_a159   28054 135   554400 14484 ffffffff 00000000 S com.example.jni_debug_demo\r\n"
       ]
      }
     ],
     "prompt_number": 5
    },
    {
     "cell_type": "markdown",
     "metadata": {},
     "source": [
      "Now that the app is running we're ready to start the debugger and attach it to the process ID *28054*. "
     ]
    },
    {
     "cell_type": "heading",
     "level": 3,
     "metadata": {},
     "source": [
      "Attach gdb to process"
     ]
    },
    {
     "cell_type": "markdown",
     "metadata": {},
     "source": [
      "In project's root directory you'll run `ndk-gdb` which is part of the *Android NDK* package. "
     ]
    },
    {
     "cell_type": "code",
     "collapsed": false,
     "input": [
      "%%bash\n",
      "ndk-gdb --verbose > /dev/null"
     ],
     "language": "python",
     "metadata": {
      "scrolled": true
     },
     "outputs": [
      {
       "output_type": "stream",
       "stream": "stderr",
       "text": [
        "warning: Could not load shared library symbols for 108 libraries, e.g. libstdc++.so.\n",
        "Use the \"info sharedlibrary\" command to see the complete listing.\n",
        "Do you need \"set solib-search-path\" or \"set sysroot\"?\n"
       ]
      }
     ],
     "prompt_number": 10
    },
    {
     "cell_type": "markdown",
     "metadata": {},
     "source": [
      "Without paying attention to the *warning* message, here are the steps `ndk-gdb` will do for you\n",
      "\n",
      "* check if application is running\n",
      "* setup network redirection (port forwarding)\n",
      "\n",
      "```\n",
      "adb_cmd forward tcp:5039 localfilesystem:/data/data/com.example.jni_debug_demo/debug-socket\n",
      "```\n",
      "\n",
      "* pull several utilities (app_process, linker) from the device/emulator\n",
      "* start `gdb`\n",
      "* attach to the process\n",
      "\n",
      "One could of course do all these steps **manually**. \n",
      "\n",
      "1) Do port *forwarding*:\n",
      "\n",
      "```\n",
      "$ adb forward tcp:1337 tcp:1337\n",
      "```\n",
      "\n",
      "1) Attach `gdbserver` to the process (on the device)\n",
      "\n",
      "```\n",
      "root@Android:/ # ps | grep jni\n",
      "u0_a159   28054 135   561056 14100 ffffffff 400a499c S com.example.jni_debug_demo\n",
      "root@Android:/ # gdbserver :1337 --attach 28054                                \n",
      "Attached; pid = 28054\n",
      "Listening on port 1337\n",
      "\n",
      "```\n",
      "2) Connect gdb `client` to the server:\n",
      "\n",
      "```\n",
      "$ /home/victor/work/android-ndk-r10e/toolchains/arm-linux-androideabi-4.9/prebuilt/linux-x86_64/bin/arm-linux-androideabi-gdb\n",
      "...\n",
      "> target remote :1337\n",
      "...\n",
      "```\n",
      "\n",
      "But I still recommend using `ndk-gdb`. \n",
      "\n",
      "\n",
      "### Read debugging information\n",
      "\n",
      "And now let's go back to the previously mentioned `warning` message:\n",
      "\n",
      "```\n",
      "warning: Could not load shared library symbols for 108 libraries, e.g. libstdc++.so.\n",
      "```\n",
      "\n",
      "`gdb` is telling us that it can't find any **debugging symbols** for the loaded (ARM) libraries. In that case we'll have to specify the **path** where it can find that information:\n",
      "\n",
      "* `system_lib`: contains all ARM libraries from the device (/system/lib)\n",
      "* `obj/local/armeabi`: contains debugging information about `libsquared.so` (our target)\n",
      "\n",
      "```\n",
      "$ ndk-gdb --verbose\n",
      "...\n",
      "gef> set solib-search-path system_lib/:obj/local/armeabi/\n",
      "Reading symbols from system_lib/libc.so...(no debugging symbols found)...done.\n",
      "Loaded symbols for system_lib/libc.so\n",
      "Reading symbols from system_lib/libstdc++.so...(no debugging symbols found)...done.\n",
      "Loaded symbols for system_lib/libstdc++.so\n",
      "Reading symbols from system_lib/libm.so...(no debugging symbols found)...done.\n",
      "Loaded symbols for system_lib/libm.so\n",
      "Reading symbols from system_lib/liblog.so...(no debugging symbols found)...done.\n",
      "Loaded symbols for system_lib/liblog.so\n",
      "Reading symbols from system_lib/libcutils.so...(no debugging symbols found)...done.\n",
      "...\n",
      "\n",
      "```\n",
      "\n",
      "You can now **verify** the debugging information via `info sharedlibrary`:\n",
      "\n",
      "```\n",
      "gef> info sharedlibrary\n",
      "From        To          Syms Read   Shared Object Library\n",
      "0x40053a80  0x400619e8  Yes (*)     /home/victor/workspace/jni_debug_demo/obj/local/armeabi/linker\n",
      "0x4008c500  0x400d2e54  Yes (*)     /home/victor/workspace/jni_debug_demo/system_lib/libc.so\n",
      "0x400f4828  0x400f49ec  Yes (*)     /home/victor/workspace/jni_debug_demo/system_lib/libstdc++.so\n",
      "0x400f9940  0x4010d5b8  Yes (*)     /home/victor/workspace/jni_debug_demo/system_lib/libm.so\n",
      "0x4007a190  0x4007bdf8  Yes (*)     /home/victor/workspace/jni_debug_demo/system_lib/liblog.so\n",
      "0x4006f6c8  0x40074ac4  Yes (*)     /home/victor/workspace/jni_debug_demo/system_lib/libcutils.so\n",
      "0x4012eb1c  0x40131210  Yes (*)     /home/victor/workspace/jni_debug_demo/system_lib/libgccdemangle.so\n",
      "0x40142bf0  0x40152a84  Yes (*)     /home/victor/workspace/jni_debug_demo/system_lib/libz.so\n",
      "...\n",
      "0x60b5bbe4  0x60b5d174  Yes         /home/victor/workspace/jni_debug_demo/obj/local/armeabi/libsquared.so\n",
      "                        No          gralloc.mt6582.so\n",
      "(*): Shared library is missing debugging information.\n",
      "```"
     ]
    },
    {
     "cell_type": "heading",
     "level": 3,
     "metadata": {},
     "source": [
      "Find target function"
     ]
    },
    {
     "cell_type": "markdown",
     "metadata": {},
     "source": [
      "From last output you can see that `libsquared.so` starts at address **0x60b5bbe4**. Let's see what we can find there:\n",
      "\n",
      "![jni_debug_demo libsquared](http://dl.dornea.nu/img/2015/android-solib/b85df1e566b46ed748e315c3d4f043ed.png)\n",
      "\n",
      "Bingo! So `Java_com_example_jni_1debug_1demo_SquaredWrapper_squared` starts at **0x60b5bc28**. We'll definitely set a **breakpoint** at that address:\n",
      "\n",
      "```.shell\n",
      "gef> b Java_com_example_jni_1debug_1demo_SquaredWrapper_squared\n",
      "Breakpoint 1 at 0x60b5bc40: file jni/square.c, line 5.\n",
      "gef>\n",
      "```"
     ]
    },
    {
     "cell_type": "heading",
     "level": 3,
     "metadata": {},
     "source": [
      "Trigger and debug function"
     ]
    },
    {
     "cell_type": "markdown",
     "metadata": {},
     "source": [
      "For the targeted function to be executed we'll have to trigger its execution by clicking on the \"Calculate\" button in the UI. **Before** doing that you should tell `gdb` to *continue* execution:\n",
      "\n",
      "```\n",
      "gef> continue\n",
      "Continuing.\n",
      "```\n",
      "\n",
      "After having pressed the button in the UI, you should see sth similar to this:\n",
      "\n",
      "```\n",
      "gef> continue\n",
      "Continuing.\n",
      "--------------------------------------------------------------------------------[regs]\n",
      "$r0    0x4187fe30 $r1    0x7a100019 $r2    0x00000008 $r3    0x578bbd18 \n",
      "$r4    0x57c49258 $r5    0x41882860 $r6    0x00000004 $r7    0x578bbccc \n",
      "$r8    0xbed1e2a8 $r9    0x578bbcc4 $r10   0x41882870 $r11   0xbed1e2a4 \n",
      "$r12   0x60b5bc28 $sp    0xbed1e290 $lr    0x418a1750 $pc    0x60b5bc40 \n",
      "\n",
      "--------------------------------------------------------------------------------[stack]\n",
      "0xbed1e290: \n",
      "0xbed1e294: \n",
      "0xbed1e298: \n",
      "0xbed1e29c: \n",
      "0xbed1e2a0: \n",
      "0xbed1e2a4: \n",
      "0xbed1e2a8: \n",
      "0xbed1e2ac: \n",
      "0xbed1e2b0: \n",
      "0xbed1e2b4: \n",
      "--------------------------------------------------------------------------------[code]\n",
      "0x60b5bc2c       <Java_com_example_jni_1debug_1demo_SquaredWrapper_squared+4>:  add     r11, sp, #0\n",
      "0x60b5bc30       <Java_com_example_jni_1debug_1demo_SquaredWrapper_squared+8>:  sub     sp, sp, #20\n",
      "0x60b5bc34       <Java_com_example_jni_1debug_1demo_SquaredWrapper_squared+12>: str     r0, [r11, #-8]\n",
      "0x60b5bc38       <Java_com_example_jni_1debug_1demo_SquaredWrapper_squared+16>: str     r1, [r11, #-12]\n",
      "0x60b5bc3c       <Java_com_example_jni_1debug_1demo_SquaredWrapper_squared+20>: str     r2, [r11, #-16]\n",
      "0x60b5bc40       <Java_com_example_jni_1debug_1demo_SquaredWrapper_squared+24>: ldr     r3, [r11, #-16] <<= \n",
      "0x60b5bc44       <Java_com_example_jni_1debug_1demo_SquaredWrapper_squared+28>: ldr     r2, [r11, #-16]\n",
      "0x60b5bc48       <Java_com_example_jni_1debug_1demo_SquaredWrapper_squared+32>: mul     r3, r2, r3\n",
      "0x60b5bc4c       <Java_com_example_jni_1debug_1demo_SquaredWrapper_squared+36>: mov     r0, r3\n",
      "0x60b5bc50       <Java_com_example_jni_1debug_1demo_SquaredWrapper_squared+40>: sub     sp, r11, #0\n",
      "--------------------------------------------------------------------------------[trace]\n",
      "#0  Java_com_example_jni_1debug_1demo_SquaredWrapper_squared (je=0x4187fe30, jc=0x7a100019, base=8) at jni/square.c:5\n",
      "#1  0x418a1750 in ?? ()\n",
      "Backtrace stopped: previous frame identical to this frame (corrupt stack?)\n",
      "\n",
      "Breakpoint 1, Java_com_example_jni_1debug_1demo_SquaredWrapper_squared (je=0x4187fe30, jc=0x7a100019, base=8) at jni/square.c:5\n",
      "5           return (base*base);\n",
      "```\n",
      "\n",
      "You can see that the execution currently stopped at **0x60b5bc40**. Now you can inspect the *registers*, set *additional* breakpoints, *step* into routines etc. \n",
      "\n",
      "![GDB GEF](http://dl.dornea.nu/img/2015/android-solib/1c34d2da522b2a450b603cf8cd6a965a.png)\n",
      "![GDB GEF](http://dl.dornea.nu/img/2015/android-solib/18d6146e96dbb21ceed498ae1cdd92f4.png)\n",
      "\n",
      "At this point you should now be equipped with enough knowledge to dissect shared libraries and get some reverse engineering job done. Although this was a quite easy one due to the fact that we had debug symbols and were able to compile the library, the same techniques should also work on *stripped* binaries. In the post I'll some *binary analysis* on some random Android shared library using [radare](http://www.radare.org/r/)."
     ]
    },
    {
     "cell_type": "heading",
     "level": 2,
     "metadata": {},
     "source": [
      "References"
     ]
    },
    {
     "cell_type": "markdown",
     "metadata": {},
     "source": [
      "* [jni_debug_demo GitHub Project](https://github.com/dorneanu/test/tree/master/jni_debug_demo)\n",
      "* [Tutorial: Android JNI](http://blog.edwards-research.com/2012/04/tutorial-android-jni/)\n",
      "* [Advanced Android: Getting started with the NDK](http://code.tutsplus.com/tutorials/advanced-android-getting-started-with-the-ndk--mobile-2152)\n",
      "* [How to do remote debugging via gdbserver running inside the Android phone?](https://tthtlc.wordpress.com/2012/09/19/how-to-do-remote-debugging-via-gdbserver-running-inside-the-android-phone/)"
     ]
    }
   ],
   "metadata": {}
  }
 ]
}