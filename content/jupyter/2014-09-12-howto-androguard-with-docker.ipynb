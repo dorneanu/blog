{
 "metadata": {
  "name": "",
  "signature": "sha256:baadbb077e0fef99b7aaf32af18e11cfb0a20073ae65979f3afab795a1588e8e"
 },
 "nbformat": 3,
 "nbformat_minor": 0,
 "worksheets": [
  {
   "cells": [
    {
     "cell_type": "markdown",
     "metadata": {},
     "source": [
      "Meanwhile I think I've felt in love with *Androguard*. I love its Pythonic way handling things and its visualizations features. As many of you have noticed, you can run Androguard inside a *Docker* container. I've never used Docker before so it was about time. You can find some general information about the installation process on Arch Linux at [this](https://docs.docker.com/installation/archlinux/) address."
     ]
    },
    {
     "cell_type": "heading",
     "level": 3,
     "metadata": {},
     "source": [
      "Extensions"
     ]
    },
    {
     "cell_type": "code",
     "collapsed": false,
     "input": [
      "# Install extensions\n",
      "# <!-- collapse=True -->\n",
      "%install_ext https://raw.githubusercontent.com/dorneanu/ipython/master/extensions/diagmagic.py\n",
      "    \n",
      "# Then load extensions\n",
      "%load_ext diagmagic"
     ],
     "language": "python",
     "metadata": {},
     "outputs": [
      {
       "output_type": "stream",
       "stream": "stdout",
       "text": [
        "Installed diagmagic.py. To use it, type:\n",
        "  %load_ext diagmagic\n",
        "The diagmagic extension is already loaded. To reload it, use:\n",
        "  %reload_ext diagmagic\n"
       ]
      }
     ],
     "prompt_number": 3
    },
    {
     "cell_type": "markdown",
     "metadata": {},
     "source": [
      "On my main pentest machine (kudoz to @blackarch) I've installed docker and followed these instructions. Here is my service file:"
     ]
    },
    {
     "cell_type": "code",
     "collapsed": false,
     "input": [
      "!cat /etc/systemd/system/docker.service"
     ],
     "language": "python",
     "metadata": {},
     "outputs": [
      {
       "output_type": "stream",
       "stream": "stdout",
       "text": [
        ".include /usr/lib/systemd/system/docker.service\r\n",
        "[Service]\r\n",
        "# assume 192.168.1.1 is your proxy server, don't use 127.0.0.1\r\n",
        "#Environment=\"http_proxy=192.168.1.1:3128\"\r\n",
        "ExecStart=\r\n",
        "ExecStart=/usr/bin/docker -d -g /home/cyneox/work/docker\r\n"
       ]
      }
     ],
     "prompt_number": 3
    },
    {
     "cell_type": "markdown",
     "metadata": {},
     "source": [
      "I've added myself to the *docker* group in order to be able to start docker as a regular user:\n",
      "\n",
      "~~~ shell\n",
      "# sudo gpasswd -a cyneox docker\n",
      "~~~\n",
      "\n",
      "Afterwards make sure you enable the service:\n",
      "\n",
      "~~~ shell\n",
      "# sudo systemctl enable docker\n",
      "~~~\n",
      "\n",
      "Now make sure you do a reboot (Windows style :D)."
     ]
    },
    {
     "cell_type": "code",
     "collapsed": false,
     "input": [
      "%%bash\n",
      "# Check if docker is running\n",
      "sudo systemctl start docker\n",
      "ps -ax | grep docker"
     ],
     "language": "python",
     "metadata": {},
     "outputs": [
      {
       "output_type": "stream",
       "stream": "stdout",
       "text": [
        "  836 ?        Ssl    0:00 /usr/bin/docker -d -g /home/cyneox/work/docker\n"
       ]
      }
     ],
     "prompt_number": 4
    },
    {
     "cell_type": "code",
     "collapsed": false,
     "input": [
      "!docker info"
     ],
     "language": "python",
     "metadata": {},
     "outputs": [
      {
       "output_type": "stream",
       "stream": "stdout",
       "text": [
        "Containers: 0\r\n",
        "Images: 0\r\n",
        "Storage Driver: devicemapper\r\n",
        " Pool Name: docker-8:1-385640-pool\r\n",
        " Pool Blocksize: 64 Kb\r\n",
        " Data file: /home/cyneox/work/docker/devicemapper/devicemapper/data\r\n",
        " Metadata file: /home/cyneox/work/docker/devicemapper/devicemapper/metadata\r\n",
        " Data Space Used: 291.5 Mb\r\n",
        " Data Space Total: 102400.0 Mb\r\n",
        " Metadata Space Used: 0.7 Mb\r\n",
        " Metadata Space Total: 2048.0 Mb\r\n",
        "Execution Driver: native-0.2\r\n",
        "Kernel Version: 3.16.1-1-ARCH\r\n",
        "Operating System: Arch Linux\r\n",
        "WARNING: No swap limit support\r\n"
       ]
      }
     ],
     "prompt_number": 5
    },
    {
     "cell_type": "heading",
     "level": 2,
     "metadata": {},
     "source": [
      "Install Androguard"
     ]
    },
    {
     "cell_type": "markdown",
     "metadata": {},
     "source": [
      "I could find 3 maintained dockerized Android images:\n",
      "    \n",
      "1. https://github.com/adepasquale/docker-androguard\n",
      "1. https://github.com/dweinstein/dockerfile-androguard\n",
      "1. https://github.com/aikinci/androguard\n",
      "\n",
      "The [2nd](https://github.com/dweinstein/dockerfile-androguard) one started automatically *androguard* so you couldn't tweak the underlying system. So I've decided to look at [@aikinci](https://github.com/aikinci)'s androguard docker container. "
     ]
    },
    {
     "cell_type": "code",
     "collapsed": false,
     "input": [
      "!docker run -it -v ~/samples/:/root/samples/ honeynet/androguard "
     ],
     "language": "python",
     "metadata": {},
     "outputs": [
      {
       "output_type": "stream",
       "stream": "stdout",
       "text": [
        "Unable to find image 'honeynet/androguard' locally\r\n",
        "Pulling repository honeynet/androguard\r\n"
       ]
      },
      {
       "output_type": "stream",
       "stream": "stdout",
       "text": [
        "\r\n",
        "\u001b[0A\u001b[2K\r",
        "e373235de289: Pulling image (latest) from honeynet/androguard \r",
        "\u001b[0B\u001b[1A\u001b[2K\r",
        "e373235de289: Pulling image (latest) from honeynet/androguard, endpoint: https://registry-1.docker.io/v1/ \r",
        "\u001b[1B"
       ]
      },
      {
       "output_type": "stream",
       "stream": "stdout",
       "text": [
        "\u001b[1A\u001b[2K\r",
        "e373235de289: Pulling dependent layers \r",
        "\u001b[1B\r\n",
        "\u001b[0A\u001b[2K\r",
        "511136ea3c5a: Download complete \r",
        "\u001b[0B\r\n",
        "\u001b[0A\u001b[2K\r",
        "9bad880da3d2: Pulling metadata \r",
        "\u001b[0B"
       ]
      },
      {
       "output_type": "stream",
       "stream": "stdout",
       "text": [
        "\u001b[1A\u001b[2K\r",
        "9bad880da3d2: Pulling fs layer \r",
        "\u001b[1B"
       ]
      },
      {
       "output_type": "stream",
       "stream": "stdout",
       "text": [
        "\u001b[1A\u001b[2K\r",
        "9bad880da3d2: Downloading 525.2 kB/67.49 MB\r",
        "\u001b[1B"
       ]
      },
      {
       "output_type": "stream",
       "stream": "stdout",
       "text": [
        "\u001b[1A\u001b[2K\r",
        "9bad880da3d2: Downloading 1.054 MB/67.49 MB\r",
        "\u001b[1B"
       ]
      },
      {
       "output_type": "stream",
       "stream": "stdout",
       "text": [
        "\u001b[1A\u001b[2K\r",
        "9bad880da3d2: Downloading 1.582 MB/67.49 MB\r",
        "\u001b[1B"
       ]
      },
      {
       "output_type": "stream",
       "stream": "stdout",
       "text": [
        "\u001b[1A\u001b[2K\r",
        "9bad880da3d2: Downloading  2.11 MB/67.49 MB\r",
        "\u001b[1B"
       ]
      },
      {
       "output_type": "stream",
       "stream": "stdout",
       "text": [
        "\u001b[1A\u001b[2K\r",
        "9bad880da3d2: Downloading 2.639 MB/67.49 MB\r",
        "\u001b[1B"
       ]
      },
      {
       "output_type": "stream",
       "stream": "stdout",
       "text": [
        "\u001b[1A\u001b[2K\r",
        "9bad880da3d2: Downloading 3.167 MB/67.49 MB\r",
        "\u001b[1B"
       ]
      },
      {
       "output_type": "stream",
       "stream": "stdout",
       "text": [
        "\u001b[1A\u001b[2K\r",
        "9bad880da3d2: Downloading 3.695 MB/67.49 MB\r",
        "\u001b[1B"
       ]
      },
      {
       "output_type": "stream",
       "stream": "stdout",
       "text": [
        "\u001b[1A\u001b[2K\r",
        "9bad880da3d2: Downloading 4.224 MB/67.49 MB\r",
        "\u001b[1B"
       ]
      },
      {
       "output_type": "stream",
       "stream": "stdout",
       "text": [
        "\u001b[1A\u001b[2K\r",
        "9bad880da3d2: Downloading 4.752 MB/67.49 MB\r",
        "\u001b[1B"
       ]
      },
      {
       "output_type": "stream",
       "stream": "stdout",
       "text": [
        "\u001b[1A\u001b[2K\r",
        "9bad880da3d2: Downloading 5.281 MB/67.49 MB\r",
        "\u001b[1B"
       ]
      },
      {
       "output_type": "stream",
       "stream": "stdout",
       "text": [
        "\u001b[1A\u001b[2K\r",
        "9bad880da3d2: Downloading 5.809 MB/67.49 MB\r",
        "\u001b[1B"
       ]
      },
      {
       "output_type": "stream",
       "stream": "stdout",
       "text": [
        "\u001b[1A\u001b[2K\r",
        "9bad880da3d2: Downloading 6.337 MB/67.49 MB\r",
        "\u001b[1B"
       ]
      },
      {
       "output_type": "stream",
       "stream": "stdout",
       "text": [
        "\u001b[1A\u001b[2K\r",
        "9bad880da3d2: Downloading 6.866 MB/67.49 MB\r",
        "\u001b[1B"
       ]
      },
      {
       "output_type": "stream",
       "stream": "stdout",
       "text": [
        "\u001b[1A\u001b[2K\r",
        "9bad880da3d2: Downloading 7.394 MB/67.49 MB\r",
        "\u001b[1B"
       ]
      },
      {
       "output_type": "stream",
       "stream": "stdout",
       "text": [
        "\u001b[1A\u001b[2K\r",
        "9bad880da3d2: Downloading 7.923 MB/67.49 MB\r",
        "\u001b[1B"
       ]
      },
      {
       "output_type": "stream",
       "stream": "stdout",
       "text": [
        "\u001b[1A\u001b[2K\r",
        "9bad880da3d2: Downloading 8.451 MB/67.49 MB\r",
        "\u001b[1B"
       ]
      },
      {
       "output_type": "stream",
       "stream": "stdout",
       "text": [
        "\u001b[1A\u001b[2K\r",
        "9bad880da3d2: Downloading 8.979 MB/67.49 MB\r",
        "\u001b[1B"
       ]
      },
      {
       "output_type": "stream",
       "stream": "stdout",
       "text": [
        "\u001b[1A\u001b[2K\r",
        "9bad880da3d2: Downloading 9.508 MB/67.49 MB\r",
        "\u001b[1B"
       ]
      },
      {
       "output_type": "stream",
       "stream": "stdout",
       "text": [
        "\u001b[1A\u001b[2K\r",
        "9bad880da3d2: Downloading 10.04 MB/67.49 MB\r",
        "\u001b[1B"
       ]
      },
      {
       "output_type": "stream",
       "stream": "stdout",
       "text": [
        "\u001b[1A\u001b[2K\r",
        "9bad880da3d2: Downloading 10.56 MB/67.49 MB\r",
        "\u001b[1B"
       ]
      },
      {
       "output_type": "stream",
       "stream": "stdout",
       "text": [
        "\u001b[1A\u001b[2K\r",
        "9bad880da3d2: Downloading 11.09 MB/67.49 MB\r",
        "\u001b[1B"
       ]
      },
      {
       "output_type": "stream",
       "stream": "stdout",
       "text": [
        "\u001b[1A\u001b[2K\r",
        "9bad880da3d2: Downloading 11.62 MB/67.49 MB\r",
        "\u001b[1B"
       ]
      },
      {
       "output_type": "stream",
       "stream": "stdout",
       "text": [
        "\u001b[1A\u001b[2K\r",
        "9bad880da3d2: Downloading 12.15 MB/67.49 MB\r",
        "\u001b[1B"
       ]
      },
      {
       "output_type": "stream",
       "stream": "stdout",
       "text": [
        "\u001b[1A\u001b[2K\r",
        "9bad880da3d2: Downloading 12.68 MB/67.49 MB\r",
        "\u001b[1B"
       ]
      },
      {
       "output_type": "stream",
       "stream": "stdout",
       "text": [
        "\u001b[1A\u001b[2K\r",
        "9bad880da3d2: Downloading 13.21 MB/67.49 MB\r",
        "\u001b[1B"
       ]
      },
      {
       "output_type": "stream",
       "stream": "stdout",
       "text": [
        "\u001b[1A\u001b[2K\r",
        "9bad880da3d2: Downloading 13.73 MB/67.49 MB\r",
        "\u001b[1B"
       ]
      },
      {
       "output_type": "stream",
       "stream": "stdout",
       "text": [
        "\u001b[1A\u001b[2K\r",
        "9bad880da3d2: Downloading 14.26 MB/67.49 MB\r",
        "\u001b[1B"
       ]
      },
      {
       "output_type": "stream",
       "stream": "stdout",
       "text": [
        "\u001b[1A\u001b[2K\r",
        "9bad880da3d2: Downloading 14.79 MB/67.49 MB\r",
        "\u001b[1B"
       ]
      },
      {
       "output_type": "stream",
       "stream": "stdout",
       "text": [
        "\u001b[1A\u001b[2K\r",
        "9bad880da3d2: Downloading 15.32 MB/67.49 MB\r",
        "\u001b[1B"
       ]
      },
      {
       "output_type": "stream",
       "stream": "stdout",
       "text": [
        "\u001b[1A\u001b[2K\r",
        "9bad880da3d2: Downloading 15.85 MB/67.49 MB\r",
        "\u001b[1B"
       ]
      },
      {
       "output_type": "stream",
       "stream": "stdout",
       "text": [
        "\u001b[1A\u001b[2K\r",
        "9bad880da3d2: Downloading 16.38 MB/67.49 MB\r",
        "\u001b[1B"
       ]
      },
      {
       "output_type": "stream",
       "stream": "stdout",
       "text": [
        "\u001b[1A\u001b[2K\r",
        "9bad880da3d2: Downloading 16.91 MB/67.49 MB\r",
        "\u001b[1B"
       ]
      },
      {
       "output_type": "stream",
       "stream": "stdout",
       "text": [
        "\u001b[1A\u001b[2K\r",
        "9bad880da3d2: Downloading 17.43 MB/67.49 MB\r",
        "\u001b[1B"
       ]
      },
      {
       "output_type": "stream",
       "stream": "stdout",
       "text": [
        "\u001b[1A\u001b[2K\r",
        "9bad880da3d2: Downloading 17.96 MB/67.49 MB\r",
        "\u001b[1B"
       ]
      },
      {
       "output_type": "stream",
       "stream": "stdout",
       "text": [
        "\u001b[1A\u001b[2K\r",
        "9bad880da3d2: Downloading 18.49 MB/67.49 MB\r",
        "\u001b[1B"
       ]
      },
      {
       "output_type": "stream",
       "stream": "stdout",
       "text": [
        "\u001b[1A\u001b[2K\r",
        "9bad880da3d2: Downloading 19.02 MB/67.49 MB\r",
        "\u001b[1B"
       ]
      },
      {
       "output_type": "stream",
       "stream": "stdout",
       "text": [
        "\u001b[1A\u001b[2K\r",
        "9bad880da3d2: Downloading 19.54 MB/67.49 MB\r",
        "\u001b[1B"
       ]
      },
      {
       "output_type": "stream",
       "stream": "stdout",
       "text": [
        "\u001b[1A\u001b[2K\r",
        "9bad880da3d2: Downloading 20.07 MB/67.49 MB\r",
        "\u001b[1B"
       ]
      },
      {
       "output_type": "stream",
       "stream": "stdout",
       "text": [
        "\u001b[1A\u001b[2K\r",
        "9bad880da3d2: Downloading  20.6 MB/67.49 MB\r",
        "\u001b[1B"
       ]
      },
      {
       "output_type": "stream",
       "stream": "stdout",
       "text": [
        "\u001b[1A\u001b[2K\r",
        "9bad880da3d2: Downloading 21.13 MB/67.49 MB\r",
        "\u001b[1B"
       ]
      },
      {
       "output_type": "stream",
       "stream": "stdout",
       "text": [
        "\u001b[1A\u001b[2K\r",
        "9bad880da3d2: Downloading 21.66 MB/67.49 MB\r",
        "\u001b[1B"
       ]
      },
      {
       "output_type": "stream",
       "stream": "stdout",
       "text": [
        "\u001b[1A\u001b[2K\r",
        "9bad880da3d2: Downloading 22.19 MB/67.49 MB\r",
        "\u001b[1B"
       ]
      },
      {
       "output_type": "stream",
       "stream": "stdout",
       "text": [
        "\u001b[1A\u001b[2K\r",
        "9bad880da3d2: Downloading 22.71 MB/67.49 MB\r",
        "\u001b[1B"
       ]
      },
      {
       "output_type": "stream",
       "stream": "stdout",
       "text": [
        "\u001b[1A\u001b[2K\r",
        "9bad880da3d2: Downloading 23.24 MB/67.49 MB\r",
        "\u001b[1B"
       ]
      },
      {
       "output_type": "stream",
       "stream": "stdout",
       "text": [
        "\u001b[1A\u001b[2K\r",
        "9bad880da3d2: Downloading 23.77 MB/67.49 MB\r",
        "\u001b[1B"
       ]
      },
      {
       "output_type": "stream",
       "stream": "stdout",
       "text": [
        "\u001b[1A\u001b[2K\r",
        "9bad880da3d2: Downloading  24.3 MB/67.49 MB\r",
        "\u001b[1B"
       ]
      },
      {
       "output_type": "stream",
       "stream": "stdout",
       "text": [
        "\u001b[1A\u001b[2K\r",
        "9bad880da3d2: Downloading 24.83 MB/67.49 MB\r",
        "\u001b[1B"
       ]
      },
      {
       "output_type": "stream",
       "stream": "stdout",
       "text": [
        "\u001b[1A\u001b[2K\r",
        "9bad880da3d2: Downloading 25.36 MB/67.49 MB\r",
        "\u001b[1B"
       ]
      },
      {
       "output_type": "stream",
       "stream": "stdout",
       "text": [
        "\u001b[1A\u001b[2K\r",
        "9bad880da3d2: Downloading 25.88 MB/67.49 MB\r",
        "\u001b[1B"
       ]
      },
      {
       "output_type": "stream",
       "stream": "stdout",
       "text": [
        "\u001b[1A\u001b[2K\r",
        "9bad880da3d2: Downloading 26.41 MB/67.49 MB\r",
        "\u001b[1B"
       ]
      },
      {
       "output_type": "stream",
       "stream": "stdout",
       "text": [
        "\u001b[1A\u001b[2K\r",
        "9bad880da3d2: Downloading 26.94 MB/67.49 MB\r",
        "\u001b[1B"
       ]
      },
      {
       "output_type": "stream",
       "stream": "stdout",
       "text": [
        "\u001b[1A\u001b[2K\r",
        "9bad880da3d2: Downloading 27.47 MB/67.49 MB\r",
        "\u001b[1B"
       ]
      },
      {
       "output_type": "stream",
       "stream": "stdout",
       "text": [
        "\u001b[1A\u001b[2K\r",
        "9bad880da3d2: Downloading    28 MB/67.49 MB\r",
        "\u001b[1B"
       ]
      },
      {
       "output_type": "stream",
       "stream": "stdout",
       "text": [
        "\u001b[1A\u001b[2K\r",
        "9bad880da3d2: Downloading 28.53 MB/67.49 MB\r",
        "\u001b[1B"
       ]
      },
      {
       "output_type": "stream",
       "stream": "stdout",
       "text": [
        "\u001b[1A\u001b[2K\r",
        "9bad880da3d2: Downloading 29.05 MB/67.49 MB\r",
        "\u001b[1B"
       ]
      },
      {
       "output_type": "stream",
       "stream": "stdout",
       "text": [
        "\u001b[1A\u001b[2K\r",
        "9bad880da3d2: Downloading 29.58 MB/67.49 MB\r",
        "\u001b[1B"
       ]
      },
      {
       "output_type": "stream",
       "stream": "stdout",
       "text": [
        "\u001b[1A\u001b[2K\r",
        "9bad880da3d2: Downloading 30.11 MB/67.49 MB\r",
        "\u001b[1B"
       ]
      },
      {
       "output_type": "stream",
       "stream": "stdout",
       "text": [
        "\u001b[1A\u001b[2K\r",
        "9bad880da3d2: Downloading 30.64 MB/67.49 MB\r",
        "\u001b[1B"
       ]
      },
      {
       "output_type": "stream",
       "stream": "stdout",
       "text": [
        "\u001b[1A\u001b[2K\r",
        "9bad880da3d2: Downloading 31.16 MB/67.49 MB\r",
        "\u001b[1B"
       ]
      },
      {
       "output_type": "stream",
       "stream": "stdout",
       "text": [
        "\u001b[1A\u001b[2K\r",
        "9bad880da3d2: Downloading 31.69 MB/67.49 MB\r",
        "\u001b[1B"
       ]
      },
      {
       "output_type": "stream",
       "stream": "stdout",
       "text": [
        "\u001b[1A\u001b[2K\r",
        "9bad880da3d2: Downloading 32.22 MB/67.49 MB\r",
        "\u001b[1B"
       ]
      },
      {
       "output_type": "stream",
       "stream": "stdout",
       "text": [
        "\u001b[1A\u001b[2K\r",
        "9bad880da3d2: Downloading 32.75 MB/67.49 MB\r",
        "\u001b[1B"
       ]
      },
      {
       "output_type": "stream",
       "stream": "stdout",
       "text": [
        "\u001b[1A\u001b[2K\r",
        "9bad880da3d2: Downloading 33.28 MB/67.49 MB\r",
        "\u001b[1B"
       ]
      },
      {
       "output_type": "stream",
       "stream": "stdout",
       "text": [
        "\u001b[1A\u001b[2K\r",
        "9bad880da3d2: Downloading 33.81 MB/67.49 MB\r",
        "\u001b[1B"
       ]
      },
      {
       "output_type": "stream",
       "stream": "stdout",
       "text": [
        "\u001b[1A\u001b[2K\r",
        "9bad880da3d2: Downloading 34.33 MB/67.49 MB\r",
        "\u001b[1B"
       ]
      },
      {
       "output_type": "stream",
       "stream": "stdout",
       "text": [
        "\u001b[1A\u001b[2K\r",
        "9bad880da3d2: Downloading 34.86 MB/67.49 MB\r",
        "\u001b[1B"
       ]
      },
      {
       "output_type": "stream",
       "stream": "stdout",
       "text": [
        "\u001b[1A\u001b[2K\r",
        "9bad880da3d2: Downloading 35.39 MB/67.49 MB\r",
        "\u001b[1B"
       ]
      },
      {
       "output_type": "stream",
       "stream": "stdout",
       "text": [
        "\u001b[1A\u001b[2K\r",
        "9bad880da3d2: Downloading 35.92 MB/67.49 MB\r",
        "\u001b[1B"
       ]
      },
      {
       "output_type": "stream",
       "stream": "stdout",
       "text": [
        "\u001b[1A\u001b[2K\r",
        "9bad880da3d2: Downloading 36.45 MB/67.49 MB\r",
        "\u001b[1B"
       ]
      },
      {
       "output_type": "stream",
       "stream": "stdout",
       "text": [
        "\u001b[1A\u001b[2K\r",
        "9bad880da3d2: Downloading 36.98 MB/67.49 MB\r",
        "\u001b[1B"
       ]
      },
      {
       "output_type": "stream",
       "stream": "stdout",
       "text": [
        "\u001b[1A\u001b[2K\r",
        "9bad880da3d2: Downloading  37.5 MB/67.49 MB\r",
        "\u001b[1B"
       ]
      },
      {
       "output_type": "stream",
       "stream": "stdout",
       "text": [
        "\u001b[1A\u001b[2K\r",
        "9bad880da3d2: Downloading 38.03 MB/67.49 MB\r",
        "\u001b[1B"
       ]
      },
      {
       "output_type": "stream",
       "stream": "stdout",
       "text": [
        "\u001b[1A\u001b[2K\r",
        "9bad880da3d2: Downloading 38.56 MB/67.49 MB\r",
        "\u001b[1B"
       ]
      },
      {
       "output_type": "stream",
       "stream": "stdout",
       "text": [
        "\u001b[1A\u001b[2K\r",
        "9bad880da3d2: Downloading 39.09 MB/67.49 MB\r",
        "\u001b[1B"
       ]
      },
      {
       "output_type": "stream",
       "stream": "stdout",
       "text": [
        "\u001b[1A\u001b[2K\r",
        "9bad880da3d2: Downloading 39.62 MB/67.49 MB\r",
        "\u001b[1B"
       ]
      },
      {
       "output_type": "stream",
       "stream": "stdout",
       "text": [
        "\u001b[1A\u001b[2K\r",
        "9bad880da3d2: Downloading 40.15 MB/67.49 MB\r",
        "\u001b[1B"
       ]
      },
      {
       "output_type": "stream",
       "stream": "stdout",
       "text": [
        "\u001b[1A\u001b[2K\r",
        "9bad880da3d2: Downloading 40.68 MB/67.49 MB\r",
        "\u001b[1B"
       ]
      },
      {
       "output_type": "stream",
       "stream": "stdout",
       "text": [
        "\u001b[1A\u001b[2K\r",
        "9bad880da3d2: Downloading  41.2 MB/67.49 MB\r",
        "\u001b[1B"
       ]
      },
      {
       "output_type": "stream",
       "stream": "stdout",
       "text": [
        "\u001b[1A\u001b[2K\r",
        "9bad880da3d2: Downloading 41.73 MB/67.49 MB\r",
        "\u001b[1B"
       ]
      },
      {
       "output_type": "stream",
       "stream": "stdout",
       "text": [
        "\u001b[1A\u001b[2K\r",
        "9bad880da3d2: Downloading 42.26 MB/67.49 MB\r",
        "\u001b[1B"
       ]
      },
      {
       "output_type": "stream",
       "stream": "stdout",
       "text": [
        "\u001b[1A\u001b[2K\r",
        "9bad880da3d2: Downloading 42.78 MB/67.49 MB\r",
        "\u001b[1B"
       ]
      },
      {
       "output_type": "stream",
       "stream": "stdout",
       "text": [
        "\u001b[1A\u001b[2K\r",
        "9bad880da3d2: Downloading 43.31 MB/67.49 MB\r",
        "\u001b[1B"
       ]
      },
      {
       "output_type": "stream",
       "stream": "stdout",
       "text": [
        "\u001b[1A\u001b[2K\r",
        "9bad880da3d2: Downloading 43.84 MB/67.49 MB\r",
        "\u001b[1B"
       ]
      },
      {
       "output_type": "stream",
       "stream": "stdout",
       "text": [
        "\u001b[1A\u001b[2K\r",
        "9bad880da3d2: Downloading 44.37 MB/67.49 MB\r",
        "\u001b[1B"
       ]
      },
      {
       "output_type": "stream",
       "stream": "stdout",
       "text": [
        "\u001b[1A\u001b[2K\r",
        "9bad880da3d2: Downloading  44.9 MB/67.49 MB\r",
        "\u001b[1B"
       ]
      },
      {
       "output_type": "stream",
       "stream": "stdout",
       "text": [
        "\u001b[1A\u001b[2K\r",
        "9bad880da3d2: Downloading 45.43 MB/67.49 MB\r",
        "\u001b[1B"
       ]
      },
      {
       "output_type": "stream",
       "stream": "stdout",
       "text": [
        "\u001b[1A\u001b[2K\r",
        "9bad880da3d2: Downloading 45.95 MB/67.49 MB\r",
        "\u001b[1B"
       ]
      },
      {
       "output_type": "stream",
       "stream": "stdout",
       "text": [
        "\u001b[1A\u001b[2K\r",
        "9bad880da3d2: Downloading 46.48 MB/67.49 MB\r",
        "\u001b[1B"
       ]
      },
      {
       "output_type": "stream",
       "stream": "stdout",
       "text": [
        "\u001b[1A\u001b[2K\r",
        "9bad880da3d2: Downloading 47.01 MB/67.49 MB\r",
        "\u001b[1B"
       ]
      },
      {
       "output_type": "stream",
       "stream": "stdout",
       "text": [
        "\u001b[1A\u001b[2K\r",
        "9bad880da3d2: Downloading 47.54 MB/67.49 MB\r",
        "\u001b[1B"
       ]
      },
      {
       "output_type": "stream",
       "stream": "stdout",
       "text": [
        "\u001b[1A\u001b[2K\r",
        "9bad880da3d2: Downloading 48.07 MB/67.49 MB\r",
        "\u001b[1B"
       ]
      },
      {
       "output_type": "stream",
       "stream": "stdout",
       "text": [
        "\u001b[1A\u001b[2K\r",
        "9bad880da3d2: Downloading 48.59 MB/67.49 MB\r",
        "\u001b[1B"
       ]
      },
      {
       "output_type": "stream",
       "stream": "stdout",
       "text": [
        "\u001b[1A\u001b[2K\r",
        "9bad880da3d2: Downloading 49.12 MB/67.49 MB\r",
        "\u001b[1B"
       ]
      },
      {
       "output_type": "stream",
       "stream": "stdout",
       "text": [
        "\u001b[1A\u001b[2K\r",
        "9bad880da3d2: Downloading 49.65 MB/67.49 MB\r",
        "\u001b[1B"
       ]
      },
      {
       "output_type": "stream",
       "stream": "stdout",
       "text": [
        "\u001b[1A\u001b[2K\r",
        "9bad880da3d2: Downloading 50.18 MB/67.49 MB\r",
        "\u001b[1B"
       ]
      },
      {
       "output_type": "stream",
       "stream": "stdout",
       "text": [
        "\u001b[1A\u001b[2K\r",
        "9bad880da3d2: Downloading  50.7 MB/67.49 MB\r",
        "\u001b[1B"
       ]
      },
      {
       "output_type": "stream",
       "stream": "stdout",
       "text": [
        "\u001b[1A\u001b[2K\r",
        "9bad880da3d2: Downloading 51.23 MB/67.49 MB\r",
        "\u001b[1B"
       ]
      },
      {
       "output_type": "stream",
       "stream": "stdout",
       "text": [
        "\u001b[1A\u001b[2K\r",
        "9bad880da3d2: Downloading 51.76 MB/67.49 MB\r",
        "\u001b[1B"
       ]
      },
      {
       "output_type": "stream",
       "stream": "stdout",
       "text": [
        "\u001b[1A\u001b[2K\r",
        "9bad880da3d2: Downloading 52.29 MB/67.49 MB\r",
        "\u001b[1B"
       ]
      },
      {
       "output_type": "stream",
       "stream": "stdout",
       "text": [
        "\u001b[1A\u001b[2K\r",
        "9bad880da3d2: Downloading 52.82 MB/67.49 MB\r",
        "\u001b[1B"
       ]
      },
      {
       "output_type": "stream",
       "stream": "stdout",
       "text": [
        "\u001b[1A\u001b[2K\r",
        "9bad880da3d2: Downloading 53.35 MB/67.49 MB\r",
        "\u001b[1B"
       ]
      },
      {
       "output_type": "stream",
       "stream": "stdout",
       "text": [
        "\u001b[1A\u001b[2K\r",
        "9bad880da3d2: Downloading 53.87 MB/67.49 MB\r",
        "\u001b[1B"
       ]
      },
      {
       "output_type": "stream",
       "stream": "stdout",
       "text": [
        "\u001b[1A\u001b[2K\r",
        "9bad880da3d2: Downloading  54.4 MB/67.49 MB\r",
        "\u001b[1B"
       ]
      },
      {
       "output_type": "stream",
       "stream": "stdout",
       "text": [
        "\u001b[1A\u001b[2K\r",
        "9bad880da3d2: Downloading 54.93 MB/67.49 MB\r",
        "\u001b[1B"
       ]
      },
      {
       "output_type": "stream",
       "stream": "stdout",
       "text": [
        "\u001b[1A\u001b[2K\r",
        "9bad880da3d2: Downloading 55.46 MB/67.49 MB\r",
        "\u001b[1B"
       ]
      },
      {
       "output_type": "stream",
       "stream": "stdout",
       "text": [
        "\u001b[1A\u001b[2K\r",
        "9bad880da3d2: Downloading 55.99 MB/67.49 MB\r",
        "\u001b[1B"
       ]
      },
      {
       "output_type": "stream",
       "stream": "stdout",
       "text": [
        "\u001b[1A\u001b[2K\r",
        "9bad880da3d2: Downloading 56.52 MB/67.49 MB\r",
        "\u001b[1B"
       ]
      },
      {
       "output_type": "stream",
       "stream": "stdout",
       "text": [
        "\u001b[1A\u001b[2K\r",
        "9bad880da3d2: Downloading 57.04 MB/67.49 MB\r",
        "\u001b[1B"
       ]
      },
      {
       "output_type": "stream",
       "stream": "stdout",
       "text": [
        "\u001b[1A\u001b[2K\r",
        "9bad880da3d2: Downloading 57.57 MB/67.49 MB\r",
        "\u001b[1B"
       ]
      },
      {
       "output_type": "stream",
       "stream": "stdout",
       "text": [
        "\u001b[1A\u001b[2K\r",
        "9bad880da3d2: Downloading  58.1 MB/67.49 MB\r",
        "\u001b[1B"
       ]
      },
      {
       "output_type": "stream",
       "stream": "stdout",
       "text": [
        "\u001b[1A\u001b[2K\r",
        "9bad880da3d2: Downloading 58.63 MB/67.49 MB\r",
        "\u001b[1B"
       ]
      },
      {
       "output_type": "stream",
       "stream": "stdout",
       "text": [
        "\u001b[1A\u001b[2K\r",
        "9bad880da3d2: Downloading 59.16 MB/67.49 MB\r",
        "\u001b[1B"
       ]
      },
      {
       "output_type": "stream",
       "stream": "stdout",
       "text": [
        "\u001b[1A\u001b[2K\r",
        "9bad880da3d2: Downloading 59.69 MB/67.49 MB\r",
        "\u001b[1B"
       ]
      },
      {
       "output_type": "stream",
       "stream": "stdout",
       "text": [
        "\u001b[1A\u001b[2K\r",
        "9bad880da3d2: Downloading 60.21 MB/67.49 MB\r",
        "\u001b[1B"
       ]
      },
      {
       "output_type": "stream",
       "stream": "stdout",
       "text": [
        "\u001b[1A\u001b[2K\r",
        "9bad880da3d2: Downloading 60.74 MB/67.49 MB\r",
        "\u001b[1B"
       ]
      },
      {
       "output_type": "stream",
       "stream": "stdout",
       "text": [
        "\u001b[1A\u001b[2K\r",
        "9bad880da3d2: Downloading 61.27 MB/67.49 MB\r",
        "\u001b[1B"
       ]
      },
      {
       "output_type": "stream",
       "stream": "stdout",
       "text": [
        "\u001b[1A\u001b[2K\r",
        "9bad880da3d2: Downloading  61.8 MB/67.49 MB\r",
        "\u001b[1B"
       ]
      },
      {
       "output_type": "stream",
       "stream": "stdout",
       "text": [
        "\u001b[1A\u001b[2K\r",
        "9bad880da3d2: Downloading 62.33 MB/67.49 MB\r",
        "\u001b[1B"
       ]
      },
      {
       "output_type": "stream",
       "stream": "stdout",
       "text": [
        "\u001b[1A\u001b[2K\r",
        "9bad880da3d2: Downloading 62.86 MB/67.49 MB\r",
        "\u001b[1B"
       ]
      },
      {
       "output_type": "stream",
       "stream": "stdout",
       "text": [
        "\u001b[1A\u001b[2K\r",
        "9bad880da3d2: Downloading 63.38 MB/67.49 MB\r",
        "\u001b[1B"
       ]
      },
      {
       "output_type": "stream",
       "stream": "stdout",
       "text": [
        "\u001b[1A\u001b[2K\r",
        "9bad880da3d2: Downloading 63.91 MB/67.49 MB\r",
        "\u001b[1B"
       ]
      },
      {
       "output_type": "stream",
       "stream": "stdout",
       "text": [
        "\u001b[1A\u001b[2K\r",
        "9bad880da3d2: Downloading 64.44 MB/67.49 MB\r",
        "\u001b[1B"
       ]
      },
      {
       "output_type": "stream",
       "stream": "stdout",
       "text": [
        "\u001b[1A\u001b[2K\r",
        "9bad880da3d2: Downloading 64.97 MB/67.49 MB\r",
        "\u001b[1B"
       ]
      },
      {
       "output_type": "stream",
       "stream": "stdout",
       "text": [
        "\u001b[1A\u001b[2K\r",
        "9bad880da3d2: Downloading  65.5 MB/67.49 MB\r",
        "\u001b[1B"
       ]
      },
      {
       "output_type": "stream",
       "stream": "stdout",
       "text": [
        "\u001b[1A\u001b[2K\r",
        "9bad880da3d2: Downloading 66.02 MB/67.49 MB\r",
        "\u001b[1B"
       ]
      },
      {
       "output_type": "stream",
       "stream": "stdout",
       "text": [
        "\u001b[1A\u001b[2K\r",
        "9bad880da3d2: Downloading 66.55 MB/67.49 MB\r",
        "\u001b[1B"
       ]
      },
      {
       "output_type": "stream",
       "stream": "stdout",
       "text": [
        "\u001b[1A\u001b[2K\r",
        "9bad880da3d2: Downloading 67.08 MB/67.49 MB\r",
        "\u001b[1B"
       ]
      },
      {
       "output_type": "stream",
       "stream": "stdout",
       "text": [
        "\u001b[1A\u001b[2K\r",
        "9bad880da3d2: Downloading 67.49 MB/67.49 MB\r",
        "\u001b[1B"
       ]
      },
      {
       "output_type": "stream",
       "stream": "stdout",
       "text": [
        "\u001b[1A\u001b[2K\r",
        "9bad880da3d2: Download complete \r",
        "\u001b[1B\r\n",
        "\u001b[0A\u001b[2K\r",
        "25f11f5fb0cb: Pulling metadata \r",
        "\u001b[0B"
       ]
      },
      {
       "output_type": "stream",
       "stream": "stdout",
       "text": [
        "\u001b[1A\u001b[2K\r",
        "25f11f5fb0cb: Pulling fs layer \r",
        "\u001b[1B"
       ]
      },
      {
       "output_type": "stream",
       "stream": "stdout",
       "text": [
        "\u001b[1A\u001b[2K\r",
        "25f11f5fb0cb: Downloading 3.649 kB/71.39 kB\r",
        "\u001b[1B\u001b[1A\u001b[2K\r",
        "25f11f5fb0cb: Downloading 7.745 kB/71.39 kB\r",
        "\u001b[1B"
       ]
      },
      {
       "output_type": "stream",
       "stream": "stdout",
       "text": [
        "\u001b[1A\u001b[2K\r",
        "25f11f5fb0cb: Downloading 11.84 kB/71.39 kB\r",
        "\u001b[1B\u001b[1A\u001b[2K\r",
        "25f11f5fb0cb: Downloading 13.69 kB/71.39 kB\r",
        "\u001b[1B\u001b[1A\u001b[2K\r",
        "25f11f5fb0cb: Downloading 17.78 kB/71.39 kB\r",
        "\u001b[1B\u001b[1A\u001b[2K\r",
        "25f11f5fb0cb: Downloading 21.88 kB/71.39 kB\r",
        "\u001b[1B\u001b[1A\u001b[2K\r",
        "25f11f5fb0cb: Downloading 25.27 kB/71.39 kB\r",
        "\u001b[1B\u001b[1A\u001b[2K\r",
        "25f11f5fb0cb: Downloading 29.37 kB/71.39 kB\r",
        "\u001b[1B\u001b[1A\u001b[2K\r",
        "25f11f5fb0cb: Downloading 33.46 kB/71.39 kB\r",
        "\u001b[1B\u001b[1A\u001b[2K\r",
        "25f11f5fb0cb: Downloading 37.56 kB/71.39 kB\r",
        "\u001b[1B\u001b[1A\u001b[2K\r",
        "25f11f5fb0cb: Downloading 41.66 kB/71.39 kB\r",
        "\u001b[1B\u001b[1A\u001b[2K\r",
        "25f11f5fb0cb: Downloading 42.65 kB/71.39 kB\r",
        "\u001b[1B\u001b[1A\u001b[2K\r",
        "25f11f5fb0cb: Downloading 46.74 kB/71.39 kB\r",
        "\u001b[1B\u001b[1A\u001b[2K\r",
        "25f11f5fb0cb: Downloading 50.84 kB/71.39 kB\r",
        "\u001b[1B\u001b[1A\u001b[2K\r",
        "25f11f5fb0cb: Downloading 54.94 kB/71.39 kB\r",
        "\u001b[1B\u001b[1A\u001b[2K\r",
        "25f11f5fb0cb: Downloading 55.68 kB/71.39 kB\r",
        "\u001b[1B"
       ]
      },
      {
       "output_type": "stream",
       "stream": "stdout",
       "text": [
        "\u001b[1A\u001b[2K\r",
        "25f11f5fb0cb: Downloading 59.78 kB/71.39 kB\r",
        "\u001b[1B\u001b[1A\u001b[2K\r",
        "25f11f5fb0cb: Downloading 63.87 kB/71.39 kB\r",
        "\u001b[1B\u001b[1A\u001b[2K\r",
        "25f11f5fb0cb: Downloading 67.97 kB/71.39 kB\r",
        "\u001b[1B\u001b[1A\u001b[2K\r",
        "25f11f5fb0cb: Downloading 71.39 kB/71.39 kB\r",
        "\u001b[1B"
       ]
      },
      {
       "output_type": "stream",
       "stream": "stdout",
       "text": [
        "\u001b[1A\u001b[2K\r",
        "25f11f5fb0cb: Download complete \r",
        "\u001b[1B\r\n",
        "\u001b[0A\u001b[2K\r",
        "ebc34468f71d: Pulling metadata \r",
        "\u001b[0B"
       ]
      },
      {
       "output_type": "stream",
       "stream": "stdout",
       "text": [
        "\u001b[1A\u001b[2K\r",
        "ebc34468f71d: Pulling fs layer \r",
        "\u001b[1B"
       ]
      },
      {
       "output_type": "stream",
       "stream": "stdout",
       "text": [
        "\u001b[1A\u001b[2K\r",
        "ebc34468f71d: Downloading    641 B/641 B\r",
        "\u001b[1B"
       ]
      },
      {
       "output_type": "stream",
       "stream": "stdout",
       "text": [
        "\u001b[1A\u001b[2K\r",
        "ebc34468f71d: Download complete \r",
        "\u001b[1B\r\n",
        "\u001b[0A\u001b[2K\r",
        "2318d26665ef: Pulling metadata \r",
        "\u001b[0B"
       ]
      },
      {
       "output_type": "stream",
       "stream": "stdout",
       "text": [
        "\u001b[1A\u001b[2K\r",
        "2318d26665ef: Pulling fs layer \r",
        "\u001b[1B"
       ]
      },
      {
       "output_type": "stream",
       "stream": "stdout",
       "text": [
        "\u001b[1A\u001b[2K\r",
        "2318d26665ef: Downloading    871 B/871 B\r",
        "\u001b[1B"
       ]
      },
      {
       "output_type": "stream",
       "stream": "stdout",
       "text": [
        "\u001b[1A\u001b[2K\r",
        "2318d26665ef: Download complete \r",
        "\u001b[1B\r\n",
        "\u001b[0A\u001b[2K\r",
        "ba5877dc9bec: Pulling metadata \r",
        "\u001b[0B"
       ]
      },
      {
       "output_type": "stream",
       "stream": "stdout",
       "text": [
        "\u001b[1A\u001b[2K\r",
        "ba5877dc9bec: Pulling fs layer \r",
        "\u001b[1B"
       ]
      },
      {
       "output_type": "stream",
       "stream": "stdout",
       "text": [
        "\u001b[1A\u001b[2K\r",
        "ba5877dc9bec: Downloading    180 B/180 B\r",
        "\u001b[1B"
       ]
      },
      {
       "output_type": "stream",
       "stream": "stdout",
       "text": [
        "\u001b[1A\u001b[2K\r",
        "ba5877dc9bec: Download complete \r",
        "\u001b[1B\r\n",
        "\u001b[0A\u001b[2K\r",
        "c95b91a38c0b: Pulling metadata \r",
        "\u001b[0B"
       ]
      },
      {
       "output_type": "stream",
       "stream": "stdout",
       "text": [
        "\u001b[1A\u001b[2K\r",
        "c95b91a38c0b: Pulling fs layer \r",
        "\u001b[1B"
       ]
      },
      {
       "output_type": "stream",
       "stream": "stdout",
       "text": [
        "\u001b[1A\u001b[2K\r",
        "c95b91a38c0b: Downloading     23 B/23 B\r",
        "\u001b[1B"
       ]
      },
      {
       "output_type": "stream",
       "stream": "stdout",
       "text": [
        "\u001b[1A\u001b[2K\r",
        "c95b91a38c0b: Download complete \r",
        "\u001b[1B\r\n",
        "\u001b[0A\u001b[2K\r",
        "397517f35813: Pulling metadata \r",
        "\u001b[0B"
       ]
      },
      {
       "output_type": "stream",
       "stream": "stdout",
       "text": [
        "\u001b[1A\u001b[2K\r",
        "397517f35813: Pulling fs layer \r",
        "\u001b[1B"
       ]
      },
      {
       "output_type": "stream",
       "stream": "stdout",
       "text": [
        "\u001b[1A\u001b[2K\r",
        "397517f35813: Downloading     23 B/23 B\r",
        "\u001b[1B"
       ]
      },
      {
       "output_type": "stream",
       "stream": "stdout",
       "text": [
        "\u001b[1A\u001b[2K\r",
        "397517f35813: Download complete \r",
        "\u001b[1B\r\n",
        "\u001b[0A\u001b[2K\r",
        "4a75c55b1a26: Pulling metadata \r",
        "\u001b[0B"
       ]
      },
      {
       "output_type": "stream",
       "stream": "stdout",
       "text": [
        "\u001b[1A\u001b[2K\r",
        "4a75c55b1a26: Pulling fs layer \r",
        "\u001b[1B"
       ]
      },
      {
       "output_type": "stream",
       "stream": "stdout",
       "text": [
        "\u001b[1A\u001b[2K\r",
        "4a75c55b1a26: Downloading     23 B/23 B\r",
        "\u001b[1B"
       ]
      },
      {
       "output_type": "stream",
       "stream": "stdout",
       "text": [
        "\u001b[1A\u001b[2K\r",
        "4a75c55b1a26: Download complete \r",
        "\u001b[1B\r\n",
        "\u001b[0A\u001b[2K\r",
        "b5cd7abd3e1c: Pulling metadata \r",
        "\u001b[0B"
       ]
      },
      {
       "output_type": "stream",
       "stream": "stdout",
       "text": [
        "\u001b[1A\u001b[2K\r",
        "b5cd7abd3e1c: Pulling fs layer \r",
        "\u001b[1B"
       ]
      },
      {
       "output_type": "stream",
       "stream": "stdout",
       "text": [
        "\u001b[1A\u001b[2K\r",
        "b5cd7abd3e1c: Downloading 202.7 kB/19.88 MB\r",
        "\u001b[1B"
       ]
      },
      {
       "output_type": "stream",
       "stream": "stdout",
       "text": [
        "\u001b[1A\u001b[2K\r",
        "b5cd7abd3e1c: Downloading 406.2 kB/19.88 MB\r",
        "\u001b[1B"
       ]
      },
      {
       "output_type": "stream",
       "stream": "stdout",
       "text": [
        "\u001b[1A\u001b[2K\r",
        "b5cd7abd3e1c: Downloading 608.9 kB/19.88 MB\r",
        "\u001b[1B"
       ]
      },
      {
       "output_type": "stream",
       "stream": "stdout",
       "text": [
        "\u001b[1A\u001b[2K\r",
        "b5cd7abd3e1c: Downloading 812.7 kB/19.88 MB\r",
        "\u001b[1B"
       ]
      },
      {
       "output_type": "stream",
       "stream": "stdout",
       "text": [
        "\u001b[1A\u001b[2K\r",
        "b5cd7abd3e1c: Downloading 1.015 MB/19.88 MB\r",
        "\u001b[1B"
       ]
      },
      {
       "output_type": "stream",
       "stream": "stdout",
       "text": [
        "\u001b[1A\u001b[2K\r",
        "b5cd7abd3e1c: Downloading 1.217 MB/19.88 MB\r",
        "\u001b[1B"
       ]
      },
      {
       "output_type": "stream",
       "stream": "stdout",
       "text": [
        "\u001b[1A\u001b[2K\r",
        "b5cd7abd3e1c: Downloading 1.417 MB/19.88 MB\r",
        "\u001b[1B"
       ]
      },
      {
       "output_type": "stream",
       "stream": "stdout",
       "text": [
        "\u001b[1A\u001b[2K\r",
        "b5cd7abd3e1c: Downloading 1.619 MB/19.88 MB\r",
        "\u001b[1B"
       ]
      },
      {
       "output_type": "stream",
       "stream": "stdout",
       "text": [
        "\u001b[1A\u001b[2K\r",
        "b5cd7abd3e1c: Downloading 1.822 MB/19.88 MB\r",
        "\u001b[1B"
       ]
      },
      {
       "output_type": "stream",
       "stream": "stdout",
       "text": [
        "\u001b[1A\u001b[2K\r",
        "b5cd7abd3e1c: Downloading 2.025 MB/19.88 MB\r",
        "\u001b[1B"
       ]
      },
      {
       "output_type": "stream",
       "stream": "stdout",
       "text": [
        "\u001b[1A\u001b[2K\r",
        "b5cd7abd3e1c: Downloading 2.232 MB/19.88 MB\r",
        "\u001b[1B"
       ]
      },
      {
       "output_type": "stream",
       "stream": "stdout",
       "text": [
        "\u001b[1A\u001b[2K\r",
        "b5cd7abd3e1c: Downloading 2.432 MB/19.88 MB\r",
        "\u001b[1B"
       ]
      },
      {
       "output_type": "stream",
       "stream": "stdout",
       "text": [
        "\u001b[1A\u001b[2K\r",
        "b5cd7abd3e1c: Downloading 2.642 MB/19.88 MB\r",
        "\u001b[1B"
       ]
      },
      {
       "output_type": "stream",
       "stream": "stdout",
       "text": [
        "\u001b[1A\u001b[2K\r",
        "b5cd7abd3e1c: Downloading 2.843 MB/19.88 MB\r",
        "\u001b[1B"
       ]
      },
      {
       "output_type": "stream",
       "stream": "stdout",
       "text": [
        "\u001b[1A\u001b[2K\r",
        "b5cd7abd3e1c: Downloading 3.043 MB/19.88 MB\r",
        "\u001b[1B"
       ]
      },
      {
       "output_type": "stream",
       "stream": "stdout",
       "text": [
        "\u001b[1A\u001b[2K\r",
        "b5cd7abd3e1c: Downloading 3.246 MB/19.88 MB\r",
        "\u001b[1B"
       ]
      },
      {
       "output_type": "stream",
       "stream": "stdout",
       "text": [
        "\u001b[1A\u001b[2K\r",
        "b5cd7abd3e1c: Downloading 3.446 MB/19.88 MB\r",
        "\u001b[1B"
       ]
      },
      {
       "output_type": "stream",
       "stream": "stdout",
       "text": [
        "\u001b[1A\u001b[2K\r",
        "b5cd7abd3e1c: Downloading 3.649 MB/19.88 MB\r",
        "\u001b[1B"
       ]
      },
      {
       "output_type": "stream",
       "stream": "stdout",
       "text": [
        "\u001b[1A\u001b[2K\r",
        "b5cd7abd3e1c: Downloading 3.855 MB/19.88 MB\r",
        "\u001b[1B"
       ]
      },
      {
       "output_type": "stream",
       "stream": "stdout",
       "text": [
        "\u001b[1A\u001b[2K\r",
        "b5cd7abd3e1c: Downloading 4.056 MB/19.88 MB\r",
        "\u001b[1B"
       ]
      },
      {
       "output_type": "stream",
       "stream": "stdout",
       "text": [
        "\u001b[1A\u001b[2K\r",
        "b5cd7abd3e1c: Downloading 4.265 MB/19.88 MB\r",
        "\u001b[1B"
       ]
      },
      {
       "output_type": "stream",
       "stream": "stdout",
       "text": [
        "\u001b[1A\u001b[2K\r",
        "b5cd7abd3e1c: Downloading 4.465 MB/19.88 MB\r",
        "\u001b[1B"
       ]
      },
      {
       "output_type": "stream",
       "stream": "stdout",
       "text": [
        "\u001b[1A\u001b[2K\r",
        "b5cd7abd3e1c: Downloading 4.674 MB/19.88 MB\r",
        "\u001b[1B"
       ]
      },
      {
       "output_type": "stream",
       "stream": "stdout",
       "text": [
        "\u001b[1A\u001b[2K\r",
        "b5cd7abd3e1c: Downloading 4.874 MB/19.88 MB\r",
        "\u001b[1B"
       ]
      },
      {
       "output_type": "stream",
       "stream": "stdout",
       "text": [
        "\u001b[1A\u001b[2K\r",
        "b5cd7abd3e1c: Downloading 5.076 MB/19.88 MB\r",
        "\u001b[1B"
       ]
      },
      {
       "output_type": "stream",
       "stream": "stdout",
       "text": [
        "\u001b[1A\u001b[2K\r",
        "b5cd7abd3e1c: Downloading 5.281 MB/19.88 MB\r",
        "\u001b[1B"
       ]
      },
      {
       "output_type": "stream",
       "stream": "stdout",
       "text": [
        "\u001b[1A\u001b[2K\r",
        "b5cd7abd3e1c: Downloading 5.482 MB/19.88 MB\r",
        "\u001b[1B"
       ]
      },
      {
       "output_type": "stream",
       "stream": "stdout",
       "text": [
        "\u001b[1A\u001b[2K\r",
        "b5cd7abd3e1c: Downloading 5.685 MB/19.88 MB\r",
        "\u001b[1B"
       ]
      },
      {
       "output_type": "stream",
       "stream": "stdout",
       "text": [
        "\u001b[1A\u001b[2K\r",
        "b5cd7abd3e1c: Downloading 5.887 MB/19.88 MB\r",
        "\u001b[1B"
       ]
      },
      {
       "output_type": "stream",
       "stream": "stdout",
       "text": [
        "\u001b[1A\u001b[2K\r",
        "b5cd7abd3e1c: Downloading 6.088 MB/19.88 MB\r",
        "\u001b[1B\u001b[1A\u001b[2K\r",
        "b5cd7abd3e1c: Downloading 6.294 MB/19.88 MB\r",
        "\u001b[1B"
       ]
      },
      {
       "output_type": "stream",
       "stream": "stdout",
       "text": [
        "\u001b[1A\u001b[2K\r",
        "b5cd7abd3e1c: Downloading 6.493 MB/19.88 MB\r",
        "\u001b[1B"
       ]
      },
      {
       "output_type": "stream",
       "stream": "stdout",
       "text": [
        "\u001b[1A\u001b[2K\r",
        "b5cd7abd3e1c: Downloading 6.695 MB/19.88 MB\r",
        "\u001b[1B"
       ]
      },
      {
       "output_type": "stream",
       "stream": "stdout",
       "text": [
        "\u001b[1A\u001b[2K\r",
        "b5cd7abd3e1c: Downloading 6.895 MB/19.88 MB\r",
        "\u001b[1B"
       ]
      },
      {
       "output_type": "stream",
       "stream": "stdout",
       "text": [
        "\u001b[1A\u001b[2K\r",
        "b5cd7abd3e1c: Downloading   7.1 MB/19.88 MB\r",
        "\u001b[1B"
       ]
      },
      {
       "output_type": "stream",
       "stream": "stdout",
       "text": [
        "\u001b[1A\u001b[2K\r",
        "b5cd7abd3e1c: Downloading 7.303 MB/19.88 MB\r",
        "\u001b[1B"
       ]
      },
      {
       "output_type": "stream",
       "stream": "stdout",
       "text": [
        "\u001b[1A\u001b[2K\r",
        "b5cd7abd3e1c: Downloading 7.502 MB/19.88 MB\r",
        "\u001b[1B"
       ]
      },
      {
       "output_type": "stream",
       "stream": "stdout",
       "text": [
        "\u001b[1A\u001b[2K\r",
        "b5cd7abd3e1c: Downloading 7.706 MB/19.88 MB\r",
        "\u001b[1B"
       ]
      },
      {
       "output_type": "stream",
       "stream": "stdout",
       "text": [
        "\u001b[1A\u001b[2K\r",
        "b5cd7abd3e1c: Downloading 7.908 MB/19.88 MB\r",
        "\u001b[1B"
       ]
      },
      {
       "output_type": "stream",
       "stream": "stdout",
       "text": [
        "\u001b[1A\u001b[2K\r",
        "b5cd7abd3e1c: Downloading 8.112 MB/19.88 MB\r",
        "\u001b[1B"
       ]
      },
      {
       "output_type": "stream",
       "stream": "stdout",
       "text": [
        "\u001b[1A\u001b[2K\r",
        "b5cd7abd3e1c: Downloading 8.315 MB/19.88 MB\r",
        "\u001b[1B"
       ]
      },
      {
       "output_type": "stream",
       "stream": "stdout",
       "text": [
        "\u001b[1A\u001b[2K\r",
        "b5cd7abd3e1c: Downloading 8.514 MB/19.88 MB\r",
        "\u001b[1B"
       ]
      },
      {
       "output_type": "stream",
       "stream": "stdout",
       "text": [
        "\u001b[1A\u001b[2K\r",
        "b5cd7abd3e1c: Downloading 8.715 MB/19.88 MB\r",
        "\u001b[1B"
       ]
      },
      {
       "output_type": "stream",
       "stream": "stdout",
       "text": [
        "\u001b[1A\u001b[2K\r",
        "b5cd7abd3e1c: Downloading 8.914 MB/19.88 MB\r",
        "\u001b[1B"
       ]
      },
      {
       "output_type": "stream",
       "stream": "stdout",
       "text": [
        "\u001b[1A\u001b[2K\r",
        "b5cd7abd3e1c: Downloading 9.113 MB/19.88 MB\r",
        "\u001b[1B"
       ]
      },
      {
       "output_type": "stream",
       "stream": "stdout",
       "text": [
        "\u001b[1A\u001b[2K\r",
        "b5cd7abd3e1c: Downloading 9.313 MB/19.88 MB\r",
        "\u001b[1B"
       ]
      },
      {
       "output_type": "stream",
       "stream": "stdout",
       "text": [
        "\u001b[1A\u001b[2K\r",
        "b5cd7abd3e1c: Downloading 9.512 MB/19.88 MB\r",
        "\u001b[1B"
       ]
      },
      {
       "output_type": "stream",
       "stream": "stdout",
       "text": [
        "\u001b[1A\u001b[2K\r",
        "b5cd7abd3e1c: Downloading 9.713 MB/19.88 MB\r",
        "\u001b[1B"
       ]
      },
      {
       "output_type": "stream",
       "stream": "stdout",
       "text": [
        "\u001b[1A\u001b[2K\r",
        "b5cd7abd3e1c: Downloading 9.916 MB/19.88 MB\r",
        "\u001b[1B"
       ]
      },
      {
       "output_type": "stream",
       "stream": "stdout",
       "text": [
        "\u001b[1A\u001b[2K\r",
        "b5cd7abd3e1c: Downloading 10.12 MB/19.88 MB\r",
        "\u001b[1B"
       ]
      },
      {
       "output_type": "stream",
       "stream": "stdout",
       "text": [
        "\u001b[1A\u001b[2K\r",
        "b5cd7abd3e1c: Downloading 10.32 MB/19.88 MB\r",
        "\u001b[1B"
       ]
      },
      {
       "output_type": "stream",
       "stream": "stdout",
       "text": [
        "\u001b[1A\u001b[2K\r",
        "b5cd7abd3e1c: Downloading 10.52 MB/19.88 MB\r",
        "\u001b[1B"
       ]
      },
      {
       "output_type": "stream",
       "stream": "stdout",
       "text": [
        "\u001b[1A\u001b[2K\r",
        "b5cd7abd3e1c: Downloading 10.72 MB/19.88 MB\r",
        "\u001b[1B"
       ]
      },
      {
       "output_type": "stream",
       "stream": "stdout",
       "text": [
        "\u001b[1A\u001b[2K\r",
        "b5cd7abd3e1c: Downloading 10.92 MB/19.88 MB\r",
        "\u001b[1B"
       ]
      },
      {
       "output_type": "stream",
       "stream": "stdout",
       "text": [
        "\u001b[1A\u001b[2K\r",
        "b5cd7abd3e1c: Downloading 11.12 MB/19.88 MB\r",
        "\u001b[1B"
       ]
      },
      {
       "output_type": "stream",
       "stream": "stdout",
       "text": [
        "\u001b[1A\u001b[2K\r",
        "b5cd7abd3e1c: Downloading 11.32 MB/19.88 MB\r",
        "\u001b[1B"
       ]
      },
      {
       "output_type": "stream",
       "stream": "stdout",
       "text": [
        "\u001b[1A\u001b[2K\r",
        "b5cd7abd3e1c: Downloading 11.52 MB/19.88 MB\r",
        "\u001b[1B"
       ]
      },
      {
       "output_type": "stream",
       "stream": "stdout",
       "text": [
        "\u001b[1A\u001b[2K\r",
        "b5cd7abd3e1c: Downloading 11.72 MB/19.88 MB\r",
        "\u001b[1B"
       ]
      },
      {
       "output_type": "stream",
       "stream": "stdout",
       "text": [
        "\u001b[1A\u001b[2K\r",
        "b5cd7abd3e1c: Downloading 11.92 MB/19.88 MB\r",
        "\u001b[1B"
       ]
      },
      {
       "output_type": "stream",
       "stream": "stdout",
       "text": [
        "\u001b[1A\u001b[2K\r",
        "b5cd7abd3e1c: Downloading 12.13 MB/19.88 MB\r",
        "\u001b[1B"
       ]
      },
      {
       "output_type": "stream",
       "stream": "stdout",
       "text": [
        "\u001b[1A\u001b[2K\r",
        "b5cd7abd3e1c: Downloading 12.33 MB/19.88 MB\r",
        "\u001b[1B"
       ]
      },
      {
       "output_type": "stream",
       "stream": "stdout",
       "text": [
        "\u001b[1A\u001b[2K\r",
        "b5cd7abd3e1c: Downloading 12.53 MB/19.88 MB\r",
        "\u001b[1B"
       ]
      },
      {
       "output_type": "stream",
       "stream": "stdout",
       "text": [
        "\u001b[1A\u001b[2K\r",
        "b5cd7abd3e1c: Downloading 12.74 MB/19.88 MB\r",
        "\u001b[1B"
       ]
      },
      {
       "output_type": "stream",
       "stream": "stdout",
       "text": [
        "\u001b[1A\u001b[2K\r",
        "b5cd7abd3e1c: Downloading 12.94 MB/19.88 MB\r",
        "\u001b[1B"
       ]
      },
      {
       "output_type": "stream",
       "stream": "stdout",
       "text": [
        "\u001b[1A\u001b[2K\r",
        "b5cd7abd3e1c: Downloading 13.14 MB/19.88 MB\r",
        "\u001b[1B"
       ]
      },
      {
       "output_type": "stream",
       "stream": "stdout",
       "text": [
        "\u001b[1A\u001b[2K\r",
        "b5cd7abd3e1c: Downloading 13.34 MB/19.88 MB\r",
        "\u001b[1B"
       ]
      },
      {
       "output_type": "stream",
       "stream": "stdout",
       "text": [
        "\u001b[1A\u001b[2K\r",
        "b5cd7abd3e1c: Downloading 13.54 MB/19.88 MB\r",
        "\u001b[1B"
       ]
      },
      {
       "output_type": "stream",
       "stream": "stdout",
       "text": [
        "\u001b[1A\u001b[2K\r",
        "b5cd7abd3e1c: Downloading 13.74 MB/19.88 MB\r",
        "\u001b[1B"
       ]
      },
      {
       "output_type": "stream",
       "stream": "stdout",
       "text": [
        "\u001b[1A\u001b[2K\r",
        "b5cd7abd3e1c: Downloading 13.94 MB/19.88 MB\r",
        "\u001b[1B"
       ]
      },
      {
       "output_type": "stream",
       "stream": "stdout",
       "text": [
        "\u001b[1A\u001b[2K\r",
        "b5cd7abd3e1c: Downloading 14.15 MB/19.88 MB\r",
        "\u001b[1B"
       ]
      },
      {
       "output_type": "stream",
       "stream": "stdout",
       "text": [
        "\u001b[1A\u001b[2K\r",
        "b5cd7abd3e1c: Downloading 14.35 MB/19.88 MB\r",
        "\u001b[1B"
       ]
      },
      {
       "output_type": "stream",
       "stream": "stdout",
       "text": [
        "\u001b[1A\u001b[2K\r",
        "b5cd7abd3e1c: Downloading 14.55 MB/19.88 MB\r",
        "\u001b[1B"
       ]
      },
      {
       "output_type": "stream",
       "stream": "stdout",
       "text": [
        "\u001b[1A\u001b[2K\r",
        "b5cd7abd3e1c: Downloading 14.75 MB/19.88 MB\r",
        "\u001b[1B"
       ]
      },
      {
       "output_type": "stream",
       "stream": "stdout",
       "text": [
        "\u001b[1A\u001b[2K\r",
        "b5cd7abd3e1c: Downloading 14.95 MB/19.88 MB\r",
        "\u001b[1B"
       ]
      },
      {
       "output_type": "stream",
       "stream": "stdout",
       "text": [
        "\u001b[1A\u001b[2K\r",
        "b5cd7abd3e1c: Downloading 15.15 MB/19.88 MB\r",
        "\u001b[1B"
       ]
      },
      {
       "output_type": "stream",
       "stream": "stdout",
       "text": [
        "\u001b[1A\u001b[2K\r",
        "b5cd7abd3e1c: Downloading 15.36 MB/19.88 MB\r",
        "\u001b[1B\u001b[1A\u001b[2K\r",
        "b5cd7abd3e1c: Downloading 15.56 MB/19.88 MB\r",
        "\u001b[1B"
       ]
      },
      {
       "output_type": "stream",
       "stream": "stdout",
       "text": [
        "\u001b[1A\u001b[2K\r",
        "b5cd7abd3e1c: Downloading 15.76 MB/19.88 MB\r",
        "\u001b[1B"
       ]
      },
      {
       "output_type": "stream",
       "stream": "stdout",
       "text": [
        "\u001b[1A\u001b[2K\r",
        "b5cd7abd3e1c: Downloading 15.96 MB/19.88 MB\r",
        "\u001b[1B"
       ]
      },
      {
       "output_type": "stream",
       "stream": "stdout",
       "text": [
        "\u001b[1A\u001b[2K\r",
        "b5cd7abd3e1c: Downloading 16.17 MB/19.88 MB\r",
        "\u001b[1B"
       ]
      },
      {
       "output_type": "stream",
       "stream": "stdout",
       "text": [
        "\u001b[1A\u001b[2K\r",
        "b5cd7abd3e1c: Downloading 16.37 MB/19.88 MB\r",
        "\u001b[1B"
       ]
      },
      {
       "output_type": "stream",
       "stream": "stdout",
       "text": [
        "\u001b[1A\u001b[2K\r",
        "b5cd7abd3e1c: Downloading 16.58 MB/19.88 MB\r",
        "\u001b[1B\u001b[1A\u001b[2K\r",
        "b5cd7abd3e1c: Downloading 16.78 MB/19.88 MB\r",
        "\u001b[1B"
       ]
      },
      {
       "output_type": "stream",
       "stream": "stdout",
       "text": [
        "\u001b[1A\u001b[2K\r",
        "b5cd7abd3e1c: Downloading 16.98 MB/19.88 MB\r",
        "\u001b[1B"
       ]
      },
      {
       "output_type": "stream",
       "stream": "stdout",
       "text": [
        "\u001b[1A\u001b[2K\r",
        "b5cd7abd3e1c: Downloading 17.18 MB/19.88 MB\r",
        "\u001b[1B"
       ]
      },
      {
       "output_type": "stream",
       "stream": "stdout",
       "text": [
        "\u001b[1A\u001b[2K\r",
        "b5cd7abd3e1c: Downloading 17.38 MB/19.88 MB\r",
        "\u001b[1B"
       ]
      },
      {
       "output_type": "stream",
       "stream": "stdout",
       "text": [
        "\u001b[1A\u001b[2K\r",
        "b5cd7abd3e1c: Downloading 17.58 MB/19.88 MB\r",
        "\u001b[1B"
       ]
      },
      {
       "output_type": "stream",
       "stream": "stdout",
       "text": [
        "\u001b[1A\u001b[2K\r",
        "b5cd7abd3e1c: Downloading 17.79 MB/19.88 MB\r",
        "\u001b[1B\u001b[1A\u001b[2K\r",
        "b5cd7abd3e1c: Downloading 17.99 MB/19.88 MB\r",
        "\u001b[1B"
       ]
      },
      {
       "output_type": "stream",
       "stream": "stdout",
       "text": [
        "\u001b[1A\u001b[2K\r",
        "b5cd7abd3e1c: Downloading 18.19 MB/19.88 MB\r",
        "\u001b[1B"
       ]
      },
      {
       "output_type": "stream",
       "stream": "stdout",
       "text": [
        "\u001b[1A\u001b[2K\r",
        "b5cd7abd3e1c: Downloading 18.39 MB/19.88 MB\r",
        "\u001b[1B"
       ]
      },
      {
       "output_type": "stream",
       "stream": "stdout",
       "text": [
        "\u001b[1A\u001b[2K\r",
        "b5cd7abd3e1c: Downloading 18.59 MB/19.88 MB\r",
        "\u001b[1B\u001b[1A\u001b[2K\r",
        "b5cd7abd3e1c: Downloading 18.79 MB/19.88 MB\r",
        "\u001b[1B"
       ]
      },
      {
       "output_type": "stream",
       "stream": "stdout",
       "text": [
        "\u001b[1A\u001b[2K\r",
        "b5cd7abd3e1c: Downloading 18.99 MB/19.88 MB\r",
        "\u001b[1B"
       ]
      },
      {
       "output_type": "stream",
       "stream": "stdout",
       "text": [
        "\u001b[1A\u001b[2K\r",
        "b5cd7abd3e1c: Downloading  19.2 MB/19.88 MB\r",
        "\u001b[1B"
       ]
      },
      {
       "output_type": "stream",
       "stream": "stdout",
       "text": [
        "\u001b[1A\u001b[2K\r",
        "b5cd7abd3e1c: Downloading  19.4 MB/19.88 MB\r",
        "\u001b[1B"
       ]
      },
      {
       "output_type": "stream",
       "stream": "stdout",
       "text": [
        "\u001b[1A\u001b[2K\r",
        "b5cd7abd3e1c: Downloading  19.6 MB/19.88 MB\r",
        "\u001b[1B\u001b[1A\u001b[2K\r",
        "b5cd7abd3e1c: Downloading 19.81 MB/19.88 MB\r",
        "\u001b[1B\u001b[1A\u001b[2K\r",
        "b5cd7abd3e1c: Downloading 19.88 MB/19.88 MB\r",
        "\u001b[1B"
       ]
      },
      {
       "output_type": "stream",
       "stream": "stdout",
       "text": [
        "\u001b[1A\u001b[2K\r",
        "b5cd7abd3e1c: Download complete \r",
        "\u001b[1B\r\n",
        "\u001b[0A\u001b[2K\r",
        "1684bf5082fb: Pulling metadata \r",
        "\u001b[0B"
       ]
      },
      {
       "output_type": "stream",
       "stream": "stdout",
       "text": [
        "\u001b[1A\u001b[2K\r",
        "1684bf5082fb: Pulling fs layer \r",
        "\u001b[1B"
       ]
      },
      {
       "output_type": "stream",
       "stream": "stdout",
       "text": [
        "\u001b[1A\u001b[2K\r",
        "1684bf5082fb: Downloading 11.85 kB/929.9 kB\r",
        "\u001b[1B"
       ]
      },
      {
       "output_type": "stream",
       "stream": "stdout",
       "text": [
        "\u001b[1A\u001b[2K\r",
        "1684bf5082fb: Downloading 24.13 kB/929.9 kB\r",
        "\u001b[1B\u001b[1A\u001b[2K\r",
        "1684bf5082fb: Downloading 36.42 kB/929.9 kB\r",
        "\u001b[1B\u001b[1A\u001b[2K\r",
        "1684bf5082fb: Downloading 48.71 kB/929.9 kB\r",
        "\u001b[1B\u001b[1A\u001b[2K\r",
        "1684bf5082fb: Downloading    61 kB/929.9 kB\r",
        "\u001b[1B\u001b[1A\u001b[2K\r",
        "1684bf5082fb: Downloading 72.94 kB/929.9 kB\r",
        "\u001b[1B\u001b[1A\u001b[2K\r",
        "1684bf5082fb: Downloading 85.22 kB/929.9 kB\r",
        "\u001b[1B\u001b[1A\u001b[2K\r",
        "1684bf5082fb: Downloading 97.51 kB/929.9 kB\r",
        "\u001b[1B\u001b[1A\u001b[2K\r",
        "1684bf5082fb: Downloading 109.8 kB/929.9 kB\r",
        "\u001b[1B\u001b[1A\u001b[2K\r",
        "1684bf5082fb: Downloading 122.1 kB/929.9 kB\r",
        "\u001b[1B"
       ]
      },
      {
       "output_type": "stream",
       "stream": "stdout",
       "text": [
        "\u001b[1A\u001b[2K\r",
        "1684bf5082fb: Downloading 134.4 kB/929.9 kB\r",
        "\u001b[1B\u001b[1A\u001b[2K\r",
        "1684bf5082fb: Downloading 146.7 kB/929.9 kB\r",
        "\u001b[1B"
       ]
      },
      {
       "output_type": "stream",
       "stream": "stdout",
       "text": [
        "\u001b[1A\u001b[2K\r",
        "1684bf5082fb: Downloading   159 kB/929.9 kB\r",
        "\u001b[1B\u001b[1A\u001b[2K\r",
        "1684bf5082fb: Downloading 171.2 kB/929.9 kB\r",
        "\u001b[1B"
       ]
      },
      {
       "output_type": "stream",
       "stream": "stdout",
       "text": [
        "\u001b[1A\u001b[2K\r",
        "1684bf5082fb: Downloading 183.5 kB/929.9 kB\r",
        "\u001b[1B\u001b[1A\u001b[2K\r",
        "1684bf5082fb: Downloading 195.8 kB/929.9 kB\r",
        "\u001b[1B"
       ]
      },
      {
       "output_type": "stream",
       "stream": "stdout",
       "text": [
        "\u001b[1A\u001b[2K\r",
        "1684bf5082fb: Downloading 208.1 kB/929.9 kB\r",
        "\u001b[1B"
       ]
      },
      {
       "output_type": "stream",
       "stream": "stdout",
       "text": [
        "\u001b[1A\u001b[2K\r",
        "1684bf5082fb: Downloading 220.4 kB/929.9 kB\r",
        "\u001b[1B\u001b[1A\u001b[2K\r",
        "1684bf5082fb: Downloading 232.7 kB/929.9 kB\r",
        "\u001b[1B\u001b[1A\u001b[2K\r",
        "1684bf5082fb: Downloading   245 kB/929.9 kB\r",
        "\u001b[1B\u001b[1A\u001b[2K\r",
        "1684bf5082fb: Downloading 257.3 kB/929.9 kB\r",
        "\u001b[1B"
       ]
      },
      {
       "output_type": "stream",
       "stream": "stdout",
       "text": [
        "\u001b[1A\u001b[2K\r",
        "1684bf5082fb: Downloading 269.5 kB/929.9 kB\r",
        "\u001b[1B\u001b[1A\u001b[2K\r",
        "1684bf5082fb: Downloading 281.8 kB/929.9 kB\r",
        "\u001b[1B\u001b[1A\u001b[2K\r",
        "1684bf5082fb: Downloading 294.1 kB/929.9 kB\r",
        "\u001b[1B"
       ]
      },
      {
       "output_type": "stream",
       "stream": "stdout",
       "text": [
        "\u001b[1A\u001b[2K\r",
        "1684bf5082fb: Downloading 306.4 kB/929.9 kB\r",
        "\u001b[1B\u001b[1A\u001b[2K\r",
        "1684bf5082fb: Downloading 318.7 kB/929.9 kB\r",
        "\u001b[1B\u001b[1A\u001b[2K\r",
        "1684bf5082fb: Downloading   331 kB/929.9 kB\r",
        "\u001b[1B\u001b[1A\u001b[2K\r",
        "1684bf5082fb: Downloading 343.3 kB/929.9 kB\r",
        "\u001b[1B\u001b[1A\u001b[2K\r",
        "1684bf5082fb: Downloading 355.6 kB/929.9 kB\r",
        "\u001b[1B\u001b[1A\u001b[2K\r",
        "1684bf5082fb: Downloading 367.8 kB/929.9 kB\r",
        "\u001b[1B"
       ]
      },
      {
       "output_type": "stream",
       "stream": "stdout",
       "text": [
        "\u001b[1A\u001b[2K\r",
        "1684bf5082fb: Downloading 380.1 kB/929.9 kB\r",
        "\u001b[1B\u001b[1A\u001b[2K\r",
        "1684bf5082fb: Downloading 392.4 kB/929.9 kB\r",
        "\u001b[1B\u001b[1A\u001b[2K\r",
        "1684bf5082fb: Downloading 404.7 kB/929.9 kB\r",
        "\u001b[1B\u001b[1A\u001b[2K\r",
        "1684bf5082fb: Downloading   417 kB/929.9 kB\r",
        "\u001b[1B"
       ]
      },
      {
       "output_type": "stream",
       "stream": "stdout",
       "text": [
        "\u001b[1A\u001b[2K\r",
        "1684bf5082fb: Downloading 429.3 kB/929.9 kB\r",
        "\u001b[1B\u001b[1A\u001b[2K\r",
        "1684bf5082fb: Downloading 441.6 kB/929.9 kB\r",
        "\u001b[1B\u001b[1A\u001b[2K\r",
        "1684bf5082fb: Downloading 453.9 kB/929.9 kB\r",
        "\u001b[1B\u001b[1A\u001b[2K\r",
        "1684bf5082fb: Downloading 466.2 kB/929.9 kB\r",
        "\u001b[1B\u001b[1A\u001b[2K\r",
        "1684bf5082fb: Downloading 478.4 kB/929.9 kB\r",
        "\u001b[1B\u001b[1A\u001b[2K\r",
        "1684bf5082fb: Downloading 490.7 kB/929.9 kB\r",
        "\u001b[1B\u001b[1A\u001b[2K\r",
        "1684bf5082fb: Downloading   503 kB/929.9 kB\r",
        "\u001b[1B\u001b[1A\u001b[2K\r",
        "1684bf5082fb: Downloading 515.3 kB/929.9 kB\r",
        "\u001b[1B"
       ]
      },
      {
       "output_type": "stream",
       "stream": "stdout",
       "text": [
        "\u001b[1A\u001b[2K\r",
        "1684bf5082fb: Downloading 527.6 kB/929.9 kB\r",
        "\u001b[1B\u001b[1A\u001b[2K\r",
        "1684bf5082fb: Downloading 539.9 kB/929.9 kB\r",
        "\u001b[1B\u001b[1A\u001b[2K\r",
        "1684bf5082fb: Downloading 552.2 kB/929.9 kB\r",
        "\u001b[1B\u001b[1A\u001b[2K\r",
        "1684bf5082fb: Downloading 564.5 kB/929.9 kB\r",
        "\u001b[1B\u001b[1A\u001b[2K\r",
        "1684bf5082fb: Downloading 576.7 kB/929.9 kB\r",
        "\u001b[1B\u001b[1A\u001b[2K\r",
        "1684bf5082fb: Downloading   589 kB/929.9 kB\r",
        "\u001b[1B\u001b[1A\u001b[2K\r",
        "1684bf5082fb: Downloading 601.3 kB/929.9 kB\r",
        "\u001b[1B\u001b[1A\u001b[2K\r",
        "1684bf5082fb: Downloading 613.6 kB/929.9 kB\r",
        "\u001b[1B\u001b[1A\u001b[2K\r",
        "1684bf5082fb: Downloading 625.9 kB/929.9 kB\r",
        "\u001b[1B\u001b[1A\u001b[2K\r",
        "1684bf5082fb: Downloading 638.2 kB/929.9 kB\r",
        "\u001b[1B\u001b[1A\u001b[2K\r",
        "1684bf5082fb: Downloading 650.5 kB/929.9 kB\r",
        "\u001b[1B\u001b[1A\u001b[2K\r",
        "1684bf5082fb: Downloading 662.8 kB/929.9 kB\r",
        "\u001b[1B"
       ]
      },
      {
       "output_type": "stream",
       "stream": "stdout",
       "text": [
        "\u001b[1A\u001b[2K\r",
        "1684bf5082fb: Downloading   675 kB/929.9 kB\r",
        "\u001b[1B\u001b[1A\u001b[2K\r",
        "1684bf5082fb: Downloading 687.3 kB/929.9 kB\r",
        "\u001b[1B\u001b[1A\u001b[2K\r",
        "1684bf5082fb: Downloading 699.6 kB/929.9 kB\r",
        "\u001b[1B\u001b[1A\u001b[2K\r",
        "1684bf5082fb: Downloading 711.9 kB/929.9 kB\r",
        "\u001b[1B\u001b[1A\u001b[2K\r",
        "1684bf5082fb: Downloading 724.2 kB/929.9 kB\r",
        "\u001b[1B\u001b[1A\u001b[2K\r",
        "1684bf5082fb: Downloading 736.5 kB/929.9 kB\r",
        "\u001b[1B\u001b[1A\u001b[2K\r",
        "1684bf5082fb: Downloading 748.8 kB/929.9 kB\r",
        "\u001b[1B\u001b[1A\u001b[2K\r",
        "1684bf5082fb: Downloading 761.1 kB/929.9 kB\r",
        "\u001b[1B\u001b[1A\u001b[2K\r",
        "1684bf5082fb: Downloading 773.4 kB/929.9 kB\r",
        "\u001b[1B\u001b[1A\u001b[2K\r",
        "1684bf5082fb: Downloading 785.6 kB/929.9 kB\r",
        "\u001b[1B\u001b[1A\u001b[2K\r",
        "1684bf5082fb: Downloading 797.9 kB/929.9 kB\r",
        "\u001b[1B"
       ]
      },
      {
       "output_type": "stream",
       "stream": "stdout",
       "text": [
        "\u001b[1A\u001b[2K\r",
        "1684bf5082fb: Downloading 810.2 kB/929.9 kB\r",
        "\u001b[1B\u001b[1A\u001b[2K\r",
        "1684bf5082fb: Downloading 822.5 kB/929.9 kB\r",
        "\u001b[1B\u001b[1A\u001b[2K\r",
        "1684bf5082fb: Downloading 834.8 kB/929.9 kB\r",
        "\u001b[1B\u001b[1A\u001b[2K\r",
        "1684bf5082fb: Downloading 847.1 kB/929.9 kB\r",
        "\u001b[1B\u001b[1A\u001b[2K\r",
        "1684bf5082fb: Downloading 859.4 kB/929.9 kB\r",
        "\u001b[1B\u001b[1A\u001b[2K\r",
        "1684bf5082fb: Downloading 871.7 kB/929.9 kB\r",
        "\u001b[1B\u001b[1A\u001b[2K\r",
        "1684bf5082fb: Downloading 883.9 kB/929.9 kB\r",
        "\u001b[1B\u001b[1A\u001b[2K\r",
        "1684bf5082fb: Downloading 896.2 kB/929.9 kB\r",
        "\u001b[1B"
       ]
      },
      {
       "output_type": "stream",
       "stream": "stdout",
       "text": [
        "\u001b[1A\u001b[2K\r",
        "1684bf5082fb: Downloading 908.5 kB/929.9 kB\r",
        "\u001b[1B\u001b[1A\u001b[2K\r",
        "1684bf5082fb: Downloading 920.8 kB/929.9 kB\r",
        "\u001b[1B\u001b[1A\u001b[2K\r",
        "1684bf5082fb: Downloading 929.9 kB/929.9 kB\r",
        "\u001b[1B"
       ]
      },
      {
       "output_type": "stream",
       "stream": "stdout",
       "text": [
        "\u001b[1A\u001b[2K\r",
        "1684bf5082fb: Download complete \r",
        "\u001b[1B\r\n",
        "\u001b[0A\u001b[2K\r",
        "05c652d319e3: Pulling metadata \r",
        "\u001b[0B"
       ]
      },
      {
       "output_type": "stream",
       "stream": "stdout",
       "text": [
        "\u001b[1A\u001b[2K\r",
        "05c652d319e3: Pulling fs layer \r",
        "\u001b[1B"
       ]
      },
      {
       "output_type": "stream",
       "stream": "stdout",
       "text": [
        "\u001b[1A\u001b[2K\r",
        "05c652d319e3: Downloading   526 kB/136.8 MB\r",
        "\u001b[1B"
       ]
      },
      {
       "output_type": "stream",
       "stream": "stdout",
       "text": [
        "\u001b[1A\u001b[2K\r",
        "05c652d319e3: Downloading 1.054 MB/136.8 MB\r",
        "\u001b[1B"
       ]
      },
      {
       "output_type": "stream",
       "stream": "stdout",
       "text": [
        "\u001b[1A\u001b[2K\r",
        "05c652d319e3: Downloading 1.579 MB/136.8 MB\r",
        "\u001b[1B"
       ]
      },
      {
       "output_type": "stream",
       "stream": "stdout",
       "text": [
        "\u001b[1A\u001b[2K\r",
        "05c652d319e3: Downloading 2.106 MB/136.8 MB\r",
        "\u001b[1B"
       ]
      },
      {
       "output_type": "stream",
       "stream": "stdout",
       "text": [
        "\u001b[1A\u001b[2K\r",
        "05c652d319e3: Downloading 2.634 MB/136.8 MB\r",
        "\u001b[1B"
       ]
      },
      {
       "output_type": "stream",
       "stream": "stdout",
       "text": [
        "\u001b[1A\u001b[2K\r",
        "05c652d319e3: Downloading 3.159 MB/136.8 MB\r",
        "\u001b[1B"
       ]
      },
      {
       "output_type": "stream",
       "stream": "stdout",
       "text": [
        "\u001b[1A\u001b[2K\r",
        "05c652d319e3: Downloading 3.686 MB/136.8 MB\r",
        "\u001b[1B"
       ]
      },
      {
       "output_type": "stream",
       "stream": "stdout",
       "text": [
        "\u001b[1A\u001b[2K\r",
        "05c652d319e3: Downloading 4.214 MB/136.8 MB\r",
        "\u001b[1B"
       ]
      },
      {
       "output_type": "stream",
       "stream": "stdout",
       "text": [
        "\u001b[1A\u001b[2K\r",
        "05c652d319e3: Downloading 4.742 MB/136.8 MB\r",
        "\u001b[1B"
       ]
      },
      {
       "output_type": "stream",
       "stream": "stdout",
       "text": [
        "\u001b[1A\u001b[2K\r",
        "05c652d319e3: Downloading 5.271 MB/136.8 MB\r",
        "\u001b[1B"
       ]
      },
      {
       "output_type": "stream",
       "stream": "stdout",
       "text": [
        "\u001b[1A\u001b[2K\r",
        "05c652d319e3: Downloading 5.799 MB/136.8 MB\r",
        "\u001b[1B"
       ]
      },
      {
       "output_type": "stream",
       "stream": "stdout",
       "text": [
        "\u001b[1A\u001b[2K\r",
        "05c652d319e3: Downloading 6.328 MB/136.8 MB\r",
        "\u001b[1B"
       ]
      },
      {
       "output_type": "stream",
       "stream": "stdout",
       "text": [
        "\u001b[1A\u001b[2K\r",
        "05c652d319e3: Downloading 6.856 MB/136.8 MB\r",
        "\u001b[1B"
       ]
      },
      {
       "output_type": "stream",
       "stream": "stdout",
       "text": [
        "\u001b[1A\u001b[2K\r",
        "05c652d319e3: Downloading 7.384 MB/136.8 MB\r",
        "\u001b[1B"
       ]
      },
      {
       "output_type": "stream",
       "stream": "stdout",
       "text": [
        "\u001b[1A\u001b[2K\r",
        "05c652d319e3: Downloading 7.913 MB/136.8 MB\r",
        "\u001b[1B"
       ]
      },
      {
       "output_type": "stream",
       "stream": "stdout",
       "text": [
        "\u001b[1A\u001b[2K\r",
        "05c652d319e3: Downloading 8.441 MB/136.8 MB\r",
        "\u001b[1B"
       ]
      },
      {
       "output_type": "stream",
       "stream": "stdout",
       "text": [
        "\u001b[1A\u001b[2K\r",
        "05c652d319e3: Downloading  8.97 MB/136.8 MB\r",
        "\u001b[1B"
       ]
      },
      {
       "output_type": "stream",
       "stream": "stdout",
       "text": [
        "\u001b[1A\u001b[2K\r",
        "05c652d319e3: Downloading 9.498 MB/136.8 MB\r",
        "\u001b[1B"
       ]
      },
      {
       "output_type": "stream",
       "stream": "stdout",
       "text": [
        "\u001b[1A\u001b[2K\r",
        "05c652d319e3: Downloading 10.03 MB/136.8 MB\r",
        "\u001b[1B"
       ]
      },
      {
       "output_type": "stream",
       "stream": "stdout",
       "text": [
        "\u001b[1A\u001b[2K\r",
        "05c652d319e3: Downloading 10.55 MB/136.8 MB\r",
        "\u001b[1B"
       ]
      },
      {
       "output_type": "stream",
       "stream": "stdout",
       "text": [
        "\u001b[1A\u001b[2K\r",
        "05c652d319e3: Downloading 11.08 MB/136.8 MB\r",
        "\u001b[1B"
       ]
      },
      {
       "output_type": "stream",
       "stream": "stdout",
       "text": [
        "\u001b[1A\u001b[2K\r",
        "05c652d319e3: Downloading 11.61 MB/136.8 MB\r",
        "\u001b[1B"
       ]
      },
      {
       "output_type": "stream",
       "stream": "stdout",
       "text": [
        "\u001b[1A\u001b[2K\r",
        "05c652d319e3: Downloading 12.14 MB/136.8 MB\r",
        "\u001b[1B"
       ]
      },
      {
       "output_type": "stream",
       "stream": "stdout",
       "text": [
        "\u001b[1A\u001b[2K\r",
        "05c652d319e3: Downloading 12.67 MB/136.8 MB\r",
        "\u001b[1B"
       ]
      },
      {
       "output_type": "stream",
       "stream": "stdout",
       "text": [
        "\u001b[1A\u001b[2K\r",
        "05c652d319e3: Downloading  13.2 MB/136.8 MB\r",
        "\u001b[1B"
       ]
      },
      {
       "output_type": "stream",
       "stream": "stdout",
       "text": [
        "\u001b[1A\u001b[2K\r",
        "05c652d319e3: Downloading 13.73 MB/136.8 MB\r",
        "\u001b[1B"
       ]
      },
      {
       "output_type": "stream",
       "stream": "stdout",
       "text": [
        "\u001b[1A\u001b[2K\r",
        "05c652d319e3: Downloading 14.25 MB/136.8 MB\r",
        "\u001b[1B"
       ]
      },
      {
       "output_type": "stream",
       "stream": "stdout",
       "text": [
        "\u001b[1A\u001b[2K\r",
        "05c652d319e3: Downloading 14.78 MB/136.8 MB\r",
        "\u001b[1B"
       ]
      },
      {
       "output_type": "stream",
       "stream": "stdout",
       "text": [
        "\u001b[1A\u001b[2K\r",
        "05c652d319e3: Downloading 15.31 MB/136.8 MB\r",
        "\u001b[1B\u001b[1A\u001b[2K\r",
        "05c652d319e3: Downloading 15.84 MB/136.8 MB\r",
        "\u001b[1B"
       ]
      },
      {
       "output_type": "stream",
       "stream": "stdout",
       "text": [
        "\u001b[1A\u001b[2K\r",
        "05c652d319e3: Downloading 16.37 MB/136.8 MB\r",
        "\u001b[1B"
       ]
      },
      {
       "output_type": "stream",
       "stream": "stdout",
       "text": [
        "\u001b[1A\u001b[2K\r",
        "05c652d319e3: Downloading  16.9 MB/136.8 MB\r",
        "\u001b[1B"
       ]
      },
      {
       "output_type": "stream",
       "stream": "stdout",
       "text": [
        "\u001b[1A\u001b[2K\r",
        "05c652d319e3: Downloading 17.42 MB/136.8 MB\r",
        "\u001b[1B"
       ]
      },
      {
       "output_type": "stream",
       "stream": "stdout",
       "text": [
        "\u001b[1A\u001b[2K\r",
        "05c652d319e3: Downloading 17.95 MB/136.8 MB\r",
        "\u001b[1B"
       ]
      },
      {
       "output_type": "stream",
       "stream": "stdout",
       "text": [
        "\u001b[1A\u001b[2K\r",
        "05c652d319e3: Downloading 18.48 MB/136.8 MB\r",
        "\u001b[1B\u001b[1A\u001b[2K\r",
        "05c652d319e3: Downloading 19.01 MB/136.8 MB\r",
        "\u001b[1B"
       ]
      },
      {
       "output_type": "stream",
       "stream": "stdout",
       "text": [
        "\u001b[1A\u001b[2K\r",
        "05c652d319e3: Downloading 19.54 MB/136.8 MB\r",
        "\u001b[1B"
       ]
      },
      {
       "output_type": "stream",
       "stream": "stdout",
       "text": [
        "\u001b[1A\u001b[2K\r",
        "05c652d319e3: Downloading 20.06 MB/136.8 MB\r",
        "\u001b[1B"
       ]
      },
      {
       "output_type": "stream",
       "stream": "stdout",
       "text": [
        "\u001b[1A\u001b[2K\r",
        "05c652d319e3: Downloading 20.59 MB/136.8 MB\r",
        "\u001b[1B"
       ]
      },
      {
       "output_type": "stream",
       "stream": "stdout",
       "text": [
        "\u001b[1A\u001b[2K\r",
        "05c652d319e3: Downloading 21.12 MB/136.8 MB\r",
        "\u001b[1B"
       ]
      },
      {
       "output_type": "stream",
       "stream": "stdout",
       "text": [
        "\u001b[1A\u001b[2K\r",
        "05c652d319e3: Downloading 21.65 MB/136.8 MB\r",
        "\u001b[1B"
       ]
      },
      {
       "output_type": "stream",
       "stream": "stdout",
       "text": [
        "\u001b[1A\u001b[2K\r",
        "05c652d319e3: Downloading 22.17 MB/136.8 MB\r",
        "\u001b[1B"
       ]
      },
      {
       "output_type": "stream",
       "stream": "stdout",
       "text": [
        "\u001b[1A\u001b[2K\r",
        "05c652d319e3: Downloading  22.7 MB/136.8 MB\r",
        "\u001b[1B"
       ]
      },
      {
       "output_type": "stream",
       "stream": "stdout",
       "text": [
        "\u001b[1A\u001b[2K\r",
        "05c652d319e3: Downloading 23.23 MB/136.8 MB\r",
        "\u001b[1B"
       ]
      },
      {
       "output_type": "stream",
       "stream": "stdout",
       "text": [
        "\u001b[1A\u001b[2K\r",
        "05c652d319e3: Downloading 23.75 MB/136.8 MB\r",
        "\u001b[1B"
       ]
      },
      {
       "output_type": "stream",
       "stream": "stdout",
       "text": [
        "\u001b[1A\u001b[2K\r",
        "05c652d319e3: Downloading 24.28 MB/136.8 MB\r",
        "\u001b[1B"
       ]
      },
      {
       "output_type": "stream",
       "stream": "stdout",
       "text": [
        "\u001b[1A\u001b[2K\r",
        "05c652d319e3: Downloading 24.81 MB/136.8 MB\r",
        "\u001b[1B"
       ]
      },
      {
       "output_type": "stream",
       "stream": "stdout",
       "text": [
        "\u001b[1A\u001b[2K\r",
        "05c652d319e3: Downloading 25.34 MB/136.8 MB\r",
        "\u001b[1B"
       ]
      },
      {
       "output_type": "stream",
       "stream": "stdout",
       "text": [
        "\u001b[1A\u001b[2K\r",
        "05c652d319e3: Downloading 25.86 MB/136.8 MB\r",
        "\u001b[1B"
       ]
      },
      {
       "output_type": "stream",
       "stream": "stdout",
       "text": [
        "\u001b[1A\u001b[2K\r",
        "05c652d319e3: Downloading 26.39 MB/136.8 MB\r",
        "\u001b[1B"
       ]
      },
      {
       "output_type": "stream",
       "stream": "stdout",
       "text": [
        "\u001b[1A\u001b[2K\r",
        "05c652d319e3: Downloading 26.92 MB/136.8 MB\r",
        "\u001b[1B"
       ]
      },
      {
       "output_type": "stream",
       "stream": "stdout",
       "text": [
        "\u001b[1A\u001b[2K\r",
        "05c652d319e3: Downloading 27.44 MB/136.8 MB\r",
        "\u001b[1B"
       ]
      },
      {
       "output_type": "stream",
       "stream": "stdout",
       "text": [
        "\u001b[1A\u001b[2K\r",
        "05c652d319e3: Downloading 27.97 MB/136.8 MB\r",
        "\u001b[1B"
       ]
      },
      {
       "output_type": "stream",
       "stream": "stdout",
       "text": [
        "\u001b[1A\u001b[2K\r",
        "05c652d319e3: Downloading  28.5 MB/136.8 MB\r",
        "\u001b[1B"
       ]
      },
      {
       "output_type": "stream",
       "stream": "stdout",
       "text": [
        "\u001b[1A\u001b[2K\r",
        "05c652d319e3: Downloading 29.02 MB/136.8 MB\r",
        "\u001b[1B"
       ]
      },
      {
       "output_type": "stream",
       "stream": "stdout",
       "text": [
        "\u001b[1A\u001b[2K\r",
        "05c652d319e3: Downloading 29.55 MB/136.8 MB\r",
        "\u001b[1B"
       ]
      },
      {
       "output_type": "stream",
       "stream": "stdout",
       "text": [
        "\u001b[1A\u001b[2K\r",
        "05c652d319e3: Downloading 30.07 MB/136.8 MB\r",
        "\u001b[1B"
       ]
      },
      {
       "output_type": "stream",
       "stream": "stdout",
       "text": [
        "\u001b[1A\u001b[2K\r",
        "05c652d319e3: Downloading  30.6 MB/136.8 MB\r",
        "\u001b[1B"
       ]
      },
      {
       "output_type": "stream",
       "stream": "stdout",
       "text": [
        "\u001b[1A\u001b[2K\r",
        "05c652d319e3: Downloading 31.12 MB/136.8 MB\r",
        "\u001b[1B"
       ]
      },
      {
       "output_type": "stream",
       "stream": "stdout",
       "text": [
        "\u001b[1A\u001b[2K\r",
        "05c652d319e3: Downloading 31.65 MB/136.8 MB\r",
        "\u001b[1B"
       ]
      },
      {
       "output_type": "stream",
       "stream": "stdout",
       "text": [
        "\u001b[1A\u001b[2K\r",
        "05c652d319e3: Downloading 32.18 MB/136.8 MB\r",
        "\u001b[1B"
       ]
      },
      {
       "output_type": "stream",
       "stream": "stdout",
       "text": [
        "\u001b[1A\u001b[2K\r",
        "05c652d319e3: Downloading  32.7 MB/136.8 MB\r",
        "\u001b[1B"
       ]
      },
      {
       "output_type": "stream",
       "stream": "stdout",
       "text": [
        "\u001b[1A\u001b[2K\r",
        "05c652d319e3: Downloading 33.23 MB/136.8 MB\r",
        "\u001b[1B"
       ]
      },
      {
       "output_type": "stream",
       "stream": "stdout",
       "text": [
        "\u001b[1A\u001b[2K\r",
        "05c652d319e3: Downloading 33.75 MB/136.8 MB\r",
        "\u001b[1B"
       ]
      },
      {
       "output_type": "stream",
       "stream": "stdout",
       "text": [
        "\u001b[1A\u001b[2K\r",
        "05c652d319e3: Downloading 34.28 MB/136.8 MB\r",
        "\u001b[1B"
       ]
      },
      {
       "output_type": "stream",
       "stream": "stdout",
       "text": [
        "\u001b[1A\u001b[2K\r",
        "05c652d319e3: Downloading  34.8 MB/136.8 MB\r",
        "\u001b[1B"
       ]
      },
      {
       "output_type": "stream",
       "stream": "stdout",
       "text": [
        "\u001b[1A\u001b[2K\r",
        "05c652d319e3: Downloading 35.33 MB/136.8 MB\r",
        "\u001b[1B"
       ]
      },
      {
       "output_type": "stream",
       "stream": "stdout",
       "text": [
        "\u001b[1A\u001b[2K\r",
        "05c652d319e3: Downloading 35.86 MB/136.8 MB\r",
        "\u001b[1B"
       ]
      },
      {
       "output_type": "stream",
       "stream": "stdout",
       "text": [
        "\u001b[1A\u001b[2K\r",
        "05c652d319e3: Downloading 36.38 MB/136.8 MB\r",
        "\u001b[1B"
       ]
      },
      {
       "output_type": "stream",
       "stream": "stdout",
       "text": [
        "\u001b[1A\u001b[2K\r",
        "05c652d319e3: Downloading 36.91 MB/136.8 MB\r",
        "\u001b[1B"
       ]
      },
      {
       "output_type": "stream",
       "stream": "stdout",
       "text": [
        "\u001b[1A\u001b[2K\r",
        "05c652d319e3: Downloading 37.44 MB/136.8 MB\r",
        "\u001b[1B"
       ]
      },
      {
       "output_type": "stream",
       "stream": "stdout",
       "text": [
        "\u001b[1A\u001b[2K\r",
        "05c652d319e3: Downloading 37.97 MB/136.8 MB\r",
        "\u001b[1B"
       ]
      },
      {
       "output_type": "stream",
       "stream": "stdout",
       "text": [
        "\u001b[1A\u001b[2K\r",
        "05c652d319e3: Downloading  38.5 MB/136.8 MB\r",
        "\u001b[1B"
       ]
      },
      {
       "output_type": "stream",
       "stream": "stdout",
       "text": [
        "\u001b[1A\u001b[2K\r",
        "05c652d319e3: Downloading 39.03 MB/136.8 MB\r",
        "\u001b[1B"
       ]
      },
      {
       "output_type": "stream",
       "stream": "stdout",
       "text": [
        "\u001b[1A\u001b[2K\r",
        "05c652d319e3: Downloading 39.56 MB/136.8 MB\r",
        "\u001b[1B"
       ]
      },
      {
       "output_type": "stream",
       "stream": "stdout",
       "text": [
        "\u001b[1A\u001b[2K\r",
        "05c652d319e3: Downloading 40.08 MB/136.8 MB\r",
        "\u001b[1B"
       ]
      },
      {
       "output_type": "stream",
       "stream": "stdout",
       "text": [
        "\u001b[1A\u001b[2K\r",
        "05c652d319e3: Downloading 40.61 MB/136.8 MB\r",
        "\u001b[1B"
       ]
      },
      {
       "output_type": "stream",
       "stream": "stdout",
       "text": [
        "\u001b[1A\u001b[2K\r",
        "05c652d319e3: Downloading 41.14 MB/136.8 MB\r",
        "\u001b[1B"
       ]
      },
      {
       "output_type": "stream",
       "stream": "stdout",
       "text": [
        "\u001b[1A\u001b[2K\r",
        "05c652d319e3: Downloading 41.67 MB/136.8 MB\r",
        "\u001b[1B"
       ]
      },
      {
       "output_type": "stream",
       "stream": "stdout",
       "text": [
        "\u001b[1A\u001b[2K\r",
        "05c652d319e3: Downloading  42.2 MB/136.8 MB\r",
        "\u001b[1B"
       ]
      },
      {
       "output_type": "stream",
       "stream": "stdout",
       "text": [
        "\u001b[1A\u001b[2K\r",
        "05c652d319e3: Downloading 42.73 MB/136.8 MB\r",
        "\u001b[1B"
       ]
      },
      {
       "output_type": "stream",
       "stream": "stdout",
       "text": [
        "\u001b[1A\u001b[2K\r",
        "05c652d319e3: Downloading 43.25 MB/136.8 MB\r",
        "\u001b[1B"
       ]
      },
      {
       "output_type": "stream",
       "stream": "stdout",
       "text": [
        "\u001b[1A\u001b[2K\r",
        "05c652d319e3: Downloading 43.78 MB/136.8 MB\r",
        "\u001b[1B"
       ]
      },
      {
       "output_type": "stream",
       "stream": "stdout",
       "text": [
        "\u001b[1A\u001b[2K\r",
        "05c652d319e3: Downloading 44.31 MB/136.8 MB\r",
        "\u001b[1B"
       ]
      },
      {
       "output_type": "stream",
       "stream": "stdout",
       "text": [
        "\u001b[1A\u001b[2K\r",
        "05c652d319e3: Downloading 44.84 MB/136.8 MB\r",
        "\u001b[1B"
       ]
      },
      {
       "output_type": "stream",
       "stream": "stdout",
       "text": [
        "\u001b[1A\u001b[2K\r",
        "05c652d319e3: Downloading 45.37 MB/136.8 MB\r",
        "\u001b[1B"
       ]
      },
      {
       "output_type": "stream",
       "stream": "stdout",
       "text": [
        "\u001b[1A\u001b[2K\r",
        "05c652d319e3: Downloading  45.9 MB/136.8 MB\r",
        "\u001b[1B"
       ]
      },
      {
       "output_type": "stream",
       "stream": "stdout",
       "text": [
        "\u001b[1A\u001b[2K\r",
        "05c652d319e3: Downloading 46.42 MB/136.8 MB\r",
        "\u001b[1B"
       ]
      },
      {
       "output_type": "stream",
       "stream": "stdout",
       "text": [
        "\u001b[1A\u001b[2K\r",
        "05c652d319e3: Downloading 46.95 MB/136.8 MB\r",
        "\u001b[1B"
       ]
      },
      {
       "output_type": "stream",
       "stream": "stdout",
       "text": [
        "\u001b[1A\u001b[2K\r",
        "05c652d319e3: Downloading 47.48 MB/136.8 MB\r",
        "\u001b[1B"
       ]
      },
      {
       "output_type": "stream",
       "stream": "stdout",
       "text": [
        "\u001b[1A\u001b[2K\r",
        "05c652d319e3: Downloading 48.01 MB/136.8 MB\r",
        "\u001b[1B"
       ]
      },
      {
       "output_type": "stream",
       "stream": "stdout",
       "text": [
        "\u001b[1A\u001b[2K\r",
        "05c652d319e3: Downloading 48.54 MB/136.8 MB\r",
        "\u001b[1B"
       ]
      },
      {
       "output_type": "stream",
       "stream": "stdout",
       "text": [
        "\u001b[1A\u001b[2K\r",
        "05c652d319e3: Downloading 49.07 MB/136.8 MB\r",
        "\u001b[1B"
       ]
      },
      {
       "output_type": "stream",
       "stream": "stdout",
       "text": [
        "\u001b[1A\u001b[2K\r",
        "05c652d319e3: Downloading 49.59 MB/136.8 MB\r",
        "\u001b[1B"
       ]
      },
      {
       "output_type": "stream",
       "stream": "stdout",
       "text": [
        "\u001b[1A\u001b[2K\r",
        "05c652d319e3: Downloading 50.12 MB/136.8 MB\r",
        "\u001b[1B"
       ]
      },
      {
       "output_type": "stream",
       "stream": "stdout",
       "text": [
        "\u001b[1A\u001b[2K\r",
        "05c652d319e3: Downloading 50.65 MB/136.8 MB\r",
        "\u001b[1B"
       ]
      },
      {
       "output_type": "stream",
       "stream": "stdout",
       "text": [
        "\u001b[1A\u001b[2K\r",
        "05c652d319e3: Downloading 51.18 MB/136.8 MB\r",
        "\u001b[1B"
       ]
      },
      {
       "output_type": "stream",
       "stream": "stdout",
       "text": [
        "\u001b[1A\u001b[2K\r",
        "05c652d319e3: Downloading 51.71 MB/136.8 MB\r",
        "\u001b[1B"
       ]
      },
      {
       "output_type": "stream",
       "stream": "stdout",
       "text": [
        "\u001b[1A\u001b[2K\r",
        "05c652d319e3: Downloading 52.24 MB/136.8 MB\r",
        "\u001b[1B"
       ]
      },
      {
       "output_type": "stream",
       "stream": "stdout",
       "text": [
        "\u001b[1A\u001b[2K\r",
        "05c652d319e3: Downloading 52.76 MB/136.8 MB\r",
        "\u001b[1B"
       ]
      },
      {
       "output_type": "stream",
       "stream": "stdout",
       "text": [
        "\u001b[1A\u001b[2K\r",
        "05c652d319e3: Downloading 53.29 MB/136.8 MB\r",
        "\u001b[1B"
       ]
      },
      {
       "output_type": "stream",
       "stream": "stdout",
       "text": [
        "\u001b[1A\u001b[2K\r",
        "05c652d319e3: Downloading 53.82 MB/136.8 MB\r",
        "\u001b[1B"
       ]
      },
      {
       "output_type": "stream",
       "stream": "stdout",
       "text": [
        "\u001b[1A\u001b[2K\r",
        "05c652d319e3: Downloading 54.35 MB/136.8 MB\r",
        "\u001b[1B"
       ]
      },
      {
       "output_type": "stream",
       "stream": "stdout",
       "text": [
        "\u001b[1A\u001b[2K\r",
        "05c652d319e3: Downloading 54.88 MB/136.8 MB\r",
        "\u001b[1B"
       ]
      },
      {
       "output_type": "stream",
       "stream": "stdout",
       "text": [
        "\u001b[1A\u001b[2K\r",
        "05c652d319e3: Downloading 55.41 MB/136.8 MB\r",
        "\u001b[1B"
       ]
      },
      {
       "output_type": "stream",
       "stream": "stdout",
       "text": [
        "\u001b[1A\u001b[2K\r",
        "05c652d319e3: Downloading 55.94 MB/136.8 MB\r",
        "\u001b[1B"
       ]
      },
      {
       "output_type": "stream",
       "stream": "stdout",
       "text": [
        "\u001b[1A\u001b[2K\r",
        "05c652d319e3: Downloading 56.46 MB/136.8 MB\r",
        "\u001b[1B"
       ]
      },
      {
       "output_type": "stream",
       "stream": "stdout",
       "text": [
        "\u001b[1A\u001b[2K\r",
        "05c652d319e3: Downloading 56.99 MB/136.8 MB\r",
        "\u001b[1B"
       ]
      },
      {
       "output_type": "stream",
       "stream": "stdout",
       "text": [
        "\u001b[1A\u001b[2K\r",
        "05c652d319e3: Downloading 57.52 MB/136.8 MB\r",
        "\u001b[1B"
       ]
      },
      {
       "output_type": "stream",
       "stream": "stdout",
       "text": [
        "\u001b[1A\u001b[2K\r",
        "05c652d319e3: Downloading 58.05 MB/136.8 MB\r",
        "\u001b[1B"
       ]
      },
      {
       "output_type": "stream",
       "stream": "stdout",
       "text": [
        "\u001b[1A\u001b[2K\r",
        "05c652d319e3: Downloading 58.58 MB/136.8 MB\r",
        "\u001b[1B"
       ]
      },
      {
       "output_type": "stream",
       "stream": "stdout",
       "text": [
        "\u001b[1A\u001b[2K\r",
        "05c652d319e3: Downloading 59.11 MB/136.8 MB\r",
        "\u001b[1B"
       ]
      },
      {
       "output_type": "stream",
       "stream": "stdout",
       "text": [
        "\u001b[1A\u001b[2K\r",
        "05c652d319e3: Downloading 59.63 MB/136.8 MB\r",
        "\u001b[1B"
       ]
      },
      {
       "output_type": "stream",
       "stream": "stdout",
       "text": [
        "\u001b[1A\u001b[2K\r",
        "05c652d319e3: Downloading 60.16 MB/136.8 MB\r",
        "\u001b[1B"
       ]
      },
      {
       "output_type": "stream",
       "stream": "stdout",
       "text": [
        "\u001b[1A\u001b[2K\r",
        "05c652d319e3: Downloading 60.69 MB/136.8 MB\r",
        "\u001b[1B"
       ]
      },
      {
       "output_type": "stream",
       "stream": "stdout",
       "text": [
        "\u001b[1A\u001b[2K\r",
        "05c652d319e3: Downloading 61.22 MB/136.8 MB\r",
        "\u001b[1B"
       ]
      },
      {
       "output_type": "stream",
       "stream": "stdout",
       "text": [
        "\u001b[1A\u001b[2K\r",
        "05c652d319e3: Downloading 61.75 MB/136.8 MB\r",
        "\u001b[1B"
       ]
      },
      {
       "output_type": "stream",
       "stream": "stdout",
       "text": [
        "\u001b[1A\u001b[2K\r",
        "05c652d319e3: Downloading 62.28 MB/136.8 MB\r",
        "\u001b[1B"
       ]
      },
      {
       "output_type": "stream",
       "stream": "stdout",
       "text": [
        "\u001b[1A\u001b[2K\r",
        "05c652d319e3: Downloading  62.8 MB/136.8 MB\r",
        "\u001b[1B"
       ]
      },
      {
       "output_type": "stream",
       "stream": "stdout",
       "text": [
        "\u001b[1A\u001b[2K\r",
        "05c652d319e3: Downloading 63.33 MB/136.8 MB\r",
        "\u001b[1B"
       ]
      },
      {
       "output_type": "stream",
       "stream": "stdout",
       "text": [
        "\u001b[1A\u001b[2K\r",
        "05c652d319e3: Downloading 63.86 MB/136.8 MB\r",
        "\u001b[1B"
       ]
      },
      {
       "output_type": "stream",
       "stream": "stdout",
       "text": [
        "\u001b[1A\u001b[2K\r",
        "05c652d319e3: Downloading 64.39 MB/136.8 MB\r",
        "\u001b[1B"
       ]
      },
      {
       "output_type": "stream",
       "stream": "stdout",
       "text": [
        "\u001b[1A\u001b[2K\r",
        "05c652d319e3: Downloading 64.92 MB/136.8 MB\r",
        "\u001b[1B"
       ]
      },
      {
       "output_type": "stream",
       "stream": "stdout",
       "text": [
        "\u001b[1A\u001b[2K\r",
        "05c652d319e3: Downloading 65.45 MB/136.8 MB\r",
        "\u001b[1B"
       ]
      },
      {
       "output_type": "stream",
       "stream": "stdout",
       "text": [
        "\u001b[1A\u001b[2K\r",
        "05c652d319e3: Downloading 65.97 MB/136.8 MB\r",
        "\u001b[1B"
       ]
      },
      {
       "output_type": "stream",
       "stream": "stdout",
       "text": [
        "\u001b[1A\u001b[2K\r",
        "05c652d319e3: Downloading  66.5 MB/136.8 MB\r",
        "\u001b[1B"
       ]
      },
      {
       "output_type": "stream",
       "stream": "stdout",
       "text": [
        "\u001b[1A\u001b[2K\r",
        "05c652d319e3: Downloading 67.02 MB/136.8 MB\r",
        "\u001b[1B"
       ]
      },
      {
       "output_type": "stream",
       "stream": "stdout",
       "text": [
        "\u001b[1A\u001b[2K\r",
        "05c652d319e3: Downloading 67.55 MB/136.8 MB\r",
        "\u001b[1B"
       ]
      },
      {
       "output_type": "stream",
       "stream": "stdout",
       "text": [
        "\u001b[1A\u001b[2K\r",
        "05c652d319e3: Downloading 68.08 MB/136.8 MB\r",
        "\u001b[1B"
       ]
      },
      {
       "output_type": "stream",
       "stream": "stdout",
       "text": [
        "\u001b[1A\u001b[2K\r",
        "05c652d319e3: Downloading  68.6 MB/136.8 MB\r",
        "\u001b[1B"
       ]
      },
      {
       "output_type": "stream",
       "stream": "stdout",
       "text": [
        "\u001b[1A\u001b[2K\r",
        "05c652d319e3: Downloading 69.13 MB/136.8 MB\r",
        "\u001b[1B"
       ]
      },
      {
       "output_type": "stream",
       "stream": "stdout",
       "text": [
        "\u001b[1A\u001b[2K\r",
        "05c652d319e3: Downloading 69.66 MB/136.8 MB\r",
        "\u001b[1B"
       ]
      },
      {
       "output_type": "stream",
       "stream": "stdout",
       "text": [
        "\u001b[1A\u001b[2K\r",
        "05c652d319e3: Downloading 70.19 MB/136.8 MB\r",
        "\u001b[1B"
       ]
      },
      {
       "output_type": "stream",
       "stream": "stdout",
       "text": [
        "\u001b[1A\u001b[2K\r",
        "05c652d319e3: Downloading 70.72 MB/136.8 MB\r",
        "\u001b[1B"
       ]
      },
      {
       "output_type": "stream",
       "stream": "stdout",
       "text": [
        "\u001b[1A\u001b[2K\r",
        "05c652d319e3: Downloading 71.25 MB/136.8 MB\r",
        "\u001b[1B"
       ]
      },
      {
       "output_type": "stream",
       "stream": "stdout",
       "text": [
        "\u001b[1A\u001b[2K\r",
        "05c652d319e3: Downloading 71.77 MB/136.8 MB\r",
        "\u001b[1B"
       ]
      },
      {
       "output_type": "stream",
       "stream": "stdout",
       "text": [
        "\u001b[1A\u001b[2K\r",
        "05c652d319e3: Downloading  72.3 MB/136.8 MB\r",
        "\u001b[1B"
       ]
      },
      {
       "output_type": "stream",
       "stream": "stdout",
       "text": [
        "\u001b[1A\u001b[2K\r",
        "05c652d319e3: Downloading 72.83 MB/136.8 MB\r",
        "\u001b[1B"
       ]
      },
      {
       "output_type": "stream",
       "stream": "stdout",
       "text": [
        "\u001b[1A\u001b[2K\r",
        "05c652d319e3: Downloading 73.36 MB/136.8 MB\r",
        "\u001b[1B"
       ]
      },
      {
       "output_type": "stream",
       "stream": "stdout",
       "text": [
        "\u001b[1A\u001b[2K\r",
        "05c652d319e3: Downloading 73.89 MB/136.8 MB\r",
        "\u001b[1B"
       ]
      },
      {
       "output_type": "stream",
       "stream": "stdout",
       "text": [
        "\u001b[1A\u001b[2K\r",
        "05c652d319e3: Downloading 74.42 MB/136.8 MB\r",
        "\u001b[1B"
       ]
      },
      {
       "output_type": "stream",
       "stream": "stdout",
       "text": [
        "\u001b[1A\u001b[2K\r",
        "05c652d319e3: Downloading 74.94 MB/136.8 MB\r",
        "\u001b[1B"
       ]
      },
      {
       "output_type": "stream",
       "stream": "stdout",
       "text": [
        "\u001b[1A\u001b[2K\r",
        "05c652d319e3: Downloading 75.47 MB/136.8 MB\r",
        "\u001b[1B"
       ]
      },
      {
       "output_type": "stream",
       "stream": "stdout",
       "text": [
        "\u001b[1A\u001b[2K\r",
        "05c652d319e3: Downloading    76 MB/136.8 MB\r",
        "\u001b[1B"
       ]
      },
      {
       "output_type": "stream",
       "stream": "stdout",
       "text": [
        "\u001b[1A\u001b[2K\r",
        "05c652d319e3: Downloading 76.53 MB/136.8 MB\r",
        "\u001b[1B"
       ]
      },
      {
       "output_type": "stream",
       "stream": "stdout",
       "text": [
        "\u001b[1A\u001b[2K\r",
        "05c652d319e3: Downloading 77.06 MB/136.8 MB\r",
        "\u001b[1B"
       ]
      },
      {
       "output_type": "stream",
       "stream": "stdout",
       "text": [
        "\u001b[1A\u001b[2K\r",
        "05c652d319e3: Downloading 77.59 MB/136.8 MB\r",
        "\u001b[1B"
       ]
      },
      {
       "output_type": "stream",
       "stream": "stdout",
       "text": [
        "\u001b[1A\u001b[2K\r",
        "05c652d319e3: Downloading 78.11 MB/136.8 MB\r",
        "\u001b[1B"
       ]
      },
      {
       "output_type": "stream",
       "stream": "stdout",
       "text": [
        "\u001b[1A\u001b[2K\r",
        "05c652d319e3: Downloading 78.64 MB/136.8 MB\r",
        "\u001b[1B"
       ]
      },
      {
       "output_type": "stream",
       "stream": "stdout",
       "text": [
        "\u001b[1A\u001b[2K\r",
        "05c652d319e3: Downloading 79.17 MB/136.8 MB\r",
        "\u001b[1B"
       ]
      },
      {
       "output_type": "stream",
       "stream": "stdout",
       "text": [
        "\u001b[1A\u001b[2K\r",
        "05c652d319e3: Downloading  79.7 MB/136.8 MB\r",
        "\u001b[1B"
       ]
      },
      {
       "output_type": "stream",
       "stream": "stdout",
       "text": [
        "\u001b[1A\u001b[2K\r",
        "05c652d319e3: Downloading 80.23 MB/136.8 MB\r",
        "\u001b[1B"
       ]
      },
      {
       "output_type": "stream",
       "stream": "stdout",
       "text": [
        "\u001b[1A\u001b[2K\r",
        "05c652d319e3: Downloading 80.76 MB/136.8 MB\r",
        "\u001b[1B"
       ]
      },
      {
       "output_type": "stream",
       "stream": "stdout",
       "text": [
        "\u001b[1A\u001b[2K\r",
        "05c652d319e3: Downloading 81.29 MB/136.8 MB\r",
        "\u001b[1B"
       ]
      },
      {
       "output_type": "stream",
       "stream": "stdout",
       "text": [
        "\u001b[1A\u001b[2K\r",
        "05c652d319e3: Downloading 81.81 MB/136.8 MB\r",
        "\u001b[1B"
       ]
      },
      {
       "output_type": "stream",
       "stream": "stdout",
       "text": [
        "\u001b[1A\u001b[2K\r",
        "05c652d319e3: Downloading 82.34 MB/136.8 MB\r",
        "\u001b[1B"
       ]
      },
      {
       "output_type": "stream",
       "stream": "stdout",
       "text": [
        "\u001b[1A\u001b[2K\r",
        "05c652d319e3: Downloading 82.87 MB/136.8 MB\r",
        "\u001b[1B"
       ]
      },
      {
       "output_type": "stream",
       "stream": "stdout",
       "text": [
        "\u001b[1A\u001b[2K\r",
        "05c652d319e3: Downloading  83.4 MB/136.8 MB\r",
        "\u001b[1B"
       ]
      },
      {
       "output_type": "stream",
       "stream": "stdout",
       "text": [
        "\u001b[1A\u001b[2K\r",
        "05c652d319e3: Downloading 83.93 MB/136.8 MB\r",
        "\u001b[1B"
       ]
      },
      {
       "output_type": "stream",
       "stream": "stdout",
       "text": [
        "\u001b[1A\u001b[2K\r",
        "05c652d319e3: Downloading 84.45 MB/136.8 MB\r",
        "\u001b[1B"
       ]
      },
      {
       "output_type": "stream",
       "stream": "stdout",
       "text": [
        "\u001b[1A\u001b[2K\r",
        "05c652d319e3: Downloading 84.98 MB/136.8 MB\r",
        "\u001b[1B"
       ]
      },
      {
       "output_type": "stream",
       "stream": "stdout",
       "text": [
        "\u001b[1A\u001b[2K\r",
        "05c652d319e3: Downloading  85.5 MB/136.8 MB\r",
        "\u001b[1B"
       ]
      },
      {
       "output_type": "stream",
       "stream": "stdout",
       "text": [
        "\u001b[1A\u001b[2K\r",
        "05c652d319e3: Downloading 86.03 MB/136.8 MB\r",
        "\u001b[1B"
       ]
      },
      {
       "output_type": "stream",
       "stream": "stdout",
       "text": [
        "\u001b[1A\u001b[2K\r",
        "05c652d319e3: Downloading 86.56 MB/136.8 MB\r",
        "\u001b[1B"
       ]
      },
      {
       "output_type": "stream",
       "stream": "stdout",
       "text": [
        "\u001b[1A\u001b[2K\r",
        "05c652d319e3: Downloading 87.09 MB/136.8 MB\r",
        "\u001b[1B"
       ]
      },
      {
       "output_type": "stream",
       "stream": "stdout",
       "text": [
        "\u001b[1A\u001b[2K\r",
        "05c652d319e3: Downloading 87.62 MB/136.8 MB\r",
        "\u001b[1B"
       ]
      },
      {
       "output_type": "stream",
       "stream": "stdout",
       "text": [
        "\u001b[1A\u001b[2K\r",
        "05c652d319e3: Downloading 88.15 MB/136.8 MB\r",
        "\u001b[1B"
       ]
      },
      {
       "output_type": "stream",
       "stream": "stdout",
       "text": [
        "\u001b[1A\u001b[2K\r",
        "05c652d319e3: Downloading 88.67 MB/136.8 MB\r",
        "\u001b[1B"
       ]
      },
      {
       "output_type": "stream",
       "stream": "stdout",
       "text": [
        "\u001b[1A\u001b[2K\r",
        "05c652d319e3: Downloading  89.2 MB/136.8 MB\r",
        "\u001b[1B"
       ]
      },
      {
       "output_type": "stream",
       "stream": "stdout",
       "text": [
        "\u001b[1A\u001b[2K\r",
        "05c652d319e3: Downloading 89.73 MB/136.8 MB\r",
        "\u001b[1B"
       ]
      },
      {
       "output_type": "stream",
       "stream": "stdout",
       "text": [
        "\u001b[1A\u001b[2K\r",
        "05c652d319e3: Downloading 90.26 MB/136.8 MB\r",
        "\u001b[1B"
       ]
      },
      {
       "output_type": "stream",
       "stream": "stdout",
       "text": [
        "\u001b[1A\u001b[2K\r",
        "05c652d319e3: Downloading 90.79 MB/136.8 MB\r",
        "\u001b[1B"
       ]
      },
      {
       "output_type": "stream",
       "stream": "stdout",
       "text": [
        "\u001b[1A\u001b[2K\r",
        "05c652d319e3: Downloading 91.32 MB/136.8 MB\r",
        "\u001b[1B"
       ]
      },
      {
       "output_type": "stream",
       "stream": "stdout",
       "text": [
        "\u001b[1A\u001b[2K\r",
        "05c652d319e3: Downloading 91.84 MB/136.8 MB\r",
        "\u001b[1B"
       ]
      },
      {
       "output_type": "stream",
       "stream": "stdout",
       "text": [
        "\u001b[1A\u001b[2K\r",
        "05c652d319e3: Downloading 92.37 MB/136.8 MB\r",
        "\u001b[1B"
       ]
      },
      {
       "output_type": "stream",
       "stream": "stdout",
       "text": [
        "\u001b[1A\u001b[2K\r",
        "05c652d319e3: Downloading  92.9 MB/136.8 MB\r",
        "\u001b[1B"
       ]
      },
      {
       "output_type": "stream",
       "stream": "stdout",
       "text": [
        "\u001b[1A\u001b[2K\r",
        "05c652d319e3: Downloading 93.43 MB/136.8 MB\r",
        "\u001b[1B"
       ]
      },
      {
       "output_type": "stream",
       "stream": "stdout",
       "text": [
        "\u001b[1A\u001b[2K\r",
        "05c652d319e3: Downloading 93.96 MB/136.8 MB\r",
        "\u001b[1B"
       ]
      },
      {
       "output_type": "stream",
       "stream": "stdout",
       "text": [
        "\u001b[1A\u001b[2K\r",
        "05c652d319e3: Downloading 94.48 MB/136.8 MB\r",
        "\u001b[1B"
       ]
      },
      {
       "output_type": "stream",
       "stream": "stdout",
       "text": [
        "\u001b[1A\u001b[2K\r",
        "05c652d319e3: Downloading 95.01 MB/136.8 MB\r",
        "\u001b[1B"
       ]
      },
      {
       "output_type": "stream",
       "stream": "stdout",
       "text": [
        "\u001b[1A\u001b[2K\r",
        "05c652d319e3: Downloading 95.54 MB/136.8 MB\r",
        "\u001b[1B"
       ]
      },
      {
       "output_type": "stream",
       "stream": "stdout",
       "text": [
        "\u001b[1A\u001b[2K\r",
        "05c652d319e3: Downloading 96.07 MB/136.8 MB\r",
        "\u001b[1B"
       ]
      },
      {
       "output_type": "stream",
       "stream": "stdout",
       "text": [
        "\u001b[1A\u001b[2K\r",
        "05c652d319e3: Downloading  96.6 MB/136.8 MB\r",
        "\u001b[1B"
       ]
      },
      {
       "output_type": "stream",
       "stream": "stdout",
       "text": [
        "\u001b[1A\u001b[2K\r",
        "05c652d319e3: Downloading 97.12 MB/136.8 MB\r",
        "\u001b[1B"
       ]
      },
      {
       "output_type": "stream",
       "stream": "stdout",
       "text": [
        "\u001b[1A\u001b[2K\r",
        "05c652d319e3: Downloading 97.65 MB/136.8 MB\r",
        "\u001b[1B"
       ]
      },
      {
       "output_type": "stream",
       "stream": "stdout",
       "text": [
        "\u001b[1A\u001b[2K\r",
        "05c652d319e3: Downloading 98.18 MB/136.8 MB\r",
        "\u001b[1B"
       ]
      },
      {
       "output_type": "stream",
       "stream": "stdout",
       "text": [
        "\u001b[1A\u001b[2K\r",
        "05c652d319e3: Downloading  98.7 MB/136.8 MB\r",
        "\u001b[1B"
       ]
      },
      {
       "output_type": "stream",
       "stream": "stdout",
       "text": [
        "\u001b[1A\u001b[2K\r",
        "05c652d319e3: Downloading 99.23 MB/136.8 MB\r",
        "\u001b[1B\u001b[1A\u001b[2K\r",
        "05c652d319e3: Downloading 99.76 MB/136.8 MB\r",
        "\u001b[1B"
       ]
      },
      {
       "output_type": "stream",
       "stream": "stdout",
       "text": [
        "\u001b[1A\u001b[2K\r",
        "05c652d319e3: Downloading 100.3 MB/136.8 MB\r",
        "\u001b[1B"
       ]
      },
      {
       "output_type": "stream",
       "stream": "stdout",
       "text": [
        "\u001b[1A\u001b[2K\r",
        "05c652d319e3: Downloading 100.8 MB/136.8 MB\r",
        "\u001b[1B"
       ]
      },
      {
       "output_type": "stream",
       "stream": "stdout",
       "text": [
        "\u001b[1A\u001b[2K\r",
        "05c652d319e3: Downloading 101.3 MB/136.8 MB\r",
        "\u001b[1B\u001b[1A\u001b[2K\r",
        "05c652d319e3: Downloading 101.9 MB/136.8 MB\r",
        "\u001b[1B"
       ]
      },
      {
       "output_type": "stream",
       "stream": "stdout",
       "text": [
        "\u001b[1A\u001b[2K\r",
        "05c652d319e3: Downloading 102.4 MB/136.8 MB\r",
        "\u001b[1B"
       ]
      },
      {
       "output_type": "stream",
       "stream": "stdout",
       "text": [
        "\u001b[1A\u001b[2K\r",
        "05c652d319e3: Downloading 102.9 MB/136.8 MB\r",
        "\u001b[1B"
       ]
      },
      {
       "output_type": "stream",
       "stream": "stdout",
       "text": [
        "\u001b[1A\u001b[2K\r",
        "05c652d319e3: Downloading 103.4 MB/136.8 MB\r",
        "\u001b[1B"
       ]
      },
      {
       "output_type": "stream",
       "stream": "stdout",
       "text": [
        "\u001b[1A\u001b[2K\r",
        "05c652d319e3: Downloading   104 MB/136.8 MB\r",
        "\u001b[1B"
       ]
      },
      {
       "output_type": "stream",
       "stream": "stdout",
       "text": [
        "\u001b[1A\u001b[2K\r",
        "05c652d319e3: Downloading 104.5 MB/136.8 MB\r",
        "\u001b[1B"
       ]
      },
      {
       "output_type": "stream",
       "stream": "stdout",
       "text": [
        "\u001b[1A\u001b[2K\r",
        "05c652d319e3: Downloading   105 MB/136.8 MB\r",
        "\u001b[1B"
       ]
      },
      {
       "output_type": "stream",
       "stream": "stdout",
       "text": [
        "\u001b[1A\u001b[2K\r",
        "05c652d319e3: Downloading 105.6 MB/136.8 MB\r",
        "\u001b[1B"
       ]
      },
      {
       "output_type": "stream",
       "stream": "stdout",
       "text": [
        "\u001b[1A\u001b[2K\r",
        "05c652d319e3: Downloading 106.1 MB/136.8 MB\r",
        "\u001b[1B"
       ]
      },
      {
       "output_type": "stream",
       "stream": "stdout",
       "text": [
        "\u001b[1A\u001b[2K\r",
        "05c652d319e3: Downloading 106.6 MB/136.8 MB\r",
        "\u001b[1B"
       ]
      },
      {
       "output_type": "stream",
       "stream": "stdout",
       "text": [
        "\u001b[1A\u001b[2K\r",
        "05c652d319e3: Downloading 107.1 MB/136.8 MB\r",
        "\u001b[1B"
       ]
      },
      {
       "output_type": "stream",
       "stream": "stdout",
       "text": [
        "\u001b[1A\u001b[2K\r",
        "05c652d319e3: Downloading 107.7 MB/136.8 MB\r",
        "\u001b[1B"
       ]
      },
      {
       "output_type": "stream",
       "stream": "stdout",
       "text": [
        "\u001b[1A\u001b[2K\r",
        "05c652d319e3: Downloading 108.2 MB/136.8 MB\r",
        "\u001b[1B"
       ]
      },
      {
       "output_type": "stream",
       "stream": "stdout",
       "text": [
        "\u001b[1A\u001b[2K\r",
        "05c652d319e3: Downloading 108.7 MB/136.8 MB\r",
        "\u001b[1B"
       ]
      },
      {
       "output_type": "stream",
       "stream": "stdout",
       "text": [
        "\u001b[1A\u001b[2K\r",
        "05c652d319e3: Downloading 109.3 MB/136.8 MB\r",
        "\u001b[1B"
       ]
      },
      {
       "output_type": "stream",
       "stream": "stdout",
       "text": [
        "\u001b[1A\u001b[2K\r",
        "05c652d319e3: Downloading 109.8 MB/136.8 MB\r",
        "\u001b[1B"
       ]
      },
      {
       "output_type": "stream",
       "stream": "stdout",
       "text": [
        "\u001b[1A\u001b[2K\r",
        "05c652d319e3: Downloading 110.3 MB/136.8 MB\r",
        "\u001b[1B"
       ]
      },
      {
       "output_type": "stream",
       "stream": "stdout",
       "text": [
        "\u001b[1A\u001b[2K\r",
        "05c652d319e3: Downloading 110.8 MB/136.8 MB\r",
        "\u001b[1B"
       ]
      },
      {
       "output_type": "stream",
       "stream": "stdout",
       "text": [
        "\u001b[1A\u001b[2K\r",
        "05c652d319e3: Downloading 111.4 MB/136.8 MB\r",
        "\u001b[1B"
       ]
      },
      {
       "output_type": "stream",
       "stream": "stdout",
       "text": [
        "\u001b[1A\u001b[2K\r",
        "05c652d319e3: Downloading 111.9 MB/136.8 MB\r",
        "\u001b[1B"
       ]
      },
      {
       "output_type": "stream",
       "stream": "stdout",
       "text": [
        "\u001b[1A\u001b[2K\r",
        "05c652d319e3: Downloading 112.4 MB/136.8 MB\r",
        "\u001b[1B"
       ]
      },
      {
       "output_type": "stream",
       "stream": "stdout",
       "text": [
        "\u001b[1A\u001b[2K\r",
        "05c652d319e3: Downloading   113 MB/136.8 MB\r",
        "\u001b[1B"
       ]
      },
      {
       "output_type": "stream",
       "stream": "stdout",
       "text": [
        "\u001b[1A\u001b[2K\r",
        "05c652d319e3: Downloading 113.5 MB/136.8 MB\r",
        "\u001b[1B"
       ]
      },
      {
       "output_type": "stream",
       "stream": "stdout",
       "text": [
        "\u001b[1A\u001b[2K\r",
        "05c652d319e3: Downloading   114 MB/136.8 MB\r",
        "\u001b[1B"
       ]
      },
      {
       "output_type": "stream",
       "stream": "stdout",
       "text": [
        "\u001b[1A\u001b[2K\r",
        "05c652d319e3: Downloading 114.5 MB/136.8 MB\r",
        "\u001b[1B"
       ]
      },
      {
       "output_type": "stream",
       "stream": "stdout",
       "text": [
        "\u001b[1A\u001b[2K\r",
        "05c652d319e3: Downloading 115.1 MB/136.8 MB\r",
        "\u001b[1B"
       ]
      },
      {
       "output_type": "stream",
       "stream": "stdout",
       "text": [
        "\u001b[1A\u001b[2K\r",
        "05c652d319e3: Downloading 115.6 MB/136.8 MB\r",
        "\u001b[1B"
       ]
      },
      {
       "output_type": "stream",
       "stream": "stdout",
       "text": [
        "\u001b[1A\u001b[2K\r",
        "05c652d319e3: Downloading 116.1 MB/136.8 MB\r",
        "\u001b[1B"
       ]
      },
      {
       "output_type": "stream",
       "stream": "stdout",
       "text": [
        "\u001b[1A\u001b[2K\r",
        "05c652d319e3: Downloading 116.7 MB/136.8 MB\r",
        "\u001b[1B"
       ]
      },
      {
       "output_type": "stream",
       "stream": "stdout",
       "text": [
        "\u001b[1A\u001b[2K\r",
        "05c652d319e3: Downloading 117.2 MB/136.8 MB\r",
        "\u001b[1B"
       ]
      },
      {
       "output_type": "stream",
       "stream": "stdout",
       "text": [
        "\u001b[1A\u001b[2K\r",
        "05c652d319e3: Downloading 117.7 MB/136.8 MB\r",
        "\u001b[1B"
       ]
      },
      {
       "output_type": "stream",
       "stream": "stdout",
       "text": [
        "\u001b[1A\u001b[2K\r",
        "05c652d319e3: Downloading 118.2 MB/136.8 MB\r",
        "\u001b[1B"
       ]
      },
      {
       "output_type": "stream",
       "stream": "stdout",
       "text": [
        "\u001b[1A\u001b[2K\r",
        "05c652d319e3: Downloading 118.8 MB/136.8 MB\r",
        "\u001b[1B"
       ]
      },
      {
       "output_type": "stream",
       "stream": "stdout",
       "text": [
        "\u001b[1A\u001b[2K\r",
        "05c652d319e3: Downloading 119.3 MB/136.8 MB\r",
        "\u001b[1B"
       ]
      },
      {
       "output_type": "stream",
       "stream": "stdout",
       "text": [
        "\u001b[1A\u001b[2K\r",
        "05c652d319e3: Downloading 119.8 MB/136.8 MB\r",
        "\u001b[1B"
       ]
      },
      {
       "output_type": "stream",
       "stream": "stdout",
       "text": [
        "\u001b[1A\u001b[2K\r",
        "05c652d319e3: Downloading 120.4 MB/136.8 MB\r",
        "\u001b[1B"
       ]
      },
      {
       "output_type": "stream",
       "stream": "stdout",
       "text": [
        "\u001b[1A\u001b[2K\r",
        "05c652d319e3: Downloading 120.9 MB/136.8 MB\r",
        "\u001b[1B"
       ]
      },
      {
       "output_type": "stream",
       "stream": "stdout",
       "text": [
        "\u001b[1A\u001b[2K\r",
        "05c652d319e3: Downloading 121.4 MB/136.8 MB\r",
        "\u001b[1B"
       ]
      },
      {
       "output_type": "stream",
       "stream": "stdout",
       "text": [
        "\u001b[1A\u001b[2K\r",
        "05c652d319e3: Downloading 121.9 MB/136.8 MB\r",
        "\u001b[1B"
       ]
      },
      {
       "output_type": "stream",
       "stream": "stdout",
       "text": [
        "\u001b[1A\u001b[2K\r",
        "05c652d319e3: Downloading 122.5 MB/136.8 MB\r",
        "\u001b[1B"
       ]
      },
      {
       "output_type": "stream",
       "stream": "stdout",
       "text": [
        "\u001b[1A\u001b[2K\r",
        "05c652d319e3: Downloading   123 MB/136.8 MB\r",
        "\u001b[1B"
       ]
      },
      {
       "output_type": "stream",
       "stream": "stdout",
       "text": [
        "\u001b[1A\u001b[2K\r",
        "05c652d319e3: Downloading 123.5 MB/136.8 MB\r",
        "\u001b[1B"
       ]
      },
      {
       "output_type": "stream",
       "stream": "stdout",
       "text": [
        "\u001b[1A\u001b[2K\r",
        "05c652d319e3: Downloading   124 MB/136.8 MB\r",
        "\u001b[1B"
       ]
      },
      {
       "output_type": "stream",
       "stream": "stdout",
       "text": [
        "\u001b[1A\u001b[2K\r",
        "05c652d319e3: Downloading 124.6 MB/136.8 MB\r",
        "\u001b[1B"
       ]
      },
      {
       "output_type": "stream",
       "stream": "stdout",
       "text": [
        "\u001b[1A\u001b[2K\r",
        "05c652d319e3: Downloading 125.1 MB/136.8 MB\r",
        "\u001b[1B"
       ]
      },
      {
       "output_type": "stream",
       "stream": "stdout",
       "text": [
        "\u001b[1A\u001b[2K\r",
        "05c652d319e3: Downloading 125.6 MB/136.8 MB\r",
        "\u001b[1B"
       ]
      },
      {
       "output_type": "stream",
       "stream": "stdout",
       "text": [
        "\u001b[1A\u001b[2K\r",
        "05c652d319e3: Downloading 126.2 MB/136.8 MB\r",
        "\u001b[1B"
       ]
      },
      {
       "output_type": "stream",
       "stream": "stdout",
       "text": [
        "\u001b[1A\u001b[2K\r",
        "05c652d319e3: Downloading 126.7 MB/136.8 MB\r",
        "\u001b[1B"
       ]
      },
      {
       "output_type": "stream",
       "stream": "stdout",
       "text": [
        "\u001b[1A\u001b[2K\r",
        "05c652d319e3: Downloading 127.2 MB/136.8 MB\r",
        "\u001b[1B"
       ]
      },
      {
       "output_type": "stream",
       "stream": "stdout",
       "text": [
        "\u001b[1A\u001b[2K\r",
        "05c652d319e3: Downloading 127.7 MB/136.8 MB\r",
        "\u001b[1B"
       ]
      },
      {
       "output_type": "stream",
       "stream": "stdout",
       "text": [
        "\u001b[1A\u001b[2K\r",
        "05c652d319e3: Downloading 128.3 MB/136.8 MB\r",
        "\u001b[1B"
       ]
      },
      {
       "output_type": "stream",
       "stream": "stdout",
       "text": [
        "\u001b[1A\u001b[2K\r",
        "05c652d319e3: Downloading 128.8 MB/136.8 MB\r",
        "\u001b[1B"
       ]
      },
      {
       "output_type": "stream",
       "stream": "stdout",
       "text": [
        "\u001b[1A\u001b[2K\r",
        "05c652d319e3: Downloading 129.3 MB/136.8 MB\r",
        "\u001b[1B"
       ]
      },
      {
       "output_type": "stream",
       "stream": "stdout",
       "text": [
        "\u001b[1A\u001b[2K\r",
        "05c652d319e3: Downloading 129.8 MB/136.8 MB\r",
        "\u001b[1B"
       ]
      },
      {
       "output_type": "stream",
       "stream": "stdout",
       "text": [
        "\u001b[1A\u001b[2K\r",
        "05c652d319e3: Downloading 130.4 MB/136.8 MB\r",
        "\u001b[1B"
       ]
      },
      {
       "output_type": "stream",
       "stream": "stdout",
       "text": [
        "\u001b[1A\u001b[2K\r",
        "05c652d319e3: Downloading 130.9 MB/136.8 MB\r",
        "\u001b[1B"
       ]
      },
      {
       "output_type": "stream",
       "stream": "stdout",
       "text": [
        "\u001b[1A\u001b[2K\r",
        "05c652d319e3: Downloading 131.4 MB/136.8 MB\r",
        "\u001b[1B"
       ]
      },
      {
       "output_type": "stream",
       "stream": "stdout",
       "text": [
        "\u001b[1A\u001b[2K\r",
        "05c652d319e3: Downloading 131.9 MB/136.8 MB\r",
        "\u001b[1B"
       ]
      },
      {
       "output_type": "stream",
       "stream": "stdout",
       "text": [
        "\u001b[1A\u001b[2K\r",
        "05c652d319e3: Downloading 132.5 MB/136.8 MB\r",
        "\u001b[1B"
       ]
      },
      {
       "output_type": "stream",
       "stream": "stdout",
       "text": [
        "\u001b[1A\u001b[2K\r",
        "05c652d319e3: Downloading   133 MB/136.8 MB\r",
        "\u001b[1B"
       ]
      },
      {
       "output_type": "stream",
       "stream": "stdout",
       "text": [
        "\u001b[1A\u001b[2K\r",
        "05c652d319e3: Downloading 133.5 MB/136.8 MB\r",
        "\u001b[1B"
       ]
      },
      {
       "output_type": "stream",
       "stream": "stdout",
       "text": [
        "\u001b[1A\u001b[2K\r",
        "05c652d319e3: Downloading   134 MB/136.8 MB\r",
        "\u001b[1B"
       ]
      },
      {
       "output_type": "stream",
       "stream": "stdout",
       "text": [
        "\u001b[1A\u001b[2K\r",
        "05c652d319e3: Downloading 134.6 MB/136.8 MB\r",
        "\u001b[1B"
       ]
      },
      {
       "output_type": "stream",
       "stream": "stdout",
       "text": [
        "\u001b[1A\u001b[2K\r",
        "05c652d319e3: Downloading 135.1 MB/136.8 MB\r",
        "\u001b[1B"
       ]
      },
      {
       "output_type": "stream",
       "stream": "stdout",
       "text": [
        "\u001b[1A\u001b[2K\r",
        "05c652d319e3: Downloading 135.6 MB/136.8 MB\r",
        "\u001b[1B"
       ]
      },
      {
       "output_type": "stream",
       "stream": "stdout",
       "text": [
        "\u001b[1A\u001b[2K\r",
        "05c652d319e3: Downloading 136.2 MB/136.8 MB\r",
        "\u001b[1B"
       ]
      },
      {
       "output_type": "stream",
       "stream": "stdout",
       "text": [
        "\u001b[1A\u001b[2K\r",
        "05c652d319e3: Downloading 136.7 MB/136.8 MB\r",
        "\u001b[1B\u001b[1A\u001b[2K\r",
        "05c652d319e3: Downloading 136.8 MB/136.8 MB\r",
        "\u001b[1B"
       ]
      },
      {
       "output_type": "stream",
       "stream": "stdout",
       "text": [
        "\u001b[1A\u001b[2K\r",
        "05c652d319e3: Download complete \r",
        "\u001b[1B\r\n",
        "\u001b[0A\u001b[2K\r",
        "bdab595afeaa: Pulling metadata \r",
        "\u001b[0B"
       ]
      },
      {
       "output_type": "stream",
       "stream": "stdout",
       "text": [
        "\u001b[1A\u001b[2K\r",
        "bdab595afeaa: Pulling fs layer \r",
        "\u001b[1B"
       ]
      },
      {
       "output_type": "stream",
       "stream": "stdout",
       "text": [
        "\u001b[1A\u001b[2K\r",
        "bdab595afeaa: Downloading  9.64 kB/954.9 kB\r",
        "\u001b[1B"
       ]
      },
      {
       "output_type": "stream",
       "stream": "stdout",
       "text": [
        "\u001b[1A\u001b[2K\r",
        "bdab595afeaa: Downloading 21.14 kB/954.9 kB\r",
        "\u001b[1B\u001b[1A\u001b[2K\r",
        "bdab595afeaa: Downloading 31.28 kB/954.9 kB\r",
        "\u001b[1B"
       ]
      },
      {
       "output_type": "stream",
       "stream": "stdout",
       "text": [
        "\u001b[1A\u001b[2K\r",
        "bdab595afeaa: Downloading  41.7 kB/954.9 kB\r",
        "\u001b[1B"
       ]
      },
      {
       "output_type": "stream",
       "stream": "stdout",
       "text": [
        "\u001b[1A\u001b[2K\r",
        "bdab595afeaa: Downloading 51.59 kB/954.9 kB\r",
        "\u001b[1B"
       ]
      },
      {
       "output_type": "stream",
       "stream": "stdout",
       "text": [
        "\u001b[1A\u001b[2K\r",
        "bdab595afeaa: Downloading 61.75 kB/954.9 kB\r",
        "\u001b[1B"
       ]
      },
      {
       "output_type": "stream",
       "stream": "stdout",
       "text": [
        "\u001b[1A\u001b[2K\r",
        "bdab595afeaa: Downloading 73.37 kB/954.9 kB\r",
        "\u001b[1B"
       ]
      },
      {
       "output_type": "stream",
       "stream": "stdout",
       "text": [
        "\u001b[1A\u001b[2K\r",
        "bdab595afeaa: Downloading  84.7 kB/954.9 kB\r",
        "\u001b[1B"
       ]
      },
      {
       "output_type": "stream",
       "stream": "stdout",
       "text": [
        "\u001b[1A\u001b[2K\r",
        "bdab595afeaa: Downloading 98.02 kB/954.9 kB\r",
        "\u001b[1B"
       ]
      },
      {
       "output_type": "stream",
       "stream": "stdout",
       "text": [
        "\u001b[1A\u001b[2K\r",
        "bdab595afeaa: Downloading 108.4 kB/954.9 kB\r",
        "\u001b[1B\u001b[1A\u001b[2K\r",
        "bdab595afeaa: Downloading 118.6 kB/954.9 kB\r",
        "\u001b[1B"
       ]
      },
      {
       "output_type": "stream",
       "stream": "stdout",
       "text": [
        "\u001b[1A\u001b[2K\r",
        "bdab595afeaa: Downloading 128.7 kB/954.9 kB\r",
        "\u001b[1B\u001b[1A\u001b[2K\r",
        "bdab595afeaa: Downloading 138.9 kB/954.9 kB\r",
        "\u001b[1B"
       ]
      },
      {
       "output_type": "stream",
       "stream": "stdout",
       "text": [
        "\u001b[1A\u001b[2K\r",
        "bdab595afeaa: Downloading 151.7 kB/954.9 kB\r",
        "\u001b[1B"
       ]
      },
      {
       "output_type": "stream",
       "stream": "stdout",
       "text": [
        "\u001b[1A\u001b[2K\r",
        "bdab595afeaa: Downloading 164.8 kB/954.9 kB\r",
        "\u001b[1B"
       ]
      },
      {
       "output_type": "stream",
       "stream": "stdout",
       "text": [
        "\u001b[1A\u001b[2K\r",
        "bdab595afeaa: Downloading 177.8 kB/954.9 kB\r",
        "\u001b[1B\u001b[1A\u001b[2K\r",
        "bdab595afeaa: Downloading 190.1 kB/954.9 kB\r",
        "\u001b[1B\u001b[1A\u001b[2K\r",
        "bdab595afeaa: Downloading 203.7 kB/954.9 kB\r",
        "\u001b[1B"
       ]
      },
      {
       "output_type": "stream",
       "stream": "stdout",
       "text": [
        "\u001b[1A\u001b[2K\r",
        "bdab595afeaa: Downloading 216.7 kB/954.9 kB\r",
        "\u001b[1B"
       ]
      },
      {
       "output_type": "stream",
       "stream": "stdout",
       "text": [
        "\u001b[1A\u001b[2K\r",
        "bdab595afeaa: Downloading   230 kB/954.9 kB\r",
        "\u001b[1B\u001b[1A\u001b[2K\r",
        "bdab595afeaa: Downloading 241.4 kB/954.9 kB\r",
        "\u001b[1B"
       ]
      },
      {
       "output_type": "stream",
       "stream": "stdout",
       "text": [
        "\u001b[1A\u001b[2K\r",
        "bdab595afeaa: Downloading 253.5 kB/954.9 kB\r",
        "\u001b[1B"
       ]
      },
      {
       "output_type": "stream",
       "stream": "stdout",
       "text": [
        "\u001b[1A\u001b[2K\r",
        "bdab595afeaa: Downloading 264.9 kB/954.9 kB\r",
        "\u001b[1B\u001b[1A\u001b[2K\r",
        "bdab595afeaa: Downloading   275 kB/954.9 kB\r",
        "\u001b[1B"
       ]
      },
      {
       "output_type": "stream",
       "stream": "stdout",
       "text": [
        "\u001b[1A\u001b[2K\r",
        "bdab595afeaa: Downloading 286.4 kB/954.9 kB\r",
        "\u001b[1B\u001b[1A\u001b[2K\r",
        "bdab595afeaa: Downloading 299.7 kB/954.9 kB\r",
        "\u001b[1B\u001b[1A\u001b[2K\r",
        "bdab595afeaa: Downloading   311 kB/954.9 kB\r",
        "\u001b[1B"
       ]
      },
      {
       "output_type": "stream",
       "stream": "stdout",
       "text": [
        "\u001b[1A\u001b[2K\r",
        "bdab595afeaa: Downloading 324.3 kB/954.9 kB\r",
        "\u001b[1B\u001b[1A\u001b[2K\r",
        "bdab595afeaa: Downloading 337.4 kB/954.9 kB\r",
        "\u001b[1B\u001b[1A\u001b[2K\r",
        "bdab595afeaa: Downloading 347.8 kB/954.9 kB\r",
        "\u001b[1B\u001b[1A\u001b[2K\r",
        "bdab595afeaa: Downloading 359.1 kB/954.9 kB\r",
        "\u001b[1B\u001b[1A\u001b[2K\r",
        "bdab595afeaa: Downloading 372.2 kB/954.9 kB\r",
        "\u001b[1B"
       ]
      },
      {
       "output_type": "stream",
       "stream": "stdout",
       "text": [
        "\u001b[1A\u001b[2K\r",
        "bdab595afeaa: Downloading 382.6 kB/954.9 kB\r",
        "\u001b[1B\u001b[1A\u001b[2K\r",
        "bdab595afeaa: Downloading   394 kB/954.9 kB\r",
        "\u001b[1B\u001b[1A\u001b[2K\r",
        "bdab595afeaa: Downloading 405.6 kB/954.9 kB\r",
        "\u001b[1B\u001b[1A\u001b[2K\r",
        "bdab595afeaa: Downloading 417.4 kB/954.9 kB\r",
        "\u001b[1B\u001b[1A\u001b[2K\r",
        "bdab595afeaa: Downloading 428.8 kB/954.9 kB\r",
        "\u001b[1B"
       ]
      },
      {
       "output_type": "stream",
       "stream": "stdout",
       "text": [
        "\u001b[1A\u001b[2K\r",
        "bdab595afeaa: Downloading 438.9 kB/954.9 kB\r",
        "\u001b[1B\u001b[1A\u001b[2K\r",
        "bdab595afeaa: Downloading 450.5 kB/954.9 kB\r",
        "\u001b[1B\u001b[1A\u001b[2K\r",
        "bdab595afeaa: Downloading 463.6 kB/954.9 kB\r",
        "\u001b[1B\u001b[1A\u001b[2K\r",
        "bdab595afeaa: Downloading 475.9 kB/954.9 kB\r",
        "\u001b[1B"
       ]
      },
      {
       "output_type": "stream",
       "stream": "stdout",
       "text": [
        "\u001b[1A\u001b[2K\r",
        "bdab595afeaa: Downloading 487.1 kB/954.9 kB\r",
        "\u001b[1B\u001b[1A\u001b[2K\r",
        "bdab595afeaa: Downloading 499.6 kB/954.9 kB\r",
        "\u001b[1B"
       ]
      },
      {
       "output_type": "stream",
       "stream": "stdout",
       "text": [
        "\u001b[1A\u001b[2K\r",
        "bdab595afeaa: Downloading 511.7 kB/954.9 kB\r",
        "\u001b[1B\u001b[1A\u001b[2K\r",
        "bdab595afeaa: Downloading 521.9 kB/954.9 kB\r",
        "\u001b[1B\u001b[1A\u001b[2K\r",
        "bdab595afeaa: Downloading 533.2 kB/954.9 kB\r",
        "\u001b[1B"
       ]
      },
      {
       "output_type": "stream",
       "stream": "stdout",
       "text": [
        "\u001b[1A\u001b[2K\r",
        "bdab595afeaa: Downloading 543.4 kB/954.9 kB\r",
        "\u001b[1B\u001b[1A\u001b[2K\r",
        "bdab595afeaa: Downloading 555.7 kB/954.9 kB\r",
        "\u001b[1B\u001b[1A\u001b[2K\r",
        "bdab595afeaa: Downloading   568 kB/954.9 kB\r",
        "\u001b[1B\u001b[1A\u001b[2K\r",
        "bdab595afeaa: Downloading 579.6 kB/954.9 kB\r",
        "\u001b[1B\u001b[1A\u001b[2K\r",
        "bdab595afeaa: Downloading 591.5 kB/954.9 kB\r",
        "\u001b[1B\u001b[1A\u001b[2K\r",
        "bdab595afeaa: Downloading 602.6 kB/954.9 kB\r",
        "\u001b[1B"
       ]
      },
      {
       "output_type": "stream",
       "stream": "stdout",
       "text": [
        "\u001b[1A\u001b[2K\r",
        "bdab595afeaa: Downloading   613 kB/954.9 kB\r",
        "\u001b[1B\u001b[1A\u001b[2K\r",
        "bdab595afeaa: Downloading 625.3 kB/954.9 kB\r",
        "\u001b[1B\u001b[1A\u001b[2K\r",
        "bdab595afeaa: Downloading 637.7 kB/954.9 kB\r",
        "\u001b[1B\u001b[1A\u001b[2K\r",
        "bdab595afeaa: Downloading 649.3 kB/954.9 kB\r",
        "\u001b[1B\u001b[1A\u001b[2K\r",
        "bdab595afeaa: Downloading 659.2 kB/954.9 kB\r",
        "\u001b[1B\u001b[1A\u001b[2K\r",
        "bdab595afeaa: Downloading 672.2 kB/954.9 kB\r",
        "\u001b[1B\u001b[1A\u001b[2K\r",
        "bdab595afeaa: Downloading 684.3 kB/954.9 kB\r",
        "\u001b[1B"
       ]
      },
      {
       "output_type": "stream",
       "stream": "stdout",
       "text": [
        "\u001b[1A\u001b[2K\r",
        "bdab595afeaa: Downloading 695.7 kB/954.9 kB\r",
        "\u001b[1B\u001b[1A\u001b[2K\r",
        "bdab595afeaa: Downloading 707.3 kB/954.9 kB\r",
        "\u001b[1B"
       ]
      },
      {
       "output_type": "stream",
       "stream": "stdout",
       "text": [
        "\u001b[1A\u001b[2K\r",
        "bdab595afeaa: Downloading 717.5 kB/954.9 kB\r",
        "\u001b[1B\u001b[1A\u001b[2K\r",
        "bdab595afeaa: Downloading 727.8 kB/954.9 kB\r",
        "\u001b[1B\u001b[1A\u001b[2K\r",
        "bdab595afeaa: Downloading 737.8 kB/954.9 kB\r",
        "\u001b[1B\u001b[1A\u001b[2K\r",
        "bdab595afeaa: Downloading 748.2 kB/954.9 kB\r",
        "\u001b[1B\u001b[1A\u001b[2K\r",
        "bdab595afeaa: Downloading 759.5 kB/954.9 kB\r",
        "\u001b[1B\u001b[1A\u001b[2K\r",
        "bdab595afeaa: Downloading 769.7 kB/954.9 kB\r",
        "\u001b[1B\u001b[1A\u001b[2K\r",
        "bdab595afeaa: Downloading 782.2 kB/954.9 kB\r",
        "\u001b[1B"
       ]
      },
      {
       "output_type": "stream",
       "stream": "stdout",
       "text": [
        "\u001b[1A\u001b[2K\r",
        "bdab595afeaa: Downloading 794.3 kB/954.9 kB\r",
        "\u001b[1B\u001b[1A\u001b[2K\r",
        "bdab595afeaa: Downloading   806 kB/954.9 kB\r",
        "\u001b[1B\u001b[1A\u001b[2K\r",
        "bdab595afeaa: Downloading 815.8 kB/954.9 kB\r",
        "\u001b[1B\u001b[1A\u001b[2K\r",
        "bdab595afeaa: Downloading 829.2 kB/954.9 kB\r",
        "\u001b[1B"
       ]
      },
      {
       "output_type": "stream",
       "stream": "stdout",
       "text": [
        "\u001b[1A\u001b[2K\r",
        "bdab595afeaa: Downloading 840.8 kB/954.9 kB\r",
        "\u001b[1B\u001b[1A\u001b[2K\r",
        "bdab595afeaa: Downloading 852.6 kB/954.9 kB\r",
        "\u001b[1B\u001b[1A\u001b[2K\r",
        "bdab595afeaa: Downloading 863.7 kB/954.9 kB\r",
        "\u001b[1B\u001b[1A\u001b[2K\r",
        "bdab595afeaa: Downloading   877 kB/954.9 kB\r",
        "\u001b[1B\u001b[1A\u001b[2K\r",
        "bdab595afeaa: Downloading 886.9 kB/954.9 kB\r",
        "\u001b[1B"
       ]
      },
      {
       "output_type": "stream",
       "stream": "stdout",
       "text": [
        "\u001b[1A\u001b[2K\r",
        "bdab595afeaa: Downloading 897.6 kB/954.9 kB\r",
        "\u001b[1B\u001b[1A\u001b[2K\r",
        "bdab595afeaa: Downloading 910.4 kB/954.9 kB\r",
        "\u001b[1B\u001b[1A\u001b[2K\r",
        "bdab595afeaa: Downloading   922 kB/954.9 kB\r",
        "\u001b[1B\u001b[1A\u001b[2K\r",
        "bdab595afeaa: Downloading 933.6 kB/954.9 kB\r",
        "\u001b[1B\u001b[1A\u001b[2K\r",
        "bdab595afeaa: Downloading 945.9 kB/954.9 kB\r",
        "\u001b[1B\u001b[1A\u001b[2K\r",
        "bdab595afeaa: Downloading 954.9 kB/954.9 kB\r",
        "\u001b[1B"
       ]
      },
      {
       "output_type": "stream",
       "stream": "stdout",
       "text": [
        "\u001b[1A\u001b[2K\r",
        "bdab595afeaa: Download complete \r",
        "\u001b[1B\r\n",
        "\u001b[0A\u001b[2K\r",
        "3094a4121304: Pulling metadata \r",
        "\u001b[0B"
       ]
      },
      {
       "output_type": "stream",
       "stream": "stdout",
       "text": [
        "\u001b[1A\u001b[2K\r",
        "3094a4121304: Pulling fs layer \r",
        "\u001b[1B"
       ]
      },
      {
       "output_type": "stream",
       "stream": "stdout",
       "text": [
        "\u001b[1A\u001b[2K\r",
        "3094a4121304: Downloading     23 B/23 B\r",
        "\u001b[1B"
       ]
      },
      {
       "output_type": "stream",
       "stream": "stdout",
       "text": [
        "\u001b[1A\u001b[2K\r",
        "3094a4121304: Download complete \r",
        "\u001b[1B\r\n",
        "\u001b[0A\u001b[2K\r",
        "c4abc01c1c0e: Pulling metadata \r",
        "\u001b[0B"
       ]
      },
      {
       "output_type": "stream",
       "stream": "stdout",
       "text": [
        "\u001b[1A\u001b[2K\r",
        "c4abc01c1c0e: Pulling fs layer \r",
        "\u001b[1B"
       ]
      },
      {
       "output_type": "stream",
       "stream": "stdout",
       "text": [
        "\u001b[1A\u001b[2K\r",
        "c4abc01c1c0e: Downloading 41.68 kB/4.07 MB\r",
        "\u001b[1B"
       ]
      },
      {
       "output_type": "stream",
       "stream": "stdout",
       "text": [
        "\u001b[1A\u001b[2K\r",
        "c4abc01c1c0e: Downloading 84.69 kB/4.07 MB\r",
        "\u001b[1B"
       ]
      },
      {
       "output_type": "stream",
       "stream": "stdout",
       "text": [
        "\u001b[1A\u001b[2K\r",
        "c4abc01c1c0e: Downloading 128.7 kB/4.07 MB\r",
        "\u001b[1B"
       ]
      },
      {
       "output_type": "stream",
       "stream": "stdout",
       "text": [
        "\u001b[1A\u001b[2K\r",
        "c4abc01c1c0e: Downloading 170.8 kB/4.07 MB\r",
        "\u001b[1B"
       ]
      },
      {
       "output_type": "stream",
       "stream": "stdout",
       "text": [
        "\u001b[1A\u001b[2K\r",
        "c4abc01c1c0e: Downloading 214.1 kB/4.07 MB\r",
        "\u001b[1B"
       ]
      },
      {
       "output_type": "stream",
       "stream": "stdout",
       "text": [
        "\u001b[1A\u001b[2K\r",
        "c4abc01c1c0e: Downloading 258.8 kB/4.07 MB\r",
        "\u001b[1B"
       ]
      },
      {
       "output_type": "stream",
       "stream": "stdout",
       "text": [
        "\u001b[1A\u001b[2K\r",
        "c4abc01c1c0e: Downloading 301.1 kB/4.07 MB\r",
        "\u001b[1B"
       ]
      },
      {
       "output_type": "stream",
       "stream": "stdout",
       "text": [
        "\u001b[1A\u001b[2K\r",
        "c4abc01c1c0e: Downloading 344.1 kB/4.07 MB\r",
        "\u001b[1B"
       ]
      },
      {
       "output_type": "stream",
       "stream": "stdout",
       "text": [
        "\u001b[1A\u001b[2K\r",
        "c4abc01c1c0e: Downloading 388.1 kB/4.07 MB\r",
        "\u001b[1B"
       ]
      },
      {
       "output_type": "stream",
       "stream": "stdout",
       "text": [
        "\u001b[1A\u001b[2K\r",
        "c4abc01c1c0e: Downloading 434.8 kB/4.07 MB\r",
        "\u001b[1B"
       ]
      },
      {
       "output_type": "stream",
       "stream": "stdout",
       "text": [
        "\u001b[1A\u001b[2K\r",
        "c4abc01c1c0e: Downloading 482.7 kB/4.07 MB\r",
        "\u001b[1B"
       ]
      },
      {
       "output_type": "stream",
       "stream": "stdout",
       "text": [
        "\u001b[1A\u001b[2K\r",
        "c4abc01c1c0e: Downloading   526 kB/4.07 MB\r",
        "\u001b[1B"
       ]
      },
      {
       "output_type": "stream",
       "stream": "stdout",
       "text": [
        "\u001b[1A\u001b[2K\r",
        "c4abc01c1c0e: Downloading   567 kB/4.07 MB\r",
        "\u001b[1B"
       ]
      },
      {
       "output_type": "stream",
       "stream": "stdout",
       "text": [
        "\u001b[1A\u001b[2K\r",
        "c4abc01c1c0e: Downloading 608.9 kB/4.07 MB\r",
        "\u001b[1B\u001b[1A\u001b[2K\r",
        "c4abc01c1c0e: Downloading 650.7 kB/4.07 MB\r",
        "\u001b[1B"
       ]
      },
      {
       "output_type": "stream",
       "stream": "stdout",
       "text": [
        "\u001b[1A\u001b[2K\r",
        "c4abc01c1c0e: Downloading 692.5 kB/4.07 MB\r",
        "\u001b[1B"
       ]
      },
      {
       "output_type": "stream",
       "stream": "stdout",
       "text": [
        "\u001b[1A\u001b[2K\r",
        "c4abc01c1c0e: Downloading 743.8 kB/4.07 MB\r",
        "\u001b[1B"
       ]
      },
      {
       "output_type": "stream",
       "stream": "stdout",
       "text": [
        "\u001b[1A\u001b[2K\r",
        "c4abc01c1c0e: Downloading 790.2 kB/4.07 MB\r",
        "\u001b[1B"
       ]
      },
      {
       "output_type": "stream",
       "stream": "stdout",
       "text": [
        "\u001b[1A\u001b[2K\r",
        "c4abc01c1c0e: Downloading 835.2 kB/4.07 MB\r",
        "\u001b[1B\u001b[1A\u001b[2K\r",
        "c4abc01c1c0e: Downloading 877.3 kB/4.07 MB\r",
        "\u001b[1B"
       ]
      },
      {
       "output_type": "stream",
       "stream": "stdout",
       "text": [
        "\u001b[1A\u001b[2K\r",
        "c4abc01c1c0e: Downloading 922.3 kB/4.07 MB\r",
        "\u001b[1B"
       ]
      },
      {
       "output_type": "stream",
       "stream": "stdout",
       "text": [
        "\u001b[1A\u001b[2K\r",
        "c4abc01c1c0e: Downloading 974.5 kB/4.07 MB\r",
        "\u001b[1B"
       ]
      },
      {
       "output_type": "stream",
       "stream": "stdout",
       "text": [
        "\u001b[1A\u001b[2K\r",
        "c4abc01c1c0e: Downloading 1.024 MB/4.07 MB\r",
        "\u001b[1B"
       ]
      },
      {
       "output_type": "stream",
       "stream": "stdout",
       "text": [
        "\u001b[1A\u001b[2K\r",
        "c4abc01c1c0e: Downloading 1.066 MB/4.07 MB\r",
        "\u001b[1B\u001b[1A\u001b[2K\r",
        "c4abc01c1c0e: Downloading 1.108 MB/4.07 MB\r",
        "\u001b[1B"
       ]
      },
      {
       "output_type": "stream",
       "stream": "stdout",
       "text": [
        "\u001b[1A\u001b[2K\r",
        "c4abc01c1c0e: Downloading 1.149 MB/4.07 MB\r",
        "\u001b[1B\u001b[1A\u001b[2K\r",
        "c4abc01c1c0e: Downloading 1.191 MB/4.07 MB\r",
        "\u001b[1B"
       ]
      },
      {
       "output_type": "stream",
       "stream": "stdout",
       "text": [
        "\u001b[1A\u001b[2K\r",
        "c4abc01c1c0e: Downloading 1.236 MB/4.07 MB\r",
        "\u001b[1B\u001b[1A\u001b[2K\r",
        "c4abc01c1c0e: Downloading 1.286 MB/4.07 MB\r",
        "\u001b[1B"
       ]
      },
      {
       "output_type": "stream",
       "stream": "stdout",
       "text": [
        "\u001b[1A\u001b[2K\r",
        "c4abc01c1c0e: Downloading  1.33 MB/4.07 MB\r",
        "\u001b[1B"
       ]
      },
      {
       "output_type": "stream",
       "stream": "stdout",
       "text": [
        "\u001b[1A\u001b[2K\r",
        "c4abc01c1c0e: Downloading 1.373 MB/4.07 MB\r",
        "\u001b[1B\u001b[1A\u001b[2K\r",
        "c4abc01c1c0e: Downloading 1.414 MB/4.07 MB\r",
        "\u001b[1B"
       ]
      },
      {
       "output_type": "stream",
       "stream": "stdout",
       "text": [
        "\u001b[1A\u001b[2K\r",
        "c4abc01c1c0e: Downloading  1.46 MB/4.07 MB\r",
        "\u001b[1B\u001b[1A\u001b[2K\r",
        "c4abc01c1c0e: Downloading 1.502 MB/4.07 MB\r",
        "\u001b[1B"
       ]
      },
      {
       "output_type": "stream",
       "stream": "stdout",
       "text": [
        "\u001b[1A\u001b[2K\r",
        "c4abc01c1c0e: Downloading 1.548 MB/4.07 MB\r",
        "\u001b[1B\u001b[1A\u001b[2K\r",
        "c4abc01c1c0e: Downloading 1.591 MB/4.07 MB\r",
        "\u001b[1B"
       ]
      },
      {
       "output_type": "stream",
       "stream": "stdout",
       "text": [
        "\u001b[1A\u001b[2K\r",
        "c4abc01c1c0e: Downloading 1.635 MB/4.07 MB\r",
        "\u001b[1B\u001b[1A\u001b[2K\r",
        "c4abc01c1c0e: Downloading  1.68 MB/4.07 MB\r",
        "\u001b[1B\u001b[1A\u001b[2K\r",
        "c4abc01c1c0e: Downloading 1.723 MB/4.07 MB\r",
        "\u001b[1B"
       ]
      },
      {
       "output_type": "stream",
       "stream": "stdout",
       "text": [
        "\u001b[1A\u001b[2K\r",
        "c4abc01c1c0e: Downloading 1.767 MB/4.07 MB\r",
        "\u001b[1B\u001b[1A\u001b[2K\r",
        "c4abc01c1c0e: Downloading  1.81 MB/4.07 MB\r",
        "\u001b[1B"
       ]
      },
      {
       "output_type": "stream",
       "stream": "stdout",
       "text": [
        "\u001b[1A\u001b[2K\r",
        "c4abc01c1c0e: Downloading 1.852 MB/4.07 MB\r",
        "\u001b[1B\u001b[1A\u001b[2K\r",
        "c4abc01c1c0e: Downloading 1.894 MB/4.07 MB\r",
        "\u001b[1B\u001b[1A\u001b[2K\r",
        "c4abc01c1c0e: Downloading 1.938 MB/4.07 MB\r",
        "\u001b[1B\u001b[1A\u001b[2K\r",
        "c4abc01c1c0e: Downloading  1.99 MB/4.07 MB\r",
        "\u001b[1B"
       ]
      },
      {
       "output_type": "stream",
       "stream": "stdout",
       "text": [
        "\u001b[1A\u001b[2K\r",
        "c4abc01c1c0e: Downloading  2.04 MB/4.07 MB\r",
        "\u001b[1B\u001b[1A\u001b[2K\r",
        "c4abc01c1c0e: Downloading 2.082 MB/4.07 MB\r",
        "\u001b[1B"
       ]
      },
      {
       "output_type": "stream",
       "stream": "stdout",
       "text": [
        "\u001b[1A\u001b[2K\r",
        "c4abc01c1c0e: Downloading 2.123 MB/4.07 MB\r",
        "\u001b[1B\u001b[1A\u001b[2K\r",
        "c4abc01c1c0e: Downloading 2.164 MB/4.07 MB\r",
        "\u001b[1B\u001b[1A\u001b[2K\r",
        "c4abc01c1c0e: Downloading 2.207 MB/4.07 MB\r",
        "\u001b[1B"
       ]
      },
      {
       "output_type": "stream",
       "stream": "stdout",
       "text": [
        "\u001b[1A\u001b[2K\r",
        "c4abc01c1c0e: Downloading 2.254 MB/4.07 MB\r",
        "\u001b[1B\u001b[1A\u001b[2K\r",
        "c4abc01c1c0e: Downloading 2.302 MB/4.07 MB\r",
        "\u001b[1B\u001b[1A\u001b[2K\r",
        "c4abc01c1c0e: Downloading  2.35 MB/4.07 MB\r",
        "\u001b[1B"
       ]
      },
      {
       "output_type": "stream",
       "stream": "stdout",
       "text": [
        "\u001b[1A\u001b[2K\r",
        "c4abc01c1c0e: Downloading 2.392 MB/4.07 MB\r",
        "\u001b[1B\u001b[1A\u001b[2K\r",
        "c4abc01c1c0e: Downloading 2.433 MB/4.07 MB\r",
        "\u001b[1B\u001b[1A\u001b[2K\r",
        "c4abc01c1c0e: Downloading 2.483 MB/4.07 MB\r",
        "\u001b[1B"
       ]
      },
      {
       "output_type": "stream",
       "stream": "stdout",
       "text": [
        "\u001b[1A\u001b[2K\r",
        "c4abc01c1c0e: Downloading 2.532 MB/4.07 MB\r",
        "\u001b[1B\u001b[1A\u001b[2K\r",
        "c4abc01c1c0e: Downloading 2.575 MB/4.07 MB\r",
        "\u001b[1B\u001b[1A\u001b[2K\r",
        "c4abc01c1c0e: Downloading 2.621 MB/4.07 MB\r",
        "\u001b[1B\u001b[1A\u001b[2K\r",
        "c4abc01c1c0e: Downloading 2.663 MB/4.07 MB\r",
        "\u001b[1B"
       ]
      },
      {
       "output_type": "stream",
       "stream": "stdout",
       "text": [
        "\u001b[1A\u001b[2K\r",
        "c4abc01c1c0e: Downloading 2.708 MB/4.07 MB\r",
        "\u001b[1B\u001b[1A\u001b[2K\r",
        "c4abc01c1c0e: Downloading  2.75 MB/4.07 MB\r",
        "\u001b[1B"
       ]
      },
      {
       "output_type": "stream",
       "stream": "stdout",
       "text": [
        "\u001b[1A\u001b[2K\r",
        "c4abc01c1c0e: Downloading 2.793 MB/4.07 MB\r",
        "\u001b[1B\u001b[1A\u001b[2K\r",
        "c4abc01c1c0e: Downloading 2.844 MB/4.07 MB\r",
        "\u001b[1B\u001b[1A\u001b[2K\r",
        "c4abc01c1c0e: Downloading 2.885 MB/4.07 MB\r",
        "\u001b[1B"
       ]
      },
      {
       "output_type": "stream",
       "stream": "stdout",
       "text": [
        "\u001b[1A\u001b[2K\r",
        "c4abc01c1c0e: Downloading 2.928 MB/4.07 MB\r",
        "\u001b[1B\u001b[1A\u001b[2K\r",
        "c4abc01c1c0e: Downloading 2.971 MB/4.07 MB\r",
        "\u001b[1B\u001b[1A\u001b[2K\r",
        "c4abc01c1c0e: Downloading 3.023 MB/4.07 MB\r",
        "\u001b[1B"
       ]
      },
      {
       "output_type": "stream",
       "stream": "stdout",
       "text": [
        "\u001b[1A\u001b[2K\r",
        "c4abc01c1c0e: Downloading  3.07 MB/4.07 MB\r",
        "\u001b[1B\u001b[1A\u001b[2K\r",
        "c4abc01c1c0e: Downloading 3.112 MB/4.07 MB\r",
        "\u001b[1B"
       ]
      },
      {
       "output_type": "stream",
       "stream": "stdout",
       "text": [
        "\u001b[1A\u001b[2K\r",
        "c4abc01c1c0e: Downloading 3.156 MB/4.07 MB\r",
        "\u001b[1B\u001b[1A\u001b[2K\r",
        "c4abc01c1c0e: Downloading 3.197 MB/4.07 MB\r",
        "\u001b[1B\u001b[1A\u001b[2K\r",
        "c4abc01c1c0e: Downloading 3.238 MB/4.07 MB\r",
        "\u001b[1B\u001b[1A\u001b[2K\r",
        "c4abc01c1c0e: Downloading 3.282 MB/4.07 MB\r",
        "\u001b[1B\u001b[1A\u001b[2K\r",
        "c4abc01c1c0e: Downloading 3.325 MB/4.07 MB\r",
        "\u001b[1B"
       ]
      },
      {
       "output_type": "stream",
       "stream": "stdout",
       "text": [
        "\u001b[1A\u001b[2K\r",
        "c4abc01c1c0e: Downloading 3.366 MB/4.07 MB\r",
        "\u001b[1B\u001b[1A\u001b[2K\r",
        "c4abc01c1c0e: Downloading  3.41 MB/4.07 MB\r",
        "\u001b[1B\u001b[1A\u001b[2K\r",
        "c4abc01c1c0e: Downloading 3.455 MB/4.07 MB\r",
        "\u001b[1B\u001b[1A\u001b[2K\r",
        "c4abc01c1c0e: Downloading 3.497 MB/4.07 MB\r",
        "\u001b[1B\u001b[1A\u001b[2K\r",
        "c4abc01c1c0e: Downloading 3.541 MB/4.07 MB\r",
        "\u001b[1B\u001b[1A\u001b[2K\r",
        "c4abc01c1c0e: Downloading 3.585 MB/4.07 MB\r",
        "\u001b[1B"
       ]
      },
      {
       "output_type": "stream",
       "stream": "stdout",
       "text": [
        "\u001b[1A\u001b[2K\r",
        "c4abc01c1c0e: Downloading 3.626 MB/4.07 MB\r",
        "\u001b[1B\u001b[1A\u001b[2K\r",
        "c4abc01c1c0e: Downloading 3.668 MB/4.07 MB\r",
        "\u001b[1B\u001b[1A\u001b[2K\r",
        "c4abc01c1c0e: Downloading 3.712 MB/4.07 MB\r",
        "\u001b[1B\u001b[1A\u001b[2K\r",
        "c4abc01c1c0e: Downloading 3.755 MB/4.07 MB\r",
        "\u001b[1B\u001b[1A\u001b[2K\r",
        "c4abc01c1c0e: Downloading 3.796 MB/4.07 MB\r",
        "\u001b[1B\u001b[1A\u001b[2K\r",
        "c4abc01c1c0e: Downloading 3.847 MB/4.07 MB\r",
        "\u001b[1B"
       ]
      },
      {
       "output_type": "stream",
       "stream": "stdout",
       "text": [
        "\u001b[1A\u001b[2K\r",
        "c4abc01c1c0e: Downloading 3.899 MB/4.07 MB\r",
        "\u001b[1B\u001b[1A\u001b[2K\r",
        "c4abc01c1c0e: Downloading 3.941 MB/4.07 MB\r",
        "\u001b[1B\u001b[1A\u001b[2K\r",
        "c4abc01c1c0e: Downloading 3.983 MB/4.07 MB\r",
        "\u001b[1B\u001b[1A\u001b[2K\r",
        "c4abc01c1c0e: Downloading 4.033 MB/4.07 MB\r",
        "\u001b[1B\u001b[1A\u001b[2K\r",
        "c4abc01c1c0e: Downloading  4.07 MB/4.07 MB\r",
        "\u001b[1B"
       ]
      },
      {
       "output_type": "stream",
       "stream": "stdout",
       "text": [
        "\u001b[1A\u001b[2K\r",
        "c4abc01c1c0e: Download complete \r",
        "\u001b[1B\r\n",
        "\u001b[0A\u001b[2K\r",
        "1ef81ff496fc: Pulling metadata \r",
        "\u001b[0B"
       ]
      },
      {
       "output_type": "stream",
       "stream": "stdout",
       "text": [
        "\u001b[1A\u001b[2K\r",
        "1ef81ff496fc: Pulling fs layer \r",
        "\u001b[1B"
       ]
      },
      {
       "output_type": "stream",
       "stream": "stdout",
       "text": [
        "\u001b[1A\u001b[2K\r",
        "1ef81ff496fc: Downloading  41.7 kB/4.145 MB\r",
        "\u001b[1B"
       ]
      },
      {
       "output_type": "stream",
       "stream": "stdout",
       "text": [
        "\u001b[1A\u001b[2K\r",
        "1ef81ff496fc: Downloading  84.7 kB/4.145 MB\r",
        "\u001b[1B"
       ]
      },
      {
       "output_type": "stream",
       "stream": "stdout",
       "text": [
        "\u001b[1A\u001b[2K\r",
        "1ef81ff496fc: Downloading 127.7 kB/4.145 MB\r",
        "\u001b[1B"
       ]
      },
      {
       "output_type": "stream",
       "stream": "stdout",
       "text": [
        "\u001b[1A\u001b[2K\r",
        "1ef81ff496fc: Downloading   172 kB/4.145 MB\r",
        "\u001b[1B"
       ]
      },
      {
       "output_type": "stream",
       "stream": "stdout",
       "text": [
        "\u001b[1A\u001b[2K\r",
        "1ef81ff496fc: Downloading 216.7 kB/4.145 MB\r",
        "\u001b[1B"
       ]
      },
      {
       "output_type": "stream",
       "stream": "stdout",
       "text": [
        "\u001b[1A\u001b[2K\r",
        "1ef81ff496fc: Downloading 260.8 kB/4.145 MB\r",
        "\u001b[1B"
       ]
      },
      {
       "output_type": "stream",
       "stream": "stdout",
       "text": [
        "\u001b[1A\u001b[2K\r",
        "1ef81ff496fc: Downloading 305.2 kB/4.145 MB\r",
        "\u001b[1B"
       ]
      },
      {
       "output_type": "stream",
       "stream": "stdout",
       "text": [
        "\u001b[1A\u001b[2K\r",
        "1ef81ff496fc: Downloading 347.8 kB/4.145 MB\r",
        "\u001b[1B"
       ]
      },
      {
       "output_type": "stream",
       "stream": "stdout",
       "text": [
        "\u001b[1A\u001b[2K\r",
        "1ef81ff496fc: Downloading 392.3 kB/4.145 MB\r",
        "\u001b[1B\u001b[1A\u001b[2K\r",
        "1ef81ff496fc: Downloading 436.3 kB/4.145 MB\r",
        "\u001b[1B"
       ]
      },
      {
       "output_type": "stream",
       "stream": "stdout",
       "text": [
        "\u001b[1A\u001b[2K\r",
        "1ef81ff496fc: Downloading   481 kB/4.145 MB\r",
        "\u001b[1B\u001b[1A\u001b[2K\r",
        "1ef81ff496fc: Downloading 526.4 kB/4.145 MB\r",
        "\u001b[1B"
       ]
      },
      {
       "output_type": "stream",
       "stream": "stdout",
       "text": [
        "\u001b[1A\u001b[2K\r",
        "1ef81ff496fc: Downloading   568 kB/4.145 MB\r",
        "\u001b[1B\u001b[1A\u001b[2K\r",
        "1ef81ff496fc: Downloading 610.4 kB/4.145 MB\r",
        "\u001b[1B"
       ]
      },
      {
       "output_type": "stream",
       "stream": "stdout",
       "text": [
        "\u001b[1A\u001b[2K\r",
        "1ef81ff496fc: Downloading 651.9 kB/4.145 MB\r",
        "\u001b[1B"
       ]
      },
      {
       "output_type": "stream",
       "stream": "stdout",
       "text": [
        "\u001b[1A\u001b[2K\r",
        "1ef81ff496fc: Downloading 694.5 kB/4.145 MB\r",
        "\u001b[1B\u001b[1A\u001b[2K\r",
        "1ef81ff496fc: Downloading 736.6 kB/4.145 MB\r",
        "\u001b[1B"
       ]
      },
      {
       "output_type": "stream",
       "stream": "stdout",
       "text": [
        "\u001b[1A\u001b[2K\r",
        "1ef81ff496fc: Downloading 780.8 kB/4.145 MB\r",
        "\u001b[1B"
       ]
      },
      {
       "output_type": "stream",
       "stream": "stdout",
       "text": [
        "\u001b[1A\u001b[2K\r",
        "1ef81ff496fc: Downloading 823.4 kB/4.145 MB\r",
        "\u001b[1B\u001b[1A\u001b[2K\r",
        "1ef81ff496fc: Downloading 867.8 kB/4.145 MB\r",
        "\u001b[1B\u001b[1A\u001b[2K\r",
        "1ef81ff496fc: Downloading 910.4 kB/4.145 MB\r",
        "\u001b[1B"
       ]
      },
      {
       "output_type": "stream",
       "stream": "stdout",
       "text": [
        "\u001b[1A\u001b[2K\r",
        "1ef81ff496fc: Downloading   952 kB/4.145 MB\r",
        "\u001b[1B\u001b[1A\u001b[2K\r",
        "1ef81ff496fc: Downloading   996 kB/4.145 MB\r",
        "\u001b[1B\u001b[1A\u001b[2K\r",
        "1ef81ff496fc: Downloading  1.04 MB/4.145 MB\r",
        "\u001b[1B"
       ]
      },
      {
       "output_type": "stream",
       "stream": "stdout",
       "text": [
        "\u001b[1A\u001b[2K\r",
        "1ef81ff496fc: Downloading 1.082 MB/4.145 MB\r",
        "\u001b[1B\u001b[1A\u001b[2K\r",
        "1ef81ff496fc: Downloading 1.124 MB/4.145 MB\r",
        "\u001b[1B"
       ]
      },
      {
       "output_type": "stream",
       "stream": "stdout",
       "text": [
        "\u001b[1A\u001b[2K\r",
        "1ef81ff496fc: Downloading 1.166 MB/4.145 MB\r",
        "\u001b[1B\u001b[1A\u001b[2K\r",
        "1ef81ff496fc: Downloading 1.208 MB/4.145 MB\r",
        "\u001b[1B"
       ]
      },
      {
       "output_type": "stream",
       "stream": "stdout",
       "text": [
        "\u001b[1A\u001b[2K\r",
        "1ef81ff496fc: Downloading  1.25 MB/4.145 MB\r",
        "\u001b[1B\u001b[1A\u001b[2K\r",
        "1ef81ff496fc: Downloading 1.292 MB/4.145 MB\r",
        "\u001b[1B\u001b[1A\u001b[2K\r",
        "1ef81ff496fc: Downloading 1.337 MB/4.145 MB\r",
        "\u001b[1B"
       ]
      },
      {
       "output_type": "stream",
       "stream": "stdout",
       "text": [
        "\u001b[1A\u001b[2K\r",
        "1ef81ff496fc: Downloading  1.38 MB/4.145 MB\r",
        "\u001b[1B\u001b[1A\u001b[2K\r",
        "1ef81ff496fc: Downloading 1.422 MB/4.145 MB\r",
        "\u001b[1B\u001b[1A\u001b[2K\r",
        "1ef81ff496fc: Downloading 1.466 MB/4.145 MB\r",
        "\u001b[1B\u001b[1A\u001b[2K\r",
        "1ef81ff496fc: Downloading  1.51 MB/4.145 MB\r",
        "\u001b[1B\u001b[1A\u001b[2K\r",
        "1ef81ff496fc: Downloading 1.551 MB/4.145 MB\r",
        "\u001b[1B"
       ]
      },
      {
       "output_type": "stream",
       "stream": "stdout",
       "text": [
        "\u001b[1A\u001b[2K\r",
        "1ef81ff496fc: Downloading 1.595 MB/4.145 MB\r",
        "\u001b[1B"
       ]
      },
      {
       "output_type": "stream",
       "stream": "stdout",
       "text": [
        "\u001b[1A\u001b[2K\r",
        "1ef81ff496fc: Downloading 1.637 MB/4.145 MB\r",
        "\u001b[1B"
       ]
      },
      {
       "output_type": "stream",
       "stream": "stdout",
       "text": [
        "\u001b[1A\u001b[2K\r",
        "1ef81ff496fc: Downloading  1.68 MB/4.145 MB\r",
        "\u001b[1B\u001b[1A\u001b[2K\r",
        "1ef81ff496fc: Downloading 1.723 MB/4.145 MB\r",
        "\u001b[1B\u001b[1A\u001b[2K\r",
        "1ef81ff496fc: Downloading 1.767 MB/4.145 MB\r",
        "\u001b[1B\u001b[1A\u001b[2K\r",
        "1ef81ff496fc: Downloading 1.809 MB/4.145 MB\r",
        "\u001b[1B"
       ]
      },
      {
       "output_type": "stream",
       "stream": "stdout",
       "text": [
        "\u001b[1A\u001b[2K\r",
        "1ef81ff496fc: Downloading 1.855 MB/4.145 MB\r",
        "\u001b[1B\u001b[1A\u001b[2K\r",
        "1ef81ff496fc: Downloading 1.897 MB/4.145 MB\r",
        "\u001b[1B\u001b[1A\u001b[2K\r",
        "1ef81ff496fc: Downloading 1.939 MB/4.145 MB\r",
        "\u001b[1B\u001b[1A\u001b[2K\r",
        "1ef81ff496fc: Downloading 1.981 MB/4.145 MB\r",
        "\u001b[1B"
       ]
      },
      {
       "output_type": "stream",
       "stream": "stdout",
       "text": [
        "\u001b[1A\u001b[2K\r",
        "1ef81ff496fc: Downloading 2.022 MB/4.145 MB\r",
        "\u001b[1B\u001b[1A\u001b[2K\r",
        "1ef81ff496fc: Downloading 2.067 MB/4.145 MB\r",
        "\u001b[1B\u001b[1A\u001b[2K\r",
        "1ef81ff496fc: Downloading 2.113 MB/4.145 MB\r",
        "\u001b[1B\u001b[1A\u001b[2K\r",
        "1ef81ff496fc: Downloading 2.158 MB/4.145 MB\r",
        "\u001b[1B"
       ]
      },
      {
       "output_type": "stream",
       "stream": "stdout",
       "text": [
        "\u001b[1A\u001b[2K\r",
        "1ef81ff496fc: Downloading 2.203 MB/4.145 MB\r",
        "\u001b[1B\u001b[1A\u001b[2K\r",
        "1ef81ff496fc: Downloading 2.246 MB/4.145 MB\r",
        "\u001b[1B\u001b[1A\u001b[2K\r",
        "1ef81ff496fc: Downloading 2.289 MB/4.145 MB\r",
        "\u001b[1B\u001b[1A\u001b[2K\r",
        "1ef81ff496fc: Downloading 2.332 MB/4.145 MB\r",
        "\u001b[1B"
       ]
      },
      {
       "output_type": "stream",
       "stream": "stdout",
       "text": [
        "\u001b[1A\u001b[2K\r",
        "1ef81ff496fc: Downloading 2.374 MB/4.145 MB\r",
        "\u001b[1B\u001b[1A\u001b[2K\r",
        "1ef81ff496fc: Downloading 2.419 MB/4.145 MB\r",
        "\u001b[1B\u001b[1A\u001b[2K\r",
        "1ef81ff496fc: Downloading 2.464 MB/4.145 MB\r",
        "\u001b[1B\u001b[1A\u001b[2K\r",
        "1ef81ff496fc: Downloading 2.506 MB/4.145 MB\r",
        "\u001b[1B"
       ]
      },
      {
       "output_type": "stream",
       "stream": "stdout",
       "text": [
        "\u001b[1A\u001b[2K\r",
        "1ef81ff496fc: Downloading 2.549 MB/4.145 MB\r",
        "\u001b[1B\u001b[1A\u001b[2K\r",
        "1ef81ff496fc: Downloading 2.594 MB/4.145 MB\r",
        "\u001b[1B\u001b[1A\u001b[2K\r",
        "1ef81ff496fc: Downloading 2.639 MB/4.145 MB\r",
        "\u001b[1B\u001b[1A\u001b[2K\r",
        "1ef81ff496fc: Downloading 2.683 MB/4.145 MB\r",
        "\u001b[1B"
       ]
      },
      {
       "output_type": "stream",
       "stream": "stdout",
       "text": [
        "\u001b[1A\u001b[2K\r",
        "1ef81ff496fc: Downloading 2.727 MB/4.145 MB\r",
        "\u001b[1B"
       ]
      },
      {
       "output_type": "stream",
       "stream": "stdout",
       "text": [
        "\u001b[1A\u001b[2K\r",
        "1ef81ff496fc: Downloading  2.77 MB/4.145 MB\r",
        "\u001b[1B\u001b[1A\u001b[2K\r",
        "1ef81ff496fc: Downloading 2.812 MB/4.145 MB\r",
        "\u001b[1B\u001b[1A\u001b[2K\r",
        "1ef81ff496fc: Downloading 2.857 MB/4.145 MB\r",
        "\u001b[1B\u001b[1A\u001b[2K\r",
        "1ef81ff496fc: Downloading 2.901 MB/4.145 MB\r",
        "\u001b[1B\u001b[1A\u001b[2K\r",
        "1ef81ff496fc: Downloading 2.946 MB/4.145 MB\r",
        "\u001b[1B"
       ]
      },
      {
       "output_type": "stream",
       "stream": "stdout",
       "text": [
        "\u001b[1A\u001b[2K\r",
        "1ef81ff496fc: Downloading 2.987 MB/4.145 MB\r",
        "\u001b[1B\u001b[1A\u001b[2K\r",
        "1ef81ff496fc: Downloading  3.03 MB/4.145 MB\r",
        "\u001b[1B\u001b[1A\u001b[2K\r",
        "1ef81ff496fc: Downloading 3.075 MB/4.145 MB\r",
        "\u001b[1B\u001b[1A\u001b[2K\r",
        "1ef81ff496fc: Downloading 3.118 MB/4.145 MB\r",
        "\u001b[1B\u001b[1A\u001b[2K\r",
        "1ef81ff496fc: Downloading 3.163 MB/4.145 MB\r",
        "\u001b[1B"
       ]
      },
      {
       "output_type": "stream",
       "stream": "stdout",
       "text": [
        "\u001b[1A\u001b[2K\r",
        "1ef81ff496fc: Downloading 3.208 MB/4.145 MB\r",
        "\u001b[1B\u001b[1A\u001b[2K\r",
        "1ef81ff496fc: Downloading 3.253 MB/4.145 MB\r",
        "\u001b[1B\u001b[1A\u001b[2K\r",
        "1ef81ff496fc: Downloading 3.298 MB/4.145 MB\r",
        "\u001b[1B\u001b[1A\u001b[2K\r",
        "1ef81ff496fc: Downloading 3.343 MB/4.145 MB\r",
        "\u001b[1B"
       ]
      },
      {
       "output_type": "stream",
       "stream": "stdout",
       "text": [
        "\u001b[1A\u001b[2K\r",
        "1ef81ff496fc: Downloading 3.388 MB/4.145 MB\r",
        "\u001b[1B\u001b[1A\u001b[2K\r",
        "1ef81ff496fc: Downloading 3.433 MB/4.145 MB\r",
        "\u001b[1B\u001b[1A\u001b[2K\r",
        "1ef81ff496fc: Downloading 3.478 MB/4.145 MB\r",
        "\u001b[1B\u001b[1A\u001b[2K\r",
        "1ef81ff496fc: Downloading 3.523 MB/4.145 MB\r",
        "\u001b[1B\u001b[1A\u001b[2K\r",
        "1ef81ff496fc: Downloading 3.569 MB/4.145 MB\r",
        "\u001b[1B"
       ]
      },
      {
       "output_type": "stream",
       "stream": "stdout",
       "text": [
        "\u001b[1A\u001b[2K\r",
        "1ef81ff496fc: Downloading 3.614 MB/4.145 MB\r",
        "\u001b[1B\u001b[1A\u001b[2K\r",
        "1ef81ff496fc: Downloading 3.659 MB/4.145 MB\r",
        "\u001b[1B\u001b[1A\u001b[2K\r",
        "1ef81ff496fc: Downloading 3.704 MB/4.145 MB\r",
        "\u001b[1B\u001b[1A\u001b[2K\r",
        "1ef81ff496fc: Downloading 3.749 MB/4.145 MB\r",
        "\u001b[1B\u001b[1A"
       ]
      },
      {
       "output_type": "stream",
       "stream": "stdout",
       "text": [
        "\u001b[2K\r",
        "1ef81ff496fc: Downloading 3.794 MB/4.145 MB\r",
        "\u001b[1B\u001b[1A\u001b[2K\r",
        "1ef81ff496fc: Downloading 3.839 MB/4.145 MB\r",
        "\u001b[1B\u001b[1A\u001b[2K\r",
        "1ef81ff496fc: Downloading 3.884 MB/4.145 MB\r",
        "\u001b[1B"
       ]
      },
      {
       "output_type": "stream",
       "stream": "stdout",
       "text": [
        "\u001b[1A\u001b[2K\r",
        "1ef81ff496fc: Downloading 3.929 MB/4.145 MB\r",
        "\u001b[1B\u001b[1A\u001b[2K\r",
        "1ef81ff496fc: Downloading 3.974 MB/4.145 MB\r",
        "\u001b[1B\u001b[1A\u001b[2K\r",
        "1ef81ff496fc: Downloading 4.019 MB/4.145 MB\r",
        "\u001b[1B\u001b[1A\u001b[2K\r",
        "1ef81ff496fc: Downloading 4.064 MB/4.145 MB\r",
        "\u001b[1B\u001b[1A\u001b[2K\r",
        "1ef81ff496fc: Downloading 4.109 MB/4.145 MB\r",
        "\u001b[1B"
       ]
      },
      {
       "output_type": "stream",
       "stream": "stdout",
       "text": [
        "\u001b[1A\u001b[2K\r",
        "1ef81ff496fc: Downloading 4.145 MB/4.145 MB\r",
        "\u001b[1B"
       ]
      },
      {
       "output_type": "stream",
       "stream": "stdout",
       "text": [
        "\u001b[1A\u001b[2K\r",
        "1ef81ff496fc: Download complete \r",
        "\u001b[1B\r\n",
        "\u001b[0A\u001b[2K\r",
        "8b99873c74b3: Pulling metadata \r",
        "\u001b[0B"
       ]
      },
      {
       "output_type": "stream",
       "stream": "stdout",
       "text": [
        "\u001b[1A\u001b[2K\r",
        "8b99873c74b3: Pulling fs layer \r",
        "\u001b[1B"
       ]
      },
      {
       "output_type": "stream",
       "stream": "stdout",
       "text": [
        "\u001b[1A\u001b[2K\r",
        "8b99873c74b3: Downloading 43.59 kB/4.091 MB\r",
        "\u001b[1B\u001b[1A\u001b[2K\r",
        "8b99873c74b3: Downloading 85.46 kB/4.091 MB\r",
        "\u001b[1B"
       ]
      },
      {
       "output_type": "stream",
       "stream": "stdout",
       "text": [
        "\u001b[1A\u001b[2K\r",
        "8b99873c74b3: Downloading 130.5 kB/4.091 MB\r",
        "\u001b[1B"
       ]
      },
      {
       "output_type": "stream",
       "stream": "stdout",
       "text": [
        "\u001b[1A\u001b[2K\r",
        "8b99873c74b3: Downloading 171.5 kB/4.091 MB\r",
        "\u001b[1B"
       ]
      },
      {
       "output_type": "stream",
       "stream": "stdout",
       "text": [
        "\u001b[1A\u001b[2K\r",
        "8b99873c74b3: Downloading 212.4 kB/4.091 MB\r",
        "\u001b[1B\u001b[1A\u001b[2K\r",
        "8b99873c74b3: Downloading 253.4 kB/4.091 MB\r",
        "\u001b[1B"
       ]
      },
      {
       "output_type": "stream",
       "stream": "stdout",
       "text": [
        "\u001b[1A\u001b[2K\r",
        "8b99873c74b3: Downloading 294.4 kB/4.091 MB\r",
        "\u001b[1B\u001b[1A\u001b[2K\r",
        "8b99873c74b3: Downloading 335.3 kB/4.091 MB\r",
        "\u001b[1B\u001b[1A\u001b[2K\r",
        "8b99873c74b3: Downloading 376.3 kB/4.091 MB\r",
        "\u001b[1B"
       ]
      },
      {
       "output_type": "stream",
       "stream": "stdout",
       "text": [
        "\u001b[1A\u001b[2K\r",
        "8b99873c74b3: Downloading 417.2 kB/4.091 MB\r",
        "\u001b[1B"
       ]
      },
      {
       "output_type": "stream",
       "stream": "stdout",
       "text": [
        "\u001b[1A\u001b[2K\r",
        "8b99873c74b3: Downloading 458.2 kB/4.091 MB\r",
        "\u001b[1B\u001b[1A\u001b[2K\r",
        "8b99873c74b3: Downloading 499.2 kB/4.091 MB\r",
        "\u001b[1B\u001b[1A\u001b[2K\r",
        "8b99873c74b3: Downloading 540.1 kB/4.091 MB\r",
        "\u001b[1B"
       ]
      },
      {
       "output_type": "stream",
       "stream": "stdout",
       "text": [
        "\u001b[1A\u001b[2K\r",
        "8b99873c74b3: Downloading 581.1 kB/4.091 MB\r",
        "\u001b[1B\u001b[1A\u001b[2K\r",
        "8b99873c74b3: Downloading   622 kB/4.091 MB\r",
        "\u001b[1B"
       ]
      },
      {
       "output_type": "stream",
       "stream": "stdout",
       "text": [
        "\u001b[1A\u001b[2K\r",
        "8b99873c74b3: Downloading   663 kB/4.091 MB\r",
        "\u001b[1B\u001b[1A\u001b[2K\r",
        "8b99873c74b3: Downloading   704 kB/4.091 MB\r",
        "\u001b[1B"
       ]
      },
      {
       "output_type": "stream",
       "stream": "stdout",
       "text": [
        "\u001b[1A\u001b[2K\r",
        "8b99873c74b3: Downloading 744.9 kB/4.091 MB\r",
        "\u001b[1B\u001b[1A\u001b[2K\r",
        "8b99873c74b3: Downloading 785.9 kB/4.091 MB\r",
        "\u001b[1B\u001b[1A\u001b[2K\r",
        "8b99873c74b3: Downloading 826.8 kB/4.091 MB\r",
        "\u001b[1B\u001b[1A\u001b[2K\r",
        "8b99873c74b3: Downloading 867.8 kB/4.091 MB\r",
        "\u001b[1B"
       ]
      },
      {
       "output_type": "stream",
       "stream": "stdout",
       "text": [
        "\u001b[1A\u001b[2K\r",
        "8b99873c74b3: Downloading 908.8 kB/4.091 MB\r",
        "\u001b[1B\u001b[1A\u001b[2K\r",
        "8b99873c74b3: Downloading 949.7 kB/4.091 MB\r",
        "\u001b[1B\u001b[1A\u001b[2K\r",
        "8b99873c74b3: Downloading 990.7 kB/4.091 MB\r",
        "\u001b[1B"
       ]
      },
      {
       "output_type": "stream",
       "stream": "stdout",
       "text": [
        "\u001b[1A\u001b[2K\r",
        "8b99873c74b3: Downloading 1.032 MB/4.091 MB\r",
        "\u001b[1B"
       ]
      },
      {
       "output_type": "stream",
       "stream": "stdout",
       "text": [
        "\u001b[1A\u001b[2K\r",
        "8b99873c74b3: Downloading 1.073 MB/4.091 MB\r",
        "\u001b[1B\u001b[1A\u001b[2K\r",
        "8b99873c74b3: Downloading 1.114 MB/4.091 MB\r",
        "\u001b[1B\u001b[1A\u001b[2K\r",
        "8b99873c74b3: Downloading 1.155 MB/4.091 MB\r",
        "\u001b[1B\u001b[1A\u001b[2K\r",
        "8b99873c74b3: Downloading 1.195 MB/4.091 MB\r",
        "\u001b[1B"
       ]
      },
      {
       "output_type": "stream",
       "stream": "stdout",
       "text": [
        "\u001b[1A\u001b[2K\r",
        "8b99873c74b3: Downloading 1.236 MB/4.091 MB\r",
        "\u001b[1B"
       ]
      },
      {
       "output_type": "stream",
       "stream": "stdout",
       "text": [
        "\u001b[1A\u001b[2K\r",
        "8b99873c74b3: Downloading 1.277 MB/4.091 MB\r",
        "\u001b[1B"
       ]
      },
      {
       "output_type": "stream",
       "stream": "stdout",
       "text": [
        "\u001b[1A\u001b[2K\r",
        "8b99873c74b3: Downloading 1.318 MB/4.091 MB\r",
        "\u001b[1B"
       ]
      },
      {
       "output_type": "stream",
       "stream": "stdout",
       "text": [
        "\u001b[1A\u001b[2K\r",
        "8b99873c74b3: Downloading 1.359 MB/4.091 MB\r",
        "\u001b[1B"
       ]
      },
      {
       "output_type": "stream",
       "stream": "stdout",
       "text": [
        "\u001b[1A\u001b[2K\r",
        "8b99873c74b3: Downloading   1.4 MB/4.091 MB\r",
        "\u001b[1B"
       ]
      },
      {
       "output_type": "stream",
       "stream": "stdout",
       "text": [
        "\u001b[1A\u001b[2K\r",
        "8b99873c74b3: Downloading 1.441 MB/4.091 MB\r",
        "\u001b[1B"
       ]
      },
      {
       "output_type": "stream",
       "stream": "stdout",
       "text": [
        "\u001b[1A\u001b[2K\r",
        "8b99873c74b3: Downloading 1.482 MB/4.091 MB\r",
        "\u001b[1B"
       ]
      },
      {
       "output_type": "stream",
       "stream": "stdout",
       "text": [
        "\u001b[1A\u001b[2K\r",
        "8b99873c74b3: Downloading 1.523 MB/4.091 MB\r",
        "\u001b[1B"
       ]
      },
      {
       "output_type": "stream",
       "stream": "stdout",
       "text": [
        "\u001b[1A\u001b[2K\r",
        "8b99873c74b3: Downloading 1.564 MB/4.091 MB\r",
        "\u001b[1B"
       ]
      },
      {
       "output_type": "stream",
       "stream": "stdout",
       "text": [
        "\u001b[1A\u001b[2K\r",
        "8b99873c74b3: Downloading 1.605 MB/4.091 MB\r",
        "\u001b[1B"
       ]
      },
      {
       "output_type": "stream",
       "stream": "stdout",
       "text": [
        "\u001b[1A\u001b[2K\r",
        "8b99873c74b3: Downloading 1.646 MB/4.091 MB\r",
        "\u001b[1B"
       ]
      },
      {
       "output_type": "stream",
       "stream": "stdout",
       "text": [
        "\u001b[1A\u001b[2K\r",
        "8b99873c74b3: Downloading 1.687 MB/4.091 MB\r",
        "\u001b[1B"
       ]
      },
      {
       "output_type": "stream",
       "stream": "stdout",
       "text": [
        "\u001b[1A\u001b[2K\r",
        "8b99873c74b3: Downloading 1.728 MB/4.091 MB\r",
        "\u001b[1B"
       ]
      },
      {
       "output_type": "stream",
       "stream": "stdout",
       "text": [
        "\u001b[1A\u001b[2K\r",
        "8b99873c74b3: Downloading 1.769 MB/4.091 MB\r",
        "\u001b[1B"
       ]
      },
      {
       "output_type": "stream",
       "stream": "stdout",
       "text": [
        "\u001b[1A\u001b[2K\r",
        "8b99873c74b3: Downloading  1.81 MB/4.091 MB\r",
        "\u001b[1B"
       ]
      },
      {
       "output_type": "stream",
       "stream": "stdout",
       "text": [
        "\u001b[1A\u001b[2K\r",
        "8b99873c74b3: Downloading 1.851 MB/4.091 MB\r",
        "\u001b[1B"
       ]
      },
      {
       "output_type": "stream",
       "stream": "stdout",
       "text": [
        "\u001b[1A\u001b[2K\r",
        "8b99873c74b3: Downloading 1.892 MB/4.091 MB\r",
        "\u001b[1B"
       ]
      },
      {
       "output_type": "stream",
       "stream": "stdout",
       "text": [
        "\u001b[1A\u001b[2K\r",
        "8b99873c74b3: Downloading 1.933 MB/4.091 MB\r",
        "\u001b[1B"
       ]
      },
      {
       "output_type": "stream",
       "stream": "stdout",
       "text": [
        "\u001b[1A\u001b[2K\r",
        "8b99873c74b3: Downloading 1.974 MB/4.091 MB\r",
        "\u001b[1B"
       ]
      },
      {
       "output_type": "stream",
       "stream": "stdout",
       "text": [
        "\u001b[1A\u001b[2K\r",
        "8b99873c74b3: Downloading 2.015 MB/4.091 MB\r",
        "\u001b[1B"
       ]
      },
      {
       "output_type": "stream",
       "stream": "stdout",
       "text": [
        "\u001b[1A\u001b[2K\r",
        "8b99873c74b3: Downloading 2.056 MB/4.091 MB\r",
        "\u001b[1B"
       ]
      },
      {
       "output_type": "stream",
       "stream": "stdout",
       "text": [
        "\u001b[1A\u001b[2K\r",
        "8b99873c74b3: Downloading 2.097 MB/4.091 MB\r",
        "\u001b[1B"
       ]
      },
      {
       "output_type": "stream",
       "stream": "stdout",
       "text": [
        "\u001b[1A\u001b[2K\r",
        "8b99873c74b3: Downloading 2.138 MB/4.091 MB\r",
        "\u001b[1B\u001b[1A\u001b[2K\r",
        "8b99873c74b3: Downloading 2.179 MB/4.091 MB\r",
        "\u001b[1B"
       ]
      },
      {
       "output_type": "stream",
       "stream": "stdout",
       "text": [
        "\u001b[1A\u001b[2K\r",
        "8b99873c74b3: Downloading 2.219 MB/4.091 MB\r",
        "\u001b[1B"
       ]
      },
      {
       "output_type": "stream",
       "stream": "stdout",
       "text": [
        "\u001b[1A\u001b[2K\r",
        "8b99873c74b3: Downloading  2.26 MB/4.091 MB\r",
        "\u001b[1B"
       ]
      },
      {
       "output_type": "stream",
       "stream": "stdout",
       "text": [
        "\u001b[1A\u001b[2K\r",
        "8b99873c74b3: Downloading 2.301 MB/4.091 MB\r",
        "\u001b[1B"
       ]
      },
      {
       "output_type": "stream",
       "stream": "stdout",
       "text": [
        "\u001b[1A\u001b[2K\r",
        "8b99873c74b3: Downloading 2.342 MB/4.091 MB\r",
        "\u001b[1B"
       ]
      },
      {
       "output_type": "stream",
       "stream": "stdout",
       "text": [
        "\u001b[1A\u001b[2K\r",
        "8b99873c74b3: Downloading 2.383 MB/4.091 MB\r",
        "\u001b[1B\u001b[1A\u001b[2K\r",
        "8b99873c74b3: Downloading 2.424 MB/4.091 MB\r",
        "\u001b[1B"
       ]
      },
      {
       "output_type": "stream",
       "stream": "stdout",
       "text": [
        "\u001b[1A\u001b[2K\r",
        "8b99873c74b3: Downloading 2.465 MB/4.091 MB\r",
        "\u001b[1B\u001b[1A\u001b[2K\r",
        "8b99873c74b3: Downloading 2.506 MB/4.091 MB\r",
        "\u001b[1B"
       ]
      },
      {
       "output_type": "stream",
       "stream": "stdout",
       "text": [
        "\u001b[1A\u001b[2K\r",
        "8b99873c74b3: Downloading 2.547 MB/4.091 MB\r",
        "\u001b[1B"
       ]
      },
      {
       "output_type": "stream",
       "stream": "stdout",
       "text": [
        "\u001b[1A\u001b[2K\r",
        "8b99873c74b3: Downloading 2.588 MB/4.091 MB\r",
        "\u001b[1B"
       ]
      },
      {
       "output_type": "stream",
       "stream": "stdout",
       "text": [
        "\u001b[1A\u001b[2K\r",
        "8b99873c74b3: Downloading 2.629 MB/4.091 MB\r",
        "\u001b[1B\u001b[1A\u001b[2K\r",
        "8b99873c74b3: Downloading  2.67 MB/4.091 MB\r",
        "\u001b[1B"
       ]
      },
      {
       "output_type": "stream",
       "stream": "stdout",
       "text": [
        "\u001b[1A\u001b[2K\r",
        "8b99873c74b3: Downloading 2.711 MB/4.091 MB\r",
        "\u001b[1B"
       ]
      },
      {
       "output_type": "stream",
       "stream": "stdout",
       "text": [
        "\u001b[1A\u001b[2K\r",
        "8b99873c74b3: Downloading 2.752 MB/4.091 MB\r",
        "\u001b[1B"
       ]
      },
      {
       "output_type": "stream",
       "stream": "stdout",
       "text": [
        "\u001b[1A\u001b[2K\r",
        "8b99873c74b3: Downloading 2.793 MB/4.091 MB\r",
        "\u001b[1B"
       ]
      },
      {
       "output_type": "stream",
       "stream": "stdout",
       "text": [
        "\u001b[1A\u001b[2K\r",
        "8b99873c74b3: Downloading 2.834 MB/4.091 MB\r",
        "\u001b[1B"
       ]
      },
      {
       "output_type": "stream",
       "stream": "stdout",
       "text": [
        "\u001b[1A\u001b[2K\r",
        "8b99873c74b3: Downloading 2.875 MB/4.091 MB\r",
        "\u001b[1B"
       ]
      },
      {
       "output_type": "stream",
       "stream": "stdout",
       "text": [
        "\u001b[1A\u001b[2K\r",
        "8b99873c74b3: Downloading 2.916 MB/4.091 MB\r",
        "\u001b[1B"
       ]
      },
      {
       "output_type": "stream",
       "stream": "stdout",
       "text": [
        "\u001b[1A\u001b[2K\r",
        "8b99873c74b3: Downloading 2.957 MB/4.091 MB\r",
        "\u001b[1B\u001b[1A\u001b[2K\r",
        "8b99873c74b3: Downloading 2.998 MB/4.091 MB\r",
        "\u001b[1B"
       ]
      },
      {
       "output_type": "stream",
       "stream": "stdout",
       "text": [
        "\u001b[1A\u001b[2K\r",
        "8b99873c74b3: Downloading 3.039 MB/4.091 MB\r",
        "\u001b[1B"
       ]
      },
      {
       "output_type": "stream",
       "stream": "stdout",
       "text": [
        "\u001b[1A\u001b[2K\r",
        "8b99873c74b3: Downloading  3.08 MB/4.091 MB\r",
        "\u001b[1B"
       ]
      },
      {
       "output_type": "stream",
       "stream": "stdout",
       "text": [
        "\u001b[1A\u001b[2K\r",
        "8b99873c74b3: Downloading 3.121 MB/4.091 MB\r",
        "\u001b[1B"
       ]
      },
      {
       "output_type": "stream",
       "stream": "stdout",
       "text": [
        "\u001b[1A\u001b[2K\r",
        "8b99873c74b3: Downloading 3.162 MB/4.091 MB\r",
        "\u001b[1B"
       ]
      },
      {
       "output_type": "stream",
       "stream": "stdout",
       "text": [
        "\u001b[1A\u001b[2K\r",
        "8b99873c74b3: Downloading 3.203 MB/4.091 MB\r",
        "\u001b[1B\u001b[1A\u001b[2K\r",
        "8b99873c74b3: Downloading 3.243 MB/4.091 MB\r",
        "\u001b[1B"
       ]
      },
      {
       "output_type": "stream",
       "stream": "stdout",
       "text": [
        "\u001b[1A\u001b[2K\r",
        "8b99873c74b3: Downloading 3.284 MB/4.091 MB\r",
        "\u001b[1B"
       ]
      },
      {
       "output_type": "stream",
       "stream": "stdout",
       "text": [
        "\u001b[1A\u001b[2K\r",
        "8b99873c74b3: Downloading 3.325 MB/4.091 MB\r",
        "\u001b[1B"
       ]
      },
      {
       "output_type": "stream",
       "stream": "stdout",
       "text": [
        "\u001b[1A\u001b[2K\r",
        "8b99873c74b3: Downloading 3.366 MB/4.091 MB\r",
        "\u001b[1B\u001b[1A\u001b[2K\r",
        "8b99873c74b3: Downloading 3.407 MB/4.091 MB\r",
        "\u001b[1B"
       ]
      },
      {
       "output_type": "stream",
       "stream": "stdout",
       "text": [
        "\u001b[1A\u001b[2K\r",
        "8b99873c74b3: Downloading 3.448 MB/4.091 MB\r",
        "\u001b[1B\u001b[1A\u001b[2K\r",
        "8b99873c74b3: Downloading 3.489 MB/4.091 MB\r",
        "\u001b[1B"
       ]
      },
      {
       "output_type": "stream",
       "stream": "stdout",
       "text": [
        "\u001b[1A\u001b[2K\r",
        "8b99873c74b3: Downloading  3.53 MB/4.091 MB\r",
        "\u001b[1B"
       ]
      },
      {
       "output_type": "stream",
       "stream": "stdout",
       "text": [
        "\u001b[1A\u001b[2K\r",
        "8b99873c74b3: Downloading 3.571 MB/4.091 MB\r",
        "\u001b[1B"
       ]
      },
      {
       "output_type": "stream",
       "stream": "stdout",
       "text": [
        "\u001b[1A\u001b[2K\r",
        "8b99873c74b3: Downloading 3.612 MB/4.091 MB\r",
        "\u001b[1B"
       ]
      },
      {
       "output_type": "stream",
       "stream": "stdout",
       "text": [
        "\u001b[1A\u001b[2K\r",
        "8b99873c74b3: Downloading 3.653 MB/4.091 MB\r",
        "\u001b[1B"
       ]
      },
      {
       "output_type": "stream",
       "stream": "stdout",
       "text": [
        "\u001b[1A\u001b[2K\r",
        "8b99873c74b3: Downloading 3.694 MB/4.091 MB\r",
        "\u001b[1B\u001b[1A\u001b[2K\r",
        "8b99873c74b3: Downloading 3.735 MB/4.091 MB\r",
        "\u001b[1B"
       ]
      },
      {
       "output_type": "stream",
       "stream": "stdout",
       "text": [
        "\u001b[1A\u001b[2K\r",
        "8b99873c74b3: Downloading 3.776 MB/4.091 MB\r",
        "\u001b[1B"
       ]
      },
      {
       "output_type": "stream",
       "stream": "stdout",
       "text": [
        "\u001b[1A\u001b[2K\r",
        "8b99873c74b3: Downloading 3.817 MB/4.091 MB\r",
        "\u001b[1B"
       ]
      },
      {
       "output_type": "stream",
       "stream": "stdout",
       "text": [
        "\u001b[1A\u001b[2K\r",
        "8b99873c74b3: Downloading 3.858 MB/4.091 MB\r",
        "\u001b[1B"
       ]
      },
      {
       "output_type": "stream",
       "stream": "stdout",
       "text": [
        "\u001b[1A\u001b[2K\r",
        "8b99873c74b3: Downloading 3.899 MB/4.091 MB\r",
        "\u001b[1B\u001b[1A\u001b[2K\r",
        "8b99873c74b3: Downloading  3.94 MB/4.091 MB\r",
        "\u001b[1B"
       ]
      },
      {
       "output_type": "stream",
       "stream": "stdout",
       "text": [
        "\u001b[1A\u001b[2K\r",
        "8b99873c74b3: Downloading 3.981 MB/4.091 MB\r",
        "\u001b[1B\u001b[1A\u001b[2K\r",
        "8b99873c74b3: Downloading 4.022 MB/4.091 MB\r",
        "\u001b[1B"
       ]
      },
      {
       "output_type": "stream",
       "stream": "stdout",
       "text": [
        "\u001b[1A\u001b[2K\r",
        "8b99873c74b3: Downloading 4.063 MB/4.091 MB\r",
        "\u001b[1B"
       ]
      },
      {
       "output_type": "stream",
       "stream": "stdout",
       "text": [
        "\u001b[1A\u001b[2K\r",
        "8b99873c74b3: Downloading 4.091 MB/4.091 MB\r",
        "\u001b[1B"
       ]
      },
      {
       "output_type": "stream",
       "stream": "stdout",
       "text": [
        "\u001b[1A\u001b[2K\r",
        "8b99873c74b3: Download complete \r",
        "\u001b[1B\r\n",
        "\u001b[0A\u001b[2K\r",
        "9a4f7d7b171d: Pulling metadata \r",
        "\u001b[0B"
       ]
      },
      {
       "output_type": "stream",
       "stream": "stdout",
       "text": [
        "\u001b[1A\u001b[2K\r",
        "9a4f7d7b171d: Pulling fs layer \r",
        "\u001b[1B"
       ]
      },
      {
       "output_type": "stream",
       "stream": "stdout",
       "text": [
        "\u001b[1A\u001b[2K\r",
        "9a4f7d7b171d: Downloading 1.448 kB/49.15 kB\r",
        "\u001b[1B\u001b[1A\u001b[2K\r",
        "9a4f7d7b171d: Downloading 5.544 kB/49.15 kB\r",
        "\u001b[1B\u001b[1A\u001b[2K\r",
        "9a4f7d7b171d: Downloading  9.64 kB/49.15 kB\r",
        "\u001b[1B\u001b[1A\u001b[2K\r",
        "9a4f7d7b171d: Downloading 10.14 kB/49.15 kB\r",
        "\u001b[1B\u001b[1A\u001b[2K\r",
        "9a4f7d7b171d: Downloading 14.23 kB/49.15 kB\r",
        "\u001b[1B\u001b[1A\u001b[2K\r",
        "9a4f7d7b171d: Downloading 16.38 kB/49.15 kB\r",
        "\u001b[1B\u001b[1A\u001b[2K\r",
        "9a4f7d7b171d: Downloading 17.05 kB/49.15 kB\r",
        "\u001b[1B\u001b[1A\u001b[2K\r",
        "9a4f7d7b171d: Downloading  18.5 kB/49.15 kB\r",
        "\u001b[1B\u001b[1A\u001b[2K\r",
        "9a4f7d7b171d: Downloading 22.59 kB/49.15 kB\r",
        "\u001b[1B\u001b[1A\u001b[2K\r",
        "9a4f7d7b171d: Downloading 25.74 kB/49.15 kB\r",
        "\u001b[1B"
       ]
      },
      {
       "output_type": "stream",
       "stream": "stdout",
       "text": [
        "\u001b[1A\u001b[2K\r",
        "9a4f7d7b171d: Downloading 29.83 kB/49.15 kB\r",
        "\u001b[1B\u001b[1A\u001b[2K\r",
        "9a4f7d7b171d: Downloading 31.53 kB/49.15 kB\r",
        "\u001b[1B\u001b[1A\u001b[2K\r",
        "9a4f7d7b171d: Downloading 34.46 kB/49.15 kB\r",
        "\u001b[1B\u001b[1A\u001b[2K\r",
        "9a4f7d7b171d: Downloading 38.55 kB/49.15 kB\r",
        "\u001b[1B\u001b[1A\u001b[2K\r",
        "9a4f7d7b171d: Downloading  41.7 kB/49.15 kB\r",
        "\u001b[1B"
       ]
      },
      {
       "output_type": "stream",
       "stream": "stdout",
       "text": [
        "\u001b[1A\u001b[2K\r",
        "9a4f7d7b171d: Downloading 45.79 kB/49.15 kB\r",
        "\u001b[1B\u001b[1A\u001b[2K\r",
        "9a4f7d7b171d: Downloading 49.15 kB/49.15 kB\r",
        "\u001b[1B"
       ]
      },
      {
       "output_type": "stream",
       "stream": "stdout",
       "text": [
        "\u001b[1A\u001b[2K\r",
        "9a4f7d7b171d: Download complete \r",
        "\u001b[1B"
       ]
      },
      {
       "output_type": "stream",
       "stream": "stdout",
       "text": [
        "\r\n",
        "\u001b[0A\u001b[2K\r",
        "cb6676989ce9: Pulling metadata \r",
        "\u001b[0B"
       ]
      },
      {
       "output_type": "stream",
       "stream": "stdout",
       "text": [
        "\u001b[1A\u001b[2K\r",
        "cb6676989ce9: Pulling fs layer \r",
        "\u001b[1B"
       ]
      },
      {
       "output_type": "stream",
       "stream": "stdout",
       "text": [
        "\u001b[1A\u001b[2K\r",
        "cb6676989ce9: Downloading 383.8 kB/38 MB\r",
        "\u001b[1B"
       ]
      },
      {
       "output_type": "stream",
       "stream": "stdout",
       "text": [
        "\u001b[1A\u001b[2K\r",
        "cb6676989ce9: Downloading 766.9 kB/38 MB\r",
        "\u001b[1B"
       ]
      },
      {
       "output_type": "stream",
       "stream": "stdout",
       "text": [
        "\u001b[1A\u001b[2K\r",
        "cb6676989ce9: Downloading 1.148 MB/38 MB\r",
        "\u001b[1B"
       ]
      },
      {
       "output_type": "stream",
       "stream": "stdout",
       "text": [
        "\u001b[1A\u001b[2K\r",
        "cb6676989ce9: Downloading 1.529 MB/38 MB\r",
        "\u001b[1B"
       ]
      },
      {
       "output_type": "stream",
       "stream": "stdout",
       "text": [
        "\u001b[1A\u001b[2K\r",
        "cb6676989ce9: Downloading 1.909 MB/38 MB\r",
        "\u001b[1B"
       ]
      },
      {
       "output_type": "stream",
       "stream": "stdout",
       "text": [
        "\u001b[1A\u001b[2K\r",
        "cb6676989ce9: Downloading 2.292 MB/38 MB\r",
        "\u001b[1B"
       ]
      },
      {
       "output_type": "stream",
       "stream": "stdout",
       "text": [
        "\u001b[1A\u001b[2K\r",
        "cb6676989ce9: Downloading 2.676 MB/38 MB\r",
        "\u001b[1B"
       ]
      },
      {
       "output_type": "stream",
       "stream": "stdout",
       "text": [
        "\u001b[1A\u001b[2K\r",
        "cb6676989ce9: Downloading 3.063 MB/38 MB\r",
        "\u001b[1B"
       ]
      },
      {
       "output_type": "stream",
       "stream": "stdout",
       "text": [
        "\u001b[1A\u001b[2K\r",
        "cb6676989ce9: Downloading 3.446 MB/38 MB\r",
        "\u001b[1B"
       ]
      },
      {
       "output_type": "stream",
       "stream": "stdout",
       "text": [
        "\u001b[1A\u001b[2K\r",
        "cb6676989ce9: Downloading 3.827 MB/38 MB\r",
        "\u001b[1B"
       ]
      },
      {
       "output_type": "stream",
       "stream": "stdout",
       "text": [
        "\u001b[1A\u001b[2K\r",
        "cb6676989ce9: Downloading 4.207 MB/38 MB\r",
        "\u001b[1B"
       ]
      },
      {
       "output_type": "stream",
       "stream": "stdout",
       "text": [
        "\u001b[1A\u001b[2K\r",
        "cb6676989ce9: Downloading 4.588 MB/38 MB\r",
        "\u001b[1B"
       ]
      },
      {
       "output_type": "stream",
       "stream": "stdout",
       "text": [
        "\u001b[1A\u001b[2K\r",
        "cb6676989ce9: Downloading 4.969 MB/38 MB\r",
        "\u001b[1B"
       ]
      },
      {
       "output_type": "stream",
       "stream": "stdout",
       "text": [
        "\u001b[1A\u001b[2K\r",
        "cb6676989ce9: Downloading 5.351 MB/38 MB\r",
        "\u001b[1B"
       ]
      },
      {
       "output_type": "stream",
       "stream": "stdout",
       "text": [
        "\u001b[1A\u001b[2K\r",
        "cb6676989ce9: Downloading 5.735 MB/38 MB\r",
        "\u001b[1B"
       ]
      },
      {
       "output_type": "stream",
       "stream": "stdout",
       "text": [
        "\u001b[1A\u001b[2K\r",
        "cb6676989ce9: Downloading 6.128 MB/38 MB\r",
        "\u001b[1B"
       ]
      },
      {
       "output_type": "stream",
       "stream": "stdout",
       "text": [
        "\u001b[1A\u001b[2K\r",
        "cb6676989ce9: Downloading 6.511 MB/38 MB\r",
        "\u001b[1B"
       ]
      },
      {
       "output_type": "stream",
       "stream": "stdout",
       "text": [
        "\u001b[1A\u001b[2K\r",
        "cb6676989ce9: Downloading 6.899 MB/38 MB\r",
        "\u001b[1B"
       ]
      },
      {
       "output_type": "stream",
       "stream": "stdout",
       "text": [
        "\u001b[1A\u001b[2K\r",
        "cb6676989ce9: Downloading 7.289 MB/38 MB\r",
        "\u001b[1B"
       ]
      },
      {
       "output_type": "stream",
       "stream": "stdout",
       "text": [
        "\u001b[1A\u001b[2K\r",
        "cb6676989ce9: Downloading 7.673 MB/38 MB\r",
        "\u001b[1B"
       ]
      },
      {
       "output_type": "stream",
       "stream": "stdout",
       "text": [
        "\u001b[1A\u001b[2K\r",
        "cb6676989ce9: Downloading 8.061 MB/38 MB\r",
        "\u001b[1B"
       ]
      },
      {
       "output_type": "stream",
       "stream": "stdout",
       "text": [
        "\u001b[1A\u001b[2K\r",
        "cb6676989ce9: Downloading 8.454 MB/38 MB\r",
        "\u001b[1B"
       ]
      },
      {
       "output_type": "stream",
       "stream": "stdout",
       "text": [
        "\u001b[1A\u001b[2K\r",
        "cb6676989ce9: Downloading 8.836 MB/38 MB\r",
        "\u001b[1B"
       ]
      },
      {
       "output_type": "stream",
       "stream": "stdout",
       "text": [
        "\u001b[1A\u001b[2K\r",
        "cb6676989ce9: Downloading 9.217 MB/38 MB\r",
        "\u001b[1B\u001b[1A\u001b[2K\r",
        "cb6676989ce9: Downloading 9.598 MB/38 MB\r",
        "\u001b[1B"
       ]
      },
      {
       "output_type": "stream",
       "stream": "stdout",
       "text": [
        "\u001b[1A\u001b[2K\r",
        "cb6676989ce9: Downloading 9.979 MB/38 MB\r",
        "\u001b[1B"
       ]
      },
      {
       "output_type": "stream",
       "stream": "stdout",
       "text": [
        "\u001b[1A\u001b[2K\r",
        "cb6676989ce9: Downloading 10.36 MB/38 MB\r",
        "\u001b[1B"
       ]
      },
      {
       "output_type": "stream",
       "stream": "stdout",
       "text": [
        "\u001b[1A\u001b[2K\r",
        "cb6676989ce9: Downloading 10.74 MB/38 MB\r",
        "\u001b[1B"
       ]
      },
      {
       "output_type": "stream",
       "stream": "stdout",
       "text": [
        "\u001b[1A\u001b[2K\r",
        "cb6676989ce9: Downloading 11.12 MB/38 MB\r",
        "\u001b[1B"
       ]
      },
      {
       "output_type": "stream",
       "stream": "stdout",
       "text": [
        "\u001b[1A\u001b[2K\r",
        "cb6676989ce9: Downloading  11.5 MB/38 MB\r",
        "\u001b[1B"
       ]
      },
      {
       "output_type": "stream",
       "stream": "stdout",
       "text": [
        "\u001b[1A\u001b[2K\r",
        "cb6676989ce9: Downloading 11.88 MB/38 MB\r",
        "\u001b[1B"
       ]
      },
      {
       "output_type": "stream",
       "stream": "stdout",
       "text": [
        "\u001b[1A\u001b[2K\r",
        "cb6676989ce9: Downloading 12.27 MB/38 MB\r",
        "\u001b[1B"
       ]
      },
      {
       "output_type": "stream",
       "stream": "stdout",
       "text": [
        "\u001b[1A\u001b[2K\r",
        "cb6676989ce9: Downloading 12.65 MB/38 MB\r",
        "\u001b[1B"
       ]
      },
      {
       "output_type": "stream",
       "stream": "stdout",
       "text": [
        "\u001b[1A\u001b[2K\r",
        "cb6676989ce9: Downloading 13.03 MB/38 MB\r",
        "\u001b[1B"
       ]
      },
      {
       "output_type": "stream",
       "stream": "stdout",
       "text": [
        "\u001b[1A\u001b[2K\r",
        "cb6676989ce9: Downloading 13.41 MB/38 MB\r",
        "\u001b[1B\u001b[1A\u001b[2K\r",
        "cb6676989ce9: Downloading 13.79 MB/38 MB\r",
        "\u001b[1B"
       ]
      },
      {
       "output_type": "stream",
       "stream": "stdout",
       "text": [
        "\u001b[1A\u001b[2K\r",
        "cb6676989ce9: Downloading 14.18 MB/38 MB\r",
        "\u001b[1B"
       ]
      },
      {
       "output_type": "stream",
       "stream": "stdout",
       "text": [
        "\u001b[1A\u001b[2K\r",
        "cb6676989ce9: Downloading 14.56 MB/38 MB\r",
        "\u001b[1B"
       ]
      },
      {
       "output_type": "stream",
       "stream": "stdout",
       "text": [
        "\u001b[1A\u001b[2K\r",
        "cb6676989ce9: Downloading 14.94 MB/38 MB\r",
        "\u001b[1B"
       ]
      },
      {
       "output_type": "stream",
       "stream": "stdout",
       "text": [
        "\u001b[1A\u001b[2K\r",
        "cb6676989ce9: Downloading 15.32 MB/38 MB\r",
        "\u001b[1B"
       ]
      },
      {
       "output_type": "stream",
       "stream": "stdout",
       "text": [
        "\u001b[1A\u001b[2K\r",
        "cb6676989ce9: Downloading 15.71 MB/38 MB\r",
        "\u001b[1B"
       ]
      },
      {
       "output_type": "stream",
       "stream": "stdout",
       "text": [
        "\u001b[1A\u001b[2K\r",
        "cb6676989ce9: Downloading 16.09 MB/38 MB\r",
        "\u001b[1B"
       ]
      },
      {
       "output_type": "stream",
       "stream": "stdout",
       "text": [
        "\u001b[1A\u001b[2K\r",
        "cb6676989ce9: Downloading 16.47 MB/38 MB\r",
        "\u001b[1B\u001b[1A\u001b[2K\r",
        "cb6676989ce9: Downloading 16.86 MB/38 MB\r",
        "\u001b[1B"
       ]
      },
      {
       "output_type": "stream",
       "stream": "stdout",
       "text": [
        "\u001b[1A\u001b[2K\r",
        "cb6676989ce9: Downloading 17.25 MB/38 MB\r",
        "\u001b[1B"
       ]
      },
      {
       "output_type": "stream",
       "stream": "stdout",
       "text": [
        "\u001b[1A\u001b[2K\r",
        "cb6676989ce9: Downloading 17.64 MB/38 MB\r",
        "\u001b[1B"
       ]
      },
      {
       "output_type": "stream",
       "stream": "stdout",
       "text": [
        "\u001b[1A\u001b[2K\r",
        "cb6676989ce9: Downloading 18.02 MB/38 MB\r",
        "\u001b[1B\u001b[1A\u001b[2K\r",
        "cb6676989ce9: Downloading  18.4 MB/38 MB\r",
        "\u001b[1B"
       ]
      },
      {
       "output_type": "stream",
       "stream": "stdout",
       "text": [
        "\u001b[1A\u001b[2K\r",
        "cb6676989ce9: Downloading 18.78 MB/38 MB\r",
        "\u001b[1B"
       ]
      },
      {
       "output_type": "stream",
       "stream": "stdout",
       "text": [
        "\u001b[1A\u001b[2K\r",
        "cb6676989ce9: Downloading 19.16 MB/38 MB\r",
        "\u001b[1B"
       ]
      },
      {
       "output_type": "stream",
       "stream": "stdout",
       "text": [
        "\u001b[1A\u001b[2K\r",
        "cb6676989ce9: Downloading 19.54 MB/38 MB\r",
        "\u001b[1B"
       ]
      },
      {
       "output_type": "stream",
       "stream": "stdout",
       "text": [
        "\u001b[1A\u001b[2K\r",
        "cb6676989ce9: Downloading 19.93 MB/38 MB\r",
        "\u001b[1B\u001b[1A\u001b[2K\r",
        "cb6676989ce9: Downloading 20.31 MB/38 MB\r",
        "\u001b[1B"
       ]
      },
      {
       "output_type": "stream",
       "stream": "stdout",
       "text": [
        "\u001b[1A\u001b[2K\r",
        "cb6676989ce9: Downloading 20.69 MB/38 MB\r",
        "\u001b[1B"
       ]
      },
      {
       "output_type": "stream",
       "stream": "stdout",
       "text": [
        "\u001b[1A\u001b[2K\r",
        "cb6676989ce9: Downloading 21.08 MB/38 MB\r",
        "\u001b[1B"
       ]
      },
      {
       "output_type": "stream",
       "stream": "stdout",
       "text": [
        "\u001b[1A\u001b[2K\r",
        "cb6676989ce9: Downloading 21.46 MB/38 MB\r",
        "\u001b[1B\u001b[1A\u001b[2K\r",
        "cb6676989ce9: Downloading 21.84 MB/38 MB\r",
        "\u001b[1B"
       ]
      },
      {
       "output_type": "stream",
       "stream": "stdout",
       "text": [
        "\u001b[1A\u001b[2K\r",
        "cb6676989ce9: Downloading 22.22 MB/38 MB\r",
        "\u001b[1B"
       ]
      },
      {
       "output_type": "stream",
       "stream": "stdout",
       "text": [
        "\u001b[1A\u001b[2K\r",
        "cb6676989ce9: Downloading  22.6 MB/38 MB\r",
        "\u001b[1B"
       ]
      },
      {
       "output_type": "stream",
       "stream": "stdout",
       "text": [
        "\u001b[1A\u001b[2K\r",
        "cb6676989ce9: Downloading 22.98 MB/38 MB\r",
        "\u001b[1B\u001b[1A\u001b[2K\r",
        "cb6676989ce9: Downloading 23.36 MB/38 MB\r",
        "\u001b[1B"
       ]
      },
      {
       "output_type": "stream",
       "stream": "stdout",
       "text": [
        "\u001b[1A\u001b[2K\r",
        "cb6676989ce9: Downloading 23.75 MB/38 MB\r",
        "\u001b[1B"
       ]
      },
      {
       "output_type": "stream",
       "stream": "stdout",
       "text": [
        "\u001b[1A\u001b[2K\r",
        "cb6676989ce9: Downloading 24.13 MB/38 MB\r",
        "\u001b[1B\u001b[1A\u001b[2K\r",
        "cb6676989ce9: Downloading 24.52 MB/38 MB\r",
        "\u001b[1B"
       ]
      },
      {
       "output_type": "stream",
       "stream": "stdout",
       "text": [
        "\u001b[1A\u001b[2K\r",
        "cb6676989ce9: Downloading  24.9 MB/38 MB\r",
        "\u001b[1B"
       ]
      },
      {
       "output_type": "stream",
       "stream": "stdout",
       "text": [
        "\u001b[1A\u001b[2K\r",
        "cb6676989ce9: Downloading 25.29 MB/38 MB\r",
        "\u001b[1B"
       ]
      },
      {
       "output_type": "stream",
       "stream": "stdout",
       "text": [
        "\u001b[1A\u001b[2K\r",
        "cb6676989ce9: Downloading 25.68 MB/38 MB\r",
        "\u001b[1B"
       ]
      },
      {
       "output_type": "stream",
       "stream": "stdout",
       "text": [
        "\u001b[1A\u001b[2K\r",
        "cb6676989ce9: Downloading 26.07 MB/38 MB\r",
        "\u001b[1B\u001b[1A\u001b[2K\r",
        "cb6676989ce9: Downloading 26.46 MB/38 MB\r",
        "\u001b[1B"
       ]
      },
      {
       "output_type": "stream",
       "stream": "stdout",
       "text": [
        "\u001b[1A\u001b[2K\r",
        "cb6676989ce9: Downloading 26.86 MB/38 MB\r",
        "\u001b[1B"
       ]
      },
      {
       "output_type": "stream",
       "stream": "stdout",
       "text": [
        "\u001b[1A\u001b[2K\r",
        "cb6676989ce9: Downloading 27.25 MB/38 MB\r",
        "\u001b[1B"
       ]
      },
      {
       "output_type": "stream",
       "stream": "stdout",
       "text": [
        "\u001b[1A\u001b[2K\r",
        "cb6676989ce9: Downloading 27.63 MB/38 MB\r",
        "\u001b[1B"
       ]
      },
      {
       "output_type": "stream",
       "stream": "stdout",
       "text": [
        "\u001b[1A\u001b[2K\r",
        "cb6676989ce9: Downloading 28.01 MB/38 MB\r",
        "\u001b[1B\u001b[1A\u001b[2K\r",
        "cb6676989ce9: Downloading 28.39 MB/38 MB\r",
        "\u001b[1B"
       ]
      },
      {
       "output_type": "stream",
       "stream": "stdout",
       "text": [
        "\u001b[1A\u001b[2K\r",
        "cb6676989ce9: Downloading 28.77 MB/38 MB\r",
        "\u001b[1B"
       ]
      },
      {
       "output_type": "stream",
       "stream": "stdout",
       "text": [
        "\u001b[1A\u001b[2K\r",
        "cb6676989ce9: Downloading 29.15 MB/38 MB\r",
        "\u001b[1B"
       ]
      },
      {
       "output_type": "stream",
       "stream": "stdout",
       "text": [
        "\u001b[1A\u001b[2K\r",
        "cb6676989ce9: Downloading 29.53 MB/38 MB\r",
        "\u001b[1B"
       ]
      },
      {
       "output_type": "stream",
       "stream": "stdout",
       "text": [
        "\u001b[1A\u001b[2K\r",
        "cb6676989ce9: Downloading 29.92 MB/38 MB\r",
        "\u001b[1B\u001b[1A\u001b[2K\r",
        "cb6676989ce9: Downloading  30.3 MB/38 MB\r",
        "\u001b[1B"
       ]
      },
      {
       "output_type": "stream",
       "stream": "stdout",
       "text": [
        "\u001b[1A\u001b[2K\r",
        "cb6676989ce9: Downloading 30.68 MB/38 MB\r",
        "\u001b[1B"
       ]
      },
      {
       "output_type": "stream",
       "stream": "stdout",
       "text": [
        "\u001b[1A\u001b[2K\r",
        "cb6676989ce9: Downloading 31.06 MB/38 MB\r",
        "\u001b[1B"
       ]
      },
      {
       "output_type": "stream",
       "stream": "stdout",
       "text": [
        "\u001b[1A\u001b[2K\r",
        "cb6676989ce9: Downloading 31.44 MB/38 MB\r",
        "\u001b[1B"
       ]
      },
      {
       "output_type": "stream",
       "stream": "stdout",
       "text": [
        "\u001b[1A\u001b[2K\r",
        "cb6676989ce9: Downloading 31.83 MB/38 MB\r",
        "\u001b[1B"
       ]
      },
      {
       "output_type": "stream",
       "stream": "stdout",
       "text": [
        "\u001b[1A\u001b[2K\r",
        "cb6676989ce9: Downloading 32.21 MB/38 MB\r",
        "\u001b[1B"
       ]
      },
      {
       "output_type": "stream",
       "stream": "stdout",
       "text": [
        "\u001b[1A\u001b[2K\r",
        "cb6676989ce9: Downloading 32.59 MB/38 MB\r",
        "\u001b[1B"
       ]
      },
      {
       "output_type": "stream",
       "stream": "stdout",
       "text": [
        "\u001b[1A\u001b[2K\r",
        "cb6676989ce9: Downloading 32.97 MB/38 MB\r",
        "\u001b[1B"
       ]
      },
      {
       "output_type": "stream",
       "stream": "stdout",
       "text": [
        "\u001b[1A\u001b[2K\r",
        "cb6676989ce9: Downloading 33.35 MB/38 MB\r",
        "\u001b[1B"
       ]
      },
      {
       "output_type": "stream",
       "stream": "stdout",
       "text": [
        "\u001b[1A\u001b[2K\r",
        "cb6676989ce9: Downloading 33.73 MB/38 MB\r",
        "\u001b[1B"
       ]
      },
      {
       "output_type": "stream",
       "stream": "stdout",
       "text": [
        "\u001b[1A\u001b[2K\r",
        "cb6676989ce9: Downloading 34.11 MB/38 MB\r",
        "\u001b[1B"
       ]
      },
      {
       "output_type": "stream",
       "stream": "stdout",
       "text": [
        "\u001b[1A\u001b[2K\r",
        "cb6676989ce9: Downloading 34.49 MB/38 MB\r",
        "\u001b[1B"
       ]
      },
      {
       "output_type": "stream",
       "stream": "stdout",
       "text": [
        "\u001b[1A\u001b[2K\r",
        "cb6676989ce9: Downloading 34.88 MB/38 MB\r",
        "\u001b[1B"
       ]
      },
      {
       "output_type": "stream",
       "stream": "stdout",
       "text": [
        "\u001b[1A\u001b[2K\r",
        "cb6676989ce9: Downloading 35.26 MB/38 MB\r",
        "\u001b[1B"
       ]
      },
      {
       "output_type": "stream",
       "stream": "stdout",
       "text": [
        "\u001b[1A\u001b[2K\r",
        "cb6676989ce9: Downloading 35.64 MB/38 MB\r",
        "\u001b[1B"
       ]
      },
      {
       "output_type": "stream",
       "stream": "stdout",
       "text": [
        "\u001b[1A\u001b[2K\r",
        "cb6676989ce9: Downloading 36.02 MB/38 MB\r",
        "\u001b[1B"
       ]
      },
      {
       "output_type": "stream",
       "stream": "stdout",
       "text": [
        "\u001b[1A\u001b[2K\r",
        "cb6676989ce9: Downloading  36.4 MB/38 MB\r",
        "\u001b[1B"
       ]
      },
      {
       "output_type": "stream",
       "stream": "stdout",
       "text": [
        "\u001b[1A\u001b[2K\r",
        "cb6676989ce9: Downloading 36.78 MB/38 MB\r",
        "\u001b[1B"
       ]
      },
      {
       "output_type": "stream",
       "stream": "stdout",
       "text": [
        "\u001b[1A\u001b[2K\r",
        "cb6676989ce9: Downloading 37.16 MB/38 MB\r",
        "\u001b[1B"
       ]
      },
      {
       "output_type": "stream",
       "stream": "stdout",
       "text": [
        "\u001b[1A\u001b[2K\r",
        "cb6676989ce9: Downloading 37.54 MB/38 MB\r",
        "\u001b[1B"
       ]
      },
      {
       "output_type": "stream",
       "stream": "stdout",
       "text": [
        "\u001b[1A\u001b[2K\r",
        "cb6676989ce9: Downloading 37.92 MB/38 MB\r",
        "\u001b[1B\u001b[1A\u001b[2K\r",
        "cb6676989ce9: Downloading    38 MB/38 MB\r",
        "\u001b[1B"
       ]
      },
      {
       "output_type": "stream",
       "stream": "stdout",
       "text": [
        "\u001b[1A\u001b[2K\r",
        "cb6676989ce9: Download complete \r",
        "\u001b[1B\r\n",
        "\u001b[0A\u001b[2K\r",
        "51ca4e908c5b: Pulling metadata \r",
        "\u001b[0B"
       ]
      },
      {
       "output_type": "stream",
       "stream": "stdout",
       "text": [
        "\u001b[1A\u001b[2K\r",
        "51ca4e908c5b: Pulling fs layer \r",
        "\u001b[1B"
       ]
      },
      {
       "output_type": "stream",
       "stream": "stdout",
       "text": [
        "\u001b[1A\u001b[2K\r",
        "51ca4e908c5b: Downloading 380.9 kB/37.98 MB\r",
        "\u001b[1B"
       ]
      },
      {
       "output_type": "stream",
       "stream": "stdout",
       "text": [
        "\u001b[1A\u001b[2K\r",
        "51ca4e908c5b: Downloading 762.6 kB/37.98 MB\r",
        "\u001b[1B"
       ]
      },
      {
       "output_type": "stream",
       "stream": "stdout",
       "text": [
        "\u001b[1A\u001b[2K\r",
        "51ca4e908c5b: Downloading 1.143 MB/37.98 MB\r",
        "\u001b[1B"
       ]
      },
      {
       "output_type": "stream",
       "stream": "stdout",
       "text": [
        "\u001b[1A\u001b[2K\r",
        "51ca4e908c5b: Downloading 1.525 MB/37.98 MB\r",
        "\u001b[1B"
       ]
      },
      {
       "output_type": "stream",
       "stream": "stdout",
       "text": [
        "\u001b[1A\u001b[2K\r",
        "51ca4e908c5b: Downloading  1.91 MB/37.98 MB\r",
        "\u001b[1B"
       ]
      },
      {
       "output_type": "stream",
       "stream": "stdout",
       "text": [
        "\u001b[1A\u001b[2K\r",
        "51ca4e908c5b: Downloading 2.293 MB/37.98 MB\r",
        "\u001b[1B"
       ]
      },
      {
       "output_type": "stream",
       "stream": "stdout",
       "text": [
        "\u001b[1A\u001b[2K\r",
        "51ca4e908c5b: Downloading 2.677 MB/37.98 MB\r",
        "\u001b[1B"
       ]
      },
      {
       "output_type": "stream",
       "stream": "stdout",
       "text": [
        "\u001b[1A\u001b[2K\r",
        "51ca4e908c5b: Downloading 3.058 MB/37.98 MB\r",
        "\u001b[1B"
       ]
      },
      {
       "output_type": "stream",
       "stream": "stdout",
       "text": [
        "\u001b[1A\u001b[2K\r",
        "51ca4e908c5b: Downloading 3.441 MB/37.98 MB\r",
        "\u001b[1B"
       ]
      },
      {
       "output_type": "stream",
       "stream": "stdout",
       "text": [
        "\u001b[1A\u001b[2K\r",
        "51ca4e908c5b: Downloading 3.824 MB/37.98 MB\r",
        "\u001b[1B"
       ]
      },
      {
       "output_type": "stream",
       "stream": "stdout",
       "text": [
        "\u001b[1A\u001b[2K\r",
        "51ca4e908c5b: Downloading 4.207 MB/37.98 MB\r",
        "\u001b[1B"
       ]
      },
      {
       "output_type": "stream",
       "stream": "stdout",
       "text": [
        "\u001b[1A\u001b[2K\r",
        "51ca4e908c5b: Downloading 4.588 MB/37.98 MB\r",
        "\u001b[1B"
       ]
      },
      {
       "output_type": "stream",
       "stream": "stdout",
       "text": [
        "\u001b[1A\u001b[2K\r",
        "51ca4e908c5b: Downloading 4.968 MB/37.98 MB\r",
        "\u001b[1B"
       ]
      },
      {
       "output_type": "stream",
       "stream": "stdout",
       "text": [
        "\u001b[1A\u001b[2K\r",
        "51ca4e908c5b: Downloading 5.352 MB/37.98 MB\r",
        "\u001b[1B"
       ]
      },
      {
       "output_type": "stream",
       "stream": "stdout",
       "text": [
        "\u001b[1A\u001b[2K\r",
        "51ca4e908c5b: Downloading  5.74 MB/37.98 MB\r",
        "\u001b[1B"
       ]
      },
      {
       "output_type": "stream",
       "stream": "stdout",
       "text": [
        "\u001b[1A\u001b[2K\r",
        "51ca4e908c5b: Downloading  6.12 MB/37.98 MB\r",
        "\u001b[1B"
       ]
      },
      {
       "output_type": "stream",
       "stream": "stdout",
       "text": [
        "\u001b[1A\u001b[2K\r",
        "51ca4e908c5b: Downloading 6.504 MB/37.98 MB\r",
        "\u001b[1B\u001b[1A\u001b[2K\r",
        "51ca4e908c5b: Downloading 6.885 MB/37.98 MB\r",
        "\u001b[1B"
       ]
      },
      {
       "output_type": "stream",
       "stream": "stdout",
       "text": [
        "\u001b[1A\u001b[2K\r",
        "51ca4e908c5b: Downloading 7.266 MB/37.98 MB\r",
        "\u001b[1B"
       ]
      },
      {
       "output_type": "stream",
       "stream": "stdout",
       "text": [
        "\u001b[1A\u001b[2K\r",
        "51ca4e908c5b: Downloading 7.647 MB/37.98 MB\r",
        "\u001b[1B\u001b[1A\u001b[2K\r",
        "51ca4e908c5b: Downloading 8.028 MB/37.98 MB\r",
        "\u001b[1B"
       ]
      },
      {
       "output_type": "stream",
       "stream": "stdout",
       "text": [
        "\u001b[1A\u001b[2K\r",
        "51ca4e908c5b: Downloading 8.417 MB/37.98 MB\r",
        "\u001b[1B"
       ]
      },
      {
       "output_type": "stream",
       "stream": "stdout",
       "text": [
        "\u001b[1A\u001b[2K\r",
        "51ca4e908c5b: Downloading 8.798 MB/37.98 MB\r",
        "\u001b[1B"
       ]
      },
      {
       "output_type": "stream",
       "stream": "stdout",
       "text": [
        "\u001b[1A\u001b[2K\r",
        "51ca4e908c5b: Downloading 9.185 MB/37.98 MB\r",
        "\u001b[1B\u001b[1A\u001b[2K\r",
        "51ca4e908c5b: Downloading 9.568 MB/37.98 MB\r",
        "\u001b[1B"
       ]
      },
      {
       "output_type": "stream",
       "stream": "stdout",
       "text": [
        "\u001b[1A\u001b[2K\r",
        "51ca4e908c5b: Downloading 9.949 MB/37.98 MB\r",
        "\u001b[1B"
       ]
      },
      {
       "output_type": "stream",
       "stream": "stdout",
       "text": [
        "\u001b[1A\u001b[2K\r",
        "51ca4e908c5b: Downloading 10.33 MB/37.98 MB\r",
        "\u001b[1B"
       ]
      },
      {
       "output_type": "stream",
       "stream": "stdout",
       "text": [
        "\u001b[1A\u001b[2K\r",
        "51ca4e908c5b: Downloading 10.71 MB/37.98 MB\r",
        "\u001b[1B"
       ]
      },
      {
       "output_type": "stream",
       "stream": "stdout",
       "text": [
        "\u001b[1A\u001b[2K\r",
        "51ca4e908c5b: Downloading 11.09 MB/37.98 MB\r",
        "\u001b[1B"
       ]
      },
      {
       "output_type": "stream",
       "stream": "stdout",
       "text": [
        "\u001b[1A\u001b[2K\r",
        "51ca4e908c5b: Downloading 11.47 MB/37.98 MB\r",
        "\u001b[1B\u001b[1A\u001b[2K\r",
        "51ca4e908c5b: Downloading 11.86 MB/37.98 MB\r",
        "\u001b[1B"
       ]
      },
      {
       "output_type": "stream",
       "stream": "stdout",
       "text": [
        "\u001b[1A\u001b[2K\r",
        "51ca4e908c5b: Downloading 12.24 MB/37.98 MB\r",
        "\u001b[1B"
       ]
      },
      {
       "output_type": "stream",
       "stream": "stdout",
       "text": [
        "\u001b[1A\u001b[2K\r",
        "51ca4e908c5b: Downloading 12.62 MB/37.98 MB\r",
        "\u001b[1B"
       ]
      },
      {
       "output_type": "stream",
       "stream": "stdout",
       "text": [
        "\u001b[1A\u001b[2K\r",
        "51ca4e908c5b: Downloading    13 MB/37.98 MB\r",
        "\u001b[1B"
       ]
      },
      {
       "output_type": "stream",
       "stream": "stdout",
       "text": [
        "\u001b[1A\u001b[2K\r",
        "51ca4e908c5b: Downloading 13.39 MB/37.98 MB\r",
        "\u001b[1B"
       ]
      },
      {
       "output_type": "stream",
       "stream": "stdout",
       "text": [
        "\u001b[1A\u001b[2K\r",
        "51ca4e908c5b: Downloading 13.77 MB/37.98 MB\r",
        "\u001b[1B"
       ]
      },
      {
       "output_type": "stream",
       "stream": "stdout",
       "text": [
        "\u001b[1A\u001b[2K\r",
        "51ca4e908c5b: Downloading 14.15 MB/37.98 MB\r",
        "\u001b[1B"
       ]
      },
      {
       "output_type": "stream",
       "stream": "stdout",
       "text": [
        "\u001b[1A\u001b[2K\r",
        "51ca4e908c5b: Downloading 14.53 MB/37.98 MB\r",
        "\u001b[1B"
       ]
      },
      {
       "output_type": "stream",
       "stream": "stdout",
       "text": [
        "\u001b[1A\u001b[2K\r",
        "51ca4e908c5b: Downloading 14.92 MB/37.98 MB\r",
        "\u001b[1B"
       ]
      },
      {
       "output_type": "stream",
       "stream": "stdout",
       "text": [
        "\u001b[1A\u001b[2K\r",
        "51ca4e908c5b: Downloading 15.31 MB/37.98 MB\r",
        "\u001b[1B"
       ]
      },
      {
       "output_type": "stream",
       "stream": "stdout",
       "text": [
        "\u001b[1A\u001b[2K\r",
        "51ca4e908c5b: Downloading 15.69 MB/37.98 MB\r",
        "\u001b[1B"
       ]
      },
      {
       "output_type": "stream",
       "stream": "stdout",
       "text": [
        "\u001b[1A\u001b[2K\r",
        "51ca4e908c5b: Downloading 16.08 MB/37.98 MB\r",
        "\u001b[1B"
       ]
      },
      {
       "output_type": "stream",
       "stream": "stdout",
       "text": [
        "\u001b[1A\u001b[2K\r",
        "51ca4e908c5b: Downloading 16.47 MB/37.98 MB\r",
        "\u001b[1B"
       ]
      },
      {
       "output_type": "stream",
       "stream": "stdout",
       "text": [
        "\u001b[1A\u001b[2K\r",
        "51ca4e908c5b: Downloading 16.85 MB/37.98 MB\r",
        "\u001b[1B"
       ]
      },
      {
       "output_type": "stream",
       "stream": "stdout",
       "text": [
        "\u001b[1A\u001b[2K\r",
        "51ca4e908c5b: Downloading 17.23 MB/37.98 MB\r",
        "\u001b[1B"
       ]
      },
      {
       "output_type": "stream",
       "stream": "stdout",
       "text": [
        "\u001b[1A\u001b[2K\r",
        "51ca4e908c5b: Downloading 17.61 MB/37.98 MB\r",
        "\u001b[1B"
       ]
      },
      {
       "output_type": "stream",
       "stream": "stdout",
       "text": [
        "\u001b[1A\u001b[2K\r",
        "51ca4e908c5b: Downloading 17.99 MB/37.98 MB\r",
        "\u001b[1B"
       ]
      },
      {
       "output_type": "stream",
       "stream": "stdout",
       "text": [
        "\u001b[1A\u001b[2K\r",
        "51ca4e908c5b: Downloading 18.38 MB/37.98 MB\r",
        "\u001b[1B"
       ]
      },
      {
       "output_type": "stream",
       "stream": "stdout",
       "text": [
        "\u001b[1A\u001b[2K\r",
        "51ca4e908c5b: Downloading 18.76 MB/37.98 MB\r",
        "\u001b[1B"
       ]
      },
      {
       "output_type": "stream",
       "stream": "stdout",
       "text": [
        "\u001b[1A\u001b[2K\r",
        "51ca4e908c5b: Downloading 19.14 MB/37.98 MB\r",
        "\u001b[1B"
       ]
      },
      {
       "output_type": "stream",
       "stream": "stdout",
       "text": [
        "\u001b[1A\u001b[2K\r",
        "51ca4e908c5b: Downloading 19.52 MB/37.98 MB\r",
        "\u001b[1B"
       ]
      },
      {
       "output_type": "stream",
       "stream": "stdout",
       "text": [
        "\u001b[1A\u001b[2K\r",
        "51ca4e908c5b: Downloading  19.9 MB/37.98 MB\r",
        "\u001b[1B"
       ]
      },
      {
       "output_type": "stream",
       "stream": "stdout",
       "text": [
        "\u001b[1A\u001b[2K\r",
        "51ca4e908c5b: Downloading 20.28 MB/37.98 MB\r",
        "\u001b[1B"
       ]
      },
      {
       "output_type": "stream",
       "stream": "stdout",
       "text": [
        "\u001b[1A\u001b[2K\r",
        "51ca4e908c5b: Downloading 20.67 MB/37.98 MB\r",
        "\u001b[1B"
       ]
      },
      {
       "output_type": "stream",
       "stream": "stdout",
       "text": [
        "\u001b[1A\u001b[2K\r",
        "51ca4e908c5b: Downloading 21.05 MB/37.98 MB\r",
        "\u001b[1B"
       ]
      },
      {
       "output_type": "stream",
       "stream": "stdout",
       "text": [
        "\u001b[1A\u001b[2K\r",
        "51ca4e908c5b: Downloading 21.43 MB/37.98 MB\r",
        "\u001b[1B"
       ]
      },
      {
       "output_type": "stream",
       "stream": "stdout",
       "text": [
        "\u001b[1A\u001b[2K\r",
        "51ca4e908c5b: Downloading 21.81 MB/37.98 MB\r",
        "\u001b[1B"
       ]
      },
      {
       "output_type": "stream",
       "stream": "stdout",
       "text": [
        "\u001b[1A\u001b[2K\r",
        "51ca4e908c5b: Downloading 22.19 MB/37.98 MB\r",
        "\u001b[1B"
       ]
      },
      {
       "output_type": "stream",
       "stream": "stdout",
       "text": [
        "\u001b[1A\u001b[2K\r",
        "51ca4e908c5b: Downloading 22.57 MB/37.98 MB\r",
        "\u001b[1B"
       ]
      },
      {
       "output_type": "stream",
       "stream": "stdout",
       "text": [
        "\u001b[1A\u001b[2K\r",
        "51ca4e908c5b: Downloading 22.95 MB/37.98 MB\r",
        "\u001b[1B"
       ]
      },
      {
       "output_type": "stream",
       "stream": "stdout",
       "text": [
        "\u001b[1A\u001b[2K\r",
        "51ca4e908c5b: Downloading 23.34 MB/37.98 MB\r",
        "\u001b[1B"
       ]
      },
      {
       "output_type": "stream",
       "stream": "stdout",
       "text": [
        "\u001b[1A\u001b[2K\r",
        "51ca4e908c5b: Downloading 23.72 MB/37.98 MB\r",
        "\u001b[1B"
       ]
      },
      {
       "output_type": "stream",
       "stream": "stdout",
       "text": [
        "\u001b[1A\u001b[2K\r",
        "51ca4e908c5b: Downloading  24.1 MB/37.98 MB\r",
        "\u001b[1B"
       ]
      },
      {
       "output_type": "stream",
       "stream": "stdout",
       "text": [
        "\u001b[1A\u001b[2K\r",
        "51ca4e908c5b: Downloading 24.48 MB/37.98 MB\r",
        "\u001b[1B"
       ]
      },
      {
       "output_type": "stream",
       "stream": "stdout",
       "text": [
        "\u001b[1A\u001b[2K\r",
        "51ca4e908c5b: Downloading 24.86 MB/37.98 MB\r",
        "\u001b[1B"
       ]
      },
      {
       "output_type": "stream",
       "stream": "stdout",
       "text": [
        "\u001b[1A\u001b[2K\r",
        "51ca4e908c5b: Downloading 25.25 MB/37.98 MB\r",
        "\u001b[1B"
       ]
      },
      {
       "output_type": "stream",
       "stream": "stdout",
       "text": [
        "\u001b[1A\u001b[2K\r",
        "51ca4e908c5b: Downloading 25.64 MB/37.98 MB\r",
        "\u001b[1B"
       ]
      },
      {
       "output_type": "stream",
       "stream": "stdout",
       "text": [
        "\u001b[1A\u001b[2K\r",
        "51ca4e908c5b: Downloading 26.02 MB/37.98 MB\r",
        "\u001b[1B"
       ]
      },
      {
       "output_type": "stream",
       "stream": "stdout",
       "text": [
        "\u001b[1A\u001b[2K\r",
        "51ca4e908c5b: Downloading 26.41 MB/37.98 MB\r",
        "\u001b[1B"
       ]
      },
      {
       "output_type": "stream",
       "stream": "stdout",
       "text": [
        "\u001b[1A\u001b[2K\r",
        "51ca4e908c5b: Downloading 26.79 MB/37.98 MB\r",
        "\u001b[1B"
       ]
      },
      {
       "output_type": "stream",
       "stream": "stdout",
       "text": [
        "\u001b[1A\u001b[2K\r",
        "51ca4e908c5b: Downloading 27.17 MB/37.98 MB\r",
        "\u001b[1B"
       ]
      },
      {
       "output_type": "stream",
       "stream": "stdout",
       "text": [
        "\u001b[1A\u001b[2K\r",
        "51ca4e908c5b: Downloading 27.55 MB/37.98 MB\r",
        "\u001b[1B"
       ]
      },
      {
       "output_type": "stream",
       "stream": "stdout",
       "text": [
        "\u001b[1A\u001b[2K\r",
        "51ca4e908c5b: Downloading 27.93 MB/37.98 MB\r",
        "\u001b[1B"
       ]
      },
      {
       "output_type": "stream",
       "stream": "stdout",
       "text": [
        "\u001b[1A\u001b[2K\r",
        "51ca4e908c5b: Downloading 28.31 MB/37.98 MB\r",
        "\u001b[1B"
       ]
      },
      {
       "output_type": "stream",
       "stream": "stdout",
       "text": [
        "\u001b[1A\u001b[2K\r",
        "51ca4e908c5b: Downloading 28.69 MB/37.98 MB\r",
        "\u001b[1B"
       ]
      },
      {
       "output_type": "stream",
       "stream": "stdout",
       "text": [
        "\u001b[1A\u001b[2K\r",
        "51ca4e908c5b: Downloading 29.08 MB/37.98 MB\r",
        "\u001b[1B"
       ]
      },
      {
       "output_type": "stream",
       "stream": "stdout",
       "text": [
        "\u001b[1A\u001b[2K\r",
        "51ca4e908c5b: Downloading 29.47 MB/37.98 MB\r",
        "\u001b[1B"
       ]
      },
      {
       "output_type": "stream",
       "stream": "stdout",
       "text": [
        "\u001b[1A\u001b[2K\r",
        "51ca4e908c5b: Downloading 29.85 MB/37.98 MB\r",
        "\u001b[1B"
       ]
      },
      {
       "output_type": "stream",
       "stream": "stdout",
       "text": [
        "\u001b[1A\u001b[2K\r",
        "51ca4e908c5b: Downloading 30.23 MB/37.98 MB\r",
        "\u001b[1B"
       ]
      },
      {
       "output_type": "stream",
       "stream": "stdout",
       "text": [
        "\u001b[1A\u001b[2K\r",
        "51ca4e908c5b: Downloading 30.61 MB/37.98 MB\r",
        "\u001b[1B"
       ]
      },
      {
       "output_type": "stream",
       "stream": "stdout",
       "text": [
        "\u001b[1A\u001b[2K\r",
        "51ca4e908c5b: Downloading 30.99 MB/37.98 MB\r",
        "\u001b[1B"
       ]
      },
      {
       "output_type": "stream",
       "stream": "stdout",
       "text": [
        "\u001b[1A\u001b[2K\r",
        "51ca4e908c5b: Downloading 31.38 MB/37.98 MB\r",
        "\u001b[1B"
       ]
      },
      {
       "output_type": "stream",
       "stream": "stdout",
       "text": [
        "\u001b[1A\u001b[2K\r",
        "51ca4e908c5b: Downloading 31.76 MB/37.98 MB\r",
        "\u001b[1B"
       ]
      },
      {
       "output_type": "stream",
       "stream": "stdout",
       "text": [
        "\u001b[1A\u001b[2K\r",
        "51ca4e908c5b: Downloading 32.14 MB/37.98 MB\r",
        "\u001b[1B"
       ]
      },
      {
       "output_type": "stream",
       "stream": "stdout",
       "text": [
        "\u001b[1A\u001b[2K\r",
        "51ca4e908c5b: Downloading 32.53 MB/37.98 MB\r",
        "\u001b[1B"
       ]
      },
      {
       "output_type": "stream",
       "stream": "stdout",
       "text": [
        "\u001b[1A\u001b[2K\r",
        "51ca4e908c5b: Downloading 32.91 MB/37.98 MB\r",
        "\u001b[1B"
       ]
      },
      {
       "output_type": "stream",
       "stream": "stdout",
       "text": [
        "\u001b[1A\u001b[2K\r",
        "51ca4e908c5b: Downloading 33.29 MB/37.98 MB\r",
        "\u001b[1B"
       ]
      },
      {
       "output_type": "stream",
       "stream": "stdout",
       "text": [
        "\u001b[1A\u001b[2K\r",
        "51ca4e908c5b: Downloading 33.68 MB/37.98 MB\r",
        "\u001b[1B"
       ]
      },
      {
       "output_type": "stream",
       "stream": "stdout",
       "text": [
        "\u001b[1A\u001b[2K\r",
        "51ca4e908c5b: Downloading 34.06 MB/37.98 MB\r",
        "\u001b[1B"
       ]
      },
      {
       "output_type": "stream",
       "stream": "stdout",
       "text": [
        "\u001b[1A\u001b[2K\r",
        "51ca4e908c5b: Downloading 34.44 MB/37.98 MB\r",
        "\u001b[1B"
       ]
      },
      {
       "output_type": "stream",
       "stream": "stdout",
       "text": [
        "\u001b[1A\u001b[2K\r",
        "51ca4e908c5b: Downloading 34.82 MB/37.98 MB\r",
        "\u001b[1B"
       ]
      },
      {
       "output_type": "stream",
       "stream": "stdout",
       "text": [
        "\u001b[1A\u001b[2K\r",
        "51ca4e908c5b: Downloading  35.2 MB/37.98 MB\r",
        "\u001b[1B"
       ]
      },
      {
       "output_type": "stream",
       "stream": "stdout",
       "text": [
        "\u001b[1A\u001b[2K\r",
        "51ca4e908c5b: Downloading 35.59 MB/37.98 MB\r",
        "\u001b[1B"
       ]
      },
      {
       "output_type": "stream",
       "stream": "stdout",
       "text": [
        "\u001b[1A\u001b[2K\r",
        "51ca4e908c5b: Downloading 35.97 MB/37.98 MB\r",
        "\u001b[1B"
       ]
      },
      {
       "output_type": "stream",
       "stream": "stdout",
       "text": [
        "\u001b[1A\u001b[2K\r",
        "51ca4e908c5b: Downloading 36.35 MB/37.98 MB\r",
        "\u001b[1B"
       ]
      },
      {
       "output_type": "stream",
       "stream": "stdout",
       "text": [
        "\u001b[1A\u001b[2K\r",
        "51ca4e908c5b: Downloading 36.73 MB/37.98 MB\r",
        "\u001b[1B"
       ]
      },
      {
       "output_type": "stream",
       "stream": "stdout",
       "text": [
        "\u001b[1A\u001b[2K\r",
        "51ca4e908c5b: Downloading 37.11 MB/37.98 MB\r",
        "\u001b[1B"
       ]
      },
      {
       "output_type": "stream",
       "stream": "stdout",
       "text": [
        "\u001b[1A\u001b[2K\r",
        "51ca4e908c5b: Downloading  37.5 MB/37.98 MB\r",
        "\u001b[1B"
       ]
      },
      {
       "output_type": "stream",
       "stream": "stdout",
       "text": [
        "\u001b[1A\u001b[2K\r",
        "51ca4e908c5b: Downloading 37.88 MB/37.98 MB\r",
        "\u001b[1B\u001b[1A\u001b[2K\r",
        "51ca4e908c5b: Downloading 37.98 MB/37.98 MB\r",
        "\u001b[1B"
       ]
      },
      {
       "output_type": "stream",
       "stream": "stdout",
       "text": [
        "\u001b[1A\u001b[2K\r",
        "51ca4e908c5b: Download complete \r",
        "\u001b[1B\r\n",
        "\u001b[0A\u001b[2K\r",
        "1bb7598f4f58: Pulling metadata \r",
        "\u001b[0B"
       ]
      },
      {
       "output_type": "stream",
       "stream": "stdout",
       "text": [
        "\u001b[1A\u001b[2K\r",
        "1bb7598f4f58: Pulling fs layer \r",
        "\u001b[1B"
       ]
      },
      {
       "output_type": "stream",
       "stream": "stdout",
       "text": [
        "\u001b[1A\u001b[2K\r",
        "1bb7598f4f58: Downloading     23 B/23 B\r",
        "\u001b[1B"
       ]
      },
      {
       "output_type": "stream",
       "stream": "stdout",
       "text": [
        "\u001b[1A\u001b[2K\r",
        "1bb7598f4f58: Download complete \r",
        "\u001b[1B\r\n",
        "\u001b[0A\u001b[2K\r",
        "4155bef560c3: Pulling metadata \r",
        "\u001b[0B"
       ]
      },
      {
       "output_type": "stream",
       "stream": "stdout",
       "text": [
        "\u001b[1A\u001b[2K\r",
        "4155bef560c3: Pulling fs layer \r",
        "\u001b[1B"
       ]
      },
      {
       "output_type": "stream",
       "stream": "stdout",
       "text": [
        "\u001b[1A\u001b[2K\r",
        "4155bef560c3: Downloading    375 B/375 B\r",
        "\u001b[1B"
       ]
      },
      {
       "output_type": "stream",
       "stream": "stdout",
       "text": [
        "\u001b[1A\u001b[2K\r",
        "4155bef560c3: Download complete \r",
        "\u001b[1B\r\n",
        "\u001b[0A\u001b[2K\r",
        "b6901cf8aeb3: Pulling metadata \r",
        "\u001b[0B"
       ]
      },
      {
       "output_type": "stream",
       "stream": "stdout",
       "text": [
        "\u001b[1A\u001b[2K\r",
        "b6901cf8aeb3: Pulling fs layer \r",
        "\u001b[1B"
       ]
      },
      {
       "output_type": "stream",
       "stream": "stdout",
       "text": [
        "\u001b[1A\u001b[2K\r",
        "b6901cf8aeb3: Downloading 2.886 kB/2.886 kB\r",
        "\u001b[1B"
       ]
      },
      {
       "output_type": "stream",
       "stream": "stdout",
       "text": [
        "\u001b[1A\u001b[2K\r",
        "b6901cf8aeb3: Download complete \r",
        "\u001b[1B\r\n",
        "\u001b[0A\u001b[2K\r",
        "489376fb4674: Pulling metadata \r",
        "\u001b[0B"
       ]
      },
      {
       "output_type": "stream",
       "stream": "stdout",
       "text": [
        "\u001b[1A\u001b[2K\r",
        "489376fb4674: Pulling fs layer \r",
        "\u001b[1B"
       ]
      },
      {
       "output_type": "stream",
       "stream": "stdout",
       "text": [
        "\u001b[1A\u001b[2K\r",
        "489376fb4674: Downloading  7.75 kB/592.3 kB\r",
        "\u001b[1B\u001b[1A\u001b[2K\r",
        "489376fb4674: Downloading 14.23 kB/592.3 kB\r",
        "\u001b[1B\u001b[1A\u001b[2K\r",
        "489376fb4674: Downloading 21.39 kB/592.3 kB\r",
        "\u001b[1B\u001b[1A\u001b[2K\r",
        "489376fb4674: Downloading 29.83 kB/592.3 kB\r",
        "\u001b[1B"
       ]
      },
      {
       "output_type": "stream",
       "stream": "stdout",
       "text": [
        "\u001b[1A\u001b[2K\r",
        "489376fb4674: Downloading 37.35 kB/592.3 kB\r",
        "\u001b[1B\u001b[1A\u001b[2K\r",
        "489376fb4674: Downloading 44.59 kB/592.3 kB\r",
        "\u001b[1B\u001b[1A\u001b[2K\r",
        "489376fb4674: Downloading 51.87 kB/592.3 kB\r",
        "\u001b[1B\u001b[1A\u001b[2K\r",
        "489376fb4674: Downloading  59.1 kB/592.3 kB\r",
        "\u001b[1B\u001b[1A\u001b[2K\r",
        "489376fb4674: Downloading  67.3 kB/592.3 kB\r",
        "\u001b[1B"
       ]
      },
      {
       "output_type": "stream",
       "stream": "stdout",
       "text": [
        "\u001b[1A\u001b[2K\r",
        "489376fb4674: Downloading 74.82 kB/592.3 kB\r",
        "\u001b[1B\u001b[1A\u001b[2K\r",
        "489376fb4674: Downloading 82.06 kB/592.3 kB\r",
        "\u001b[1B"
       ]
      },
      {
       "output_type": "stream",
       "stream": "stdout",
       "text": [
        "\u001b[1A\u001b[2K\r",
        "489376fb4674: Downloading 90.78 kB/592.3 kB\r",
        "\u001b[1B\u001b[1A\u001b[2K\r",
        "489376fb4674: Downloading 98.02 kB/592.3 kB\r",
        "\u001b[1B\u001b[1A\u001b[2K\r",
        "489376fb4674: Downloading 104.1 kB/592.3 kB\r",
        "\u001b[1B"
       ]
      },
      {
       "output_type": "stream",
       "stream": "stdout",
       "text": [
        "\u001b[1A\u001b[2K\r",
        "489376fb4674: Downloading 111.3 kB/592.3 kB\r",
        "\u001b[1B\u001b[1A\u001b[2K\r",
        "489376fb4674: Downloading 121.2 kB/592.3 kB\r",
        "\u001b[1B\u001b[1A\u001b[2K\r",
        "489376fb4674: Downloading 129.4 kB/592.3 kB\r",
        "\u001b[1B\u001b[1A\u001b[2K\r",
        "489376fb4674: Downloading 138.6 kB/592.3 kB\r",
        "\u001b[1B"
       ]
      },
      {
       "output_type": "stream",
       "stream": "stdout",
       "text": [
        "\u001b[1A\u001b[2K\r",
        "489376fb4674: Downloading 146.1 kB/592.3 kB\r",
        "\u001b[1B"
       ]
      },
      {
       "output_type": "stream",
       "stream": "stdout",
       "text": [
        "\u001b[1A\u001b[2K\r",
        "489376fb4674: Downloading 154.3 kB/592.3 kB\r",
        "\u001b[1B\u001b[1A\u001b[2K\r",
        "489376fb4674: Downloading 162.1 kB/592.3 kB\r",
        "\u001b[1B\u001b[1A\u001b[2K\r",
        "489376fb4674: Downloading 170.3 kB/592.3 kB\r",
        "\u001b[1B\u001b[1A\u001b[2K\r",
        "489376fb4674: Downloading 177.8 kB/592.3 kB\r",
        "\u001b[1B\u001b[1A\u001b[2K\r",
        "489376fb4674: Downloading   186 kB/592.3 kB\r",
        "\u001b[1B"
       ]
      },
      {
       "output_type": "stream",
       "stream": "stdout",
       "text": [
        "\u001b[1A\u001b[2K\r",
        "489376fb4674: Downloading 195.2 kB/592.3 kB\r",
        "\u001b[1B\u001b[1A\u001b[2K\r",
        "489376fb4674: Downloading 203.9 kB/592.3 kB\r",
        "\u001b[1B\u001b[1A\u001b[2K\r",
        "489376fb4674: Downloading 211.4 kB/592.3 kB\r",
        "\u001b[1B"
       ]
      },
      {
       "output_type": "stream",
       "stream": "stdout",
       "text": [
        "\u001b[1A\u001b[2K\r",
        "489376fb4674: Downloading 219.6 kB/592.3 kB\r",
        "\u001b[1B\u001b[1A\u001b[2K\r",
        "489376fb4674: Downloading 227.8 kB/592.3 kB\r",
        "\u001b[1B\u001b[1A\u001b[2K\r",
        "489376fb4674: Downloading 234.6 kB/592.3 kB\r",
        "\u001b[1B\u001b[1A\u001b[2K\r",
        "489376fb4674: Downloading 242.8 kB/592.3 kB\r",
        "\u001b[1B"
       ]
      },
      {
       "output_type": "stream",
       "stream": "stdout",
       "text": [
        "\u001b[1A\u001b[2K\r",
        "489376fb4674: Downloading 248.9 kB/592.3 kB\r",
        "\u001b[1B\u001b[1A\u001b[2K\r",
        "489376fb4674: Downloading 257.8 kB/592.3 kB\r",
        "\u001b[1B\u001b[1A\u001b[2K\r",
        "489376fb4674: Downloading 267.8 kB/592.3 kB\r",
        "\u001b[1B\u001b[1A\u001b[2K\r",
        "489376fb4674: Downloading 273.8 kB/592.3 kB\r",
        "\u001b[1B\u001b[1A\u001b[2K\r",
        "489376fb4674: Downloading   282 kB/592.3 kB\r",
        "\u001b[1B\u001b[1A\u001b[2K\r",
        "489376fb4674: Downloading 290.2 kB/592.3 kB\r",
        "\u001b[1B\u001b[1A\u001b[2K\r",
        "489376fb4674: Downloading 299.7 kB/592.3 kB\r",
        "\u001b[1B\u001b[1A\u001b[2K\r",
        "489376fb4674: Downloading 309.6 kB/592.3 kB\r",
        "\u001b[1B"
       ]
      },
      {
       "output_type": "stream",
       "stream": "stdout",
       "text": [
        "\u001b[1A\u001b[2K\r",
        "489376fb4674: Downloading 318.5 kB/592.3 kB\r",
        "\u001b[1B\u001b[1A\u001b[2K\r",
        "489376fb4674: Downloading 326.7 kB/592.3 kB\r",
        "\u001b[1B\u001b[1A\u001b[2K\r",
        "489376fb4674: Downloading 333.3 kB/592.3 kB\r",
        "\u001b[1B"
       ]
      },
      {
       "output_type": "stream",
       "stream": "stdout",
       "text": [
        "\u001b[1A\u001b[2K\r",
        "489376fb4674: Downloading 340.3 kB/592.3 kB\r",
        "\u001b[1B\u001b[1A\u001b[2K\r",
        "489376fb4674: Downloading 348.5 kB/592.3 kB\r",
        "\u001b[1B\u001b[1A\u001b[2K\r",
        "489376fb4674: Downloading 356.5 kB/592.3 kB\r",
        "\u001b[1B\u001b[1A\u001b[2K\r",
        "489376fb4674: Downloading 364.7 kB/592.3 kB\r",
        "\u001b[1B\u001b[1A\u001b[2K\r",
        "489376fb4674: Downloading 372.9 kB/592.3 kB\r",
        "\u001b[1B\u001b[1A\u001b[2K\r",
        "489376fb4674: Downloading 379.4 kB/592.3 kB\r",
        "\u001b[1B"
       ]
      },
      {
       "output_type": "stream",
       "stream": "stdout",
       "text": [
        "\u001b[1A\u001b[2K\r",
        "489376fb4674: Downloading 386.7 kB/592.3 kB\r",
        "\u001b[1B\u001b[1A\u001b[2K\r",
        "489376fb4674: Downloading   394 kB/592.3 kB\r",
        "\u001b[1B\u001b[1A\u001b[2K\r",
        "489376fb4674: Downloading 402.4 kB/592.3 kB\r",
        "\u001b[1B\u001b[1A\u001b[2K\r",
        "489376fb4674: Downloading 410.6 kB/592.3 kB\r",
        "\u001b[1B\u001b[1A\u001b[2K\r",
        "489376fb4674: Downloading 417.4 kB/592.3 kB\r",
        "\u001b[1B\u001b[1A\u001b[2K\r",
        "489376fb4674: Downloading 424.4 kB/592.3 kB\r",
        "\u001b[1B\u001b[1A\u001b[2K\r",
        "489376fb4674: Downloading 432.6 kB/592.3 kB\r",
        "\u001b[1B\u001b[1A\u001b[2K\r",
        "489376fb4674: Downloading 440.6 kB/592.3 kB\r",
        "\u001b[1B"
       ]
      },
      {
       "output_type": "stream",
       "stream": "stdout",
       "text": [
        "\u001b[1A\u001b[2K\r",
        "489376fb4674: Downloading 448.8 kB/592.3 kB\r",
        "\u001b[1B\u001b[1A\u001b[2K\r",
        "489376fb4674: Downloading 455.1 kB/592.3 kB\r",
        "\u001b[1B\u001b[1A\u001b[2K\r",
        "489376fb4674: Downloading 463.3 kB/592.3 kB\r",
        "\u001b[1B\u001b[1A\u001b[2K\r",
        "489376fb4674: Downloading 469.4 kB/592.3 kB\r",
        "\u001b[1B"
       ]
      },
      {
       "output_type": "stream",
       "stream": "stdout",
       "text": [
        "\u001b[1A\u001b[2K\r",
        "489376fb4674: Downloading 476.6 kB/592.3 kB\r",
        "\u001b[1B\u001b[1A\u001b[2K\r",
        "489376fb4674: Downloading 484.8 kB/592.3 kB\r",
        "\u001b[1B\u001b[1A\u001b[2K\r",
        "489376fb4674: Downloading 491.2 kB/592.3 kB\r",
        "\u001b[1B\u001b[1A\u001b[2K\r",
        "489376fb4674: Downloading 499.4 kB/592.3 kB\r",
        "\u001b[1B\u001b[1A\u001b[2K\r",
        "489376fb4674: Downloading 505.9 kB/592.3 kB\r",
        "\u001b[1B\u001b[1A\u001b[2K\r",
        "489376fb4674: Downloading 514.1 kB/592.3 kB\r",
        "\u001b[1B\u001b[1A\u001b[2K\r",
        "489376fb4674: Downloading 521.9 kB/592.3 kB\r",
        "\u001b[1B\u001b[1A\u001b[2K\r",
        "489376fb4674: Downloading 530.3 kB/592.3 kB\r",
        "\u001b[1B\u001b[1A\u001b[2K\r",
        "489376fb4674: Downloading 540.2 kB/592.3 kB\r",
        "\u001b[1B\u001b[1A\u001b[2K\r",
        "489376fb4674: Downloading 548.4 kB/592.3 kB\r",
        "\u001b[1B\u001b[1A\u001b[2K\r",
        "489376fb4674: Downloading 556.7 kB/592.3 kB\r",
        "\u001b[1B"
       ]
      },
      {
       "output_type": "stream",
       "stream": "stdout",
       "text": [
        "\u001b[1A\u001b[2K\r",
        "489376fb4674: Downloading 563.9 kB/592.3 kB\r",
        "\u001b[1B\u001b[1A\u001b[2K\r",
        "489376fb4674: Downloading 572.4 kB/592.3 kB\r",
        "\u001b[1B\u001b[1A\u001b[2K\r",
        "489376fb4674: Downloading 579.9 kB/592.3 kB\r",
        "\u001b[1B\u001b[1A\u001b[2K\r",
        "489376fb4674: Downloading 588.1 kB/592.3 kB\r",
        "\u001b[1B\u001b[1A\u001b[2K\r",
        "489376fb4674: Downloading 592.3 kB/592.3 kB\r",
        "\u001b[1B"
       ]
      },
      {
       "output_type": "stream",
       "stream": "stdout",
       "text": [
        "\u001b[1A\u001b[2K\r",
        "489376fb4674: Download complete \r",
        "\u001b[1B\r\n",
        "\u001b[0A\u001b[2K\r",
        "b718354b9e90: Pulling metadata \r",
        "\u001b[0B"
       ]
      },
      {
       "output_type": "stream",
       "stream": "stdout",
       "text": [
        "\u001b[1A\u001b[2K\r",
        "b718354b9e90: Pulling fs layer \r",
        "\u001b[1B"
       ]
      },
      {
       "output_type": "stream",
       "stream": "stdout",
       "text": [
        "\u001b[1A\u001b[2K\r",
        "b718354b9e90: Downloading 16.38 kB/1.487 MB\r",
        "\u001b[1B\u001b[1A\u001b[2K\r",
        "b718354b9e90: Downloading 34.44 kB/1.487 MB\r",
        "\u001b[1B"
       ]
      },
      {
       "output_type": "stream",
       "stream": "stdout",
       "text": [
        "\u001b[1A\u001b[2K\r",
        "b718354b9e90: Downloading 51.85 kB/1.487 MB\r",
        "\u001b[1B\u001b[1A\u001b[2K\r",
        "b718354b9e90: Downloading 69.26 kB/1.487 MB\r",
        "\u001b[1B"
       ]
      },
      {
       "output_type": "stream",
       "stream": "stdout",
       "text": [
        "\u001b[1A\u001b[2K\r",
        "b718354b9e90: Downloading 84.94 kB/1.487 MB\r",
        "\u001b[1B\u001b[1A\u001b[2K\r",
        "b718354b9e90: Downloading 102.1 kB/1.487 MB\r",
        "\u001b[1B"
       ]
      },
      {
       "output_type": "stream",
       "stream": "stdout",
       "text": [
        "\u001b[1A\u001b[2K\r",
        "b718354b9e90: Downloading 119.8 kB/1.487 MB\r",
        "\u001b[1B\u001b[1A\u001b[2K\r",
        "b718354b9e90: Downloading 138.1 kB/1.487 MB\r",
        "\u001b[1B"
       ]
      },
      {
       "output_type": "stream",
       "stream": "stdout",
       "text": [
        "\u001b[1A\u001b[2K\r",
        "b718354b9e90: Downloading 153.4 kB/1.487 MB\r",
        "\u001b[1B"
       ]
      },
      {
       "output_type": "stream",
       "stream": "stdout",
       "text": [
        "\u001b[1A\u001b[2K\r",
        "b718354b9e90: Downloading 170.5 kB/1.487 MB\r",
        "\u001b[1B\u001b[1A\u001b[2K\r",
        "b718354b9e90: Downloading 187.4 kB/1.487 MB\r",
        "\u001b[1B"
       ]
      },
      {
       "output_type": "stream",
       "stream": "stdout",
       "text": [
        "\u001b[1A\u001b[2K\r",
        "b718354b9e90: Downloading 203.4 kB/1.487 MB\r",
        "\u001b[1B\u001b[1A\u001b[2K\r",
        "b718354b9e90: Downloading 219.6 kB/1.487 MB\r",
        "\u001b[1B\u001b[1A\u001b[2K\r",
        "b718354b9e90: Downloading 237.3 kB/1.487 MB\r",
        "\u001b[1B"
       ]
      },
      {
       "output_type": "stream",
       "stream": "stdout",
       "text": [
        "\u001b[1A\u001b[2K\r",
        "b718354b9e90: Downloading 254.7 kB/1.487 MB\r",
        "\u001b[1B\u001b[1A\u001b[2K\r",
        "b718354b9e90: Downloading 270.6 kB/1.487 MB\r",
        "\u001b[1B"
       ]
      },
      {
       "output_type": "stream",
       "stream": "stdout",
       "text": [
        "\u001b[1A\u001b[2K\r",
        "b718354b9e90: Downloading 287.3 kB/1.487 MB\r",
        "\u001b[1B\u001b[1A\u001b[2K\r",
        "b718354b9e90: Downloading 305.5 kB/1.487 MB\r",
        "\u001b[1B"
       ]
      },
      {
       "output_type": "stream",
       "stream": "stdout",
       "text": [
        "\u001b[1A\u001b[2K\r",
        "b718354b9e90: Downloading 324.3 kB/1.487 MB\r",
        "\u001b[1B\u001b[1A\u001b[2K\r",
        "b718354b9e90: Downloading   342 kB/1.487 MB\r",
        "\u001b[1B"
       ]
      },
      {
       "output_type": "stream",
       "stream": "stdout",
       "text": [
        "\u001b[1A\u001b[2K\r",
        "b718354b9e90: Downloading 357.1 kB/1.487 MB\r",
        "\u001b[1B\u001b[1A\u001b[2K\r",
        "b718354b9e90: Downloading 373.4 kB/1.487 MB\r",
        "\u001b[1B\u001b[1A\u001b[2K\r",
        "b718354b9e90: Downloading 389.8 kB/1.487 MB\r",
        "\u001b[1B"
       ]
      },
      {
       "output_type": "stream",
       "stream": "stdout",
       "text": [
        "\u001b[1A\u001b[2K\r",
        "b718354b9e90: Downloading   407 kB/1.487 MB\r",
        "\u001b[1B\u001b[1A\u001b[2K\r",
        "b718354b9e90: Downloading 423.4 kB/1.487 MB\r",
        "\u001b[1B\u001b[1A\u001b[2K\r",
        "b718354b9e90: Downloading 438.9 kB/1.487 MB\r",
        "\u001b[1B\u001b[1A\u001b[2K\r",
        "b718354b9e90: Downloading 457.8 kB/1.487 MB\r",
        "\u001b[1B\u001b[1A\u001b[2K\r",
        "b718354b9e90: Downloading   474 kB/1.487 MB\r",
        "\u001b[1B"
       ]
      },
      {
       "output_type": "stream",
       "stream": "stdout",
       "text": [
        "\u001b[1A\u001b[2K\r",
        "b718354b9e90: Downloading 491.1 kB/1.487 MB\r",
        "\u001b[1B\u001b[1A\u001b[2K\r",
        "b718354b9e90: Downloading 520.6 kB/1.487 MB\r",
        "\u001b[1B"
       ]
      },
      {
       "output_type": "stream",
       "stream": "stdout",
       "text": [
        "\u001b[1A\u001b[2K\r",
        "b718354b9e90: Downloading 536.1 kB/1.487 MB\r",
        "\u001b[1B\u001b[1A\u001b[2K\r",
        "b718354b9e90: Downloading 553.5 kB/1.487 MB\r",
        "\u001b[1B\u001b[1A\u001b[2K\r",
        "b718354b9e90: Downloading 569.5 kB/1.487 MB\r",
        "\u001b[1B\u001b[1A\u001b[2K\r",
        "b718354b9e90: Downloading 587.8 kB/1.487 MB\r",
        "\u001b[1B\u001b[1A\u001b[2K\r",
        "b718354b9e90: Downloading 605.2 kB/1.487 MB\r",
        "\u001b[1B"
       ]
      },
      {
       "output_type": "stream",
       "stream": "stdout",
       "text": [
        "\u001b[1A\u001b[2K\r",
        "b718354b9e90: Downloading 620.2 kB/1.487 MB\r",
        "\u001b[1B\u001b[1A\u001b[2K\r",
        "b718354b9e90: Downloading 637.7 kB/1.487 MB\r",
        "\u001b[1B\u001b[1A\u001b[2K\r",
        "b718354b9e90: Downloading   654 kB/1.487 MB\r",
        "\u001b[1B\u001b[1A\u001b[2K\r",
        "b718354b9e90: Downloading 670.4 kB/1.487 MB\r",
        "\u001b[1B\u001b[1A\u001b[2K\r",
        "b718354b9e90: Downloading 686.8 kB/1.487 MB\r",
        "\u001b[1B\u001b[1A\u001b[2K\r",
        "b718354b9e90: Downloading 703.2 kB/1.487 MB\r",
        "\u001b[1B"
       ]
      },
      {
       "output_type": "stream",
       "stream": "stdout",
       "text": [
        "\u001b[1A\u001b[2K\r",
        "b718354b9e90: Downloading 719.6 kB/1.487 MB\r",
        "\u001b[1B\u001b[1A\u001b[2K\r",
        "b718354b9e90: Downloading 736.3 kB/1.487 MB\r",
        "\u001b[1B\u001b[1A\u001b[2K\r",
        "b718354b9e90: Downloading 755.2 kB/1.487 MB\r",
        "\u001b[1B"
       ]
      },
      {
       "output_type": "stream",
       "stream": "stdout",
       "text": [
        "\u001b[1A\u001b[2K\r",
        "b718354b9e90: Downloading 772.6 kB/1.487 MB\r",
        "\u001b[1B\u001b[1A\u001b[2K\r",
        "b718354b9e90: Downloading 788.8 kB/1.487 MB\r",
        "\u001b[1B\u001b[1A\u001b[2K\r",
        "b718354b9e90: Downloading 805.2 kB/1.487 MB\r",
        "\u001b[1B\u001b[1A\u001b[2K\r",
        "b718354b9e90: Downloading 821.9 kB/1.487 MB\r",
        "\u001b[1B\u001b[1A\u001b[2K\r",
        "b718354b9e90: Downloading 840.7 kB/1.487 MB\r",
        "\u001b[1B\u001b[1A\u001b[2K\r",
        "b718354b9e90: Downloading 859.6 kB/1.487 MB\r",
        "\u001b[1B\u001b[1A\u001b[2K\r",
        "b718354b9e90: Downloading 878.5 kB/1.487 MB\r",
        "\u001b[1B"
       ]
      },
      {
       "output_type": "stream",
       "stream": "stdout",
       "text": [
        "\u001b[1A\u001b[2K\r",
        "b718354b9e90: Downloading 894.7 kB/1.487 MB\r",
        "\u001b[1B\u001b[1A\u001b[2K\r",
        "b718354b9e90: Downloading 910.4 kB/1.487 MB\r",
        "\u001b[1B\u001b[1A\u001b[2K\r",
        "b718354b9e90: Downloading 929.2 kB/1.487 MB\r",
        "\u001b[1B\u001b[1A\u001b[2K\r",
        "b718354b9e90: Downloading 947.8 kB/1.487 MB\r",
        "\u001b[1B"
       ]
      },
      {
       "output_type": "stream",
       "stream": "stdout",
       "text": [
        "\u001b[1A\u001b[2K\r",
        "b718354b9e90: Downloading   965 kB/1.487 MB\r",
        "\u001b[1B\u001b[1A\u001b[2K\r",
        "b718354b9e90: Downloading 980.2 kB/1.487 MB\r",
        "\u001b[1B\u001b[1A\u001b[2K\r",
        "b718354b9e90: Downloading 997.4 kB/1.487 MB\r",
        "\u001b[1B\u001b[1A\u001b[2K\r",
        "b718354b9e90: Downloading 1.013 MB/1.487 MB\r",
        "\u001b[1B\u001b[1A\u001b[2K\r",
        "b718354b9e90: Downloading 1.031 MB/1.487 MB\r",
        "\u001b[1B\u001b[1A\u001b[2K\r",
        "b718354b9e90: Downloading 1.048 MB/1.487 MB\r",
        "\u001b[1B"
       ]
      },
      {
       "output_type": "stream",
       "stream": "stdout",
       "text": [
        "\u001b[1A\u001b[2K\r",
        "b718354b9e90: Downloading 1.066 MB/1.487 MB\r",
        "\u001b[1B\u001b[1A\u001b[2K\r",
        "b718354b9e90: Downloading 1.082 MB/1.487 MB\r",
        "\u001b[1B\u001b[1A\u001b[2K\r",
        "b718354b9e90: Downloading   1.1 MB/1.487 MB\r",
        "\u001b[1B\u001b[1A\u001b[2K\r",
        "b718354b9e90: Downloading 1.117 MB/1.487 MB\r",
        "\u001b[1B\u001b[1A\u001b[2K\r",
        "b718354b9e90: Downloading 1.135 MB/1.487 MB\r",
        "\u001b[1B\u001b[1A\u001b[2K\r",
        "b718354b9e90: Downloading 1.156 MB/1.487 MB\r",
        "\u001b[1B\u001b[1A\u001b[2K\r",
        "b718354b9e90: Downloading 1.173 MB/1.487 MB\r",
        "\u001b[1B"
       ]
      },
      {
       "output_type": "stream",
       "stream": "stdout",
       "text": [
        "\u001b[1A\u001b[2K\r",
        "b718354b9e90: Downloading 1.192 MB/1.487 MB\r",
        "\u001b[1B\u001b[1A\u001b[2K\r",
        "b718354b9e90: Downloading  1.21 MB/1.487 MB\r",
        "\u001b[1B\u001b[1A\u001b[2K\r",
        "b718354b9e90: Downloading 1.227 MB/1.487 MB\r",
        "\u001b[1B\u001b[1A\u001b[2K\r",
        "b718354b9e90: Downloading 1.245 MB/1.487 MB\r",
        "\u001b[1B\u001b[1A\u001b[2K\r",
        "b718354b9e90: Downloading  1.26 MB/1.487 MB\r",
        "\u001b[1B\u001b[1A\u001b[2K\r",
        "b718354b9e90: Downloading 1.288 MB/1.487 MB\r",
        "\u001b[1B\u001b[1A\u001b[2K\r",
        "b718354b9e90: Downloading 1.305 MB/1.487 MB\r",
        "\u001b[1B\u001b[1A\u001b[2K\r",
        "b718354b9e90: Downloading 1.324 MB/1.487 MB\r",
        "\u001b[1B\u001b[1A\u001b[2K\r",
        "b718354b9e90: Downloading  1.34 MB/1.487 MB\r",
        "\u001b[1B"
       ]
      },
      {
       "output_type": "stream",
       "stream": "stdout",
       "text": [
        "\u001b[1A\u001b[2K\r",
        "b718354b9e90: Downloading 1.358 MB/1.487 MB\r",
        "\u001b[1B\u001b[1A\u001b[2K\r",
        "b718354b9e90: Downloading 1.376 MB/1.487 MB\r",
        "\u001b[1B\u001b[1A\u001b[2K\r",
        "b718354b9e90: Downloading 1.394 MB/1.487 MB\r",
        "\u001b[1B\u001b[1A\u001b[2K\r",
        "b718354b9e90: Downloading 1.409 MB/1.487 MB\r",
        "\u001b[1B\u001b[1A\u001b[2K\r",
        "b718354b9e90: Downloading 1.426 MB/1.487 MB\r",
        "\u001b[1B\u001b[1A\u001b[2K\r",
        "b718354b9e90: Downloading 1.441 MB/1.487 MB\r",
        "\u001b[1B\u001b[1A\u001b[2K\r",
        "b718354b9e90: Downloading  1.46 MB/1.487 MB\r",
        "\u001b[1B\u001b[1A\u001b[2K\r",
        "b718354b9e90: Downloading 1.476 MB/1.487 MB\r",
        "\u001b[1B\u001b[1A\u001b[2K\r",
        "b718354b9e90: Downloading 1.487 MB/1.487 MB\r",
        "\u001b[1B"
       ]
      },
      {
       "output_type": "stream",
       "stream": "stdout",
       "text": [
        "\u001b[1A\u001b[2K\r",
        "b718354b9e90: Download complete \r",
        "\u001b[1B\r\n",
        "\u001b[0A\u001b[2K\r",
        "a38eb95f5281: Pulling metadata \r",
        "\u001b[0B"
       ]
      },
      {
       "output_type": "stream",
       "stream": "stdout",
       "text": [
        "\u001b[1A\u001b[2K\r",
        "a38eb95f5281: Pulling fs layer \r",
        "\u001b[1B"
       ]
      },
      {
       "output_type": "stream",
       "stream": "stdout",
       "text": [
        "\u001b[1A\u001b[2K\r",
        "a38eb95f5281: Downloading 8.688 kB/716.2 kB\r",
        "\u001b[1B\u001b[1A\u001b[2K\r",
        "a38eb95f5281: Downloading 17.05 kB/716.2 kB\r",
        "\u001b[1B"
       ]
      },
      {
       "output_type": "stream",
       "stream": "stdout",
       "text": [
        "\u001b[1A\u001b[2K\r",
        "a38eb95f5281: Downloading 24.29 kB/716.2 kB\r",
        "\u001b[1B\u001b[1A\u001b[2K\r",
        "a38eb95f5281: Downloading 34.18 kB/716.2 kB\r",
        "\u001b[1B"
       ]
      },
      {
       "output_type": "stream",
       "stream": "stdout",
       "text": [
        "\u001b[1A\u001b[2K\r",
        "a38eb95f5281: Downloading 41.45 kB/716.2 kB\r",
        "\u001b[1B"
       ]
      },
      {
       "output_type": "stream",
       "stream": "stdout",
       "text": [
        "\u001b[1A\u001b[2K\r",
        "a38eb95f5281: Downloading 50.14 kB/716.2 kB\r",
        "\u001b[1B"
       ]
      },
      {
       "output_type": "stream",
       "stream": "stdout",
       "text": [
        "\u001b[1A\u001b[2K\r",
        "a38eb95f5281: Downloading 60.06 kB/716.2 kB\r",
        "\u001b[1B\u001b[1A\u001b[2K\r",
        "a38eb95f5281: Downloading 68.99 kB/716.2 kB\r",
        "\u001b[1B"
       ]
      },
      {
       "output_type": "stream",
       "stream": "stdout",
       "text": [
        "\u001b[1A\u001b[2K\r",
        "a38eb95f5281: Downloading 76.27 kB/716.2 kB\r",
        "\u001b[1B\u001b[1A\u001b[2K\r",
        "a38eb95f5281: Downloading 84.46 kB/716.2 kB\r",
        "\u001b[1B"
       ]
      },
      {
       "output_type": "stream",
       "stream": "stdout",
       "text": [
        "\u001b[1A\u001b[2K\r",
        "a38eb95f5281: Downloading 93.67 kB/716.2 kB\r",
        "\u001b[1B\u001b[1A\u001b[2K\r",
        "a38eb95f5281: Downloading 101.9 kB/716.2 kB\r",
        "\u001b[1B\u001b[1A\u001b[2K\r",
        "a38eb95f5281: Downloading 109.6 kB/716.2 kB\r",
        "\u001b[1B\u001b[1A\u001b[2K\r",
        "a38eb95f5281: Downloading 117.8 kB/716.2 kB\r",
        "\u001b[1B"
       ]
      },
      {
       "output_type": "stream",
       "stream": "stdout",
       "text": [
        "\u001b[1A\u001b[2K\r",
        "a38eb95f5281: Downloading 125.6 kB/716.2 kB\r",
        "\u001b[1B\u001b[1A\u001b[2K\r",
        "a38eb95f5281: Downloading 132.8 kB/716.2 kB\r",
        "\u001b[1B\u001b[1A\u001b[2K\r",
        "a38eb95f5281: Downloading 142.7 kB/716.2 kB\r",
        "\u001b[1B"
       ]
      },
      {
       "output_type": "stream",
       "stream": "stdout",
       "text": [
        "\u001b[1A\u001b[2K\r",
        "a38eb95f5281: Downloading 150.2 kB/716.2 kB\r",
        "\u001b[1B\u001b[1A\u001b[2K\r",
        "a38eb95f5281: Downloading 160.4 kB/716.2 kB\r",
        "\u001b[1B\u001b[1A\u001b[2K\r",
        "a38eb95f5281: Downloading 167.6 kB/716.2 kB\r",
        "\u001b[1B"
       ]
      },
      {
       "output_type": "stream",
       "stream": "stdout",
       "text": [
        "\u001b[1A\u001b[2K\r",
        "a38eb95f5281: Downloading 177.8 kB/716.2 kB\r",
        "\u001b[1B\u001b[1A\u001b[2K\r",
        "a38eb95f5281: Downloading 185.1 kB/716.2 kB\r",
        "\u001b[1B\u001b[1A\u001b[2K\r",
        "a38eb95f5281: Downloading 192.6 kB/716.2 kB\r",
        "\u001b[1B\u001b[1A\u001b[2K\r",
        "a38eb95f5281: Downloading 200.8 kB/716.2 kB\r",
        "\u001b[1B\u001b[1A\u001b[2K\r",
        "a38eb95f5281: Downloading 208.5 kB/716.2 kB\r",
        "\u001b[1B\u001b[1A\u001b[2K\r",
        "a38eb95f5281: Downloading 215.8 kB/716.2 kB\r",
        "\u001b[1B\u001b[1A\u001b[2K\r",
        "a38eb95f5281: Downloading   224 kB/716.2 kB\r",
        "\u001b[1B"
       ]
      },
      {
       "output_type": "stream",
       "stream": "stdout",
       "text": [
        "\u001b[1A\u001b[2K\r",
        "a38eb95f5281: Downloading 233.2 kB/716.2 kB\r",
        "\u001b[1B\u001b[1A\u001b[2K\r",
        "a38eb95f5281: Downloading 241.4 kB/716.2 kB\r",
        "\u001b[1B\u001b[1A\u001b[2K\r",
        "a38eb95f5281: Downloading 250.6 kB/716.2 kB\r",
        "\u001b[1B"
       ]
      },
      {
       "output_type": "stream",
       "stream": "stdout",
       "text": [
        "\u001b[1A\u001b[2K\r",
        "a38eb95f5281: Downloading   259 kB/716.2 kB\r",
        "\u001b[1B\u001b[1A\u001b[2K\r",
        "a38eb95f5281: Downloading 267.2 kB/716.2 kB\r",
        "\u001b[1B\u001b[1A\u001b[2K\r",
        "a38eb95f5281: Downloading 276.2 kB/716.2 kB\r",
        "\u001b[1B\u001b[1A\u001b[2K\r",
        "a38eb95f5281: Downloading 283.7 kB/716.2 kB\r",
        "\u001b[1B"
       ]
      },
      {
       "output_type": "stream",
       "stream": "stdout",
       "text": [
        "\u001b[1A\u001b[2K\r",
        "a38eb95f5281: Downloading 292.4 kB/716.2 kB\r",
        "\u001b[1B\u001b[1A\u001b[2K\r",
        "a38eb95f5281: Downloading 302.6 kB/716.2 kB\r",
        "\u001b[1B\u001b[1A\u001b[2K\r",
        "a38eb95f5281: Downloading 310.8 kB/716.2 kB\r",
        "\u001b[1B\u001b[1A\u001b[2K\r",
        "a38eb95f5281: Downloading 318.5 kB/716.2 kB\r",
        "\u001b[1B\u001b[1A\u001b[2K\r",
        "a38eb95f5281: Downloading 326.7 kB/716.2 kB\r",
        "\u001b[1B"
       ]
      },
      {
       "output_type": "stream",
       "stream": "stdout",
       "text": [
        "\u001b[1A\u001b[2K\r",
        "a38eb95f5281: Downloading 334.5 kB/716.2 kB\r",
        "\u001b[1B\u001b[1A\u001b[2K\r",
        "a38eb95f5281: Downloading 342.7 kB/716.2 kB\r",
        "\u001b[1B\u001b[1A\u001b[2K\r",
        "a38eb95f5281: Downloading 353.3 kB/716.2 kB\r",
        "\u001b[1B\u001b[1A\u001b[2K\r",
        "a38eb95f5281: Downloading 360.8 kB/716.2 kB\r",
        "\u001b[1B"
       ]
      },
      {
       "output_type": "stream",
       "stream": "stdout",
       "text": [
        "\u001b[1A\u001b[2K\r",
        "a38eb95f5281: Downloading 369.3 kB/716.2 kB\r",
        "\u001b[1B\u001b[1A\u001b[2K\r",
        "a38eb95f5281: Downloading 376.5 kB/716.2 kB\r",
        "\u001b[1B\u001b[1A\u001b[2K\r",
        "a38eb95f5281: Downloading 386.7 kB/716.2 kB\r",
        "\u001b[1B\u001b[1A\u001b[2K\r",
        "a38eb95f5281: Downloading 394.2 kB/716.2 kB\r",
        "\u001b[1B\u001b[1A\u001b[2K\r",
        "a38eb95f5281: Downloading 402.4 kB/716.2 kB\r",
        "\u001b[1B\u001b[1A\u001b[2K\r",
        "a38eb95f5281: Downloading 412.8 kB/716.2 kB\r",
        "\u001b[1B\u001b[1A\u001b[2K\r",
        "a38eb95f5281: Downloading   421 kB/716.2 kB\r",
        "\u001b[1B\u001b[1A\u001b[2K\r",
        "a38eb95f5281: Downloading   429 kB/716.2 kB\r",
        "\u001b[1B\u001b[1A\u001b[2K\r",
        "a38eb95f5281: Downloading 438.9 kB/716.2 kB\r",
        "\u001b[1B\u001b[1A\u001b[2K\r",
        "a38eb95f5281: Downloading 446.2 kB/716.2 kB\r",
        "\u001b[1B\u001b[1A\u001b[2K\r",
        "a38eb95f5281: Downloading 456.1 kB/716.2 kB\r",
        "\u001b[1B"
       ]
      },
      {
       "output_type": "stream",
       "stream": "stdout",
       "text": [
        "\u001b[1A\u001b[2K\r",
        "a38eb95f5281: Downloading 463.6 kB/716.2 kB\r",
        "\u001b[1B\u001b[1A\u001b[2K\r",
        "a38eb95f5281: Downloading 471.1 kB/716.2 kB\r",
        "\u001b[1B\u001b[1A\u001b[2K\r",
        "a38eb95f5281: Downloading 480.7 kB/716.2 kB\r",
        "\u001b[1B\u001b[1A\u001b[2K\r",
        "a38eb95f5281: Downloading   490 kB/716.2 kB\r",
        "\u001b[1B\u001b[1A\u001b[2K\r",
        "a38eb95f5281: Downloading 498.2 kB/716.2 kB\r",
        "\u001b[1B\u001b[1A\u001b[2K\r",
        "a38eb95f5281: Downloading 508.6 kB/716.2 kB\r",
        "\u001b[1B"
       ]
      },
      {
       "output_type": "stream",
       "stream": "stdout",
       "text": [
        "\u001b[1A\u001b[2K\r",
        "a38eb95f5281: Downloading 515.8 kB/716.2 kB\r",
        "\u001b[1B\u001b[1A\u001b[2K\r",
        "a38eb95f5281: Downloading 523.3 kB/716.2 kB\r",
        "\u001b[1B\u001b[1A\u001b[2K\r",
        "a38eb95f5281: Downloading 531.5 kB/716.2 kB\r",
        "\u001b[1B\u001b[1A\u001b[2K\r",
        "a38eb95f5281: Downloading   539 kB/716.2 kB\r",
        "\u001b[1B\u001b[1A\u001b[2K\r",
        "a38eb95f5281: Downloading 546.5 kB/716.2 kB\r",
        "\u001b[1B\u001b[1A\u001b[2K\r",
        "a38eb95f5281: Downloading 554.7 kB/716.2 kB\r",
        "\u001b[1B\u001b[1A\u001b[2K\r",
        "a38eb95f5281: Downloading 562.2 kB/716.2 kB\r",
        "\u001b[1B\u001b[1A\u001b[2K\r",
        "a38eb95f5281: Downloading 569.5 kB/716.2 kB\r",
        "\u001b[1B"
       ]
      },
      {
       "output_type": "stream",
       "stream": "stdout",
       "text": [
        "\u001b[1A\u001b[2K\r",
        "a38eb95f5281: Downloading 579.4 kB/716.2 kB\r",
        "\u001b[1B\u001b[1A\u001b[2K\r",
        "a38eb95f5281: Downloading 587.6 kB/716.2 kB\r",
        "\u001b[1B\u001b[1A\u001b[2K\r",
        "a38eb95f5281: Downloading 597.1 kB/716.2 kB\r",
        "\u001b[1B\u001b[1A\u001b[2K\r",
        "a38eb95f5281: Downloading 604.5 kB/716.2 kB\r",
        "\u001b[1B\u001b[1A\u001b[2K\r",
        "a38eb95f5281: Downloading 612.7 kB/716.2 kB\r",
        "\u001b[1B\u001b[1A\u001b[2K\r",
        "a38eb95f5281: Downloading 623.2 kB/716.2 kB\r",
        "\u001b[1B\u001b[1A\u001b[2K\r",
        "a38eb95f5281: Downloading 631.3 kB/716.2 kB\r",
        "\u001b[1B\u001b[1A\u001b[2K\r",
        "a38eb95f5281: Downloading 639.1 kB/716.2 kB\r",
        "\u001b[1B\u001b[1A\u001b[2K\r",
        "a38eb95f5281: Downloading 647.3 kB/716.2 kB\r",
        "\u001b[1B\u001b[1A\u001b[2K\r",
        "a38eb95f5281: Downloading   658 kB/716.2 kB\r",
        "\u001b[1B"
       ]
      },
      {
       "output_type": "stream",
       "stream": "stdout",
       "text": [
        "\u001b[1A\u001b[2K\r",
        "a38eb95f5281: Downloading 666.2 kB/716.2 kB\r",
        "\u001b[1B\u001b[1A\u001b[2K\r",
        "a38eb95f5281: Downloading 675.4 kB/716.2 kB\r",
        "\u001b[1B\u001b[1A\u001b[2K\r",
        "a38eb95f5281: Downloading 682.6 kB/716.2 kB\r",
        "\u001b[1B\u001b[1A\u001b[2K\r",
        "a38eb95f5281: Downloading 689.9 kB/716.2 kB\r",
        "\u001b[1B\u001b[1A\u001b[2K\r",
        "a38eb95f5281: Downloading 700.1 kB/716.2 kB\r",
        "\u001b[1B\u001b[1A\u001b[2K\r",
        "a38eb95f5281: Downloading 709.9 kB/716.2 kB\r",
        "\u001b[1B\u001b[1A\u001b[2K\r",
        "a38eb95f5281: Downloading 716.2 kB/716.2 kB\r",
        "\u001b[1B"
       ]
      },
      {
       "output_type": "stream",
       "stream": "stdout",
       "text": [
        "\u001b[1A\u001b[2K\r",
        "a38eb95f5281: Download complete \r",
        "\u001b[1B\r\n",
        "\u001b[0A\u001b[2K\r",
        "217356bba704: Pulling metadata \r",
        "\u001b[0B"
       ]
      },
      {
       "output_type": "stream",
       "stream": "stdout",
       "text": [
        "\u001b[1A\u001b[2K\r",
        "217356bba704: Pulling fs layer \r",
        "\u001b[1B"
       ]
      },
      {
       "output_type": "stream",
       "stream": "stdout",
       "text": [
        "\u001b[1A\u001b[2K\r",
        "217356bba704: Downloading     23 B/23 B\r",
        "\u001b[1B"
       ]
      },
      {
       "output_type": "stream",
       "stream": "stdout",
       "text": [
        "\u001b[1A\u001b[2K\r",
        "217356bba704: Download complete \r",
        "\u001b[1B\r\n",
        "\u001b[0A\u001b[2K\r",
        "e000d4301ed2: Pulling metadata \r",
        "\u001b[0B"
       ]
      },
      {
       "output_type": "stream",
       "stream": "stdout",
       "text": [
        "\u001b[1A\u001b[2K\r",
        "e000d4301ed2: Pulling fs layer \r",
        "\u001b[1B"
       ]
      },
      {
       "output_type": "stream",
       "stream": "stdout",
       "text": [
        "\u001b[1A\u001b[2K\r",
        "e000d4301ed2: Downloading 14.64 kB/1.204 MB\r",
        "\u001b[1B\u001b[1A\u001b[2K\r",
        "e000d4301ed2: Downloading 27.92 kB/1.204 MB\r",
        "\u001b[1B\u001b[1A\u001b[2K\r",
        "e000d4301ed2: Downloading 49.28 kB/1.204 MB\r",
        "\u001b[1B\u001b[1A\u001b[2K\r",
        "e000d4301ed2: Downloading 62.42 kB/1.204 MB\r",
        "\u001b[1B\u001b[1A\u001b[2K\r",
        "e000d4301ed2: Downloading 76.33 kB/1.204 MB\r",
        "\u001b[1B\u001b[1A\u001b[2K\r",
        "e000d4301ed2: Downloading 88.62 kB/1.204 MB\r",
        "\u001b[1B\u001b[1A\u001b[2K\r",
        "e000d4301ed2: Downloading 100.9 kB/1.204 MB\r",
        "\u001b[1B"
       ]
      },
      {
       "output_type": "stream",
       "stream": "stdout",
       "text": [
        "\u001b[1A\u001b[2K\r",
        "e000d4301ed2: Downloading 113.2 kB/1.204 MB\r",
        "\u001b[1B\u001b[1A\u001b[2K\r",
        "e000d4301ed2: Downloading 125.5 kB/1.204 MB\r",
        "\u001b[1B\u001b[1A\u001b[2K\r",
        "e000d4301ed2: Downloading 137.8 kB/1.204 MB\r",
        "\u001b[1B\u001b[1A\u001b[2K\r",
        "e000d4301ed2: Downloading 151.1 kB/1.204 MB\r",
        "\u001b[1B"
       ]
      },
      {
       "output_type": "stream",
       "stream": "stdout",
       "text": [
        "\u001b[1A\u001b[2K\r",
        "e000d4301ed2: Downloading 164.9 kB/1.204 MB\r",
        "\u001b[1B\u001b[1A\u001b[2K\r",
        "e000d4301ed2: Downloading 178.7 kB/1.204 MB\r",
        "\u001b[1B\u001b[1A\u001b[2K\r",
        "e000d4301ed2: Downloading   191 kB/1.204 MB\r",
        "\u001b[1B\u001b[1A\u001b[2K\r",
        "e000d4301ed2: Downloading 203.3 kB/1.204 MB\r",
        "\u001b[1B\u001b[1A\u001b[2K\r",
        "e000d4301ed2: Downloading 215.6 kB/1.204 MB\r",
        "\u001b[1B\u001b[1A\u001b[2K\r",
        "e000d4301ed2: Downloading 227.9 kB/1.204 MB\r",
        "\u001b[1B"
       ]
      },
      {
       "output_type": "stream",
       "stream": "stdout",
       "text": [
        "\u001b[1A\u001b[2K\r",
        "e000d4301ed2: Downloading 244.8 kB/1.204 MB\r",
        "\u001b[1B\u001b[1A\u001b[2K\r",
        "e000d4301ed2: Downloading 260.6 kB/1.204 MB\r",
        "\u001b[1B\u001b[1A\u001b[2K\r",
        "e000d4301ed2: Downloading 272.9 kB/1.204 MB\r",
        "\u001b[1B\u001b[1A\u001b[2K\r",
        "e000d4301ed2: Downloading 285.2 kB/1.204 MB\r",
        "\u001b[1B\u001b[1A\u001b[2K\r",
        "e000d4301ed2: Downloading 297.5 kB/1.204 MB\r",
        "\u001b[1B\u001b[1A\u001b[2K\r",
        "e000d4301ed2: Downloading 309.8 kB/1.204 MB\r",
        "\u001b[1B"
       ]
      },
      {
       "output_type": "stream",
       "stream": "stdout",
       "text": [
        "\u001b[1A\u001b[2K\r",
        "e000d4301ed2: Downloading 322.1 kB/1.204 MB\r",
        "\u001b[1B\u001b[1A\u001b[2K\r",
        "e000d4301ed2: Downloading 334.4 kB/1.204 MB\r",
        "\u001b[1B\u001b[1A\u001b[2K\r",
        "e000d4301ed2: Downloading 346.7 kB/1.204 MB\r",
        "\u001b[1B\u001b[1A\u001b[2K\r",
        "e000d4301ed2: Downloading   359 kB/1.204 MB\r",
        "\u001b[1B\u001b[1A\u001b[2K\r",
        "e000d4301ed2: Downloading 371.2 kB/1.204 MB\r",
        "\u001b[1B\u001b[1A\u001b[2K\r",
        "e000d4301ed2: Downloading 383.5 kB/1.204 MB\r",
        "\u001b[1B\u001b[1A\u001b[2K\r",
        "e000d4301ed2: Downloading 395.8 kB/1.204 MB\r",
        "\u001b[1B\u001b[1A\u001b[2K\r",
        "e000d4301ed2: Downloading 408.1 kB/1.204 MB\r",
        "\u001b[1B\u001b[1A\u001b[2K\r",
        "e000d4301ed2: Downloading 420.4 kB/1.204 MB\r",
        "\u001b[1B\u001b[1A\u001b[2K\r",
        "e000d4301ed2: Downloading 432.7 kB/1.204 MB\r",
        "\u001b[1B"
       ]
      },
      {
       "output_type": "stream",
       "stream": "stdout",
       "text": [
        "\u001b[1A\u001b[2K\r",
        "e000d4301ed2: Downloading   445 kB/1.204 MB\r",
        "\u001b[1B\u001b[1A\u001b[2K\r",
        "e000d4301ed2: Downloading 457.3 kB/1.204 MB\r",
        "\u001b[1B\u001b[1A\u001b[2K\r",
        "e000d4301ed2: Downloading 469.5 kB/1.204 MB\r",
        "\u001b[1B\u001b[1A\u001b[2K\r",
        "e000d4301ed2: Downloading 481.8 kB/1.204 MB\r",
        "\u001b[1B\u001b[1A\u001b[2K\r",
        "e000d4301ed2: Downloading 494.1 kB/1.204 MB\r",
        "\u001b[1B\u001b[1A\u001b[2K\r",
        "e000d4301ed2: Downloading 506.4 kB/1.204 MB\r",
        "\u001b[1B\u001b[1A\u001b[2K\r",
        "e000d4301ed2: Downloading 518.7 kB/1.204 MB\r",
        "\u001b[1B\u001b[1A\u001b[2K\r",
        "e000d4301ed2: Downloading   531 kB/1.204 MB\r",
        "\u001b[1B\u001b[1A\u001b[2K\r",
        "e000d4301ed2: Downloading 543.3 kB/1.204 MB\r",
        "\u001b[1B"
       ]
      },
      {
       "output_type": "stream",
       "stream": "stdout",
       "text": [
        "\u001b[1A\u001b[2K\r",
        "e000d4301ed2: Downloading 555.6 kB/1.204 MB\r",
        "\u001b[1B\u001b[1A\u001b[2K\r",
        "e000d4301ed2: Downloading 567.8 kB/1.204 MB\r",
        "\u001b[1B\u001b[1A\u001b[2K\r",
        "e000d4301ed2: Downloading 580.1 kB/1.204 MB\r",
        "\u001b[1B\u001b[1A\u001b[2K\r",
        "e000d4301ed2: Downloading 592.4 kB/1.204 MB\r",
        "\u001b[1B\u001b[1A\u001b[2K\r",
        "e000d4301ed2: Downloading 604.7 kB/1.204 MB\r",
        "\u001b[1B\u001b[1A\u001b[2K\r",
        "e000d4301ed2: Downloading   617 kB/1.204 MB\r",
        "\u001b[1B\u001b[1A\u001b[2K\r",
        "e000d4301ed2: Downloading 629.3 kB/1.204 MB\r",
        "\u001b[1B\u001b[1A\u001b[2K\r",
        "e000d4301ed2: Downloading 641.6 kB/1.204 MB\r",
        "\u001b[1B\u001b[1A\u001b[2K\r",
        "e000d4301ed2: Downloading 653.9 kB/1.204 MB\r",
        "\u001b[1B\u001b[1A\u001b[2K\r",
        "e000d4301ed2: Downloading 666.2 kB/1.204 MB\r",
        "\u001b[1B\u001b[1A\u001b[2K\r",
        "e000d4301ed2: Downloading 678.4 kB/1.204 MB\r",
        "\u001b[1B"
       ]
      },
      {
       "output_type": "stream",
       "stream": "stdout",
       "text": [
        "\u001b[1A\u001b[2K\r",
        "e000d4301ed2: Downloading 690.7 kB/1.204 MB\r",
        "\u001b[1B\u001b[1A\u001b[2K\r",
        "e000d4301ed2: Downloading   703 kB/1.204 MB\r",
        "\u001b[1B\u001b[1A\u001b[2K\r",
        "e000d4301ed2: Downloading 715.3 kB/1.204 MB\r",
        "\u001b[1B\u001b[1A\u001b[2K\r",
        "e000d4301ed2: Downloading 727.6 kB/1.204 MB\r",
        "\u001b[1B\u001b[1A\u001b[2K\r",
        "e000d4301ed2: Downloading 739.9 kB/1.204 MB\r",
        "\u001b[1B\u001b[1A\u001b[2K\r",
        "e000d4301ed2: Downloading 752.2 kB/1.204 MB\r",
        "\u001b[1B\u001b[1A\u001b[2K\r",
        "e000d4301ed2: Downloading 764.5 kB/1.204 MB\r",
        "\u001b[1B\u001b[1A\u001b[2K\r",
        "e000d4301ed2: Downloading 776.7 kB/1.204 MB\r",
        "\u001b[1B"
       ]
      },
      {
       "output_type": "stream",
       "stream": "stdout",
       "text": [
        "\u001b[1A\u001b[2K\r",
        "e000d4301ed2: Downloading   789 kB/1.204 MB\r",
        "\u001b[1B\u001b[1A\u001b[2K\r",
        "e000d4301ed2: Downloading 801.3 kB/1.204 MB\r",
        "\u001b[1B\u001b[1A\u001b[2K\r",
        "e000d4301ed2: Downloading 813.6 kB/1.204 MB\r",
        "\u001b[1B\u001b[1A\u001b[2K\r",
        "e000d4301ed2: Downloading 825.9 kB/1.204 MB\r",
        "\u001b[1B\u001b[1A\u001b[2K\r",
        "e000d4301ed2: Downloading 838.2 kB/1.204 MB\r",
        "\u001b[1B\u001b[1A\u001b[2K\r",
        "e000d4301ed2: Downloading 850.5 kB/1.204 MB\r",
        "\u001b[1B\u001b[1A\u001b[2K\r",
        "e000d4301ed2: Downloading 862.8 kB/1.204 MB\r",
        "\u001b[1B\u001b[1A\u001b[2K\r",
        "e000d4301ed2: Downloading   875 kB/1.204 MB\r",
        "\u001b[1B\u001b[1A\u001b[2K\r",
        "e000d4301ed2: Downloading 887.3 kB/1.204 MB\r",
        "\u001b[1B\u001b[1A\u001b[2K\r",
        "e000d4301ed2: Downloading 899.6 kB/1.204 MB\r",
        "\u001b[1B\u001b[1A\u001b[2K\r",
        "e000d4301ed2: Downloading 911.9 kB/1.204 MB\r",
        "\u001b[1B\u001b[1A\u001b[2K\r",
        "e000d4301ed2: Downloading 924.2 kB/1.204 MB\r",
        "\u001b[1B\u001b[1A\u001b[2K\r",
        "e000d4301ed2: Downloading 936.5 kB/1.204 MB\r",
        "\u001b[1B"
       ]
      },
      {
       "output_type": "stream",
       "stream": "stdout",
       "text": [
        "\u001b[1A\u001b[2K\r",
        "e000d4301ed2: Downloading 948.8 kB/1.204 MB\r",
        "\u001b[1B\u001b[1A\u001b[2K\r",
        "e000d4301ed2: Downloading 961.1 kB/1.204 MB\r",
        "\u001b[1B\u001b[1A\u001b[2K\r",
        "e000d4301ed2: Downloading 973.4 kB/1.204 MB\r",
        "\u001b[1B\u001b[1A\u001b[2K\r",
        "e000d4301ed2: Downloading 985.6 kB/1.204 MB\r",
        "\u001b[1B\u001b[1A\u001b[2K\r",
        "e000d4301ed2: Downloading 997.9 kB/1.204 MB\r",
        "\u001b[1B\u001b[1A\u001b[2K\r",
        "e000d4301ed2: Downloading  1.01 MB/1.204 MB\r",
        "\u001b[1B\u001b[1A\u001b[2K\r",
        "e000d4301ed2: Downloading 1.023 MB/1.204 MB\r",
        "\u001b[1B\u001b[1A\u001b[2K\r",
        "e000d4301ed2: Downloading 1.035 MB/1.204 MB\r",
        "\u001b[1B\u001b[1A\u001b[2K\r",
        "e000d4301ed2: Downloading 1.047 MB/1.204 MB\r",
        "\u001b[1B\u001b[1A\u001b[2K\r",
        "e000d4301ed2: Downloading 1.059 MB/1.204 MB\r",
        "\u001b[1B"
       ]
      },
      {
       "output_type": "stream",
       "stream": "stdout",
       "text": [
        "\u001b[1A\u001b[2K\r",
        "e000d4301ed2: Downloading 1.072 MB/1.204 MB\r",
        "\u001b[1B\u001b[1A\u001b[2K\r",
        "e000d4301ed2: Downloading 1.084 MB/1.204 MB\r",
        "\u001b[1B\u001b[1A\u001b[2K\r",
        "e000d4301ed2: Downloading 1.096 MB/1.204 MB\r",
        "\u001b[1B\u001b[1A\u001b[2K\r",
        "e000d4301ed2: Downloading 1.109 MB/1.204 MB\r",
        "\u001b[1B\u001b[1A\u001b[2K\r",
        "e000d4301ed2: Downloading 1.121 MB/1.204 MB\r",
        "\u001b[1B\u001b[1A\u001b[2K\r",
        "e000d4301ed2: Downloading 1.133 MB/1.204 MB\r",
        "\u001b[1B\u001b[1A\u001b[2K\r",
        "e000d4301ed2: Downloading 1.145 MB/1.204 MB\r",
        "\u001b[1B\u001b[1A\u001b[2K\r",
        "e000d4301ed2: Downloading 1.158 MB/1.204 MB\r",
        "\u001b[1B\u001b[1A\u001b[2K\r",
        "e000d4301ed2: Downloading  1.17 MB/1.204 MB\r",
        "\u001b[1B\u001b[1A\u001b[2K\r",
        "e000d4301ed2: Downloading 1.182 MB/1.204 MB\r",
        "\u001b[1B\u001b[1A\u001b[2K\r",
        "e000d4301ed2: Downloading 1.195 MB/1.204 MB\r",
        "\u001b[1B\u001b[1A\u001b[2K\r",
        "e000d4301ed2: Downloading 1.204 MB/1.204 MB\r",
        "\u001b[1B"
       ]
      },
      {
       "output_type": "stream",
       "stream": "stdout",
       "text": [
        "\u001b[1A\u001b[2K\r",
        "e000d4301ed2: Download complete \r",
        "\u001b[1B\r\n",
        "\u001b[0A\u001b[2K\r",
        "b0c50926a5c1: Pulling metadata \r",
        "\u001b[0B"
       ]
      },
      {
       "output_type": "stream",
       "stream": "stdout",
       "text": [
        "\u001b[1A\u001b[2K\r",
        "b0c50926a5c1: Pulling fs layer \r",
        "\u001b[1B"
       ]
      },
      {
       "output_type": "stream",
       "stream": "stdout",
       "text": [
        "\u001b[1A\u001b[2K\r",
        "b0c50926a5c1: Downloading 3.655 kB/15.95 kB\r",
        "\u001b[1B\u001b[1A\u001b[2K\r",
        "b0c50926a5c1: Downloading  7.24 kB/15.95 kB\r",
        "\u001b[1B\u001b[1A\u001b[2K\r",
        "b0c50926a5c1: Downloading 11.34 kB/15.95 kB\r",
        "\u001b[1B\u001b[1A\u001b[2K\r",
        "b0c50926a5c1: Downloading 15.43 kB/15.95 kB\r",
        "\u001b[1B\u001b[1A\u001b[2K\r",
        "b0c50926a5c1: Downloading 15.95 kB/15.95 kB\r",
        "\u001b[1B"
       ]
      },
      {
       "output_type": "stream",
       "stream": "stdout",
       "text": [
        "\u001b[1A\u001b[2K\r",
        "b0c50926a5c1: Download complete \r",
        "\u001b[1B\r\n",
        "\u001b[0A\u001b[2K\r",
        "713c30586687: Pulling metadata \r",
        "\u001b[0B"
       ]
      },
      {
       "output_type": "stream",
       "stream": "stdout",
       "text": [
        "\u001b[1A\u001b[2K\r",
        "713c30586687: Pulling fs layer \r",
        "\u001b[1B"
       ]
      },
      {
       "output_type": "stream",
       "stream": "stdout",
       "text": [
        "\u001b[1A\u001b[2K\r",
        "713c30586687: Downloading 2.896 kB/253.2 kB\r",
        "\u001b[1B\u001b[1A\u001b[2K\r",
        "713c30586687: Downloading 6.992 kB/253.2 kB\r",
        "\u001b[1B\u001b[1A\u001b[2K\r",
        "713c30586687: Downloading 12.78 kB/253.2 kB\r",
        "\u001b[1B\u001b[1A\u001b[2K\r",
        "713c30586687: Downloading 16.38 kB/253.2 kB\r",
        "\u001b[1B\u001b[1A\u001b[2K\r",
        "713c30586687: Downloading 22.83 kB/253.2 kB\r",
        "\u001b[1B\u001b[1A\u001b[2K\r",
        "713c30586687: Downloading 30.92 kB/253.2 kB\r",
        "\u001b[1B\u001b[1A\u001b[2K\r",
        "713c30586687: Downloading 34.45 kB/253.2 kB\r",
        "\u001b[1B"
       ]
      },
      {
       "output_type": "stream",
       "stream": "stdout",
       "text": [
        "\u001b[1A\u001b[2K\r",
        "713c30586687: Downloading 39.99 kB/253.2 kB\r",
        "\u001b[1B\u001b[1A\u001b[2K\r",
        "713c30586687: Downloading 44.09 kB/253.2 kB\r",
        "\u001b[1B"
       ]
      },
      {
       "output_type": "stream",
       "stream": "stdout",
       "text": [
        "\u001b[1A\u001b[2K\r",
        "713c30586687: Downloading 50.12 kB/253.2 kB\r",
        "\u001b[1B\u001b[1A\u001b[2K\r",
        "713c30586687: Downloading 54.22 kB/253.2 kB\r",
        "\u001b[1B\u001b[1A\u001b[2K\r",
        "713c30586687: Downloading 58.81 kB/253.2 kB\r",
        "\u001b[1B\u001b[1A\u001b[2K\r",
        "713c30586687: Downloading 62.91 kB/253.2 kB\r",
        "\u001b[1B\u001b[1A\u001b[2K\r",
        "713c30586687: Downloading  66.3 kB/253.2 kB\r",
        "\u001b[1B\u001b[1A\u001b[2K\r",
        "713c30586687: Downloading 69.26 kB/253.2 kB\r",
        "\u001b[1B"
       ]
      },
      {
       "output_type": "stream",
       "stream": "stdout",
       "text": [
        "\u001b[1A\u001b[2K\r",
        "713c30586687: Downloading 74.81 kB/253.2 kB\r",
        "\u001b[1B\u001b[1A\u001b[2K\r",
        "713c30586687: Downloading  80.6 kB/253.2 kB\r",
        "\u001b[1B\u001b[1A\u001b[2K\r",
        "713c30586687: Downloading 84.69 kB/253.2 kB\r",
        "\u001b[1B"
       ]
      },
      {
       "output_type": "stream",
       "stream": "stdout",
       "text": [
        "\u001b[1A\u001b[2K\r",
        "713c30586687: Downloading 90.77 kB/253.2 kB\r",
        "\u001b[1B\u001b[1A\u001b[2K\r",
        "713c30586687: Downloading 93.91 kB/253.2 kB\r",
        "\u001b[1B\u001b[1A\u001b[2K\r",
        "713c30586687: Downloading    98 kB/253.2 kB\r",
        "\u001b[1B\u001b[1A\u001b[2K\r",
        "713c30586687: Downloading 102.1 kB/253.2 kB\r",
        "\u001b[1B"
       ]
      },
      {
       "output_type": "stream",
       "stream": "stdout",
       "text": [
        "\u001b[1A\u001b[2K\r",
        "713c30586687: Downloading 105.5 kB/253.2 kB\r",
        "\u001b[1B\u001b[1A\u001b[2K\r",
        "713c30586687: Downloading 109.6 kB/253.2 kB\r",
        "\u001b[1B\u001b[1A\u001b[2K\r",
        "713c30586687: Downloading 112.8 kB/253.2 kB\r",
        "\u001b[1B\u001b[1A\u001b[2K\r",
        "713c30586687: Downloading 116.9 kB/253.2 kB\r",
        "\u001b[1B\u001b[1A\u001b[2K\r",
        "713c30586687: Downloading 127.2 kB/253.2 kB\r",
        "\u001b[1B\u001b[1A\u001b[2K\r",
        "713c30586687: Downloading 131.3 kB/253.2 kB\r",
        "\u001b[1B\u001b[1A\u001b[2K\r",
        "713c30586687: Downloading 138.9 kB/253.2 kB\r",
        "\u001b[1B"
       ]
      },
      {
       "output_type": "stream",
       "stream": "stdout",
       "text": [
        "\u001b[1A\u001b[2K\r",
        "713c30586687: Downloading 141.8 kB/253.2 kB\r",
        "\u001b[1B\u001b[1A\u001b[2K\r",
        "713c30586687: Downloading 146.2 kB/253.2 kB\r",
        "\u001b[1B\u001b[1A\u001b[2K\r",
        "713c30586687: Downloading 150.3 kB/253.2 kB\r",
        "\u001b[1B\u001b[1A\u001b[2K\r",
        "713c30586687: Downloading 154.4 kB/253.2 kB\r",
        "\u001b[1B\u001b[1A\u001b[2K\r",
        "713c30586687: Downloading 157.7 kB/253.2 kB\r",
        "\u001b[1B\u001b[1A\u001b[2K\r",
        "713c30586687: Downloading 161.8 kB/253.2 kB\r",
        "\u001b[1B\u001b[1A\u001b[2K\r",
        "713c30586687: Downloading 167.6 kB/253.2 kB\r",
        "\u001b[1B\u001b[1A\u001b[2K\r",
        "713c30586687: Downloading 171.7 kB/253.2 kB\r",
        "\u001b[1B"
       ]
      },
      {
       "output_type": "stream",
       "stream": "stdout",
       "text": [
        "\u001b[1A\u001b[2K\r",
        "713c30586687: Downloading 177.8 kB/253.2 kB\r",
        "\u001b[1B\u001b[1A\u001b[2K\r",
        "713c30586687: Downloading 180.9 kB/253.2 kB\r",
        "\u001b[1B\u001b[1A\u001b[2K\r",
        "713c30586687: Downloading   185 kB/253.2 kB\r",
        "\u001b[1B\u001b[1A\u001b[2K\r",
        "713c30586687: Downloading 189.1 kB/253.2 kB\r",
        "\u001b[1B\u001b[1A\u001b[2K\r",
        "713c30586687: Downloading 195.2 kB/253.2 kB\r",
        "\u001b[1B\u001b[1A\u001b[2K\r",
        "713c30586687: Downloading 199.6 kB/253.2 kB\r",
        "\u001b[1B\u001b[1A\u001b[2K\r",
        "713c30586687: Downloading 205.3 kB/253.2 kB\r",
        "\u001b[1B\u001b[1A\u001b[2K\r",
        "713c30586687: Downloading 208.5 kB/253.2 kB\r",
        "\u001b[1B\u001b[1A\u001b[2K\r",
        "713c30586687: Downloading 211.4 kB/253.2 kB\r",
        "\u001b[1B\u001b[1A\u001b[2K\r",
        "713c30586687: Downloading 215.5 kB/253.2 kB\r",
        "\u001b[1B\u001b[1A\u001b[2K\r",
        "713c30586687: Downloading 225.9 kB/253.2 kB\r",
        "\u001b[1B"
       ]
      },
      {
       "output_type": "stream",
       "stream": "stdout",
       "text": [
        "\u001b[1A\u001b[2K\r",
        "713c30586687: Downloading 231.5 kB/253.2 kB\r",
        "\u001b[1B\u001b[1A\u001b[2K\r",
        "713c30586687: Downloading 235.6 kB/253.2 kB\r",
        "\u001b[1B\u001b[1A\u001b[2K\r",
        "713c30586687: Downloading 239.7 kB/253.2 kB\r",
        "\u001b[1B\u001b[1A\u001b[2K\r",
        "713c30586687: Downloading 243.3 kB/253.2 kB\r",
        "\u001b[1B\u001b[1A\u001b[2K\r",
        "713c30586687: Downloading 247.4 kB/253.2 kB\r",
        "\u001b[1B\u001b[1A\u001b[2K\r",
        "713c30586687: Downloading 251.8 kB/253.2 kB\r",
        "\u001b[1B\u001b[1A\u001b[2K\r",
        "713c30586687: Downloading 253.2 kB/253.2 kB\r",
        "\u001b[1B"
       ]
      },
      {
       "output_type": "stream",
       "stream": "stdout",
       "text": [
        "\u001b[1A\u001b[2K\r",
        "713c30586687: Download complete \r",
        "\u001b[1B\r\n",
        "\u001b[0A\u001b[2K\r",
        "9f368721b072: Pulling metadata \r",
        "\u001b[0B"
       ]
      },
      {
       "output_type": "stream",
       "stream": "stdout",
       "text": [
        "\u001b[1A\u001b[2K\r",
        "9f368721b072: Pulling fs layer \r",
        "\u001b[1B"
       ]
      },
      {
       "output_type": "stream",
       "stream": "stdout",
       "text": [
        "\u001b[1A\u001b[2K\r",
        "9f368721b072: Downloading 4.096 kB/68.44 kB\r",
        "\u001b[1B\u001b[1A\u001b[2K\r",
        "9f368721b072: Downloading  7.24 kB/68.44 kB\r",
        "\u001b[1B\u001b[1A\u001b[2K\r",
        "9f368721b072: Downloading 11.34 kB/68.44 kB\r",
        "\u001b[1B\u001b[1A\u001b[2K\r",
        "9f368721b072: Downloading 15.43 kB/68.44 kB\r",
        "\u001b[1B\u001b[1A\u001b[2K\r",
        "9f368721b072: Downloading 17.05 kB/68.44 kB\r",
        "\u001b[1B"
       ]
      },
      {
       "output_type": "stream",
       "stream": "stdout",
       "text": [
        "\u001b[1A\u001b[2K\r",
        "9f368721b072: Downloading 21.15 kB/68.44 kB\r",
        "\u001b[1B\u001b[1A\u001b[2K\r",
        "9f368721b072: Downloading 24.29 kB/68.44 kB\r",
        "\u001b[1B\u001b[1A\u001b[2K\r",
        "9f368721b072: Downloading 28.39 kB/68.44 kB\r",
        "\u001b[1B\u001b[1A\u001b[2K\r",
        "9f368721b072: Downloading 30.08 kB/68.44 kB\r",
        "\u001b[1B\u001b[1A\u001b[2K\r",
        "9f368721b072: Downloading 34.18 kB/68.44 kB\r",
        "\u001b[1B"
       ]
      },
      {
       "output_type": "stream",
       "stream": "stdout",
       "text": [
        "\u001b[1A\u001b[2K\r",
        "9f368721b072: Downloading 38.55 kB/68.44 kB\r",
        "\u001b[1B\u001b[1A\u001b[2K\r",
        "9f368721b072: Downloading  41.7 kB/68.44 kB\r",
        "\u001b[1B\u001b[1A\u001b[2K\r",
        "9f368721b072: Downloading 45.79 kB/68.44 kB\r",
        "\u001b[1B\u001b[1A\u001b[2K\r",
        "9f368721b072: Downloading 47.49 kB/68.44 kB\r",
        "\u001b[1B"
       ]
      },
      {
       "output_type": "stream",
       "stream": "stdout",
       "text": [
        "\u001b[1A\u001b[2K\r",
        "9f368721b072: Downloading 51.59 kB/68.44 kB\r",
        "\u001b[1B"
       ]
      },
      {
       "output_type": "stream",
       "stream": "stdout",
       "text": [
        "\u001b[1A\u001b[2K\r",
        "9f368721b072: Downloading 53.31 kB/68.44 kB\r",
        "\u001b[1B\u001b[1A\u001b[2K\r",
        "9f368721b072: Downloading 57.41 kB/68.44 kB\r",
        "\u001b[1B\u001b[1A\u001b[2K\r",
        "9f368721b072: Downloading 59.11 kB/68.44 kB\r",
        "\u001b[1B\u001b[1A\u001b[2K\r",
        "9f368721b072: Downloading  63.2 kB/68.44 kB\r",
        "\u001b[1B\u001b[1A\u001b[2K\r",
        "9f368721b072: Downloading  67.3 kB/68.44 kB\r",
        "\u001b[1B\u001b[1A\u001b[2K\r",
        "9f368721b072: Downloading 68.44 kB/68.44 kB\r",
        "\u001b[1B"
       ]
      },
      {
       "output_type": "stream",
       "stream": "stdout",
       "text": [
        "\u001b[1A\u001b[2K\r",
        "9f368721b072: Download complete \r",
        "\u001b[1B\r\n",
        "\u001b[0A\u001b[2K\r",
        "672639c4a71b: Pulling metadata \r",
        "\u001b[0B"
       ]
      },
      {
       "output_type": "stream",
       "stream": "stdout",
       "text": [
        "\u001b[1A\u001b[2K\r",
        "672639c4a71b: Pulling fs layer \r",
        "\u001b[1B"
       ]
      },
      {
       "output_type": "stream",
       "stream": "stdout",
       "text": [
        "\u001b[1A\u001b[2K\r",
        "672639c4a71b: Downloading 4.096 kB/101.7 kB\r",
        "\u001b[1B\u001b[1A\u001b[2K\r",
        "672639c4a71b: Downloading  7.24 kB/101.7 kB\r",
        "\u001b[1B"
       ]
      },
      {
       "output_type": "stream",
       "stream": "stdout",
       "text": [
        "\u001b[1A\u001b[2K\r",
        "672639c4a71b: Downloading 11.34 kB/101.7 kB\r",
        "\u001b[1B\u001b[1A\u001b[2K\r",
        "672639c4a71b: Downloading 14.48 kB/101.7 kB\r",
        "\u001b[1B\u001b[1A\u001b[2K\r",
        "672639c4a71b: Downloading 17.05 kB/101.7 kB\r",
        "\u001b[1B"
       ]
      },
      {
       "output_type": "stream",
       "stream": "stdout",
       "text": [
        "\u001b[1A\u001b[2K\r",
        "672639c4a71b: Downloading 21.14 kB/101.7 kB\r",
        "\u001b[1B\u001b[1A\u001b[2K\r",
        "672639c4a71b: Downloading 24.29 kB/101.7 kB\r",
        "\u001b[1B"
       ]
      },
      {
       "output_type": "stream",
       "stream": "stdout",
       "text": [
        "\u001b[1A\u001b[2K\r",
        "672639c4a71b: Downloading 28.39 kB/101.7 kB\r",
        "\u001b[1B\u001b[1A\u001b[2K\r",
        "672639c4a71b: Downloading 32.48 kB/101.7 kB\r",
        "\u001b[1B\u001b[1A\u001b[2K\r",
        "672639c4a71b: Downloading 34.46 kB/101.7 kB\r",
        "\u001b[1B"
       ]
      },
      {
       "output_type": "stream",
       "stream": "stdout",
       "text": [
        "\u001b[1A\u001b[2K\r",
        "672639c4a71b: Downloading 38.55 kB/101.7 kB\r",
        "\u001b[1B\u001b[1A\u001b[2K\r",
        "672639c4a71b: Downloading  41.7 kB/101.7 kB\r",
        "\u001b[1B\u001b[1A\u001b[2K\r",
        "672639c4a71b: Downloading 45.79 kB/101.7 kB\r",
        "\u001b[1B\u001b[1A\u001b[2K\r",
        "672639c4a71b: Downloading 49.89 kB/101.7 kB\r",
        "\u001b[1B\u001b[1A\u001b[2K\r",
        "672639c4a71b: Downloading 51.87 kB/101.7 kB\r",
        "\u001b[1B"
       ]
      },
      {
       "output_type": "stream",
       "stream": "stdout",
       "text": [
        "\u001b[1A\u001b[2K\r",
        "672639c4a71b: Downloading 53.31 kB/101.7 kB\r",
        "\u001b[1B\u001b[1A\u001b[2K\r",
        "672639c4a71b: Downloading 54.76 kB/101.7 kB\r",
        "\u001b[1B"
       ]
      },
      {
       "output_type": "stream",
       "stream": "stdout",
       "text": [
        "\u001b[1A\u001b[2K\r",
        "672639c4a71b: Downloading 58.86 kB/101.7 kB\r",
        "\u001b[1B\u001b[1A\u001b[2K\r",
        "672639c4a71b: Downloading 62.95 kB/101.7 kB\r",
        "\u001b[1B\u001b[1A\u001b[2K\r",
        "672639c4a71b: Downloading 67.05 kB/101.7 kB\r",
        "\u001b[1B\u001b[1A\u001b[2K\r",
        "672639c4a71b: Downloading 69.27 kB/101.7 kB\r",
        "\u001b[1B"
       ]
      },
      {
       "output_type": "stream",
       "stream": "stdout",
       "text": [
        "\u001b[1A\u001b[2K\r",
        "672639c4a71b: Downloading 73.37 kB/101.7 kB\r",
        "\u001b[1B\u001b[1A\u001b[2K\r",
        "672639c4a71b: Downloading 76.51 kB/101.7 kB\r",
        "\u001b[1B\u001b[1A\u001b[2K\r",
        "672639c4a71b: Downloading 80.61 kB/101.7 kB\r",
        "\u001b[1B\u001b[1A\u001b[2K\r",
        "672639c4a71b: Downloading  84.7 kB/101.7 kB\r",
        "\u001b[1B\u001b[1A\u001b[2K\r",
        "672639c4a71b: Downloading 86.68 kB/101.7 kB\r",
        "\u001b[1B"
       ]
      },
      {
       "output_type": "stream",
       "stream": "stdout",
       "text": [
        "\u001b[1A\u001b[2K\r",
        "672639c4a71b: Downloading 89.58 kB/101.7 kB\r",
        "\u001b[1B\u001b[1A\u001b[2K\r",
        "672639c4a71b: Downloading 93.67 kB/101.7 kB\r",
        "\u001b[1B"
       ]
      },
      {
       "output_type": "stream",
       "stream": "stdout",
       "text": [
        "\u001b[1A\u001b[2K\r",
        "672639c4a71b: Downloading 95.37 kB/101.7 kB\r",
        "\u001b[1B\u001b[1A\u001b[2K\r",
        "672639c4a71b: Downloading 99.47 kB/101.7 kB\r",
        "\u001b[1B\u001b[1A\u001b[2K\r",
        "672639c4a71b: Downloading 101.7 kB/101.7 kB\r",
        "\u001b[1B"
       ]
      },
      {
       "output_type": "stream",
       "stream": "stdout",
       "text": [
        "\u001b[1A\u001b[2K\r",
        "672639c4a71b: Download complete \r",
        "\u001b[1B\r\n",
        "\u001b[0A\u001b[2K\r",
        "e8eb4022c599: Pulling metadata \r",
        "\u001b[0B"
       ]
      },
      {
       "output_type": "stream",
       "stream": "stdout",
       "text": [
        "\u001b[1A\u001b[2K\r",
        "e8eb4022c599: Pulling fs layer \r",
        "\u001b[1B"
       ]
      },
      {
       "output_type": "stream",
       "stream": "stdout",
       "text": [
        "\u001b[1A\u001b[2K\r",
        "e8eb4022c599: Downloading    294 B/294 B\r",
        "\u001b[1B"
       ]
      },
      {
       "output_type": "stream",
       "stream": "stdout",
       "text": [
        "\u001b[1A\u001b[2K\r",
        "e8eb4022c599: Download complete \r",
        "\u001b[1B\r\n",
        "\u001b[0A\u001b[2K\r",
        "b1d3007fc09f: Pulling metadata \r",
        "\u001b[0B"
       ]
      },
      {
       "output_type": "stream",
       "stream": "stdout",
       "text": [
        "\u001b[1A\u001b[2K\r",
        "b1d3007fc09f: Pulling fs layer \r",
        "\u001b[1B"
       ]
      },
      {
       "output_type": "stream",
       "stream": "stdout",
       "text": [
        "\u001b[1A\u001b[2K\r",
        "b1d3007fc09f: Downloading     23 B/23 B\r",
        "\u001b[1B"
       ]
      },
      {
       "output_type": "stream",
       "stream": "stdout",
       "text": [
        "\u001b[1A\u001b[2K\r",
        "b1d3007fc09f: Download complete \r",
        "\u001b[1B\r\n",
        "\u001b[0A\u001b[2K\r",
        "6196a6de068b: Pulling metadata \r",
        "\u001b[0B"
       ]
      },
      {
       "output_type": "stream",
       "stream": "stdout",
       "text": [
        "\u001b[1A\u001b[2K\r",
        "6196a6de068b: Pulling fs layer \r",
        "\u001b[1B"
       ]
      },
      {
       "output_type": "stream",
       "stream": "stdout",
       "text": [
        "\u001b[1A\u001b[2K\r",
        "6196a6de068b: Downloading     23 B/23 B\r",
        "\u001b[1B"
       ]
      },
      {
       "output_type": "stream",
       "stream": "stdout",
       "text": [
        "\u001b[1A\u001b[2K\r",
        "6196a6de068b: Download complete \r",
        "\u001b[1B\u001b[36A\u001b[2K\r",
        "e373235de289: Pulling metadata \r",
        "\u001b[36B"
       ]
      },
      {
       "output_type": "stream",
       "stream": "stdout",
       "text": [
        "\u001b[36A\u001b[2K\r",
        "e373235de289: Pulling fs layer \r",
        "\u001b[36B"
       ]
      },
      {
       "output_type": "stream",
       "stream": "stdout",
       "text": [
        "\u001b[36A\u001b[2K\r",
        "e373235de289: Downloading     23 B/23 B\r",
        "\u001b[36B"
       ]
      },
      {
       "output_type": "stream",
       "stream": "stdout",
       "text": [
        "\u001b[36A\u001b[2K\r",
        "e373235de289: Download complete \r",
        "\u001b[36B\u001b[36A\u001b[2K\r",
        "e373235de289: Download complete \r",
        "\u001b[36B"
       ]
      },
      {
       "output_type": "stream",
       "stream": "stdout",
       "text": [
        "\u001b]0;root@de3fbe90bdde: ~\u0007root@de3fbe90bdde:~# "
       ]
      },
      {
       "output_type": "stream",
       "stream": "stdout",
       "text": [
        "^C\r\n",
        "\u001b]0;root@de3fbe90bdde: ~\u0007root@de3fbe90bdde:~# \r\n",
        "\u001b]0;root@de3fbe90bdde: ~\u0007root@de3fbe90bdde:~# "
       ]
      }
     ],
     "prompt_number": 1
    },
    {
     "cell_type": "markdown",
     "metadata": {},
     "source": [
      "It must say that was pretty **fast**. And **easy** to do! In the end you'll get a root bash prompt. Since the image does not provide all the tools I need, you'll have to install them manually. After you have `exit`ed from the container you can attach it again. But first lets see which container are currently active:"
     ]
    },
    {
     "cell_type": "code",
     "collapsed": false,
     "input": [
      "!docker ps -a"
     ],
     "language": "python",
     "metadata": {},
     "outputs": [
      {
       "output_type": "stream",
       "stream": "stdout",
       "text": [
        "CONTAINER ID        IMAGE                        COMMAND             CREATED             STATUS              PORTS               NAMES\r\n",
        "de3fbe90bdde        honeynet/androguard:latest   \"/bin/bash\"         5 minutes ago       Up 5 minutes                            sleepy_lalande      \r\n"
       ]
      }
     ],
     "prompt_number": 2
    },
    {
     "cell_type": "markdown",
     "metadata": {},
     "source": [
      "Now you can re-attach to a specific container by using `docker attach`:\n",
      "    \n",
      "~~~ shell\n",
      "# docker attach de3fbe90bdde\n",
      "root@de3fbe90bdde:~# \n",
      "~~~\n",
      "\n",
      "Now I've installed some additional packages:\n",
      "\n",
      "~~~ shell\n",
      "root@de3fbe90bdde:~# apt-get install openssh-server ipython ipython-notebook vim\n",
      "...\n",
      "~~~\n",
      "\n",
      "Now change the `root` password:\n",
      "\n",
      "~~~ shell\n",
      "root@de3fbe90bdde:~# passwd\n",
      "...\n",
      "~~~\n",
      "\n",
      "Start SSH server:\n",
      "\n",
      "~~~ shell\n",
      "root@de3fbe90bdde:~# /etc/init.d/sshd start\n",
      "...\n",
      "~~~\n",
      "\n",
      "Now **most important**: You'll have to **commit** your change to the image otherwise all changes will be lost on next start. On the maching running docker run:\n",
      "\n",
      "~~~ shell\n",
      "# docker commit de3fbe90bdde\n",
      "~~~"
     ]
    },
    {
     "cell_type": "heading",
     "level": 2,
     "metadata": {},
     "source": [
      "Network with docker"
     ]
    },
    {
     "cell_type": "markdown",
     "metadata": {},
     "source": [
      "When started docker creates a new virtual interface on the **host** machine called `docker0` ([more](https://docs.docker.com/articles/networking/)):"
     ]
    },
    {
     "cell_type": "code",
     "collapsed": false,
     "input": [
      "!ifconfig docker0"
     ],
     "language": "python",
     "metadata": {},
     "outputs": [
      {
       "output_type": "stream",
       "stream": "stdout",
       "text": [
        "docker0: flags=4099<UP,BROADCAST,MULTICAST>  mtu 1500\r\n",
        "        inet 172.17.42.1  netmask 255.255.0.0  broadcast 0.0.0.0\r\n",
        "        inet6 fe80::bd01:3011:3b12:b866  prefixlen 64  scopeid 0x20<link>\r\n",
        "        ether 56:84:7a:fe:97:99  txqueuelen 0  (Ethernet)\r\n",
        "        RX packets 0  bytes 0 (0.0 B)\r\n",
        "        RX errors 0  dropped 0  overruns 0  frame 0\r\n",
        "        TX packets 0  bytes 0 (0.0 B)\r\n",
        "        TX errors 0  dropped 0 overruns 0  carrier 0  collisions 0\r\n",
        "\r\n"
       ]
      }
     ],
     "prompt_number": 3
    },
    {
     "cell_type": "markdown",
     "metadata": {},
     "source": [
      "As you can see docker choosed a subnet and assigned an IP address to that interface. What about the **guest** machine?"
     ]
    },
    {
     "cell_type": "markdown",
     "metadata": {},
     "source": [
      "~~~ shell\n",
      "root@de3fbe90bdde:~# ifconfig -a\n",
      "eth0      Link encap:Ethernet  HWaddr 02:5b:c7:1e:a8:26  \n",
      "          inet addr:172.17.0.2  Bcast:0.0.0.0  Mask:255.255.0.0\n",
      "          inet6 addr: fe80::5b:c7ff:fe1e:a826/64 Scope:Link\n",
      "          UP BROADCAST RUNNING  MTU:1500  Metric:1\n",
      "          RX packets:2225 errors:0 dropped:0 overruns:0 frame:0\n",
      "          TX packets:1949 errors:0 dropped:0 overruns:0 carrier:0\n",
      "          collisions:0 txqueuelen:1000 \n",
      "          RX bytes:17216525 (17.2 MB)  TX bytes:134553 (134.5 KB)\n",
      "~~~\n",
      "                                                                                                                                "
     ]
    },
    {
     "cell_type": "markdown",
     "metadata": {},
     "source": [
      "Can I reach the container within the host machine?"
     ]
    },
    {
     "cell_type": "code",
     "collapsed": false,
     "input": [
      "!ping -c 4 172.17.0.2"
     ],
     "language": "python",
     "metadata": {},
     "outputs": [
      {
       "output_type": "stream",
       "stream": "stdout",
       "text": [
        "PING 172.17.0.2 (172.17.0.2) 56(84) bytes of data.\r\n",
        "64 bytes from 172.17.0.2: icmp_seq=1 ttl=64 time=0.086 ms\r\n"
       ]
      },
      {
       "output_type": "stream",
       "stream": "stdout",
       "text": [
        "64 bytes from 172.17.0.2: icmp_seq=2 ttl=64 time=0.118 ms\r\n"
       ]
      },
      {
       "output_type": "stream",
       "stream": "stdout",
       "text": [
        "64 bytes from 172.17.0.2: icmp_seq=3 ttl=64 time=0.131 ms\r\n"
       ]
      },
      {
       "output_type": "stream",
       "stream": "stdout",
       "text": [
        "64 bytes from 172.17.0.2: icmp_seq=4 ttl=64 time=0.099 ms\r\n",
        "\r\n",
        "--- 172.17.0.2 ping statistics ---\r\n",
        "4 packets transmitted, 4 received, 0% packet loss, time 2997ms\r\n",
        "rtt min/avg/max/mdev = 0.086/0.108/0.131/0.020 ms\r\n"
       ]
      }
     ],
     "prompt_number": 5
    },
    {
     "cell_type": "markdown",
     "metadata": {},
     "source": [
      "Looks good! Well before I go to the next steps let me show my current pentest setup."
     ]
    },
    {
     "cell_type": "heading",
     "level": 2,
     "metadata": {},
     "source": [
      "Pentest setup"
     ]
    },
    {
     "cell_type": "code",
     "collapsed": false,
     "input": [
      "%%blockdiag\n",
      "// <!-- collapse=True -->\n",
      "blockdiag admin {\n",
      "    // A and B belong to first group.\n",
      "    group first_group {\n",
      "        label = \"\";\n",
      "        color = \"#FFF\";\n",
      "        Arch[label = \"Arch Linux Host\"];\n",
      "        group kvm_group {\n",
      "            label = \"KVM/QEMU\";\n",
      "            textcolor = \"#FF0000\";\n",
      "            color = \"#EFEFEF\";\n",
      "    \n",
      "\n",
      "            KaliLinux[label = \"Kali Linux\"];\n",
      "            Windows[label = \"Windows Pentest\"];\n",
      "            shape = line;\n",
      "            style = dashed;\n",
      "            \n",
      "            group blackarch {\n",
      "                label = \"\";\n",
      "                textcolor = \"#FF0000\";\n",
      "                color = \"#EFEFEF\";\n",
      "                BlackArch[label = \"BlackArch Host\"];\n",
      "    \n",
      "               group docker {\n",
      "                  // Set group-label\n",
      "                  label = \"\";\n",
      "\n",
      "                  // Set background-color to this group.\n",
      "                  color = \"#77FF77\";\n",
      "\n",
      "                  // Set textcolor to this group\n",
      "                  textcolor = \"#FF0000\";\n",
      "                  shape = line;\n",
      "\n",
      "                  Docker;\n",
      "                  Docker -> Androguard;\n",
      "                  Docker -> Container1;\n",
      "                  Docker -> ContainerX;\n",
      "               }\n",
      "            }\n",
      "        }\n",
      "    }\n",
      "\n",
      "   // E, F and G belong to second group.\n",
      "\n",
      "\n",
      "   Arch -> BlackArch;\n",
      "   Arch -> KaliLinux;\n",
      "   Arch -> Windows;\n",
      "   BlackArch -> Docker;\n",
      "    \n",
      "}"
     ],
     "language": "python",
     "metadata": {},
     "outputs": [
      {
       "metadata": {},
       "output_type": "display_data",
       "png": "[encoded data removed]"
      }
     ],
     "prompt_number": 5
    },
    {
     "cell_type": "markdown",
     "metadata": {},
     "source": [
      "On my physical machine (`Arch Linux Host`) I run several `QEMU` instances:\n",
      "\n",
      "* Kali Linux (Pentest)\n",
      "* Windows (Pentest)\n",
      "* BlackArch (Pentest)"
     ]
    },
    {
     "cell_type": "heading",
     "level": 2,
     "metadata": {},
     "source": [
      "A little bit of networking"
     ]
    },
    {
     "cell_type": "markdown",
     "metadata": {},
     "source": [
      "**Inside** `BlackArch` I run docker which manages several containers. Regarding the networking part this is what I want to achieve:\n",
      "\n",
      "1. Be able to access `Androguard` from `Arch Linux Host`\n",
      "1. Be able to access `Androguard` from `BlackArch Host`\n",
      "1. Be able to access the *Internet* from `Androguard`\n",
      "\n",
      "The first one is the most important to me, since I want to access the Androguard container **directly** - preferably through SSH. Since the \u00c0ndroguard machine gets a private IP address, it's obvious I can't access it - yet. The packets must be routed though `BlackArch Host`. Let's check IPv4 forwarding:"
     ]
    },
    {
     "cell_type": "code",
     "collapsed": false,
     "input": [
      "!sysctl net.ipv4.conf.all.forwarding"
     ],
     "language": "python",
     "metadata": {},
     "outputs": [
      {
       "output_type": "stream",
       "stream": "stdout",
       "text": [
        "net.ipv4.conf.all.forwarding = 1\r\n"
       ]
      }
     ],
     "prompt_number": 7
    },
    {
     "cell_type": "markdown",
     "metadata": {},
     "source": [
      "Ok for now. The Docker [documentation](https://docs.docker.com/articles/networking/) states:\n",
      "\n",
      "> By default Docker containers can make connections to the outside world, but the outside world cannot connect to containers. Each outgoing connection will appear to originate from one of the host machine's own IP addresses thanks to an iptables masquerading rule on the host machine that the Docker server creates when it starts\n",
      "\n",
      "After starting the Androguard container, let's check the firewall rules:"
     ]
    },
    {
     "cell_type": "code",
     "collapsed": false,
     "input": [
      "!sudo iptables -t nat -L"
     ],
     "language": "python",
     "metadata": {},
     "outputs": [
      {
       "output_type": "stream",
       "stream": "stdout",
       "text": [
        "Chain PREROUTING (policy ACCEPT)\r\n",
        "target     prot opt source               destination         \r\n",
        "DOCKER     all  --  anywhere             anywhere             ADDRTYPE match dst-type LOCAL\r\n",
        "\r\n",
        "Chain INPUT (policy ACCEPT)\r\n",
        "target     prot opt source               destination         \r\n",
        "\r\n",
        "Chain OUTPUT (policy ACCEPT)\r\n",
        "target     prot opt source               destination         \r\n"
       ]
      },
      {
       "output_type": "stream",
       "stream": "stdout",
       "text": [
        "DOCKER     all  --  anywhere            !127.0.0.0/8          ADDRTYPE match dst-type LOCAL\r\n",
        "\r\n",
        "Chain POSTROUTING (policy ACCEPT)\r\n",
        "target     prot opt source               destination         \r\n",
        "MASQUERADE  all  --  localhost/16         anywhere            \r\n",
        "\r\n",
        "Chain DOCKER (2 references)\r\n",
        "target     prot opt source               destination         \r\n"
       ]
      }
     ],
     "prompt_number": 12
    },
    {
     "cell_type": "markdown",
     "metadata": {},
     "source": [
      "Having a futher look at the documentaton, I've found this:\n",
      "\n",
      ">More convenient is the -p SPEC or --publish=SPEC option which lets you be explicit about exactly which external port on the Docker server \u2014 which can be any port at all, not just those in the 49000\u201349900 block \u2014 you want mapped to which port in the container."
     ]
    },
    {
     "cell_type": "markdown",
     "metadata": {},
     "source": [
      "Now, let's stop the container and restart it again with the `-p` paramater:"
     ]
    },
    {
     "cell_type": "code",
     "collapsed": false,
     "input": [
      "!docker ps -a"
     ],
     "language": "python",
     "metadata": {},
     "outputs": [
      {
       "output_type": "stream",
       "stream": "stdout",
       "text": [
        "CONTAINER ID        IMAGE                        COMMAND             CREATED             STATUS                     PORTS               NAMES\r\n",
        "534dc09cc451        honeynet/androguard:latest   \"/bin/bash\"         14 seconds ago      Exited (0) 8 seconds ago                       sleepy_mcclintock   \r\n"
       ]
      }
     ],
     "prompt_number": 21
    },
    {
     "cell_type": "code",
     "collapsed": false,
     "input": [
      "%%bash\n",
      "docker stop 534dc09cc451\n",
      "docker rm 534dc09cc451"
     ],
     "language": "python",
     "metadata": {},
     "outputs": [
      {
       "output_type": "stream",
       "stream": "stdout",
       "text": [
        "534dc09cc451\n",
        "534dc09cc451\n"
       ]
      }
     ],
     "prompt_number": 22
    },
    {
     "cell_type": "code",
     "collapsed": false,
     "input": [
      "!docker ps -a"
     ],
     "language": "python",
     "metadata": {},
     "outputs": [
      {
       "output_type": "stream",
       "stream": "stdout",
       "text": [
        "CONTAINER ID        IMAGE               COMMAND             CREATED             STATUS              PORTS               NAMES\r\n"
       ]
      }
     ],
     "prompt_number": 23
    },
    {
     "cell_type": "code",
     "collapsed": false,
     "input": [
      "!docker run -t -i -p 22 honeynet/androguard "
     ],
     "language": "python",
     "metadata": {},
     "outputs": [
      {
       "output_type": "stream",
       "stream": "stdout",
       "text": [
        "\u001b]0;root@469eced649c1: ~\u0007root@469eced649c1:~# "
       ]
      },
      {
       "output_type": "stream",
       "stream": "stdout",
       "text": [
        "^C\r\n",
        "\u001b]0;root@469eced649c1: ~\u0007root@469eced649c1:~# \r\n",
        "\u001b]0;root@469eced649c1: ~\u0007root@469eced649c1:~# "
       ]
      }
     ],
     "prompt_number": 24
    },
    {
     "cell_type": "markdown",
     "metadata": {},
     "source": [
      "Now let's check iptables again:"
     ]
    },
    {
     "cell_type": "code",
     "collapsed": false,
     "input": [
      "!sudo iptables -t nat -L"
     ],
     "language": "python",
     "metadata": {},
     "outputs": [
      {
       "output_type": "stream",
       "stream": "stdout",
       "text": [
        "Chain PREROUTING (policy ACCEPT)\r\n",
        "target     prot opt source               destination         \r\n",
        "DOCKER     all  --  anywhere             anywhere             ADDRTYPE match dst-type LOCAL\r\n",
        "\r\n",
        "Chain INPUT (policy ACCEPT)\r\n",
        "target     prot opt source               destination         \r\n",
        "\r\n",
        "Chain OUTPUT (policy ACCEPT)\r\n",
        "target     prot opt source               destination         \r\n",
        "DOCKER     all  --  anywhere            !127.0.0.0/8          ADDRTYPE match dst-type LOCAL\r\n",
        "\r\n",
        "Chain POSTROUTING (policy ACCEPT)\r\n",
        "target     prot opt source               destination         \r\n",
        "MASQUERADE  all  --  localhost/16         anywhere            \r\n",
        "\r\n",
        "Chain DOCKER (2 references)\r\n",
        "target     prot opt source               destination         \r\n",
        "DNAT       tcp  --  anywhere             anywhere             tcp dpt:49154 to:172.17.0.4:22\r\n"
       ]
      }
     ],
     "prompt_number": 26
    },
    {
     "cell_type": "markdown",
     "metadata": {},
     "source": [
      "As you can see in the last line all packets sent to **localhost:49154** (which is `BlackArch Host`) will be forwarded to **172.17.0.4:22**. Bingo! On `Arch Linux Host` I try to reach `Androguard`:\n",
      "\n",
      "~~~ shell\n",
      "# telnet blackarch.local 49154\n",
      "Trying 10.0.1.92...\n",
      "Connected to blackarch.local.\n",
      "Escape character is '^]'.\n",
      "SSH-2.0-OpenSSH_6.6.1p1 Ubuntu-2ubuntu2\n",
      "^C^C\n",
      "Connection closed by foreign host.\n",
      "~~~\n",
      "\n",
      "Perfect!"
     ]
    },
    {
     "cell_type": "heading",
     "level": 2,
     "metadata": {},
     "source": [
      "Accessing IPython on Androguard"
     ]
    },
    {
     "cell_type": "markdown",
     "metadata": {},
     "source": [
      "Now you could use port forwarding to access services on `Androguard` through the SSH tunnel. On the `Androguard` machine I usually start `ipython-notebook` to take notes etc. I usually run it as:\n",
      "\n",
      "~~~ shell\n",
      "root@469eced649c1:~/ipython# ipython notebook --no-browser --port 7000\n",
      "2014-09-11 16:48:11.330 [NotebookApp] Created profile dir: u'/root/.ipython/profile_default'\n",
      "2014-09-11 16:48:11.336 [NotebookApp] Using system MathJax\n",
      "2014-09-11 16:48:11.350 [NotebookApp] Serving notebooks from local directory: /root/ipython\n",
      "2014-09-11 16:48:11.350 [NotebookApp] The IPython Notebook is running at: http://127.0.0.1:7000/\n",
      "2014-09-11 16:48:11.350 [NotebookApp] Use Control-C to stop this server and shut down all kernels (twice to skip confirmation).\n",
      "...\n",
      "~~~\n",
      "\n",
      "On `ArchLinux Host` I run:\n",
      "\n",
      "~~~ shell\n",
      "# ssh -L localhost:7777:localhost:7000 root@blackarch.local -p 49154\n",
      "root@blackarch.local's password: \n",
      "Welcome to Ubuntu 14.04 LTS (GNU/Linux 3.2.0-37-generic x86_64)\n",
      "\n",
      " * Documentation:  https://help.ubuntu.com/\n",
      "\n",
      "The programs included with the Ubuntu system are free software;\n",
      "the exact distribution terms for each program are described in the\n",
      "individual files in /usr/share/doc/*/copyright.\n",
      "\n",
      "Ubuntu comes with ABSOLUTELY NO WARRANTY, to the extent permitted by\n",
      "applicable law.\n",
      "\n",
      "root@469eced649c1:~# \n",
      "~~~\n",
      "\n",
      "As you can see I've successfully logged in into the `Androguard` machine through `BlackArch Host` using [DNAT](http://en.wikipedia.org/wiki/Network_address_translation#DNAT). On `ArchLinux Host` I can open the browser and point to `http://localhost:7777` which connects to `IPython` on the `Androguard` machine. "
     ]
    }
   ],
   "metadata": {}
  }
 ]
}