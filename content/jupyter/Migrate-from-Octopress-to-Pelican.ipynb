{
 "metadata": {
  "name": "",
  "signature": "sha256:9436f021fe4fee11b9456c53f10afae5b9c4d698d465983eb3fb24c661863e4c"
 },
 "nbformat": 3,
 "nbformat_minor": 0,
 "worksheets": [
  {
   "cells": [
    {
     "cell_type": "markdown",
     "metadata": {},
     "source": [
      "A few weeks ago I'be migrated my whole blog from Wordpress to Octopress. Meanwhile I've discovered `Pelican` which is the Pythonic alternative to Octopress. To be honest: The main reason I'm using Pelican instead of Octopress is the ability to import/include `IPython notebooks`. \n",
      "\n",
      "After I've set up my blog using Octopress I only had a bunge of `Markdown` files. So let's get started."
     ]
    },
    {
     "cell_type": "heading",
     "level": 2,
     "metadata": {},
     "source": [
      "Generate metadata for content"
     ]
    },
    {
     "cell_type": "code",
     "collapsed": false,
     "input": [
      "%%bash\n",
      "cp ~/work/blog/octopress/source/_posts/*.markdown ~/work/blog/pelican/content/markdown/"
     ],
     "language": "python",
     "metadata": {},
     "outputs": [],
     "prompt_number": 8
    },
    {
     "cell_type": "code",
     "collapsed": false,
     "input": [
      "%%bash\n",
      "ls -c ~/work/blog/pelican/content/markdown/ | head -n 10"
     ],
     "language": "python",
     "metadata": {},
     "outputs": [
      {
       "output_type": "stream",
       "stream": "stdout",
       "text": [
        "2014-05-27-berlinsides-0x05.markdown\n",
        "2014-06-02-googles-xss-game-solutions.markdown\n",
        "2014-05-20-howto-write-pentest-reports-the-easy-way.markdown\n",
        "2014-05-15-test2.markdown\n",
        "2014-01-31-links-of-the-week-25-2.markdown\n",
        "2014-02-07-links-of-the-week-26.markdown\n",
        "2014-02-14-links-of-the-week-27.markdown\n",
        "2014-03-07-unfancy-dashboard-using-matplotlib.markdown\n",
        "2014-05-04-howto-create-docs-with-sphinx.markdown\n",
        "2014-01-23-24h-android-sniffing-using-tcpdump.markdown\n"
       ]
      }
     ],
     "prompt_number": 9
    },
    {
     "cell_type": "heading",
     "level": 2,
     "metadata": {},
     "source": [
      "AWK script for doing the main job"
     ]
    },
    {
     "cell_type": "code",
     "collapsed": false,
     "input": [
      "%%writefile ~/work/blog/pelican/content/transform.awk\n",
      "{\n",
      "    # Date\n",
      "    if ( $0 ~ /^date(.*)$/ ) {\n",
      "        # Get date\n",
      "        match($0, /^date: ([0-9]{4}\\-[0-9]{2}\\-[0-9]{2}).*$/, ary)\n",
      "        print \"Date: \" ary[1]; \n",
      "\n",
      "    # Title \n",
      "    } else if ( $0 ~ /^title(.*)$/) {\n",
      "        match($0, /^title: (.*)$/, ary)\n",
      "\n",
      "        # Remove single/double quotes\n",
      "        gsub(/'/, \"\", ary[1]);\n",
      "        gsub(/\"/, \"\", ary[1]);\n",
      "        print \"Title: \" ary[1];\n",
      "\n",
      "    # Author\n",
      "    } else if ( $0 ~ /^author(.*)$/) {\n",
      "        match($0, /^author: (.*)$/, ary)\n",
      "        print \"Author: \" ary[1];\n",
      "\n",
      "    # Handle available categories as tags\n",
      "    } else if ($0 ~ /^categories:.*$/) {\n",
      "        printf \"Tags: \"\n",
      "        \n",
      "        # Array index\n",
      "        i = 0;\n",
      "\n",
      "        # Read next line until new meta tag is found\n",
      "        while ((getline line ) > 0) {\n",
      "            # Read until new meta tag is found\n",
      "            if ((line !~ /^.*\\-.*$/) || (line ~ /^\\-\\-\\-$/)) {\n",
      "                output_string = \"\"\n",
      "                # Print categories and the next exit loop\n",
      "                for (j=0; j<i; j++)\n",
      "                    \n",
      "                    # Is this the last category\n",
      "                    if (j+1 < i) \n",
      "                        output_string = output_string tolower(categories[j]) \", \"\n",
      "\n",
      "                    # Last category\n",
      "                    else\n",
      "                        output_string = output_string tolower(categories[j])\n",
      "       \n",
      "                # Remove last \",\" and add default category\n",
      "                printf \"%s\\n\", output_string\n",
      "                printf \"Category: blog\\n\\n\"\n",
      "                break\n",
      "            }\n",
      "\n",
      "            # Extract category\n",
      "            match(line, /^.*\\- (.*)$/, ary)\n",
      "            categories[i] = ary[1]\n",
      "\n",
      "            # Increase index\n",
      "            i++;\n",
      "        }\n",
      "\n",
      "    }\n",
      "}\n"
     ],
     "language": "python",
     "metadata": {},
     "outputs": [
      {
       "output_type": "stream",
       "stream": "stdout",
       "text": [
        "Overwriting /home/victor/work/blog/pelican/content/transform.awk\n"
       ]
      }
     ],
     "prompt_number": 21
    },
    {
     "cell_type": "heading",
     "level": 2,
     "metadata": {},
     "source": [
      "Extract the metdata and generate the meta files"
     ]
    },
    {
     "cell_type": "code",
     "collapsed": false,
     "input": [
      "%%bash\n",
      "cd ~/work/blog/pelican/\n",
      "for i in content/markdown/*.markdown; do \n",
      "    cat $i | gawk -f content/transform.awk > $i-meta\n",
      "done\n",
      "\n",
      "ls -c content/markdown/*-meta | head -n 10"
     ],
     "language": "python",
     "metadata": {},
     "outputs": [
      {
       "output_type": "stream",
       "stream": "stdout",
       "text": [
        "content/markdown/blogging-with-the-ipython-notebook-example.markdown-meta\n",
        "content/markdown/2014-06-02-googles-xss-game-solutions.markdown-meta\n",
        "content/markdown/2014-05-27-berlinsides-0x05.markdown-meta\n",
        "content/markdown/2014-05-20-howto-write-pentest-reports-the-easy-way.markdown-meta\n",
        "content/markdown/2014-05-15-test2.markdown-meta\n",
        "content/markdown/2014-05-04-howto-create-docs-with-sphinx.markdown-meta\n",
        "content/markdown/2014-03-07-unfancy-dashboard-using-matplotlib.markdown-meta\n",
        "content/markdown/2014-02-14-links-of-the-week-27.markdown-meta\n",
        "content/markdown/2014-02-07-links-of-the-week-26.markdown-meta\n",
        "content/markdown/2014-01-31-links-of-the-week-25-2.markdown-meta\n"
       ]
      }
     ],
     "prompt_number": 22
    },
    {
     "cell_type": "heading",
     "level": 2,
     "metadata": {},
     "source": [
      "Sample meta data output"
     ]
    },
    {
     "cell_type": "code",
     "collapsed": false,
     "input": [
      "%%bash\n",
      "\n",
      "find ~/work/blog/pelican/content/markdown/*-meta -name \"2014-05-*\" -exec cat {} \\;"
     ],
     "language": "python",
     "metadata": {},
     "outputs": [
      {
       "output_type": "stream",
       "stream": "stdout",
       "text": [
        "Title: HowTo: Create docs with sphinx\n",
        "Author: Victor\n",
        "Date: 2014-05-04\n",
        "Tags: coding, howto\n",
        "Category: blog\n",
        "\n",
        "Title: Test2\n",
        "Date: 2014-05-15\n",
        "Tags: \n",
        "Category: blog\n",
        "\n",
        "Title: HowTo: Write pentest reports the easy way\n",
        "Date: 2014-05-20\n",
        "Tags: \n",
        "Category: blog\n",
        "\n",
        "Title: BerlinSides 0x05\n",
        "Date: 2014-05-27\n",
        "Tags: events, hacking, security\n",
        "Category: blog\n",
        "\n"
       ]
      }
     ],
     "prompt_number": 25
    },
    {
     "cell_type": "heading",
     "level": 2,
     "metadata": {},
     "source": [
      "Delete old metadata"
     ]
    },
    {
     "cell_type": "code",
     "collapsed": false,
     "input": [
      "%%bash\n",
      "cd ~/work/blog/pelican/content/markdown\n",
      "for i in *.markdown; do\n",
      "    cat $i | sed '/^---$/,/^---$/d' > $i-sed\n",
      "done"
     ],
     "language": "python",
     "metadata": {},
     "outputs": [],
     "prompt_number": 26
    },
    {
     "cell_type": "heading",
     "level": 2,
     "metadata": {},
     "source": [
      "Insert new metadata info file"
     ]
    },
    {
     "cell_type": "code",
     "collapsed": false,
     "input": [
      "%%bash\n",
      "cd ~/work/blog/pelican/content/markdown\n",
      "for i in *.markdown; do\n",
      "    cat $i-meta > $i-final; cat $i-sed >> $i-final;\n",
      "done"
     ],
     "language": "python",
     "metadata": {},
     "outputs": [],
     "prompt_number": 27
    },
    {
     "cell_type": "heading",
     "level": 2,
     "metadata": {},
     "source": [
      "Sample final output"
     ]
    },
    {
     "cell_type": "code",
     "collapsed": false,
     "input": [
      "%%bash\n",
      "cd ~/work/blog/pelican/content/markdown\n",
      "find . -name \"2014-05*.markdown-final\" -exec head -n 10 {} \\;"
     ],
     "language": "python",
     "metadata": {},
     "outputs": [
      {
       "output_type": "stream",
       "stream": "stdout",
       "text": [
        "Title: Test2\n",
        "Date: 2014-05-15\n",
        "Tags: \n",
        "Category: blog\n",
        "\n",
        "\n",
        "\n",
        "# Motivation\n",
        "\n",
        "I've started this little project since I was mainly interested in the data my\n",
        "Title: HowTo: Create docs with sphinx\n",
        "Author: Victor\n",
        "Date: 2014-05-04\n",
        "Tags: coding, howto\n",
        "Category: blog\n",
        "\n",
        "\n",
        "In this post I&#8217;d like to show some handy way to improve your process of documentating your project.\n",
        "Since we all know documentation is a **must** you might have wondered how to handle that\n",
        "without any big efforts. In fact it would be great if you could write your code along with the\n",
        "Title: HowTo: Write pentest reports the easy way\n",
        "Date: 2014-05-20\n",
        "Tags: \n",
        "Category: blog\n",
        "\n",
        "\n",
        "In this post I'll try to share an idea I've had regarding pentest reports. Most of you surely have\n",
        "their own methods and tools to create nice looking reports after have done some pentesting.\n",
        "Since I try to keep things simple I'll give you a rough idea how this could be done without Excel & Co.\n",
        "\n",
        "Title: BerlinSides 0x05\n",
        "Date: 2014-05-27\n",
        "Tags: events, hacking, security\n",
        "Category: blog\n",
        "\n",
        "\n",
        "The [**BerlinSides**](http://berlinsides.org/) is a conference from hacker for hacker. This years motto was: **...you ain't listening**.\n",
        "All my greetings go to:\n",
        "\n",
        "* [nullsecurity.net](http://nullsecurity.net)\n"
       ]
      }
     ],
     "prompt_number": 31
    },
    {
     "cell_type": "heading",
     "level": 2,
     "metadata": {},
     "source": [
      "Replace some strings"
     ]
    },
    {
     "cell_type": "code",
     "collapsed": false,
     "input": [
      "%%bash\n",
      "cd ~/work/blog/pelican/content/markdown\n",
      "\n",
      "# Insert some dummy text for missing attributes in img tags\n",
      "for i in *.markdown-final; do\n",
      "    sed -i 's/alt=\\\"\\\"/alt=\\\"image description\\\"/g' $i\n",
      "done"
     ],
     "language": "python",
     "metadata": {},
     "outputs": [],
     "prompt_number": 32
    },
    {
     "cell_type": "heading",
     "level": 2,
     "metadata": {},
     "source": [
      "Rename files and delete bullshit"
     ]
    },
    {
     "cell_type": "code",
     "collapsed": false,
     "input": [
      "%%bash\n",
      "cd ~/work/blog/pelican/content/markdown\n",
      "rm *.markdown-sed\n",
      "rm *.markdown-meta\n",
      "rm *.markdown\n",
      "\n",
      "for i in *.markdown-final; do\n",
      "    mv $i `basename $i \".markdown-final\"`.markdown\n",
      "done\n"
     ],
     "language": "python",
     "metadata": {},
     "outputs": [],
     "prompt_number": 33
    },
    {
     "cell_type": "heading",
     "level": 2,
     "metadata": {},
     "source": [
      "Generate new content"
     ]
    },
    {
     "cell_type": "markdown",
     "metadata": {},
     "source": [
      "Supposing you have already setup your pelican blog now you can run: "
     ]
    },
    {
     "cell_type": "code",
     "collapsed": false,
     "input": [
      "%%bash\n",
      "cd ~/work/blog/pelican/\n",
      "\n",
      "source env/bin/activate\n",
      "make html"
     ],
     "language": "python",
     "metadata": {},
     "outputs": [
      {
       "output_type": "stream",
       "stream": "stdout",
       "text": [
        "pelican /home/victor/work/blog/pelican/content -o /home/victor/work/blog/pelican/output -s /home/victor/work/blog/pelican/pelicanconf.py \n",
        "\n",
        " ** Writing styles to _nb_header.html: this should be included in the theme. **\n",
        "\n",
        "Done: Processed 124 articles and 1 pages in 6.38 seconds.\n"
       ]
      }
     ],
     "prompt_number": 37
    },
    {
     "cell_type": "heading",
     "level": 2,
     "metadata": {},
     "source": [
      "The End"
     ]
    },
    {
     "cell_type": "markdown",
     "metadata": {},
     "source": [
      "I hope you have enjoyed this one. If you have any questions regarding the process, don't hesitate and leave a comment."
     ]
    }
   ],
   "metadata": {}
  }
 ]
}