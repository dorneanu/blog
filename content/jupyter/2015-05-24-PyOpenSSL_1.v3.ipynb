{
 "metadata": {
  "kernelspec": {
   "display_name": "Python 3",
   "language": "python",
   "name": "python3"
  },
  "language_info": {
   "codemirror_mode": {
    "name": "ipython",
    "version": 3
   },
   "file_extension": ".py",
   "mimetype": "text/x-python",
   "name": "python",
   "nbconvert_exporter": "python",
   "pygments_lexer": "ipython3",
   "version": "3.4.3"
  },
  "name": ""
 },
 "nbformat": 3,
 "nbformat_minor": 0,
 "worksheets": [
  {
   "cells": [
    {
     "cell_type": "markdown",
     "metadata": {
      "code_folding": [
       0
      ]
     },
     "source": [
      "In times of NSA, surveillance and data privacy, protecting your data has become an essential part of your every day life. A good understanding of basic principles is half the battle. In this post I just wanted to have look at SSL/TLS from a developer point of view but also from an users one. On the one hand I wanted to use `openssl` as a CLI utility to *inspect* and *validate* [X.509 certificates](http://en.wikipedia.org/wiki/X.509). On the other hand I wanted to have code I could use in my own projects. I've found [pyOpenSSL](https://github.com/pyca/pyopenssl) to be a quite useful library to use on a regular daily basis. Regardless the programming language you'll find pretty generic ways of *validating* the certificates and *pinning* the presented data. For the sake of simplicity I've chosen to analyze [Googles](https://www.google.com) SSL certificate. But first let's start with **certificate pinning**. "
     ]
    },
    {
     "cell_type": "code",
     "collapsed": false,
     "input": [
      "# <!-- collapse=True -->\n",
      "# Init ipython notebook stuff\n",
      "# Import crypto modules\n",
      "import ssl\n",
      "import OpenSSL\n",
      "import socket\n",
      "import json\n",
      "\n",
      "from Crypto.Util import asn1\n",
      "from pprint import pprint\n",
      "\n",
      "# Import ipython specific modules\n",
      "import pandas as pd\n",
      "pd.set_option('display.height', 1000)\n",
      "pd.set_option('display.max_rows', 500)\n",
      "pd.set_option('display.max_columns', 500)\n",
      "pd.set_option('display.width', 1000)\n",
      "\n",
      "%install_ext https://raw.githubusercontent.com/dorneanu/ipython/master/extensions/diagmagic.py\n",
      "%load_ext diagmagic\n",
      "\n",
      "%install_ext https://raw.github.com/cjdrake/ipython-magic/master/gvmagic.py\n",
      "%load_ext gvmagic"
     ],
     "language": "python",
     "metadata": {
      "code_folding": [
       0
      ]
     },
     "outputs": [
      {
       "output_type": "stream",
       "stream": "stdout",
       "text": [
        "height has been deprecated.\n",
        "\n",
        "Installed diagmagic.py. To use it, type:\n",
        "  %load_ext diagmagic\n",
        "Installed gvmagic.py. To use it, type:\n",
        "  %load_ext gvmagic\n"
       ]
      }
     ],
     "prompt_number": 1
    },
    {
     "cell_type": "markdown",
     "metadata": {},
     "source": [
      "## What is it?\n",
      "\n",
      "Having to implement *certificate pinning* most developers have a poor knowledge about it and the impact it *could* have on an end-user if not done properly. I think MITM attacks are nowadays widely understood (generally speaking) and developers seem to accept the importance of security measurements against this specific type of attacks. Certificate pinning referrs to the **authenticity** of data and the process of comparing some *presented* to *expected* data. Take a look at the [OWASP site](https://www.owasp.org/index.php/Certificate_and_Public_Key_Pinning) for a more detailed introduction. But first let's have a look how client communicates to a server using a secure (SSL/TLS) channel:"
     ]
    },
    {
     "cell_type": "code",
     "collapsed": false,
     "input": [
      "%%seqdiag \n",
      "// <!-- collapse=True -->\n",
      "{\n",
      "  Client -> Server [label=\"Connect to port 443 ... \"];\n",
      "  Server -> Client [label=\"Send X.509 certificate\"];\n",
      "\n",
      "  // Separator\n",
      "  === Secure Connection ===\n",
      "\n",
      "  Client -> Server [label=\"GET /index.html\"];\n",
      "  Server -> Client [label=\"200 OK Success\"];\n",
      "}"
     ],
     "language": "python",
     "metadata": {
      "code_folding": [
       0
      ],
      "scrolled": false
     },
     "outputs": [
      {
       "metadata": {},
       "output_type": "display_data",
       "png": "[encoded data removed]"
      }
     ],
     "prompt_number": 27
    },
    {
     "cell_type": "markdown",
     "metadata": {
      "code_folding": [
       0
      ]
     },
     "source": [
      "Before establishing the secure connection the client must **validate** the *presented* certificate. \n",
      "\n",
      "> Regarding the validation: Here I won't go into much details because this is a quite complicated story from a technical point of view. \n",
      "\n",
      "After the successfull validation the **authenticity** of the server is guaranteed - at least that's what the client is assuming. Now let's have a look what happens during a **MITM attack**:"
     ]
    },
    {
     "cell_type": "code",
     "collapsed": false,
     "input": [
      "%%seqdiag \n",
      "// <!-- collapse=True -->\n",
      "{\n",
      "  Client -> Eve [label=\"Connect to port 443 ... \"];\n",
      "  Eve -> Server [label=\"Connect to port 443 ...\"];\n",
      "\n",
      "  Server -> Eve [label=\"Send Servers certificate\"];\n",
      "  Eve -> Client [label=\"Send Eves certificate\", color=red];\n",
      "\n",
      "  // Separator\n",
      "  === \"Secure\" Connection ===\n",
      "\n",
      "  Client -> Eve [label=\"GET /index.html\"];\n",
      "  Eve -> Server [label=\"GET /index.html\"];\n",
      "  \n",
      "  Server -> Eve [label=\"200 OK Success\"];\n",
      "  Eve -> Client [label=\"200 OK Success\"];\n",
      "}"
     ],
     "language": "python",
     "metadata": {
      "code_folding": [
       0
      ],
      "scrolled": false
     },
     "outputs": [
      {
       "metadata": {},
       "output_type": "display_data",
       "png": "[encoded data removed]"
      }
     ],
     "prompt_number": 29
    },
    {
     "cell_type": "markdown",
     "metadata": {
      "code_folding": [
       0
      ]
     },
     "source": [
      "As you see the client is presented **Eves** certificate which is the *evil* one. Now the client has 2 options:\n",
      "\n",
      "* trust the presented certificate and hope it's from the **Server**\n",
      "* **pin the certificate**\n",
      "\n",
      "In the following I'll take a closer look what's inside the certificate and which options one has to do the pinning."
     ]
    },
    {
     "cell_type": "markdown",
     "metadata": {},
     "source": [
      "## Inside the certificate\n",
      "\n",
      "A [X.509 certificate](http://en.wikipedia.org/wiki/X.509) usually consists of three main components:\n",
      "\n",
      "1. the *certificate* itself\n",
      "2. certificate signature *algorithm*\n",
      "3. certificate *signature*\n",
      "\n"
     ]
    },
    {
     "cell_type": "markdown",
     "metadata": {
      "code_folding": [
       0
      ]
     },
     "source": [
      "For the rest of post I'll be analyzing the SSL certificate of [www.google.com](https://www.google.com). Now let's get back to work:"
     ]
    },
    {
     "cell_type": "heading",
     "level": 4,
     "metadata": {},
     "source": [
      "Connection settings"
     ]
    },
    {
     "cell_type": "code",
     "collapsed": false,
     "input": [
      "# Create new SSL context with several security tunings\n",
      "ssl_context = ssl.SSLContext(ssl.PROTOCOL_TLSv1)\n",
      "\n",
      "# Allow NO SSLv2\n",
      "ssl_context.options |= ssl.OP_NO_SSLv2\n",
      "\n",
      "# Prevent CRIME attacks (OpenSSL 1.0+)\n",
      "ssl_context.options |= getattr(ssl._ssl, \"OP_NO_COMPRESSION\", 0)\n",
      "\n",
      "# Allow only good ciphers\n",
      "ssl_context.set_ciphers('HIGH:!aNULL:!RC4:!DSS')\n",
      "\n",
      "# Validate the server certificate\n",
      "ssl_context.verify_mode = ssl.CERT_REQUIRED\n",
      "\n",
      "# Check host name\n",
      "ssl_context.check_hostname = True\n",
      "\n",
      "# Load CA bundle\n",
      "# HINT: This path may differ on your system\n",
      "ssl_context.load_verify_locations(\"/etc/ssl/certs/ca-certificates.crt\")"
     ],
     "language": "python",
     "metadata": {
      "code_folding": []
     },
     "outputs": [],
     "prompt_number": 4
    },
    {
     "cell_type": "heading",
     "level": 4,
     "metadata": {
      "code_folding": []
     },
     "source": [
      "Make connection"
     ]
    },
    {
     "cell_type": "code",
     "collapsed": false,
     "input": [
      "# Define target information\n",
      "target_host = \"www.google.com\"\n",
      "target_port = 443\n",
      "\n",
      "# Create SSL socket\n",
      "ssl_socket = ssl_context.wrap_socket(\\\n",
      "                socket.socket(socket.AF_INET, socket.SOCK_STREAM),\\\n",
      "                server_hostname=target_host)\n",
      "ssl_socket.connect((target_host, target_port))"
     ],
     "language": "python",
     "metadata": {
      "code_folding": []
     },
     "outputs": [],
     "prompt_number": 5
    },
    {
     "cell_type": "markdown",
     "metadata": {},
     "source": [
      "Now that we've established the socket connection, we can fetch the certificate and do the analysis."
     ]
    },
    {
     "cell_type": "heading",
     "level": 4,
     "metadata": {},
     "source": [
      "Fetch the certificate"
     ]
    },
    {
     "cell_type": "code",
     "collapsed": false,
     "input": [
      "# Fetch human readable certificate\n",
      "cert_string = ssl_socket.getpeercert()\n",
      "\n",
      "# Fetch certificate in PEM format\n",
      "cert = ssl.get_server_certificate((target_host, target_port))"
     ],
     "language": "python",
     "metadata": {
      "code_folding": [
       0
      ]
     },
     "outputs": [],
     "prompt_number": 6
    },
    {
     "cell_type": "markdown",
     "metadata": {},
     "source": [
      "> You don't know nothing about **ASN.1**, **DER** or **PEM**? No problem! Just have a look at this [great article](https://tls.mbed.org/kb/cryptography/asn1-key-structures-in-der-and-pem). But to summarize it:\n",
      "> *DER* is binary format, its structure is called *ASN.1*. *PEM* format is Base64 encoded representation of *DER*."
     ]
    },
    {
     "cell_type": "heading",
     "level": 5,
     "metadata": {},
     "source": [
      "PEM format"
     ]
    },
    {
     "cell_type": "code",
     "collapsed": false,
     "input": [
      "print(cert)"
     ],
     "language": "python",
     "metadata": {
      "code_folding": []
     },
     "outputs": [
      {
       "output_type": "stream",
       "stream": "stdout",
       "text": [
        "-----BEGIN CERTIFICATE-----\n",
        "MIIEdjCCA16gAwIBAgIIX7v8fExu/5IwDQYJKoZIhvcNAQEFBQAwSTELMAkGA1UE\n",
        "BhMCVVMxEzARBgNVBAoTCkdvb2dsZSBJbmMxJTAjBgNVBAMTHEdvb2dsZSBJbnRl\n",
        "cm5ldCBBdXRob3JpdHkgRzIwHhcNMTUwNTA2MTAyOTI1WhcNMTUwODA0MDAwMDAw\n",
        "WjBoMQswCQYDVQQGEwJVUzETMBEGA1UECAwKQ2FsaWZvcm5pYTEWMBQGA1UEBwwN\n",
        "TW91bnRhaW4gVmlldzETMBEGA1UECgwKR29vZ2xlIEluYzEXMBUGA1UEAwwOd3d3\n",
        "Lmdvb2dsZS5jb20wggEiMA0GCSqGSIb3DQEBAQUAA4IBDwAwggEKAoIBAQDbQYCq\n",
        "uMXjaNFVmagkNkToVsTlNpP17Hzps7nJVT+cNcu/bV4mREEG8oRZU1KERHPza3gd\n",
        "4PmzInZxcMzi90wUoZIQhyMCdCtLDc2cSshJ3TaZM9unjrMzgTT5VhDnoTb72r8W\n",
        "yqdYvY4wp2cvdfkaLpUirYVYkKww8bMemjXHMzBYHiAdDTLY6sBenM0+t7zfLRTl\n",
        "t+JTZEx/bK/a7lEkHNFvCn2IW+MYt+668xVYw2TnBhXIJlo0ZrP5Vpa43qIRoykd\n",
        "4vUVUk3scHyS7XhnDEU/D7IjW6BCWIB4/GrgCMezRTSRPYXufU2aQB9iwAlto7yD\n",
        "HJW71m3BTUxDaxBnAgMBAAGjggFBMIIBPTAdBgNVHSUEFjAUBggrBgEFBQcDAQYI\n",
        "KwYBBQUHAwIwGQYDVR0RBBIwEIIOd3d3Lmdvb2dsZS5jb20waAYIKwYBBQUHAQEE\n",
        "XDBaMCsGCCsGAQUFBzAChh9odHRwOi8vcGtpLmdvb2dsZS5jb20vR0lBRzIuY3J0\n",
        "MCsGCCsGAQUFBzABhh9odHRwOi8vY2xpZW50czEuZ29vZ2xlLmNvbS9vY3NwMB0G\n",
        "A1UdDgQWBBSMXZKKlB2MmLIyeqTTdGAZ7y+vRjAMBgNVHRMBAf8EAjAAMB8GA1Ud\n",
        "IwQYMBaAFErdBhYbvPZotXb1gba7Yhq6WoEvMBcGA1UdIAQQMA4wDAYKKwYBBAHW\n",
        "eQIFATAwBgNVHR8EKTAnMCWgI6Ahhh9odHRwOi8vcGtpLmdvb2dsZS5jb20vR0lB\n",
        "RzIuY3JsMA0GCSqGSIb3DQEBBQUAA4IBAQBkJo403MR1GQekBQ5zJCAAcwEuJYn6\n",
        "oDokSqvR+6Wh6O7L9mBLAkQOkg/uqfGZ8R5KbUSDbnEWl6OboJero8cp9dMnQjck\n",
        "fZa661zDPoRDWegFm9aZMQLcdnPBi/TI9aEFuUOQLvCk31CrHVFyfSwznBYUZ+Yt\n",
        "4qxu44/AxEfmLT7p0CF3Y/NvcA2fGRbckj2+3tONI+FTEH/V/SIwRmyXag2/GbPt\n",
        "RhahlBFXh6VobK8dbFtql6P4+x//7+ze0tXaMRoRsOQfjwWmD6SaA13JJOo8/oBQ\n",
        "aUYdqnU+Mgkfro7CDpEjOucBzZbsSevm9vPQMhExdju6pKf+nC0bz+7T\n",
        "-----END CERTIFICATE-----\n",
        "\n"
       ]
      }
     ],
     "prompt_number": 7
    },
    {
     "cell_type": "heading",
     "level": 5,
     "metadata": {},
     "source": [
      "TEXT format"
     ]
    },
    {
     "cell_type": "code",
     "collapsed": false,
     "input": [
      "pprint(cert_string)"
     ],
     "language": "python",
     "metadata": {},
     "outputs": [
      {
       "output_type": "stream",
       "stream": "stdout",
       "text": [
        "{'OCSP': ('http://clients1.google.com/ocsp',),\n",
        " 'caIssuers': ('http://pki.google.com/GIAG2.crt',),\n",
        " 'crlDistributionPoints': ('http://pki.google.com/GIAG2.crl',),\n",
        " 'issuer': ((('countryName', 'US'),),\n",
        "            (('organizationName', 'Google Inc'),),\n",
        "            (('commonName', 'Google Internet Authority G2'),)),\n",
        " 'notAfter': 'Aug  4 00:00:00 2015 GMT',\n",
        " 'notBefore': 'May  6 10:29:25 2015 GMT',\n",
        " 'serialNumber': '5FBBFC7C4C6EFF92',\n",
        " 'subject': ((('countryName', 'US'),),\n",
        "             (('stateOrProvinceName', 'California'),),\n",
        "             (('localityName', 'Mountain View'),),\n",
        "             (('organizationName', 'Google Inc'),),\n",
        "             (('commonName', 'www.google.com'),)),\n",
        " 'subjectAltName': (('DNS', 'www.google.com'),),\n",
        " 'version': 3}\n"
       ]
      }
     ],
     "prompt_number": 8
    },
    {
     "cell_type": "markdown",
     "metadata": {},
     "source": [
      "> Have a look at [this site](http://www.zytrax.com/tech/survival/ssl.html) for great explanations regarding the properties. \n",
      "\n",
      "From an attackers perspective generating certificates that contain the same data is easy peasy. So while doing the certificate pinning you shouldn't rely on these values. Furthermore rely on data that can not be manipulated or data that has been generated randomly. Of course there is still a risk with \"pseudo-random\" data in case of insecure [PRNGs](http://en.wikipedia.org/wiki/Pseudorandom_number_generator). Or don't you remember this [one](http://article.gmane.org/gmane.linux.debian.security.announce/1614) anymore? :)"
     ]
    },
    {
     "cell_type": "heading",
     "level": 2,
     "metadata": {},
     "source": [
      "Certificate pinning"
     ]
    },
    {
     "cell_type": "markdown",
     "metadata": {},
     "source": [
      "When it comes to pinning you'll have different options what to \"pin\" for. Let's have a look how this is done using *Python*, but the procedure should apply to other programming languages as well. First let's do some conversions and extract data we're interested in."
     ]
    },
    {
     "cell_type": "code",
     "collapsed": false,
     "input": [
      "from Crypto.PublicKey import RSA\n",
      "from base64 import b64decode\n",
      "\n",
      "# Convert PEM format to x509 Object\n",
      "x509 = OpenSSL.crypto.load_certificate(OpenSSL.crypto.FILETYPE_PEM, cert)\n",
      "\n",
      "# Convert x509 object to ASN1\n",
      "x509_asn1 = OpenSSL.crypto.dump_certificate(OpenSSL.crypto.FILETYPE_ASN1, x509)\n",
      "\n",
      "# Convert x509 object to PEM\n",
      "x509_pem = OpenSSL.crypto.dump_certificate(OpenSSL.crypto.FILETYPE_PEM, x509)\n",
      "\n",
      "# Decode the certificate\n",
      "der = asn1.DerSequence()\n",
      "der.decode(x509_asn1)\n",
      "\n",
      "# Store the components\n",
      "der_cert = der[0]     # certificate\n",
      "der_algo = der[1]     # signing algorithm\n",
      "der_sign = der[2]     # certificate signature\n",
      "\n",
      "der_sign_in=asn1.DerObject()\n",
      "der_sign_in.decode(der_sign)\n",
      "der_sign_payload = der_sign_in.payload\n",
      "cert_sign = der_sign_payload[1:]\n",
      "\n",
      "# Extract the signing certificate algorithm\n",
      "sign_algo = x509.get_signature_algorithm() "
     ],
     "language": "python",
     "metadata": {
      "code_folding": []
     },
     "outputs": [],
     "prompt_number": 9
    },
    {
     "cell_type": "heading",
     "level": 3,
     "metadata": {},
     "source": [
      "Pin the certificate"
     ]
    },
    {
     "cell_type": "markdown",
     "metadata": {},
     "source": [
      "You can of course check of the X.509 properties you've seen before, but you should not rely on these values. Instead use a digest (e.g. SHA-1, SHA-256 etc.) to **fingerprint** the certificate. If the generated fingerprint is exactly the one you have *expected* then you can trust the certificate. However certificates may change at regular time intervals, so you'll have to adapt your *expected* fingerprint value every time this happens. Pinning the *public key* is a much better solution."
     ]
    },
    {
     "cell_type": "code",
     "collapsed": false,
     "input": [
      "# Write x509 (PEM format) to file\n",
      "f = open('/tmp/pyopenssl/www.google.com.cert.pem','w')\n",
      "f.write(x509_pem.decode(\"utf-8\"))\n",
      "f.close()"
     ],
     "language": "python",
     "metadata": {},
     "outputs": [],
     "prompt_number": 10
    },
    {
     "cell_type": "code",
     "collapsed": false,
     "input": [
      "%%bash\n",
      "# Show certificate fingerprint using openssl\n",
      "openssl x509 -fingerprint -inform PEM -in  /tmp/pyopenssl/www.google.com.cert.pem -sha256  | grep Fingerprint"
     ],
     "language": "python",
     "metadata": {},
     "outputs": [
      {
       "output_type": "stream",
       "stream": "stdout",
       "text": [
        "SHA256 Fingerprint=16:3D:A3:9A:7C:8F:4E:C4:79:59:5E:30:A8:82:2C:A7:58:CD:0A:6B:87:EF:7B:43:10:5A:97:C3:93:90:98:D8\n"
       ]
      }
     ],
     "prompt_number": 11
    },
    {
     "cell_type": "markdown",
     "metadata": {},
     "source": [
      "Using this *fingerprint* you could now verify the authencity of the *presented* certificate. Besides checking the fingerprint you should check if:\n",
      "\n",
      "* the certificate is NULL (this happens when the server has no certificate)\n",
      "* the certificates length > 0\n",
      "* ? (did i miss sth?)"
     ]
    },
    {
     "cell_type": "heading",
     "level": 3,
     "metadata": {},
     "source": [
      "Pin the public key"
     ]
    },
    {
     "cell_type": "markdown",
     "metadata": {},
     "source": [
      "I'll first extract the **public key** from the certificate and print it in a human readable way."
     ]
    },
    {
     "cell_type": "code",
     "collapsed": false,
     "input": [
      "from Crypto.PublicKey import RSA\n",
      "\n",
      "# Extract the public key\n",
      "pub_key = x509.get_pubkey()\n",
      "\n",
      "# Print the public key in TEXT formatboru\n",
      "pub_key_text = OpenSSL.crypto.dump_privatekey(OpenSSL.crypto.FILETYPE_TEXT, pub_key)\n",
      "\n",
      "# Convert to ASN1\n",
      "pub_key_asn1 = OpenSSL.crypto.dump_privatekey(OpenSSL.crypto.FILETYPE_ASN1, pub_key)\n",
      "\n",
      "# Convert key to DER format\n",
      "pub_der = asn1.DerSequence()\n",
      "pub_der.decode(pub_key_asn1)\n",
      "\n",
      "# Construct RSA key\n",
      "# In Python 3 you no longer use \"long\" -> Use \"int\" instead\n",
      "b = RSA.construct((int(pub_der._seq[1]), int(pub_der._seq[2])))\n",
      "\n",
      "# Print public key information\n",
      "print(pub_key_text.decode(\"utf-8\"))"
     ],
     "language": "python",
     "metadata": {},
     "outputs": [
      {
       "output_type": "stream",
       "stream": "stdout",
       "text": [
        "Public-Key: (2048 bit)\n",
        "Modulus:\n",
        "    00:db:41:80:aa:b8:c5:e3:68:d1:55:99:a8:24:36:\n",
        "    44:e8:56:c4:e5:36:93:f5:ec:7c:e9:b3:b9:c9:55:\n",
        "    3f:9c:35:cb:bf:6d:5e:26:44:41:06:f2:84:59:53:\n",
        "    52:84:44:73:f3:6b:78:1d:e0:f9:b3:22:76:71:70:\n",
        "    cc:e2:f7:4c:14:a1:92:10:87:23:02:74:2b:4b:0d:\n",
        "    cd:9c:4a:c8:49:dd:36:99:33:db:a7:8e:b3:33:81:\n",
        "    34:f9:56:10:e7:a1:36:fb:da:bf:16:ca:a7:58:bd:\n",
        "    8e:30:a7:67:2f:75:f9:1a:2e:95:22:ad:85:58:90:\n",
        "    ac:30:f1:b3:1e:9a:35:c7:33:30:58:1e:20:1d:0d:\n",
        "    32:d8:ea:c0:5e:9c:cd:3e:b7:bc:df:2d:14:e5:b7:\n",
        "    e2:53:64:4c:7f:6c:af:da:ee:51:24:1c:d1:6f:0a:\n",
        "    7d:88:5b:e3:18:b7:ee:ba:f3:15:58:c3:64:e7:06:\n",
        "    15:c8:26:5a:34:66:b3:f9:56:96:b8:de:a2:11:a3:\n",
        "    29:1d:e2:f5:15:52:4d:ec:70:7c:92:ed:78:67:0c:\n",
        "    45:3f:0f:b2:23:5b:a0:42:58:80:78:fc:6a:e0:08:\n",
        "    c7:b3:45:34:91:3d:85:ee:7d:4d:9a:40:1f:62:c0:\n",
        "    09:6d:a3:bc:83:1c:95:bb:d6:6d:c1:4d:4c:43:6b:\n",
        "    10:67\n",
        "Exponent: 65537 (0x10001)\n",
        "\n"
       ]
      }
     ],
     "prompt_number": 12
    },
    {
     "cell_type": "markdown",
     "metadata": {},
     "source": [
      "Let's check that with `openssl` output:"
     ]
    },
    {
     "cell_type": "code",
     "collapsed": false,
     "input": [
      "%%bash\n",
      "openssl x509 -inform PEM -in /tmp/pyopenssl/www.google.com.cert.pem -pubkey -noout > /tmp/pyopenssl/pubkey.pem\n",
      "openssl rsa -inform PEM -pubin -in /tmp/pyopenssl/pubkey.pem -modulus 2>1 | grep Modulus"
     ],
     "language": "python",
     "metadata": {},
     "outputs": [
      {
       "output_type": "stream",
       "stream": "stdout",
       "text": [
        "Modulus=DB4180AAB8C5E368D15599A8243644E856C4E53693F5EC7CE9B3B9C9553F9C35CBBF6D5E26444106F284595352844473F36B781DE0F9B322767170CCE2F74C14A19210872302742B4B0DCD9C4AC849DD369933DBA78EB3338134F95610E7A136FBDABF16CAA758BD8E30A7672F75F91A2E9522AD855890AC30F1B31E9A35C73330581E201D0D32D8EAC05E9CCD3EB7BCDF2D14E5B7E253644C7F6CAFDAEE51241CD16F0A7D885BE318B7EEBAF31558C364E70615C8265A3466B3F95696B8DEA211A3291DE2F515524DEC707C92ED78670C453F0FB2235BA042588078FC6AE008C7B34534913D85EE7D4D9A401F62C0096DA3BC831C95BBD66DC14D4C436B1067\n"
       ]
      }
     ],
     "prompt_number": 13
    },
    {
     "cell_type": "code",
     "collapsed": false,
     "input": [
      "%%bash\n",
      "# Dump the public key\n",
      "openssl asn1parse -dump -in /tmp/pyopenssl/pubkey.pem"
     ],
     "language": "python",
     "metadata": {},
     "outputs": [
      {
       "output_type": "stream",
       "stream": "stdout",
       "text": [
        "    0:d=0  hl=4 l= 290 cons: SEQUENCE          \n",
        "    4:d=1  hl=2 l=  13 cons: SEQUENCE          \n",
        "    6:d=2  hl=2 l=   9 prim: OBJECT            :rsaEncryption\n",
        "   17:d=2  hl=2 l=   0 prim: NULL              \n",
        "   19:d=1  hl=4 l= 271 prim: BIT STRING        \n",
        "      0000 - 00 30 82 01 0a 02 82 01-01 00 db 41 80 aa b8 c5   .0.........A....\n",
        "      0010 - e3 68 d1 55 99 a8 24 36-44 e8 56 c4 e5 36 93 f5   .h.U..$6D.V..6..\n",
        "      0020 - ec 7c e9 b3 b9 c9 55 3f-9c 35 cb bf 6d 5e 26 44   .|....U?.5..m^&D\n",
        "      0030 - 41 06 f2 84 59 53 52 84-44 73 f3 6b 78 1d e0 f9   A...YSR.Ds.kx...\n",
        "      0040 - b3 22 76 71 70 cc e2 f7-4c 14 a1 92 10 87 23 02   .\"vqp...L.....#.\n",
        "      0050 - 74 2b 4b 0d cd 9c 4a c8-49 dd 36 99 33 db a7 8e   t+K...J.I.6.3...\n",
        "      0060 - b3 33 81 34 f9 56 10 e7-a1 36 fb da bf 16 ca a7   .3.4.V...6......\n",
        "      0070 - 58 bd 8e 30 a7 67 2f 75-f9 1a 2e 95 22 ad 85 58   X..0.g/u....\"..X\n",
        "      0080 - 90 ac 30 f1 b3 1e 9a 35-c7 33 30 58 1e 20 1d 0d   ..0....5.30X. ..\n",
        "      0090 - 32 d8 ea c0 5e 9c cd 3e-b7 bc df 2d 14 e5 b7 e2   2...^..>...-....\n",
        "      00a0 - 53 64 4c 7f 6c af da ee-51 24 1c d1 6f 0a 7d 88   SdL.l...Q$..o.}.\n",
        "      00b0 - 5b e3 18 b7 ee ba f3 15-58 c3 64 e7 06 15 c8 26   [.......X.d....&\n",
        "      00c0 - 5a 34 66 b3 f9 56 96 b8-de a2 11 a3 29 1d e2 f5   Z4f..V......)...\n",
        "      00d0 - 15 52 4d ec 70 7c 92 ed-78 67 0c 45 3f 0f b2 23   .RM.p|..xg.E?..#\n",
        "      00e0 - 5b a0 42 58 80 78 fc 6a-e0 08 c7 b3 45 34 91 3d   [.BX.x.j....E4.=\n",
        "      00f0 - 85 ee 7d 4d 9a 40 1f 62-c0 09 6d a3 bc 83 1c 95   ..}M.@.b..m.....\n",
        "      0100 - bb d6 6d c1 4d 4c 43 6b-10 67 02 03 01 00 01      ..m.MLCk.g.....\n"
       ]
      }
     ],
     "prompt_number": 14
    },
    {
     "cell_type": "markdown",
     "metadata": {},
     "source": [
      "So one could also check the RSA **modulus** against an *expected* value. Furthermore you could **hash** the whole public key and then check values:"
     ]
    },
    {
     "cell_type": "code",
     "collapsed": false,
     "input": [
      "%%bash\n",
      "sha256sum /tmp/pyopenssl/pubkey.pem"
     ],
     "language": "python",
     "metadata": {},
     "outputs": [
      {
       "output_type": "stream",
       "stream": "stdout",
       "text": [
        "618a8d05fce8d0f8f790e0a2fbaaf739ff7049e7da087520e81a31d0af81513a  /tmp/pyopenssl/pubkey.pem\n"
       ]
      }
     ],
     "prompt_number": 15
    },
    {
     "cell_type": "heading",
     "level": 2,
     "metadata": {},
     "source": [
      "Validate certificate"
     ]
    },
    {
     "cell_type": "markdown",
     "metadata": {},
     "source": [
      "Get the *trust chain*:"
     ]
    },
    {
     "cell_type": "code",
     "collapsed": false,
     "input": [
      "%%bash\n",
      "openssl s_client -showcerts -connect www.google.com:443  | grep -e \"s:\" -e \"i:\""
     ],
     "language": "python",
     "metadata": {},
     "outputs": [
      {
       "output_type": "stream",
       "stream": "stdout",
       "text": [
        " 0 s:/C=US/ST=California/L=Mountain View/O=Google Inc/CN=www.google.com\n",
        "   i:/C=US/O=Google Inc/CN=Google Internet Authority G2\n",
        " 1 s:/C=US/O=Google Inc/CN=Google Internet Authority G2\n",
        "   i:/C=US/O=GeoTrust Inc./CN=GeoTrust Global CA\n",
        " 2 s:/C=US/O=GeoTrust Inc./CN=GeoTrust Global CA\n",
        "   i:/C=US/O=Equifax/OU=Equifax Secure Certificate Authority\n"
       ]
      },
      {
       "output_type": "stream",
       "stream": "stderr",
       "text": [
        "depth=2 C = US, O = GeoTrust Inc., CN = GeoTrust Global CA\n",
        "verify error:num=20:unable to get local issuer certificate\n",
        "DONE\n"
       ]
      }
     ],
     "prompt_number": 16
    },
    {
     "cell_type": "code",
     "collapsed": false,
     "input": [
      "%%dot\n",
      "// <!-- collapse=True -->\n",
      "digraph trie {\n",
      "    rankdir=\"TR\";\n",
      "    graph [label=\"\\n\\nChain of trust for www.google.com\"];\n",
      "    node [shape = \"Mrecord\", width=6];\n",
      "    equifax [label=\"{Subject:  GeoTrust Global CA \\l | Issuer: Equifax Secure Certificate Authority \\l }\", color=\"grey\"];\n",
      "    geotrust [label=\"{Subject:  Google Internet Authority G2 \\l | Issuer: GeoTrust Global CA \\l }\", color=\"grey\"];\n",
      "    g2 [label=\"{Subject: google.com \\l | Issuer: Google Internet Authority G2 \\l }\", color=\"grey\"];\n",
      "    google_site [label=\"www.google.com \\l\", color=\"red\"];\n",
      "    \n",
      "    root [width=2, shape=\"none\"];\n",
      "    leaf [width=2, shape=\"none\"];\n",
      "    \n",
      "    equifax -> geotrust;\n",
      "    root -> equifax [arrowsize=.5, weight=2.];\n",
      "    geotrust -> g2;\n",
      "    g2 -> google_site;\n",
      "    leaf -> google_site [arrowsize=.5, weight=2.];\n",
      "    \n",
      "    0 [shape=\"none\", width=1];\n",
      "    1 [shape=\"none\", width=1];\n",
      "    2 [shape=\"none\", width=1];\n",
      "    \n",
      "    {rank = same; root; equifax}\n",
      "    {rank = same; g2, 0}\n",
      "    {rank = same; geotrust, 1}\n",
      "    {rank = same; leaf; google_site}\n",
      "    \n",
      "}"
     ],
     "language": "python",
     "metadata": {
      "code_folding": []
     },
     "outputs": [
      {
       "metadata": {},
       "output_type": "display_data",
       "svg": [
        "<?xml version=\"1.0\" encoding=\"UTF-8\" standalone=\"no\"?>\n",
        "<!DOCTYPE svg PUBLIC \"-//W3C//DTD SVG 1.1//EN\"\n",
        " \"http://www.w3.org/Graphics/SVG/1.1/DTD/svg11.dtd\">\n",
        "<!-- Generated by graphviz version 2.38.0 (20140413.2041)\n",
        " -->\n",
        "<!-- Title: trie Pages: 1 -->\n",
        "<svg width=\"692pt\" height=\"349pt\"\n",
        " viewBox=\"0.00 0.00 692.00 349.00\" xmlns=\"http://www.w3.org/2000/svg\" xmlns:xlink=\"http://www.w3.org/1999/xlink\">\n",
        "<g id=\"graph0\" class=\"graph\" transform=\"scale(1 1) rotate(0) translate(4 345)\">\n",
        "<title>trie</title>\n",
        "<polygon fill=\"white\" stroke=\"none\" points=\"-4,4 -4,-345 688,-345 688,4 -4,4\"/>\n",
        "<text text-anchor=\"middle\" x=\"342\" y=\"-7.8\" font-family=\"Times,serif\" font-size=\"14.00\">Chain of trust for www.google.com</text>\n",
        "<!-- equifax -->\n",
        "<g id=\"node1\" class=\"node\"><title>equifax</title>\n",
        "<path fill=\"none\" stroke=\"grey\" d=\"M174,-294.5C174,-294.5 582,-294.5 582,-294.5 588,-294.5 594,-300.5 594,-306.5 594,-306.5 594,-328.5 594,-328.5 594,-334.5 588,-340.5 582,-340.5 582,-340.5 174,-340.5 174,-340.5 168,-340.5 162,-334.5 162,-328.5 162,-328.5 162,-306.5 162,-306.5 162,-300.5 168,-294.5 174,-294.5\"/>\n",
        "<text text-anchor=\"start\" x=\"170\" y=\"-325.3\" font-family=\"Times,serif\" font-size=\"14.00\">Subject: GeoTrust Global CA </text>\n",
        "<polyline fill=\"none\" stroke=\"grey\" points=\"162,-317.5 594,-317.5 \"/>\n",
        "<text text-anchor=\"start\" x=\"170\" y=\"-302.3\" font-family=\"Times,serif\" font-size=\"14.00\">Issuer: Equifax Secure Certificate Authority </text>\n",
        "</g>\n",
        "<!-- geotrust -->\n",
        "<g id=\"node2\" class=\"node\"><title>geotrust</title>\n",
        "<path fill=\"none\" stroke=\"grey\" d=\"M174,-211.5C174,-211.5 582,-211.5 582,-211.5 588,-211.5 594,-217.5 594,-223.5 594,-223.5 594,-245.5 594,-245.5 594,-251.5 588,-257.5 582,-257.5 582,-257.5 174,-257.5 174,-257.5 168,-257.5 162,-251.5 162,-245.5 162,-245.5 162,-223.5 162,-223.5 162,-217.5 168,-211.5 174,-211.5\"/>\n",
        "<text text-anchor=\"start\" x=\"170\" y=\"-242.3\" font-family=\"Times,serif\" font-size=\"14.00\">Subject: Google Internet Authority G2 </text>\n",
        "<polyline fill=\"none\" stroke=\"grey\" points=\"162,-234.5 594,-234.5 \"/>\n",
        "<text text-anchor=\"start\" x=\"170\" y=\"-219.3\" font-family=\"Times,serif\" font-size=\"14.00\">Issuer: GeoTrust Global CA </text>\n",
        "</g>\n",
        "<!-- equifax&#45;&gt;geotrust -->\n",
        "<g id=\"edge1\" class=\"edge\"><title>equifax&#45;&gt;geotrust</title>\n",
        "<path fill=\"none\" stroke=\"black\" d=\"M378,-294.366C378,-286.152 378,-276.658 378,-267.725\"/>\n",
        "<polygon fill=\"black\" stroke=\"black\" points=\"381.5,-267.607 378,-257.607 374.5,-267.607 381.5,-267.607\"/>\n",
        "</g>\n",
        "<!-- g2 -->\n",
        "<g id=\"node3\" class=\"node\"><title>g2</title>\n",
        "<path fill=\"none\" stroke=\"grey\" d=\"M174,-128.5C174,-128.5 582,-128.5 582,-128.5 588,-128.5 594,-134.5 594,-140.5 594,-140.5 594,-162.5 594,-162.5 594,-168.5 588,-174.5 582,-174.5 582,-174.5 174,-174.5 174,-174.5 168,-174.5 162,-168.5 162,-162.5 162,-162.5 162,-140.5 162,-140.5 162,-134.5 168,-128.5 174,-128.5\"/>\n",
        "<text text-anchor=\"start\" x=\"170\" y=\"-159.3\" font-family=\"Times,serif\" font-size=\"14.00\">Subject: google.com </text>\n",
        "<polyline fill=\"none\" stroke=\"grey\" points=\"162,-151.5 594,-151.5 \"/>\n",
        "<text text-anchor=\"start\" x=\"170\" y=\"-136.3\" font-family=\"Times,serif\" font-size=\"14.00\">Issuer: Google Internet Authority G2 </text>\n",
        "</g>\n",
        "<!-- geotrust&#45;&gt;g2 -->\n",
        "<g id=\"edge3\" class=\"edge\"><title>geotrust&#45;&gt;g2</title>\n",
        "<path fill=\"none\" stroke=\"black\" d=\"M378,-211.366C378,-203.152 378,-193.658 378,-184.725\"/>\n",
        "<polygon fill=\"black\" stroke=\"black\" points=\"381.5,-184.607 378,-174.607 374.5,-184.607 381.5,-184.607\"/>\n",
        "</g>\n",
        "<!-- google_site -->\n",
        "<g id=\"node4\" class=\"node\"><title>google_site</title>\n",
        "<path fill=\"none\" stroke=\"red\" d=\"M174,-55.5C174,-55.5 582,-55.5 582,-55.5 588,-55.5 594,-61.5 594,-67.5 594,-67.5 594,-79.5 594,-79.5 594,-85.5 588,-91.5 582,-91.5 582,-91.5 174,-91.5 174,-91.5 168,-91.5 162,-85.5 162,-79.5 162,-79.5 162,-67.5 162,-67.5 162,-61.5 168,-55.5 174,-55.5\"/>\n",
        "<text text-anchor=\"start\" x=\"170\" y=\"-69.8\" font-family=\"Times,serif\" font-size=\"14.00\">www.google.com </text>\n",
        "</g>\n",
        "<!-- g2&#45;&gt;google_site -->\n",
        "<g id=\"edge4\" class=\"edge\"><title>g2&#45;&gt;google_site</title>\n",
        "<path fill=\"none\" stroke=\"black\" d=\"M378,-128.109C378,-119.981 378,-110.7 378,-102.171\"/>\n",
        "<polygon fill=\"black\" stroke=\"black\" points=\"381.5,-101.912 378,-91.9121 374.5,-101.912 381.5,-101.912\"/>\n",
        "</g>\n",
        "<!-- root -->\n",
        "<g id=\"node5\" class=\"node\"><title>root</title>\n",
        "<text text-anchor=\"middle\" x=\"72\" y=\"-313.8\" font-family=\"Times,serif\" font-size=\"14.00\">root</text>\n",
        "</g>\n",
        "<!-- root&#45;&gt;equifax -->\n",
        "<g id=\"edge2\" class=\"edge\"><title>root&#45;&gt;equifax</title>\n",
        "<path fill=\"none\" stroke=\"black\" d=\"M144.018,-317.5C148.288,-317.5 152.558,-317.5 156.828,-317.5\"/>\n",
        "<polygon fill=\"black\" stroke=\"black\" points=\"156.84,-319.25 161.84,-317.5 156.84,-315.75 156.84,-319.25\"/>\n",
        "</g>\n",
        "<!-- leaf -->\n",
        "<g id=\"node6\" class=\"node\"><title>leaf</title>\n",
        "<text text-anchor=\"middle\" x=\"72\" y=\"-69.8\" font-family=\"Times,serif\" font-size=\"14.00\">leaf</text>\n",
        "</g>\n",
        "<!-- leaf&#45;&gt;google_site -->\n",
        "<g id=\"edge5\" class=\"edge\"><title>leaf&#45;&gt;google_site</title>\n",
        "<path fill=\"none\" stroke=\"black\" d=\"M144.018,-73.5C148.288,-73.5 152.558,-73.5 156.828,-73.5\"/>\n",
        "<polygon fill=\"black\" stroke=\"black\" points=\"156.84,-75.2501 161.84,-73.5 156.84,-71.7501 156.84,-75.2501\"/>\n",
        "</g>\n",
        "<!-- 0 -->\n",
        "<g id=\"node7\" class=\"node\"><title>0</title>\n",
        "<text text-anchor=\"middle\" x=\"648\" y=\"-147.8\" font-family=\"Times,serif\" font-size=\"14.00\">0</text>\n",
        "</g>\n",
        "<!-- 1 -->\n",
        "<g id=\"node8\" class=\"node\"><title>1</title>\n",
        "<text text-anchor=\"middle\" x=\"648\" y=\"-230.8\" font-family=\"Times,serif\" font-size=\"14.00\">1</text>\n",
        "</g>\n",
        "<!-- 2 -->\n",
        "<g id=\"node9\" class=\"node\"><title>2</title>\n",
        "<text text-anchor=\"middle\" x=\"648\" y=\"-313.8\" font-family=\"Times,serif\" font-size=\"14.00\">2</text>\n",
        "</g>\n",
        "</g>\n",
        "</svg>\n"
       ]
      }
     ],
     "prompt_number": 2
    },
    {
     "cell_type": "markdown",
     "metadata": {
      "code_folding": [
       0
      ]
     },
     "source": [
      "First of all you'll notice that there has been some problem regarding the validation:\n",
      "\n",
      "    verify error:num=20:unable to get local issuer certificate\n",
      "   \n",
      "This has to do with the fact that `openssl` doesn't provide a list of trusted certs by default. You'll have to specify it manually:"
     ]
    },
    {
     "cell_type": "code",
     "collapsed": false,
     "input": [
      "%%bash \n",
      "openssl s_client -showcerts -connect www.google.com:443 -CApath /etc/ssl/certs 2> /dev/null | grep \"Verify\""
     ],
     "language": "python",
     "metadata": {},
     "outputs": [
      {
       "output_type": "stream",
       "stream": "stdout",
       "text": [
        "    Verify return code: 0 (ok)\n"
       ]
      }
     ],
     "prompt_number": 18
    },
    {
     "cell_type": "markdown",
     "metadata": {},
     "source": [
      "Ok, so that looks much better. Now let's **verify** the chain:"
     ]
    },
    {
     "cell_type": "code",
     "collapsed": false,
     "input": [
      "%%bash \n",
      "openssl verify -CApath /etc/ssl/certs /tmp/pyopenssl/www.google.com.pem | grep \"error\""
     ],
     "language": "python",
     "metadata": {},
     "outputs": [
      {
       "output_type": "stream",
       "stream": "stdout",
       "text": [
        "error 20 at 0 depth lookup:unable to get local issuer certificate\n"
       ]
      }
     ],
     "prompt_number": 19
    },
    {
     "cell_type": "markdown",
     "metadata": {},
     "source": [
      "Hmm...Strange error message, even though I've specified the path where to lookup the certs. Another try:"
     ]
    },
    {
     "cell_type": "code",
     "collapsed": false,
     "input": [
      "%%bash\n",
      "openssl verify -CAfile /etc/ssl/certs/ca-certificates.crt /tmp/pyopenssl/www.google.com.pem | grep \"error\""
     ],
     "language": "python",
     "metadata": {},
     "outputs": [
      {
       "output_type": "stream",
       "stream": "stdout",
       "text": [
        "error 20 at 0 depth lookup:unable to get local issuer certificate\n"
       ]
      }
     ],
     "prompt_number": 20
    },
    {
     "cell_type": "markdown",
     "metadata": {},
     "source": [
      "Strange! After some Googling, I've found [this](http://goobbe.com/questions/4022708/how-to-verify-certificate-chain-with-openssl). So let's give it another try:"
     ]
    },
    {
     "cell_type": "code",
     "collapsed": false,
     "input": [
      "%%bash\n",
      "openssl verify -CAfile /etc/ssl/certs/ca-certificates.crt \\\n",
      "       -untrusted /tmp/pyopenssl/www.google.com.pem /tmp/pyopenssl/www.google.com.pem | grep \"error\""
     ],
     "language": "python",
     "metadata": {},
     "outputs": [
      {
       "output_type": "stream",
       "stream": "stdout",
       "text": [
        "error 20 at 0 depth lookup:unable to get local issuer certificate\n"
       ]
      }
     ],
     "prompt_number": 21
    },
    {
     "cell_type": "markdown",
     "metadata": {},
     "source": [
      "> If you have any ideas how to solve this, just drop me a line!"
     ]
    },
    {
     "cell_type": "heading",
     "level": 2,
     "metadata": {},
     "source": [
      "Conclusion"
     ]
    },
    {
     "cell_type": "markdown",
     "metadata": {},
     "source": [
      "**Certificate pinning** is a useful step towards authenticity verfication of a X.509 certificate. Keep in mind that **MITM** attacks are no rarity anymore and should be always be taken into consideration. Do **not** just validate the certificate. Make sure it is the one you've been **expecting** while connecting to your site/SSL-backend. Use **fingerprints** (in general **digests**) which you can always compute on the **presented** information and compare it against an expected value."
     ]
    },
    {
     "cell_type": "heading",
     "level": 3,
     "metadata": {
      "collapsed": true
     },
     "source": [
      "References"
     ]
    },
    {
     "cell_type": "markdown",
     "metadata": {},
     "source": [
      "* [Verifying x509 signatures in Python](http://www.artur-rodrigues.com/tech/2013/08/19/verifying-x509-signatures-in-python.html)\n",
      "* [How can I retrieve the TLS/SSL peer certificate of a remote host using python?](http://stackoverflow.com/questions/7689941/how-can-i-retrieve-the-tls-ssl-peer-certificate-of-a-remote-host-using-python)\n",
      "* [Internet X.509 Public Key Infrastructure](https://www.ietf.org/rfc/rfc3280.txt)\n",
      "* [Verify errorcode = 20 : unable to get local issuer certificate](http://stackoverflow.com/questions/27599985/verify-errorcode-20-unable-to-get-local-issuer-certificate/27606964#27606964)"
     ]
    }
   ],
   "metadata": {}
  }
 ]
}